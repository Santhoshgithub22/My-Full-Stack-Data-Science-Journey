{
 "cells": [
  {
   "cell_type": "markdown",
   "metadata": {},
   "source": [
    "# OOPS PART 1"
   ]
  },
  {
   "cell_type": "markdown",
   "metadata": {},
   "source": [
    "Yesterday We've saw oops concept\n",
    "\n",
    "now we know about the difference between what is the class and object."
   ]
  },
  {
   "cell_type": "markdown",
   "metadata": {},
   "source": [
    "# In Today's class we will able to see self and everything in very very detailed way."
   ]
  },
  {
   "cell_type": "markdown",
   "metadata": {},
   "source": [
    "# SELF\n",
    "\n",
    "    - Self is not a keyword we can use your name, my name, any name\n",
    "\n",
    "    - But, what is the meaning of self is its a pointer\n",
    "\n",
    "    - pointer which will help my class to understand what is the kind of a data or method I am trying to bind with this particular classes."
   ]
  },
  {
   "cell_type": "markdown",
   "metadata": {},
   "source": [
    "Let's understand what is oops concept and how to implement it?"
   ]
  },
  {
   "cell_type": "markdown",
   "metadata": {},
   "source": [
    "Classes is nothing but its a blue print, and object is nothing but its a real world entity."
   ]
  },
  {
   "cell_type": "markdown",
   "metadata": {},
   "source": [
    "#### Lets start"
   ]
  },
  {
   "cell_type": "markdown",
   "metadata": {},
   "source": [
    "I am taking the same examples of car,\n",
    "\n",
    "class name is car (i am trying to create a blue print of a car)\n",
    "\n",
    "whenever I am create a blue print of a car the car must be some specalities(common properties), like fuel type, body type, etc.,"
   ]
  },
  {
   "cell_type": "markdown",
   "metadata": {},
   "source": [
    "# __init__ means initialize"
   ]
  },
  {
   "cell_type": "markdown",
   "metadata": {},
   "source": [
    "#### init is a inbuilt method, its a constructor.\n",
    "\n",
    "#### init is a way to pass a data to the classes.\n",
    "\n",
    "#### We are trying to initialize something to our classes, if we have to pass some data to our classes \n",
    "\n",
    "# SIMPLY \n",
    "\n",
    "    __INIT__ means what?  -  __INIT__ means just a method which will help you out to pass the data to the class if it is required.\n",
    "\n",
    "    If you would like to initialize some short of the variable at thetime of creation of object itself, then __init__ is required, otherwise not required.\n",
    "    So don't confuse yourself.\n",
    "e.g\n",
    "\n",
    " a= 10\n",
    "\n",
    "we are trying pass to a integer class so this is a meaning of this.\n",
    "\n",
    "a = 10 na \n",
    "\n",
    "    10 we are trying to pass a integer class (10 vandhu integer class nu soldradhu dhan) init."
   ]
  },
  {
   "cell_type": "markdown",
   "metadata": {},
   "source": [
    "* First line : create a class\n",
    "\n",
    "* second line : I will try to initialize basic data (information) to the car class\n",
    "\n",
    "    Then I will write pointer, because my car class will not be understand what kind of variable I will provide.\n",
    "\n",
    "* After create one function I can initialize any number of variables \n",
    "\n",
    "or \n",
    "\n",
    "any number of methods.\n",
    "\n"
   ]
  },
  {
   "cell_type": "code",
   "execution_count": 1,
   "metadata": {},
   "outputs": [],
   "source": [
    "class car:\n",
    "    def __init__(self, body_type, engine, fuel_type):\n",
    "        self.body_type = body_type\n",
    "        self.engine = engine\n",
    "        self.fuel_type = fuel_type # we can also give user input here.\n",
    "\n",
    "    def test(self):\n",
    "        print(\"this is my first method in my car class\")"
   ]
  },
  {
   "cell_type": "markdown",
   "metadata": {},
   "source": [
    "# Eg"
   ]
  },
  {
   "cell_type": "code",
   "execution_count": 2,
   "metadata": {},
   "outputs": [
    {
     "name": "stdout",
     "output_type": "stream",
     "text": [
      "<class 'int'>\n"
     ]
    }
   ],
   "source": [
    "a = 10\n",
    "\n",
    "print(type(a))  #output will be in class int, because someone has created the int class\n",
    "\n",
    "# int kooda class dhan, already oruthavanga int ku class concept eludhiirupanga\n",
    "#not only string, for everything."
   ]
  },
  {
   "cell_type": "code",
   "execution_count": 3,
   "metadata": {},
   "outputs": [
    {
     "name": "stdout",
     "output_type": "stream",
     "text": [
      "<class 'str'>\n"
     ]
    }
   ],
   "source": [
    "a = \"sudh\"\n",
    "\n",
    "print(type(a)) #class str"
   ]
  },
  {
   "cell_type": "markdown",
   "metadata": {},
   "source": [
    "In similar manner we have to create our own class.\n",
    "\n",
    "That's also possible."
   ]
  },
  {
   "cell_type": "code",
   "execution_count": 4,
   "metadata": {},
   "outputs": [],
   "source": [
    "class car:\n",
    "    def __init__(self, body_type, engine, fuel_type):\n",
    "        self.body_type = body_type\n",
    "        self.engine = engine\n",
    "        self.fuel_type = fuel_type # we can also give user input here.\n",
    "\n",
    "    def test(self):\n",
    "        print(\"this is my first method in my car class\")"
   ]
  },
  {
   "cell_type": "markdown",
   "metadata": {},
   "source": [
    "In above line I have created my own class,\n",
    "\n",
    "no one will tell you will pass only particular object only\n",
    "\n",
    "NO\n",
    "\n",
    "We can pass any values in our class there is no restriction."
   ]
  },
  {
   "cell_type": "code",
   "execution_count": 5,
   "metadata": {},
   "outputs": [
    {
     "ename": "TypeError",
     "evalue": "__init__() missing 3 required positional arguments: 'body_type', 'engine', and 'fuel_type'",
     "output_type": "error",
     "traceback": [
      "\u001b[1;31m---------------------------------------------------------------------------\u001b[0m",
      "\u001b[1;31mTypeError\u001b[0m                                 Traceback (most recent call last)",
      "\u001b[1;32m~\\AppData\\Local\\Temp/ipykernel_704/2520450955.py\u001b[0m in \u001b[0;36m<module>\u001b[1;34m\u001b[0m\n\u001b[1;32m----> 1\u001b[1;33m \u001b[0mforture\u001b[0m \u001b[1;33m=\u001b[0m \u001b[0mcar\u001b[0m\u001b[1;33m(\u001b[0m\u001b[1;33m)\u001b[0m\u001b[1;33m\u001b[0m\u001b[1;33m\u001b[0m\u001b[0m\n\u001b[0m",
      "\u001b[1;31mTypeError\u001b[0m: __init__() missing 3 required positional arguments: 'body_type', 'engine', and 'fuel_type'"
     ]
    }
   ],
   "source": [
    "forture = car()"
   ]
  },
  {
   "cell_type": "code",
   "execution_count": null,
   "metadata": {},
   "outputs": [],
   "source": [
    "n #it will show not defined error, same way there also, we should pass arguments\n",
    "\n",
    "#else it will show not defined error"
   ]
  },
  {
   "cell_type": "markdown",
   "metadata": {},
   "source": [
    "# __init__ is a constructor, There is a concept of constructor you will be able to find out in a oops programming concept everywhere.\n",
    "\n",
    "# CONSTRUCTOR IS NOTHING BUT AN OBJECT / METHOD WHICH IS RESPOSIBLE FOR PROVIDING A DATA TO A CLASS."
   ]
  },
  {
   "cell_type": "code",
   "execution_count": null,
   "metadata": {},
   "outputs": [],
   "source": [
    "forture = car(\"SUV\", \"bs4\", \"Petrol\") #I just provided my data here."
   ]
  },
  {
   "cell_type": "markdown",
   "metadata": {},
   "source": [
    "I've just provided my data, but now what my car class is going to do with respect to this data.  Let's try to understand.\n",
    "\n",
    "(this path is very very important, once we understand this, we can able to understand the entire flow.  so listen carefully)"
   ]
  },
  {
   "cell_type": "code",
   "execution_count": null,
   "metadata": {},
   "outputs": [],
   "source": [
    "forture.test()"
   ]
  },
  {
   "cell_type": "code",
   "execution_count": null,
   "metadata": {},
   "outputs": [],
   "source": [
    "nexon = car(\"suv\", \"abc\", \"petrol\")"
   ]
  },
  {
   "cell_type": "code",
   "execution_count": null,
   "metadata": {},
   "outputs": [],
   "source": [
    "forture.body_type"
   ]
  },
  {
   "cell_type": "code",
   "execution_count": null,
   "metadata": {},
   "outputs": [],
   "source": [
    "forture.engine"
   ]
  },
  {
   "cell_type": "code",
   "execution_count": null,
   "metadata": {},
   "outputs": [],
   "source": [
    "forture.fuel_type"
   ]
  },
  {
   "cell_type": "code",
   "execution_count": null,
   "metadata": {},
   "outputs": [],
   "source": [
    "nexon.body_type"
   ]
  },
  {
   "cell_type": "code",
   "execution_count": null,
   "metadata": {},
   "outputs": [],
   "source": [
    "nexon.engine"
   ]
  },
  {
   "cell_type": "code",
   "execution_count": null,
   "metadata": {},
   "outputs": [],
   "source": [
    "nexon.fuel_type"
   ]
  },
  {
   "cell_type": "markdown",
   "metadata": {},
   "source": [
    "ippa namma nexon.fuel_type nu ketom na andha flow la kaatunanga adhu init line la irukka fuel type ah yum call pannadhu, adhukku keela irukka fuel type ah yum call pannadhu,\n",
    "\n",
    "It will only call self.fuel type adha mattum dhan call pannum nu sonnanga\n",
    "\n",
    "He will give a proof of it.\n",
    "\n",
    "# It will call only class variable and\n",
    "\n",
    "#### what is the class variable?\n",
    "\n",
    "#### these things (self.body_type, self.engine, self.fuel_type) is a class variable."
   ]
  },
  {
   "cell_type": "markdown",
   "metadata": {},
   "source": [
    "# class variable ah dhan call pannum for eg"
   ]
  },
  {
   "cell_type": "code",
   "execution_count": null,
   "metadata": {},
   "outputs": [],
   "source": [
    "class car:\n",
    "    def __init__(self, body_type, engine, fuel_type):\n",
    "        self.body_type1111 = body_type\n",
    "        self.engine = engine\n",
    "        self.fuel_type = fuel_type # we can also give user input here.\n",
    "\n",
    "    def test(self):\n",
    "        print(\"this is my first method in my car class\")"
   ]
  },
  {
   "cell_type": "code",
   "execution_count": null,
   "metadata": {},
   "outputs": [],
   "source": [
    "omni = car(\"nano body\", \"2 engine\", \"petrol\")"
   ]
  },
  {
   "cell_type": "code",
   "execution_count": null,
   "metadata": {},
   "outputs": [],
   "source": [
    "omni.body_type #idhula init line la and keela irukka line la irukka name kudutha\n",
    "\n",
    "#error dhan varum\n",
    "#because\n",
    "\n",
    "#class always call class variable only"
   ]
  },
  {
   "cell_type": "code",
   "execution_count": null,
   "metadata": {},
   "outputs": [],
   "source": [
    "omni.body_type1111  #inga class variable name ah pota correct ah output varudhu\n",
    "\n",
    "#that's what he trying to say\n",
    "\n",
    "#class variable ah dhan call pannum\n",
    "\n",
    "# class variable na inga forture, nexon, omni nu create panni irukka andha variable name dhan."
   ]
  },
  {
   "cell_type": "code",
   "execution_count": null,
   "metadata": {},
   "outputs": [],
   "source": [
    "class car:\n",
    "\n",
    "    def __init__(self, body_type, engine, fuel_type):\n",
    "        self.a = body_type\n",
    "        self.b = engine\n",
    "        self.c = fuel_type\n",
    "\n",
    "    def test(self):\n",
    "        print(\"this is my first method in car class\")"
   ]
  },
  {
   "cell_type": "code",
   "execution_count": null,
   "metadata": {},
   "outputs": [],
   "source": [
    "forture = car(\"suv\", \"bs4\", \"petrol\")"
   ]
  },
  {
   "cell_type": "code",
   "execution_count": null,
   "metadata": {},
   "outputs": [],
   "source": [
    "forture.a"
   ]
  },
  {
   "cell_type": "code",
   "execution_count": null,
   "metadata": {},
   "outputs": [],
   "source": [
    "forture.b"
   ]
  },
  {
   "cell_type": "code",
   "execution_count": null,
   "metadata": {},
   "outputs": [],
   "source": [
    "forture.c"
   ]
  },
  {
   "cell_type": "code",
   "execution_count": null,
   "metadata": {},
   "outputs": [],
   "source": [
    "forture.test()"
   ]
  },
  {
   "cell_type": "code",
   "execution_count": null,
   "metadata": {},
   "outputs": [],
   "source": [
    "#ippa andha class la irukka test method ah thaniya run panna run agadhu error varum\n",
    "\n",
    "#that's the power of pointer\n",
    "\n",
    "def test(self):\n",
    "    print(\"this is my first method in car class\")"
   ]
  },
  {
   "cell_type": "code",
   "execution_count": null,
   "metadata": {},
   "outputs": [],
   "source": [
    "test() #reason behind is the very first argument inside the class is called as pointer."
   ]
  },
  {
   "cell_type": "markdown",
   "metadata": {},
   "source": [
    "__INIT__ means what?  -  __INIT__ means just a method which will help you out to pass the data to the class if it is required.\n",
    "\n",
    "    If you would like to initialize some short of the variable at thetime of creation of object itself, then __init__ is required, otherwise not required.\n",
    "    So don't confuse yourself."
   ]
  },
  {
   "cell_type": "code",
   "execution_count": null,
   "metadata": {},
   "outputs": [],
   "source": [
    "#init illamayum class create panna mudiyum.\n",
    "\n",
    "class car:\n",
    "\n",
    "    def test(sudh):\n",
    "        print(\"this is my first method in my car class\")"
   ]
  },
  {
   "cell_type": "code",
   "execution_count": null,
   "metadata": {},
   "outputs": [],
   "source": [
    "x = car()"
   ]
  },
  {
   "cell_type": "code",
   "execution_count": null,
   "metadata": {},
   "outputs": [],
   "source": [
    "x.test"
   ]
  },
  {
   "cell_type": "code",
   "execution_count": null,
   "metadata": {},
   "outputs": [],
   "source": [
    "x.test()"
   ]
  },
  {
   "cell_type": "code",
   "execution_count": null,
   "metadata": {},
   "outputs": [],
   "source": [
    "#suppose inga test function la pointer mattum illama vera argument pass pannomna, it will not work\n",
    "\n",
    "class car:\n",
    "\n",
    "    def test(sudh, a,b,c,d,e,f):\n",
    "        print(\"this is my first method in my car class\")"
   ]
  },
  {
   "cell_type": "code",
   "execution_count": null,
   "metadata": {},
   "outputs": [],
   "source": [
    "y=car()"
   ]
  },
  {
   "cell_type": "code",
   "execution_count": null,
   "metadata": {},
   "outputs": [],
   "source": [
    "y.test()"
   ]
  },
  {
   "cell_type": "code",
   "execution_count": null,
   "metadata": {},
   "outputs": [],
   "source": [
    "y.test('asdf', 'afds', 'asfd', 'afd', 'afsddasf', 'asfdsdfa')"
   ]
  },
  {
   "cell_type": "markdown",
   "metadata": {},
   "source": [
    "# Ok lets take couple of examples it would be better to understand"
   ]
  },
  {
   "cell_type": "code",
   "execution_count": null,
   "metadata": {},
   "outputs": [],
   "source": [
    "class list_parser:\n",
    "    \n",
    "    def parser(self, a):\n",
    "        if type(a) == list:\n",
    "            for i in a:\n",
    "                print(i)"
   ]
  },
  {
   "cell_type": "code",
   "execution_count": null,
   "metadata": {},
   "outputs": [],
   "source": [
    "c = list_parser()\n",
    "\n",
    "c.parser([2,3,4,6,7,8,9])"
   ]
  },
  {
   "cell_type": "markdown",
   "metadata": {},
   "source": [
    "# Now he asked one question, try to write 10 differenet different method for a list.\n",
    "\n",
    "1. to extract (get) the data.\n",
    "2. to reverse the list\n",
    "3. to do some short of the indexing operations.\n",
    "and so on"
   ]
  },
  {
   "cell_type": "code",
   "execution_count": null,
   "metadata": {},
   "outputs": [],
   "source": [
    "class list_parcer:\n",
    "\n",
    "    def parcer(self, a):\n",
    "        if type(a) == list:\n",
    "            for i in a:\n",
    "                print(i)\n",
    "\n",
    "    def reverser_list(self, z):\n",
    "        if type(z) == list:\n",
    "            return z[::-1]"
   ]
  },
  {
   "cell_type": "code",
   "execution_count": null,
   "metadata": {},
   "outputs": [],
   "source": [
    "c = list_parser()"
   ]
  },
  {
   "cell_type": "code",
   "execution_count": null,
   "metadata": {},
   "outputs": [],
   "source": [
    "c.parser([1,2,3,4,5,6,7])"
   ]
  },
  {
   "cell_type": "code",
   "execution_count": null,
   "metadata": {},
   "outputs": [],
   "source": [
    "d = list_parcer()"
   ]
  },
  {
   "cell_type": "code",
   "execution_count": null,
   "metadata": {},
   "outputs": [],
   "source": [
    "d.reverser_list([1,2,3,4,5,6,7])"
   ]
  },
  {
   "cell_type": "markdown",
   "metadata": {},
   "source": [
    "# Doubt kekanum "
   ]
  },
  {
   "cell_type": "markdown",
   "metadata": {},
   "source": [
    "#### Reverser list create panni irukean but inga call panna varala\n",
    "\n",
    "adhukku aprm naana andha class ah d la store panni potean apa dhan vandhu irukku."
   ]
  },
  {
   "cell_type": "code",
   "execution_count": null,
   "metadata": {},
   "outputs": [],
   "source": [
    "c.reverser_list()"
   ]
  },
  {
   "cell_type": "code",
   "execution_count": null,
   "metadata": {},
   "outputs": [],
   "source": [
    "# Ippa inga oru oru time um function la list data va namma pass pandrom\n",
    "\n",
    "# but orey time mattum pass pandradhukku __init__ use pannanum."
   ]
  },
  {
   "cell_type": "markdown",
   "metadata": {},
   "source": [
    "If we use __init__ its a constructor\n",
    "\n",
    "and it will pass my data to class.\n",
    "\n",
    "So that we just give our data only once."
   ]
  },
  {
   "cell_type": "markdown",
   "metadata": {},
   "source": [
    "#### In Below code I have just pass my values once, (using init), I can able to use all the objects"
   ]
  },
  {
   "cell_type": "code",
   "execution_count": null,
   "metadata": {},
   "outputs": [],
   "source": [
    "class list_parser:\n",
    "    def __init__(self, l):\n",
    "        self.l = l\n",
    "\n",
    "    def parcer(self):\n",
    "        if type(self.l) == list:\n",
    "            for i in self.l:\n",
    "                print(i)\n",
    "\n",
    "    def reverser_list(self):\n",
    "        if type(self.l) == list:\n",
    "            return self.l[::-1]\n"
   ]
  },
  {
   "cell_type": "code",
   "execution_count": null,
   "metadata": {},
   "outputs": [],
   "source": [
    "c = list_parser([1,2,3,4,5,6,7])"
   ]
  },
  {
   "cell_type": "code",
   "execution_count": null,
   "metadata": {},
   "outputs": [],
   "source": [
    "c.parcer()"
   ]
  },
  {
   "cell_type": "code",
   "execution_count": null,
   "metadata": {},
   "outputs": [],
   "source": [
    "c.reverser_list()"
   ]
  },
  {
   "cell_type": "markdown",
   "metadata": {},
   "source": [
    "In the similar way someone has all the methods if we write l. and press tab\n",
    "\n",
    "l. potutu tab ah press pannom na neraya recommendation option varum\n",
    "\n",
    "namma mela create panna class madhiri dhan adhayum create panni eludhi irupanga."
   ]
  },
  {
   "cell_type": "markdown",
   "metadata": {},
   "source": [
    "# ASSIGNMENT"
   ]
  },
  {
   "cell_type": "markdown",
   "metadata": {},
   "source": [
    "Problem statement :\n",
    "\n",
    "    Create a class for dictionary parsing \n",
    "\n",
    "        1. write a function to give all the keys\n",
    "        2. write a function to give all the values\n",
    "        3. write a function to throw an exception in case of input is not dictionary\n",
    "        4. write a function for take user input and then parse a key and value out of dictionary\n",
    "        5. write a function to insert new key value pare into dictionary"
   ]
  },
  {
   "cell_type": "code",
   "execution_count": 6,
   "metadata": {},
   "outputs": [
    {
     "ename": "IndentationError",
     "evalue": "expected an indented block (Temp/ipykernel_704/2076897281.py, line 3)",
     "output_type": "error",
     "traceback": [
      "\u001b[1;36m  File \u001b[1;32m\"C:\\Users\\msant\\AppData\\Local\\Temp/ipykernel_704/2076897281.py\"\u001b[1;36m, line \u001b[1;32m3\u001b[0m\n\u001b[1;33m    def __init__(self, a):\u001b[0m\n\u001b[1;37m                          ^\u001b[0m\n\u001b[1;31mIndentationError\u001b[0m\u001b[1;31m:\u001b[0m expected an indented block\n"
     ]
    }
   ],
   "source": [
    "class dict_parsing:\n",
    "    \n",
    "    def __init__(self, a):\n",
    "        self.a = a\n",
    "        \n",
    "        \n",
    "    def getkeys(self):\n",
    "        i"
   ]
  },
  {
   "cell_type": "code",
   "execution_count": null,
   "metadata": {},
   "outputs": [],
   "source": []
  },
  {
   "cell_type": "code",
   "execution_count": null,
   "metadata": {},
   "outputs": [],
   "source": []
  },
  {
   "cell_type": "code",
   "execution_count": null,
   "metadata": {},
   "outputs": [],
   "source": []
  },
  {
   "cell_type": "code",
   "execution_count": null,
   "metadata": {},
   "outputs": [],
   "source": []
  }
 ],
 "metadata": {
  "kernelspec": {
   "display_name": "Python 3 (ipykernel)",
   "language": "python",
   "name": "python3"
  },
  "language_info": {
   "codemirror_mode": {
    "name": "ipython",
    "version": 3
   },
   "file_extension": ".py",
   "mimetype": "text/x-python",
   "name": "python",
   "nbconvert_exporter": "python",
   "pygments_lexer": "ipython3",
   "version": "3.9.7"
  },
  "vscode": {
   "interpreter": {
    "hash": "180f8518baccd74e1e77565faed7e8576f26917e6b201f6b9516078dc879945e"
   }
  }
 },
 "nbformat": 4,
 "nbformat_minor": 2
}
