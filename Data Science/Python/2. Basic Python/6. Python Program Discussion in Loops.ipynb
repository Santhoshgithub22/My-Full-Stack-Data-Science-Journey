{
 "cells": [
  {
   "cell_type": "markdown",
   "id": "7cb30fbe",
   "metadata": {},
   "source": [
    "Yesterday we saw for loop, while loop\n",
    "\n",
    "In today's class we are going to see that things in very detailed way."
   ]
  },
  {
   "cell_type": "markdown",
   "id": "fa47e702",
   "metadata": {},
   "source": [
    "# Question 1"
   ]
  },
  {
   "cell_type": "markdown",
   "id": "7ab27b48",
   "metadata": {},
   "source": [
    "How I will be able to count a number of letter in a string?"
   ]
  },
  {
   "cell_type": "code",
   "execution_count": 1,
   "id": "a7a5803a",
   "metadata": {},
   "outputs": [
    {
     "data": {
      "text/plain": [
       "12"
      ]
     },
     "execution_count": 1,
     "metadata": {},
     "output_type": "execute_result"
    }
   ],
   "source": [
    "d = \"            \"\n",
    "len(d)"
   ]
  },
  {
   "cell_type": "code",
   "execution_count": 2,
   "id": "247e3a0d",
   "metadata": {},
   "outputs": [
    {
     "data": {
      "text/plain": [
       "41"
      ]
     },
     "execution_count": 2,
     "metadata": {},
     "output_type": "execute_result"
    }
   ],
   "source": [
    "s = \"I am sudhanshu and I'm working in ineuron\"\n",
    "len(s)"
   ]
  },
  {
   "cell_type": "code",
   "execution_count": 3,
   "id": "43fb6851",
   "metadata": {},
   "outputs": [
    {
     "name": "stdout",
     "output_type": "stream",
     "text": [
      "0\n",
      "1\n",
      "2\n",
      "3\n",
      "4\n",
      "5\n",
      "6\n",
      "7\n",
      "8\n",
      "9\n",
      "10\n",
      "11\n",
      "12\n",
      "13\n",
      "14\n",
      "15\n",
      "16\n",
      "17\n",
      "18\n",
      "19\n",
      "20\n",
      "21\n",
      "22\n",
      "23\n",
      "24\n",
      "25\n",
      "26\n",
      "27\n",
      "28\n",
      "29\n",
      "30\n",
      "31\n",
      "32\n",
      "33\n",
      "34\n",
      "35\n",
      "36\n",
      "37\n",
      "38\n",
      "39\n",
      "40\n",
      "41\n"
     ]
    }
   ],
   "source": [
    "for i in range(0, len(s)+1):\n",
    "    print(i)"
   ]
  },
  {
   "cell_type": "code",
   "execution_count": 4,
   "id": "a6f09b0f",
   "metadata": {},
   "outputs": [
    {
     "data": {
      "text/plain": [
       "41"
      ]
     },
     "execution_count": 4,
     "metadata": {},
     "output_type": "execute_result"
    }
   ],
   "source": [
    "count = 0\n",
    "\n",
    "for i in range(0, len(s)):\n",
    "    count = count+1\n",
    "count"
   ]
  },
  {
   "cell_type": "markdown",
   "id": "643c2d37",
   "metadata": {},
   "source": [
    "# His code"
   ]
  },
  {
   "cell_type": "code",
   "execution_count": 5,
   "id": "8170e1b8",
   "metadata": {},
   "outputs": [
    {
     "data": {
      "text/plain": [
       "26"
      ]
     },
     "execution_count": 5,
     "metadata": {},
     "output_type": "execute_result"
    }
   ],
   "source": [
    "s = \"This is basic python class\"\n",
    "\n",
    "len(s)"
   ]
  },
  {
   "cell_type": "markdown",
   "id": "29651be5",
   "metadata": {},
   "source": [
    "#### How to write without using inbuild function"
   ]
  },
  {
   "cell_type": "code",
   "execution_count": 6,
   "id": "836ab34a",
   "metadata": {},
   "outputs": [
    {
     "data": {
      "text/plain": [
       "'This is basic python class'"
      ]
     },
     "execution_count": 6,
     "metadata": {},
     "output_type": "execute_result"
    }
   ],
   "source": [
    "s"
   ]
  },
  {
   "cell_type": "code",
   "execution_count": 7,
   "id": "bc1157b5",
   "metadata": {},
   "outputs": [
    {
     "data": {
      "text/plain": [
       "26"
      ]
     },
     "execution_count": 7,
     "metadata": {},
     "output_type": "execute_result"
    }
   ],
   "source": [
    "count = 0\n",
    "\n",
    "for i in s:\n",
    "    count = count + 1\n",
    "count"
   ]
  },
  {
   "cell_type": "markdown",
   "id": "e2078589",
   "metadata": {},
   "source": [
    "# Question"
   ]
  },
  {
   "cell_type": "markdown",
   "id": "8a3b4936",
   "metadata": {},
   "source": [
    "#### How to print the entire string in the reverse order"
   ]
  },
  {
   "cell_type": "code",
   "execution_count": 8,
   "id": "11a55d68",
   "metadata": {},
   "outputs": [
    {
     "data": {
      "text/plain": [
       "'This is basic python class'"
      ]
     },
     "execution_count": 8,
     "metadata": {},
     "output_type": "execute_result"
    }
   ],
   "source": [
    "s"
   ]
  },
  {
   "cell_type": "code",
   "execution_count": 9,
   "id": "67a905df",
   "metadata": {},
   "outputs": [
    {
     "data": {
      "text/plain": [
       "'ssalc nohtyp cisab si sihT'"
      ]
     },
     "execution_count": 9,
     "metadata": {},
     "output_type": "execute_result"
    }
   ],
   "source": [
    "s[::-1]"
   ]
  },
  {
   "cell_type": "markdown",
   "id": "dd7f9bf1",
   "metadata": {},
   "source": [
    "#### Write for this same question without using slicing operation\n",
    "\n",
    "#### use only for and while loop"
   ]
  },
  {
   "cell_type": "markdown",
   "id": "c75004b8",
   "metadata": {},
   "source": [
    "#### For Loop"
   ]
  },
  {
   "cell_type": "code",
   "execution_count": 10,
   "id": "5d8b8c9d",
   "metadata": {},
   "outputs": [
    {
     "name": "stdout",
     "output_type": "stream",
     "text": [
      "ssalc nohtyp cisab si sihT"
     ]
    }
   ],
   "source": [
    "for i in s[::-1]:\n",
    "    print(i, end=\"\")"
   ]
  },
  {
   "cell_type": "code",
   "execution_count": 11,
   "id": "4547a31d",
   "metadata": {},
   "outputs": [
    {
     "name": "stdout",
     "output_type": "stream",
     "text": [
      "s\n",
      "s\n",
      "a\n",
      "l\n",
      "c\n",
      " \n",
      "n\n",
      "o\n",
      "h\n",
      "t\n",
      "y\n",
      "p\n",
      " \n",
      "c\n",
      "i\n",
      "s\n",
      "a\n",
      "b\n",
      " \n",
      "s\n",
      "i\n",
      " \n",
      "s\n",
      "i\n",
      "h\n",
      "T\n"
     ]
    }
   ],
   "source": [
    "for i in s[::-1]:\n",
    "    print(i)"
   ]
  },
  {
   "cell_type": "code",
   "execution_count": 12,
   "id": "8395aed2",
   "metadata": {},
   "outputs": [
    {
     "data": {
      "text/plain": [
       "'This is basic python class'"
      ]
     },
     "execution_count": 12,
     "metadata": {},
     "output_type": "execute_result"
    }
   ],
   "source": [
    "s"
   ]
  },
  {
   "cell_type": "code",
   "execution_count": 13,
   "id": "a028bdac",
   "metadata": {},
   "outputs": [
    {
     "name": "stdout",
     "output_type": "stream",
     "text": [
      "25 s\n",
      "24 s\n",
      "23 a\n",
      "22 l\n",
      "21 c\n",
      "20  \n",
      "19 n\n",
      "18 o\n",
      "17 h\n",
      "16 t\n",
      "15 y\n",
      "14 p\n",
      "13  \n",
      "12 c\n",
      "11 i\n",
      "10 s\n",
      "9 a\n",
      "8 b\n",
      "7  \n",
      "6 s\n",
      "5 i\n",
      "4  \n",
      "3 s\n",
      "2 i\n",
      "1 h\n",
      "0 T\n"
     ]
    }
   ],
   "source": [
    "for i in range(len(s)-1, -1, -1):\n",
    "    print(i, s[i])"
   ]
  },
  {
   "cell_type": "markdown",
   "id": "3da69f38",
   "metadata": {},
   "source": [
    "#### While Loop"
   ]
  },
  {
   "cell_type": "code",
   "execution_count": 14,
   "id": "75b16c68",
   "metadata": {},
   "outputs": [
    {
     "name": "stdout",
     "output_type": "stream",
     "text": [
      "ssalc nohtyp cisab si sihT"
     ]
    }
   ],
   "source": [
    "i = len(s)-1 #-1 yean podurom na len of s is 26, but 26th location is not available, index always starts with 0th location.\n",
    "\n",
    "while(i>=0):\n",
    "    print(s[i], end=\"\")\n",
    "    i=i-1"
   ]
  },
  {
   "cell_type": "code",
   "execution_count": 15,
   "id": "e3d9a09f",
   "metadata": {},
   "outputs": [
    {
     "name": "stdout",
     "output_type": "stream",
     "text": [
      "s\n",
      "s\n",
      "a\n",
      "l\n",
      "c\n",
      " \n",
      "n\n",
      "o\n",
      "h\n",
      "t\n",
      "y\n",
      "p\n",
      " \n",
      "c\n",
      "i\n",
      "s\n",
      "a\n",
      "b\n",
      " \n",
      "s\n",
      "i\n",
      " \n",
      "s\n",
      "i\n",
      "h\n",
      "T\n"
     ]
    }
   ],
   "source": [
    "i = len(s)-1\n",
    "\n",
    "while(i>=0):\n",
    "    print(s[i])\n",
    "    i=i-1"
   ]
  },
  {
   "cell_type": "markdown",
   "id": "73930108",
   "metadata": {},
   "source": [
    "# Question"
   ]
  },
  {
   "cell_type": "markdown",
   "id": "8df78910",
   "metadata": {},
   "source": [
    "#### Try to find out which character is vowel and which character is not a vowel"
   ]
  },
  {
   "cell_type": "code",
   "execution_count": 16,
   "id": "7bc6acb0",
   "metadata": {},
   "outputs": [
    {
     "name": "stdout",
     "output_type": "stream",
     "text": [
      "i is a vowel\n",
      "n is not a vowel\n",
      "e is a vowel\n",
      "u is a vowel\n",
      "r is not a vowel\n",
      "o is a vowel\n",
      "n is not a vowel\n"
     ]
    }
   ],
   "source": [
    "s = \"ineuron\"\n",
    "v = \"aAeEiIoOuU\"\n",
    "\n",
    "for i in s:\n",
    "    if i in v:\n",
    "        print(i, \"is a vowel\")\n",
    "    else:\n",
    "        print(i, \"is not a vowel\")"
   ]
  },
  {
   "cell_type": "markdown",
   "id": "08583a60",
   "metadata": {},
   "source": [
    "#### Why we getting False?"
   ]
  },
  {
   "cell_type": "code",
   "execution_count": 17,
   "id": "5bb7ec21",
   "metadata": {},
   "outputs": [
    {
     "data": {
      "text/plain": [
       "False"
      ]
     },
     "execution_count": 17,
     "metadata": {},
     "output_type": "execute_result"
    }
   ],
   "source": [
    "s in \"sudh\" #because already s nu our variable vachu irukom adhan false varudhu"
   ]
  },
  {
   "cell_type": "code",
   "execution_count": 18,
   "id": "dcfa91b7",
   "metadata": {},
   "outputs": [
    {
     "ename": "NameError",
     "evalue": "name 'm' is not defined",
     "output_type": "error",
     "traceback": [
      "\u001b[1;31m---------------------------------------------------------------------------\u001b[0m",
      "\u001b[1;31mNameError\u001b[0m                                 Traceback (most recent call last)",
      "Cell \u001b[1;32mIn[18], line 1\u001b[0m\n\u001b[1;32m----> 1\u001b[0m m \u001b[39min\u001b[39;00m \u001b[39m\"\u001b[39m\u001b[39mamma\u001b[39m\u001b[39m\"\u001b[39m\n",
      "\u001b[1;31mNameError\u001b[0m: name 'm' is not defined"
     ]
    }
   ],
   "source": [
    "m in \"amma\""
   ]
  },
  {
   "cell_type": "code",
   "execution_count": null,
   "id": "b176c13f",
   "metadata": {},
   "outputs": [
    {
     "data": {
      "text/plain": [
       "True"
      ]
     },
     "execution_count": 32,
     "metadata": {},
     "output_type": "execute_result"
    }
   ],
   "source": [
    "\"m\" in \"amma\""
   ]
  },
  {
   "cell_type": "markdown",
   "id": "6c421d66",
   "metadata": {},
   "source": [
    "# Question"
   ]
  },
  {
   "cell_type": "markdown",
   "id": "e604e8e8",
   "metadata": {},
   "source": [
    "#### Weather string is pallindrome or not pallindrome"
   ]
  },
  {
   "cell_type": "code",
   "execution_count": 19,
   "id": "805e19e4",
   "metadata": {},
   "outputs": [
    {
     "name": "stdout",
     "output_type": "stream",
     "text": [
      " ,Its a pallindrome word\n"
     ]
    }
   ],
   "source": [
    "word = input(\"Enter your word : \")\n",
    "\n",
    "if word == word[::-1]:\n",
    "    print(word, \",Its a pallindrome word\")\n",
    "else:\n",
    "    print(word, \",Its not a pallindrome word\")"
   ]
  },
  {
   "cell_type": "code",
   "execution_count": 20,
   "id": "b351427a",
   "metadata": {},
   "outputs": [
    {
     "name": "stdout",
     "output_type": "stream",
     "text": [
      " ,Its a pallindrome word\n"
     ]
    }
   ],
   "source": [
    "#mom\n",
    "word = input(\"Enter your word : \")\n",
    "\n",
    "if word == word[::-1]:\n",
    "    print(word, \",Its a pallindrome word\")\n",
    "else:\n",
    "    print(word, \",Its not a pallindrome word\")"
   ]
  },
  {
   "cell_type": "code",
   "execution_count": 21,
   "id": "eec154ea",
   "metadata": {},
   "outputs": [
    {
     "name": "stdout",
     "output_type": "stream",
     "text": [
      "Its a pallindrome word\n"
     ]
    }
   ],
   "source": [
    "#eye\n",
    "word = input(\"Enter your word : \")\n",
    "\n",
    "if word == word[::-1]:\n",
    "    print(\"Its a pallindrome word\")\n",
    "else:\n",
    "    print(\"Its not a pallindrome word\")"
   ]
  },
  {
   "cell_type": "code",
   "execution_count": 22,
   "id": "187c4b75",
   "metadata": {},
   "outputs": [
    {
     "name": "stdout",
     "output_type": "stream",
     "text": [
      "Its a pallindrome word\n"
     ]
    }
   ],
   "source": [
    "#racecar\n",
    "word = input(\"Enter your word : \")\n",
    "\n",
    "if word == word[::-1]:\n",
    "    print(\"Its a pallindrome word\")\n",
    "else:\n",
    "    print(\"Its not a pallindrome word\")"
   ]
  },
  {
   "cell_type": "code",
   "execution_count": 23,
   "id": "82f8ad48",
   "metadata": {},
   "outputs": [
    {
     "name": "stdout",
     "output_type": "stream",
     "text": [
      "Its a pallindrome word\n"
     ]
    }
   ],
   "source": [
    "#honestly\n",
    "word = input(\"Enter your word : \")\n",
    "\n",
    "if word == word[::-1]:\n",
    "    print(\"Its a pallindrome word\")\n",
    "else:\n",
    "    print(\"Its not a pallindrome word\")"
   ]
  },
  {
   "cell_type": "code",
   "execution_count": 24,
   "id": "06e6e386",
   "metadata": {},
   "outputs": [
    {
     "name": "stdout",
     "output_type": "stream",
     "text": [
      "Its a pallindrome word\n"
     ]
    }
   ],
   "source": [
    "#2323\n",
    "\n",
    "word = input(\"Enter your word : \")\n",
    "\n",
    "if word == word[::-1]:\n",
    "    print(\"Its a pallindrome word\")\n",
    "else:\n",
    "    print(\"Its not a pallindrome word\")"
   ]
  },
  {
   "cell_type": "markdown",
   "id": "1b37156f",
   "metadata": {},
   "source": [
    "#### Using for loop"
   ]
  },
  {
   "cell_type": "code",
   "execution_count": 25,
   "id": "d872575a",
   "metadata": {},
   "outputs": [],
   "source": [
    "#wrong\n",
    "word = input(\"Enter the word : \")\n",
    "\n",
    "for i in range(len(word)):\n",
    "    if word[i] == word[len(word)-i-1]:\n",
    "        print(word, \"Its a not pallindrome word\")\n",
    "        break\n",
    "    else:\n",
    "        print(word, \"Its pallindrome word\")"
   ]
  },
  {
   "cell_type": "code",
   "execution_count": 26,
   "id": "541f1331",
   "metadata": {},
   "outputs": [
    {
     "name": "stdout",
     "output_type": "stream",
     "text": [
      " Its a pallindrome word\n"
     ]
    }
   ],
   "source": [
    "word = input(\"Enter the word : \")\n",
    "\n",
    "for i in range(len(word)):\n",
    "    if word[i] != word[len(word)-i-1]: #idhu logic easy ya dhan irukku\n",
    "        print(word, \"Its a not pallindrome word\")\n",
    "        break\n",
    "else:\n",
    "    print(word, \"Its a pallindrome word\")"
   ]
  },
  {
   "cell_type": "code",
   "execution_count": 27,
   "id": "45e0efa7",
   "metadata": {},
   "outputs": [
    {
     "name": "stdout",
     "output_type": "stream",
     "text": [
      " Its a pallindrome word\n"
     ]
    }
   ],
   "source": [
    "word = input(\"Enter the word : \")\n",
    "\n",
    "for i in range(len(word)):\n",
    "    if word[i] != word[len(word)-i-1]: #idhu logic easy ya dhan irukku\n",
    "        print(word, \"Its a not pallindrome word\")\n",
    "        break\n",
    "else:\n",
    "    print(word, \"Its a pallindrome word\")"
   ]
  },
  {
   "cell_type": "markdown",
   "id": "c1058e5d",
   "metadata": {},
   "source": [
    "#### Using while loop"
   ]
  },
  {
   "cell_type": "code",
   "execution_count": 28,
   "id": "ab557212",
   "metadata": {},
   "outputs": [
    {
     "name": "stdout",
     "output_type": "stream",
     "text": [
      "Pallindrome\n"
     ]
    }
   ],
   "source": [
    "#tenet\n",
    "\n",
    "s = input(\"Enter the word : \")\n",
    "\n",
    "f =\"\"\n",
    "\n",
    "i = len(s)-1\n",
    "\n",
    "while (i>=0):\n",
    "    f = f+s[i]\n",
    "    i=i-1\n",
    "    \n",
    "if(s==f):\n",
    "    print(\"Pallindrome\")\n",
    "    \n",
    "else:\n",
    "    print(\"Not a Pallindrome\")"
   ]
  },
  {
   "attachments": {},
   "cell_type": "markdown",
   "id": "d7ebcb71",
   "metadata": {},
   "source": [
    "# Question"
   ]
  },
  {
   "attachments": {},
   "cell_type": "markdown",
   "id": "e7e5100f",
   "metadata": {},
   "source": [
    "#### Find out where india is available in the dictionary or not"
   ]
  },
  {
   "cell_type": "code",
   "execution_count": 29,
   "id": "c0d4b917",
   "metadata": {},
   "outputs": [],
   "source": [
    "d = {\"india\" : \"IN\", \"canada\" : \"CA\", \"china\" : \"CH\", \"united states\" : \"US\"}"
   ]
  },
  {
   "cell_type": "code",
   "execution_count": 30,
   "id": "bdd4691a",
   "metadata": {},
   "outputs": [
    {
     "data": {
      "text/plain": [
       "True"
      ]
     },
     "execution_count": 30,
     "metadata": {},
     "output_type": "execute_result"
    }
   ],
   "source": [
    "\"india\" in d"
   ]
  },
  {
   "cell_type": "code",
   "execution_count": 31,
   "id": "8b3f5ba9",
   "metadata": {},
   "outputs": [
    {
     "name": "stdout",
     "output_type": "stream",
     "text": [
      "India is available\n"
     ]
    }
   ],
   "source": [
    "for i in d.keys():\n",
    "    if i == \"india\":\n",
    "        print(\"India is available\")\n",
    "        break\n",
    "else:\n",
    "    print(\"India is not available\")"
   ]
  },
  {
   "cell_type": "code",
   "execution_count": 32,
   "id": "7a0b4254",
   "metadata": {},
   "outputs": [
    {
     "name": "stdout",
     "output_type": "stream",
     "text": [
      "india\n",
      "canada\n",
      "china\n",
      "united states\n"
     ]
    }
   ],
   "source": [
    "for i in d:\n",
    "    print(i)"
   ]
  },
  {
   "cell_type": "code",
   "execution_count": 33,
   "id": "f4105966",
   "metadata": {},
   "outputs": [
    {
     "name": "stdout",
     "output_type": "stream",
     "text": [
      "india\n",
      "canada\n",
      "china\n",
      "united states\n"
     ]
    }
   ],
   "source": [
    "for i in d.keys():\n",
    "    print(i)"
   ]
  },
  {
   "cell_type": "code",
   "execution_count": 34,
   "id": "e2179ed6",
   "metadata": {},
   "outputs": [
    {
     "name": "stdout",
     "output_type": "stream",
     "text": [
      "IN\n",
      "CA\n",
      "CH\n",
      "US\n"
     ]
    }
   ],
   "source": [
    "for i in d.values():\n",
    "    print(i)"
   ]
  },
  {
   "cell_type": "code",
   "execution_count": 35,
   "id": "be393153",
   "metadata": {},
   "outputs": [
    {
     "name": "stdout",
     "output_type": "stream",
     "text": [
      "('india', 'IN')\n",
      "('canada', 'CA')\n",
      "('china', 'CH')\n",
      "('united states', 'US')\n"
     ]
    }
   ],
   "source": [
    "for i in d.items():\n",
    "    print(i)"
   ]
  },
  {
   "attachments": {},
   "cell_type": "markdown",
   "id": "c43128a2",
   "metadata": {},
   "source": [
    "# Question"
   ]
  },
  {
   "attachments": {},
   "cell_type": "markdown",
   "id": "43781b2e",
   "metadata": {},
   "source": [
    "#### Find out which key have more than 5 characters and less than 5 characters"
   ]
  },
  {
   "cell_type": "code",
   "execution_count": 36,
   "id": "7ecb8c0f",
   "metadata": {},
   "outputs": [
    {
     "data": {
      "text/plain": [
       "{'india': 'IN', 'canada': 'CA', 'china': 'CH', 'united states': 'US'}"
      ]
     },
     "execution_count": 36,
     "metadata": {},
     "output_type": "execute_result"
    }
   ],
   "source": [
    "d"
   ]
  },
  {
   "cell_type": "code",
   "execution_count": 37,
   "id": "f946e8a3",
   "metadata": {},
   "outputs": [
    {
     "name": "stdout",
     "output_type": "stream",
     "text": [
      "['india', 'china']\n",
      "['canada', 'united states']\n"
     ]
    }
   ],
   "source": [
    "l_smaller = []\n",
    "l_greater = []\n",
    "\n",
    "for i in d:\n",
    "    if len(i) <= 5:\n",
    "        l_smaller.append(i)\n",
    "    else:\n",
    "        l_greater.append(i)\n",
    "    \n",
    "print(l_smaller)\n",
    "print(l_greater)"
   ]
  },
  {
   "attachments": {},
   "cell_type": "markdown",
   "id": "e0d0cd05",
   "metadata": {},
   "source": [
    "# Question"
   ]
  },
  {
   "attachments": {},
   "cell_type": "markdown",
   "id": "356de5f2",
   "metadata": {},
   "source": [
    "#### Nested dictionary"
   ]
  },
  {
   "attachments": {},
   "cell_type": "markdown",
   "id": "1cdd4706",
   "metadata": {},
   "source": [
    "#### Print the maximum value of each and every key"
   ]
  },
  {
   "cell_type": "code",
   "execution_count": 38,
   "id": "a424158d",
   "metadata": {},
   "outputs": [],
   "source": [
    "d1 = {\"ineuron\" : {\"a\" : 14, \"b\" : 10, \"c\" : 4},\n",
    "      \"Course\" : {\"d\" : 45, \"e\" : 34, \"f\" : 1}}"
   ]
  },
  {
   "attachments": {},
   "cell_type": "markdown",
   "id": "bae88fa0",
   "metadata": {},
   "source": [
    "#### Step 1"
   ]
  },
  {
   "cell_type": "code",
   "execution_count": 39,
   "id": "b67c764a",
   "metadata": {},
   "outputs": [
    {
     "name": "stdout",
     "output_type": "stream",
     "text": [
      "{'a': 14, 'b': 10, 'c': 4}\n",
      "{'d': 45, 'e': 34, 'f': 1}\n"
     ]
    }
   ],
   "source": [
    "for i in d1.values():\n",
    "    print(i)"
   ]
  },
  {
   "attachments": {},
   "cell_type": "markdown",
   "id": "85230370",
   "metadata": {},
   "source": [
    "#### Step 2"
   ]
  },
  {
   "cell_type": "code",
   "execution_count": 40,
   "id": "245d0065",
   "metadata": {},
   "outputs": [
    {
     "name": "stdout",
     "output_type": "stream",
     "text": [
      "14\n",
      "10\n",
      "4\n",
      "45\n",
      "34\n",
      "1\n"
     ]
    }
   ],
   "source": [
    "for i in d1.values():\n",
    "    for j in i.values():\n",
    "        print(j)"
   ]
  },
  {
   "attachments": {},
   "cell_type": "markdown",
   "id": "fd92250b",
   "metadata": {},
   "source": [
    "#### Step 3"
   ]
  },
  {
   "cell_type": "code",
   "execution_count": 41,
   "id": "2e62d1d9",
   "metadata": {},
   "outputs": [
    {
     "name": "stdout",
     "output_type": "stream",
     "text": [
      "14\n",
      "45\n"
     ]
    }
   ],
   "source": [
    "l = []\n",
    "for i in d1.values():\n",
    "    for j in i.values():\n",
    "        l.append(j)\n",
    "    print(max(l))\n"
   ]
  },
  {
   "attachments": {},
   "cell_type": "markdown",
   "id": "271844b8",
   "metadata": {},
   "source": [
    "#### Method 2"
   ]
  },
  {
   "cell_type": "code",
   "execution_count": 42,
   "id": "41ed666d",
   "metadata": {},
   "outputs": [
    {
     "data": {
      "text/plain": [
       "{'ineuron': {'a': 14, 'b': 10, 'c': 4}, 'Course': {'d': 45, 'e': 34, 'f': 1}}"
      ]
     },
     "execution_count": 42,
     "metadata": {},
     "output_type": "execute_result"
    }
   ],
   "source": [
    "d1"
   ]
  },
  {
   "cell_type": "code",
   "execution_count": 43,
   "id": "a8c6bdbd",
   "metadata": {},
   "outputs": [
    {
     "name": "stdout",
     "output_type": "stream",
     "text": [
      "14\n",
      "45\n"
     ]
    }
   ],
   "source": [
    "l1 = []\n",
    "l2 = []\n",
    "\n",
    "for i in d1[\"ineuron\"].values():\n",
    "    l1.append(i)\n",
    "    l1.sort()\n",
    "print(l1[-1])\n",
    "\n",
    "\n",
    "for j in d1[\"Course\"].values():\n",
    "    l2.append(j)\n",
    "    l2.sort()\n",
    "print(l2[-1])"
   ]
  },
  {
   "attachments": {},
   "cell_type": "markdown",
   "id": "2cf9af4e",
   "metadata": {},
   "source": [
    "#### Method 3"
   ]
  },
  {
   "cell_type": "code",
   "execution_count": 44,
   "id": "732cd210",
   "metadata": {},
   "outputs": [
    {
     "name": "stdout",
     "output_type": "stream",
     "text": [
      "14\n",
      "45\n"
     ]
    }
   ],
   "source": [
    "for i in d1.values():\n",
    "    print(max(i.values()))"
   ]
  },
  {
   "attachments": {},
   "cell_type": "markdown",
   "id": "a2515fda",
   "metadata": {},
   "source": [
    "#### Method 4"
   ]
  },
  {
   "cell_type": "code",
   "execution_count": 45,
   "id": "b5dc6d53",
   "metadata": {},
   "outputs": [
    {
     "name": "stdout",
     "output_type": "stream",
     "text": [
      "ineuron\n",
      "14\n",
      "Course\n",
      "45\n"
     ]
    }
   ],
   "source": [
    "for i in d1.keys():\n",
    "    print(i)\n",
    "    print(max(d1[i].values())) #first give the first key values & then again give the second key value\n",
    "\n",
    "#after that will give the maximum value"
   ]
  },
  {
   "attachments": {},
   "cell_type": "markdown",
   "id": "7e151d1c",
   "metadata": {},
   "source": [
    "#### Method 5"
   ]
  },
  {
   "cell_type": "code",
   "execution_count": 46,
   "id": "9a28a64c",
   "metadata": {},
   "outputs": [
    {
     "data": {
      "text/plain": [
       "{'ineuron': {'a': 14, 'b': 10, 'c': 4}, 'Course': {'d': 45, 'e': 34, 'f': 1}}"
      ]
     },
     "execution_count": 46,
     "metadata": {},
     "output_type": "execute_result"
    }
   ],
   "source": [
    "d1"
   ]
  },
  {
   "cell_type": "code",
   "execution_count": 47,
   "id": "e07d2a9b",
   "metadata": {},
   "outputs": [
    {
     "name": "stdout",
     "output_type": "stream",
     "text": [
      "14\n",
      "45\n"
     ]
    }
   ],
   "source": [
    "for i in d1.values():\n",
    "    max = 0\n",
    "    for j in i.values():\n",
    "        if max < j:\n",
    "            max = j\n",
    "\n",
    "    print(max)\n"
   ]
  },
  {
   "attachments": {},
   "cell_type": "markdown",
   "id": "96836ed5",
   "metadata": {},
   "source": [
    " # Question"
   ]
  },
  {
   "attachments": {},
   "cell_type": "markdown",
   "id": "e31c285f",
   "metadata": {},
   "source": [
    "This is our dictionary, Somewhere we have a value as a dictionary, somewhere we have a value as a list, and somewhere we have a value as a tuples.\n",
    "\n"
   ]
  },
  {
   "attachments": {},
   "cell_type": "markdown",
   "id": "3dfb5523",
   "metadata": {},
   "source": [
    "#### Requirement is find out which is the maximum integer in entire dictionary."
   ]
  },
  {
   "attachments": {},
   "cell_type": "markdown",
   "id": "55ce59fb",
   "metadata": {},
   "source": [
    "# Doubt Kekanum"
   ]
  },
  {
   "cell_type": "code",
   "execution_count": 48,
   "id": "f75a76e9",
   "metadata": {},
   "outputs": [],
   "source": [
    "d2 = {\"ineuron\" : {\"a\" : 14, \"b\" : 10, \"c\":4}, \"course\" : {\"d\" : 45, \"e\":34, \"f\" : 1},\n",
    "      \"g\":34, \"h\" : [45,6,7,8,9,3], \"i\" : (45,34,2), \"k\" : \"sudh\"}"
   ]
  },
  {
   "cell_type": "code",
   "execution_count": 49,
   "id": "fde48810",
   "metadata": {},
   "outputs": [
    {
     "ename": "TypeError",
     "evalue": "'int' object is not callable",
     "output_type": "error",
     "traceback": [
      "\u001b[1;31m---------------------------------------------------------------------------\u001b[0m",
      "\u001b[1;31mTypeError\u001b[0m                                 Traceback (most recent call last)",
      "Cell \u001b[1;32mIn[49], line 5\u001b[0m\n\u001b[0;32m      3\u001b[0m \u001b[39mfor\u001b[39;00m i \u001b[39min\u001b[39;00m d2\u001b[39m.\u001b[39mvalues():\n\u001b[0;32m      4\u001b[0m     \u001b[39mif\u001b[39;00m \u001b[39mtype\u001b[39m(i)  \u001b[39m==\u001b[39m \u001b[39mdict\u001b[39m:\n\u001b[1;32m----> 5\u001b[0m         l1\u001b[39m.\u001b[39mappend(\u001b[39mmax\u001b[39;49m(i\u001b[39m.\u001b[39;49mvalues()))\n\u001b[0;32m      7\u001b[0m     \u001b[39melif\u001b[39;00m \u001b[39mtype\u001b[39m(i) \u001b[39m==\u001b[39m \u001b[39mlist\u001b[39m:\n\u001b[0;32m      8\u001b[0m         l1\u001b[39m.\u001b[39mappend(\u001b[39mmax\u001b[39m(i))\n",
      "\u001b[1;31mTypeError\u001b[0m: 'int' object is not callable"
     ]
    }
   ],
   "source": [
    "l1 = []\n",
    "\n",
    "for i in d2.values():\n",
    "    if type(i)  == dict:\n",
    "        l1.append(max(i.values()))\n",
    "\n",
    "    elif type(i) == list:\n",
    "        l1.append(max(i))\n",
    "\n",
    "    elif type(i) == tuple:\n",
    "        l1.append(max(i))\n",
    "    \n",
    "    elif type(i) == str:\n",
    "        pass\n",
    "\n",
    "    else:\n",
    "        l1.append(i)\n",
    "\n",
    "\n",
    "print(l1)\n",
    "print(max(l1))\n",
    "\n",
    "print(max)"
   ]
  },
  {
   "cell_type": "code",
   "execution_count": 50,
   "id": "65bbc2ab",
   "metadata": {},
   "outputs": [
    {
     "name": "stdout",
     "output_type": "stream",
     "text": [
      "14\n",
      "10\n",
      "4\n",
      "45\n",
      "34\n",
      "1\n",
      "34\n",
      "[45, 6, 7, 8, 9, 3]\n",
      "(45, 34, 2)\n"
     ]
    }
   ],
   "source": [
    "l=[]\n",
    "\n",
    "for i in d2.values():\n",
    "    if type(i) == dict:\n",
    "        for j in i.values():\n",
    "            print(j)\n",
    "    elif type(i) != str:\n",
    "        print(i)"
   ]
  },
  {
   "cell_type": "code",
   "execution_count": 51,
   "id": "0f33b171",
   "metadata": {},
   "outputs": [],
   "source": [
    "x = [[2,3,5], [2,6,9]]"
   ]
  },
  {
   "cell_type": "code",
   "execution_count": 52,
   "id": "e1aa7ecf",
   "metadata": {},
   "outputs": [
    {
     "name": "stdout",
     "output_type": "stream",
     "text": [
      "2\n",
      "3\n",
      "5\n",
      "2\n",
      "6\n",
      "9\n"
     ]
    },
    {
     "data": {
      "text/plain": [
       "[5, 9]"
      ]
     },
     "execution_count": 52,
     "metadata": {},
     "output_type": "execute_result"
    }
   ],
   "source": [
    "max=[]\n",
    "\n",
    "for i in x:\n",
    "    for j in i:\n",
    "        print(j)\n",
    "    max.append(j)\n",
    "\n",
    "max"
   ]
  },
  {
   "attachments": {},
   "cell_type": "markdown",
   "id": "508d12d1",
   "metadata": {},
   "source": [
    "# Doubt Kekanum"
   ]
  },
  {
   "cell_type": "code",
   "execution_count": 54,
   "id": "ef5390b1",
   "metadata": {},
   "outputs": [],
   "source": [
    "d = {\"ineuron\" : {\"a\" : 14, \"b\":10, \"c\":4}, \"course\" : {\"d\" : 45, \"e\" : 34, \"f\":1},\n",
    "     \"g\" : 354, \"h\" : [45,6,7,8,9,3], \"i\" : (45,34,2), \"k\" : \"sudh\"}"
   ]
  },
  {
   "cell_type": "code",
   "execution_count": 58,
   "id": "a0c53cf9",
   "metadata": {},
   "outputs": [
    {
     "ename": "TypeError",
     "evalue": "'list' object is not callable",
     "output_type": "error",
     "traceback": [
      "\u001b[1;31m---------------------------------------------------------------------------\u001b[0m",
      "\u001b[1;31mTypeError\u001b[0m                                 Traceback (most recent call last)",
      "Cell \u001b[1;32mIn[58], line 5\u001b[0m\n\u001b[0;32m      3\u001b[0m \u001b[39mfor\u001b[39;00m i \u001b[39min\u001b[39;00m d\u001b[39m.\u001b[39mvalues():\n\u001b[0;32m      4\u001b[0m     \u001b[39mif\u001b[39;00m \u001b[39mtype\u001b[39m(i) \u001b[39m==\u001b[39m \u001b[39mdict\u001b[39m:\n\u001b[1;32m----> 5\u001b[0m         l1\u001b[39m.\u001b[39mappend(\u001b[39mmax\u001b[39;49m(i\u001b[39m.\u001b[39;49mvalues()))\n\u001b[0;32m      6\u001b[0m     \u001b[39melif\u001b[39;00m \u001b[39mtype\u001b[39m(i) \u001b[39m==\u001b[39m \u001b[39mlist\u001b[39m:\n\u001b[0;32m      7\u001b[0m         l1\u001b[39m.\u001b[39mappend(\u001b[39mmax\u001b[39m(i))\n",
      "\u001b[1;31mTypeError\u001b[0m: 'list' object is not callable"
     ]
    }
   ],
   "source": [
    "l1=[]\n",
    "\n",
    "for i in d.values():\n",
    "    if type(i) == dict:\n",
    "        l1.append(max(i.values()))\n",
    "    elif type(i) == list:\n",
    "        l1.append(max(i))\n",
    "    elif type(i) == tuple:\n",
    "        l1.append(max(i))\n",
    "    elif type(i) == str:\n",
    "        pass\n",
    "    else:\n",
    "        l1.append(i)\n",
    "\n",
    "print(max(l1))"
   ]
  },
  {
   "cell_type": "code",
   "execution_count": 60,
   "id": "32402272",
   "metadata": {},
   "outputs": [
    {
     "ename": "TypeError",
     "evalue": "'list' object is not callable",
     "output_type": "error",
     "traceback": [
      "\u001b[1;31m---------------------------------------------------------------------------\u001b[0m",
      "\u001b[1;31mTypeError\u001b[0m                                 Traceback (most recent call last)",
      "Cell \u001b[1;32mIn[60], line 11\u001b[0m\n\u001b[0;32m      8\u001b[0m     out\u001b[39m.\u001b[39mappend(v)\n\u001b[0;32m     10\u001b[0m \u001b[39melif\u001b[39;00m \u001b[39mtype\u001b[39m(v) \u001b[39m==\u001b[39m \u001b[39mlist\u001b[39m:\n\u001b[1;32m---> 11\u001b[0m     out\u001b[39m.\u001b[39mappend(\u001b[39mmax\u001b[39;49m(v))\n\u001b[0;32m     13\u001b[0m \u001b[39melif\u001b[39;00m \u001b[39mtype\u001b[39m(v) \u001b[39m==\u001b[39m \u001b[39mtuple\u001b[39m:\n\u001b[0;32m     14\u001b[0m     out\u001b[39m.\u001b[39mappend(\u001b[39mmax\u001b[39m(v))\n",
      "\u001b[1;31mTypeError\u001b[0m: 'list' object is not callable"
     ]
    }
   ],
   "source": [
    " out = []\n",
    "\n",
    " for k,v in d.items():\n",
    "    if type(v) == dict:\n",
    "        out.extend(list(v.values()))\n",
    "\n",
    "    elif type(v) == int:\n",
    "        out.append(v)\n",
    "\n",
    "    elif type(v) == list:\n",
    "        out.append(max(v))\n",
    "\n",
    "    elif type(v) == tuple:\n",
    "        out.append(max(v))\n",
    "\n",
    "    else:\n",
    "        pass\n",
    "\n",
    "print(max(out))"
   ]
  },
  {
   "cell_type": "code",
   "execution_count": null,
   "id": "6ad1dbbe",
   "metadata": {},
   "outputs": [],
   "source": []
  }
 ],
 "metadata": {
  "kernelspec": {
   "display_name": "Python 3",
   "language": "python",
   "name": "python3"
  },
  "language_info": {
   "codemirror_mode": {
    "name": "ipython",
    "version": 3
   },
   "file_extension": ".py",
   "mimetype": "text/x-python",
   "name": "python",
   "nbconvert_exporter": "python",
   "pygments_lexer": "ipython3",
   "version": "3.11.1"
  },
  "vscode": {
   "interpreter": {
    "hash": "180f8518baccd74e1e77565faed7e8576f26917e6b201f6b9516078dc879945e"
   }
  }
 },
 "nbformat": 4,
 "nbformat_minor": 5
}
