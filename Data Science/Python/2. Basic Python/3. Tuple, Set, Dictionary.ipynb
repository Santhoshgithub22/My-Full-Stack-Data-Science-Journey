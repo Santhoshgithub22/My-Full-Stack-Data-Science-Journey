{
 "cells": [
  {
   "cell_type": "markdown",
   "id": "187c03e2",
   "metadata": {},
   "source": [
    "Today we are talking about new kind of variable, that is called as tuple"
   ]
  },
  {
   "cell_type": "markdown",
   "id": "247afd1e",
   "metadata": {},
   "source": [
    "Tuples is like a list but not exactly as a list"
   ]
  },
  {
   "cell_type": "code",
   "execution_count": 1,
   "id": "f0ddcecf",
   "metadata": {},
   "outputs": [],
   "source": [
    "t = ()"
   ]
  },
  {
   "cell_type": "code",
   "execution_count": 2,
   "id": "d67310bb",
   "metadata": {},
   "outputs": [
    {
     "data": {
      "text/plain": [
       "tuple"
      ]
     },
     "execution_count": 2,
     "metadata": {},
     "output_type": "execute_result"
    }
   ],
   "source": [
    "type(t)"
   ]
  },
  {
   "cell_type": "code",
   "execution_count": 3,
   "id": "25d284ff",
   "metadata": {},
   "outputs": [],
   "source": [
    "t = (1,2,3,4,5)"
   ]
  },
  {
   "cell_type": "code",
   "execution_count": 4,
   "id": "7f510163",
   "metadata": {},
   "outputs": [
    {
     "data": {
      "text/plain": [
       "tuple"
      ]
     },
     "execution_count": 4,
     "metadata": {},
     "output_type": "execute_result"
    }
   ],
   "source": [
    "type(t)"
   ]
  },
  {
   "cell_type": "code",
   "execution_count": 5,
   "id": "1064a80a",
   "metadata": {},
   "outputs": [],
   "source": [
    "t1 = (\"sudh\", 345, 45+78j, 546.56, True)"
   ]
  },
  {
   "cell_type": "code",
   "execution_count": 6,
   "id": "72d0c585",
   "metadata": {},
   "outputs": [
    {
     "data": {
      "text/plain": [
       "('sudh', 345, (45+78j), 546.56, True)"
      ]
     },
     "execution_count": 6,
     "metadata": {},
     "output_type": "execute_result"
    }
   ],
   "source": [
    "t1"
   ]
  },
  {
   "cell_type": "code",
   "execution_count": 7,
   "id": "8de7a2a7",
   "metadata": {},
   "outputs": [],
   "source": [
    "l = [\"sudh\", 345, 45+78j, 546.56, True]"
   ]
  },
  {
   "cell_type": "code",
   "execution_count": 8,
   "id": "a59c3578",
   "metadata": {},
   "outputs": [
    {
     "data": {
      "text/plain": [
       "['sudh', 345, (45+78j), 546.56, True]"
      ]
     },
     "execution_count": 8,
     "metadata": {},
     "output_type": "execute_result"
    }
   ],
   "source": [
    "l"
   ]
  },
  {
   "cell_type": "code",
   "execution_count": 9,
   "id": "65eb1237",
   "metadata": {},
   "outputs": [
    {
     "data": {
      "text/plain": [
       "list"
      ]
     },
     "execution_count": 9,
     "metadata": {},
     "output_type": "execute_result"
    }
   ],
   "source": [
    "type(l)"
   ]
  },
  {
   "cell_type": "markdown",
   "id": "e8f4b7fa",
   "metadata": {},
   "source": [
    "# Properties of tuples"
   ]
  },
  {
   "cell_type": "markdown",
   "id": "560b7633",
   "metadata": {},
   "source": [
    "In list its inside in a square bracket\n",
    "\n",
    "In tuple its inside in a tuple bracket"
   ]
  },
  {
   "cell_type": "code",
   "execution_count": 10,
   "id": "0950dab0",
   "metadata": {},
   "outputs": [],
   "source": [
    "t2 = ()"
   ]
  },
  {
   "cell_type": "code",
   "execution_count": 11,
   "id": "edf3d974",
   "metadata": {},
   "outputs": [
    {
     "data": {
      "text/plain": [
       "tuple"
      ]
     },
     "execution_count": 11,
     "metadata": {},
     "output_type": "execute_result"
    }
   ],
   "source": [
    "type(t2)"
   ]
  },
  {
   "cell_type": "code",
   "execution_count": 12,
   "id": "0c48057d",
   "metadata": {},
   "outputs": [
    {
     "data": {
      "text/plain": [
       "('sudh', 345, (45+78j), 546.56, True)"
      ]
     },
     "execution_count": 12,
     "metadata": {},
     "output_type": "execute_result"
    }
   ],
   "source": [
    "t1"
   ]
  },
  {
   "cell_type": "code",
   "execution_count": 13,
   "id": "94f37e07",
   "metadata": {},
   "outputs": [
    {
     "data": {
      "text/plain": [
       "['sudh', 345, (45+78j), 546.56, True]"
      ]
     },
     "execution_count": 13,
     "metadata": {},
     "output_type": "execute_result"
    }
   ],
   "source": [
    "l"
   ]
  },
  {
   "cell_type": "markdown",
   "id": "c82c682d",
   "metadata": {},
   "source": [
    "# slicing"
   ]
  },
  {
   "cell_type": "code",
   "execution_count": 14,
   "id": "89a66e8e",
   "metadata": {},
   "outputs": [
    {
     "data": {
      "text/plain": [
       "['sudh', 345]"
      ]
     },
     "execution_count": 14,
     "metadata": {},
     "output_type": "execute_result"
    }
   ],
   "source": [
    "l[0:2] #in list"
   ]
  },
  {
   "cell_type": "code",
   "execution_count": 15,
   "id": "bb4a8682",
   "metadata": {},
   "outputs": [
    {
     "data": {
      "text/plain": [
       "('sudh', 345)"
      ]
     },
     "execution_count": 15,
     "metadata": {},
     "output_type": "execute_result"
    }
   ],
   "source": [
    "t1[0:2] #in tuple"
   ]
  },
  {
   "cell_type": "markdown",
   "id": "67937c04",
   "metadata": {},
   "source": [
    "how to print entire tuples in reverse order"
   ]
  },
  {
   "cell_type": "code",
   "execution_count": 16,
   "id": "0372581e",
   "metadata": {},
   "outputs": [
    {
     "data": {
      "text/plain": [
       "('sudh', 345, (45+78j), 546.56, True)"
      ]
     },
     "execution_count": 16,
     "metadata": {},
     "output_type": "execute_result"
    }
   ],
   "source": [
    "t1"
   ]
  },
  {
   "cell_type": "code",
   "execution_count": 17,
   "id": "59282185",
   "metadata": {},
   "outputs": [
    {
     "data": {
      "text/plain": [
       "(True, 546.56, (45+78j), 345, 'sudh')"
      ]
     },
     "execution_count": 17,
     "metadata": {},
     "output_type": "execute_result"
    }
   ],
   "source": [
    "t1[::-1]"
   ]
  },
  {
   "cell_type": "code",
   "execution_count": 18,
   "id": "02c4b15d",
   "metadata": {},
   "outputs": [
    {
     "data": {
      "text/plain": [
       "(True, 546.56, (45+78j), 345, 'sudh')"
      ]
     },
     "execution_count": 18,
     "metadata": {},
     "output_type": "execute_result"
    }
   ],
   "source": [
    "t1[-1::-1]"
   ]
  },
  {
   "cell_type": "code",
   "execution_count": 19,
   "id": "79c8f0a2",
   "metadata": {},
   "outputs": [
    {
     "data": {
      "text/plain": [
       "True"
      ]
     },
     "execution_count": 19,
     "metadata": {},
     "output_type": "execute_result"
    }
   ],
   "source": [
    "# how to get last element\n",
    "\n",
    "t1[-1]"
   ]
  },
  {
   "cell_type": "markdown",
   "id": "7b32e7b0",
   "metadata": {},
   "source": [
    "# In tuples, slicing wise exactly same as a list"
   ]
  },
  {
   "cell_type": "code",
   "execution_count": 20,
   "id": "1c661986",
   "metadata": {},
   "outputs": [
    {
     "data": {
      "text/plain": [
       "('sudh', (45+78j), True)"
      ]
     },
     "execution_count": 20,
     "metadata": {},
     "output_type": "execute_result"
    }
   ],
   "source": [
    "t1[::2]"
   ]
  },
  {
   "cell_type": "code",
   "execution_count": 21,
   "id": "b6a70078",
   "metadata": {},
   "outputs": [
    {
     "data": {
      "text/plain": [
       "('sudh', (45+78j), True)"
      ]
     },
     "execution_count": 21,
     "metadata": {},
     "output_type": "execute_result"
    }
   ],
   "source": [
    "t1[0::2]"
   ]
  },
  {
   "cell_type": "markdown",
   "id": "e50cfe57",
   "metadata": {},
   "source": [
    "# How list and tuples are different"
   ]
  },
  {
   "cell_type": "markdown",
   "id": "65a02890",
   "metadata": {},
   "source": [
    "In list we can change the elements, and In tuples we cant able to change the elements."
   ]
  },
  {
   "cell_type": "code",
   "execution_count": 22,
   "id": "837f77cc",
   "metadata": {},
   "outputs": [
    {
     "data": {
      "text/plain": [
       "['sudh', 345, (45+78j), 546.56, True]"
      ]
     },
     "execution_count": 22,
     "metadata": {},
     "output_type": "execute_result"
    }
   ],
   "source": [
    "l"
   ]
  },
  {
   "cell_type": "code",
   "execution_count": 23,
   "id": "9b98b3df",
   "metadata": {},
   "outputs": [],
   "source": [
    "l1 = [4,5,6,7]"
   ]
  },
  {
   "cell_type": "code",
   "execution_count": 24,
   "id": "37fea51b",
   "metadata": {},
   "outputs": [
    {
     "data": {
      "text/plain": [
       "'sudh'"
      ]
     },
     "execution_count": 24,
     "metadata": {},
     "output_type": "execute_result"
    }
   ],
   "source": [
    "l[0]"
   ]
  },
  {
   "cell_type": "markdown",
   "id": "df6b48b8",
   "metadata": {},
   "source": [
    "I would like to replace the \"sudh\" into \"kumar\""
   ]
  },
  {
   "cell_type": "code",
   "execution_count": 25,
   "id": "787b0999",
   "metadata": {},
   "outputs": [],
   "source": [
    "l[0] = \"kumar\""
   ]
  },
  {
   "cell_type": "code",
   "execution_count": 26,
   "id": "2ca23514",
   "metadata": {},
   "outputs": [
    {
     "data": {
      "text/plain": [
       "['kumar', 345, (45+78j), 546.56, True]"
      ]
     },
     "execution_count": 26,
     "metadata": {},
     "output_type": "execute_result"
    }
   ],
   "source": [
    "l"
   ]
  },
  {
   "cell_type": "code",
   "execution_count": 27,
   "id": "cd8507b7",
   "metadata": {},
   "outputs": [
    {
     "data": {
      "text/plain": [
       "('sudh', 345, (45+78j), 546.56, True)"
      ]
     },
     "execution_count": 27,
     "metadata": {},
     "output_type": "execute_result"
    }
   ],
   "source": [
    "t1"
   ]
  },
  {
   "cell_type": "code",
   "execution_count": 28,
   "id": "32f3eb4c",
   "metadata": {},
   "outputs": [
    {
     "data": {
      "text/plain": [
       "'sudh'"
      ]
     },
     "execution_count": 28,
     "metadata": {},
     "output_type": "execute_result"
    }
   ],
   "source": [
    "t1[0]"
   ]
  },
  {
   "cell_type": "code",
   "execution_count": 29,
   "id": "a79a064b",
   "metadata": {},
   "outputs": [
    {
     "ename": "TypeError",
     "evalue": "'tuple' object does not support item assignment",
     "output_type": "error",
     "traceback": [
      "\u001b[1;31m---------------------------------------------------------------------------\u001b[0m",
      "\u001b[1;31mTypeError\u001b[0m                                 Traceback (most recent call last)",
      "Input \u001b[1;32mIn [29]\u001b[0m, in \u001b[0;36m<cell line: 1>\u001b[1;34m()\u001b[0m\n\u001b[1;32m----> 1\u001b[0m t1[\u001b[38;5;241m0\u001b[39m] \u001b[38;5;241m=\u001b[39m \u001b[38;5;124m\"\u001b[39m\u001b[38;5;124mxyz\u001b[39m\u001b[38;5;124m\"\u001b[39m\n",
      "\u001b[1;31mTypeError\u001b[0m: 'tuple' object does not support item assignment"
     ]
    }
   ],
   "source": [
    "t1[0] = \"xyz\""
   ]
  },
  {
   "cell_type": "markdown",
   "id": "228028c7",
   "metadata": {},
   "source": [
    "# Tuples is a immutable (unchangeble)"
   ]
  },
  {
   "cell_type": "code",
   "execution_count": 30,
   "id": "b899591b",
   "metadata": {},
   "outputs": [],
   "source": [
    "# is possible to replace the string character with the help of indexes"
   ]
  },
  {
   "cell_type": "markdown",
   "id": "937ca0c1",
   "metadata": {},
   "source": [
    "#### NO"
   ]
  },
  {
   "cell_type": "code",
   "execution_count": 31,
   "id": "16262135",
   "metadata": {},
   "outputs": [
    {
     "ename": "TypeError",
     "evalue": "'str' object does not support item assignment",
     "output_type": "error",
     "traceback": [
      "\u001b[1;31m---------------------------------------------------------------------------\u001b[0m",
      "\u001b[1;31mTypeError\u001b[0m                                 Traceback (most recent call last)",
      "Input \u001b[1;32mIn [31]\u001b[0m, in \u001b[0;36m<cell line: 3>\u001b[1;34m()\u001b[0m\n\u001b[0;32m      1\u001b[0m s \u001b[38;5;241m=\u001b[39m \u001b[38;5;124m\"\u001b[39m\u001b[38;5;124msudh\u001b[39m\u001b[38;5;124m\"\u001b[39m\n\u001b[1;32m----> 3\u001b[0m s[\u001b[38;5;241m0\u001b[39m] \u001b[38;5;241m=\u001b[39m \u001b[38;5;124m\"\u001b[39m\u001b[38;5;124mm\u001b[39m\u001b[38;5;124m\"\u001b[39m\n",
      "\u001b[1;31mTypeError\u001b[0m: 'str' object does not support item assignment"
     ]
    }
   ],
   "source": [
    "s = \"sudh\"\n",
    "\n",
    "s[0] = \"m\""
   ]
  },
  {
   "cell_type": "markdown",
   "id": "ca2d9f88",
   "metadata": {},
   "source": [
    "# Its possible to extend in tuples like list"
   ]
  },
  {
   "cell_type": "code",
   "execution_count": 32,
   "id": "57d52b5c",
   "metadata": {},
   "outputs": [
    {
     "data": {
      "text/plain": [
       "('sudh', 345, (45+78j), 546.56, True)"
      ]
     },
     "execution_count": 32,
     "metadata": {},
     "output_type": "execute_result"
    }
   ],
   "source": [
    "t1"
   ]
  },
  {
   "cell_type": "code",
   "execution_count": 33,
   "id": "e8a20dd4",
   "metadata": {},
   "outputs": [],
   "source": [
    "t2 = (34,56,56,56,5,656)"
   ]
  },
  {
   "cell_type": "code",
   "execution_count": 34,
   "id": "5fdb19a8",
   "metadata": {},
   "outputs": [
    {
     "data": {
      "text/plain": [
       "('sudh', 345, (45+78j), 546.56, True, 34, 56, 56, 56, 5, 656)"
      ]
     },
     "execution_count": 34,
     "metadata": {},
     "output_type": "execute_result"
    }
   ],
   "source": [
    "t1 + t2"
   ]
  },
  {
   "cell_type": "code",
   "execution_count": 35,
   "id": "f91113a2",
   "metadata": {},
   "outputs": [
    {
     "data": {
      "text/plain": [
       "['kumar', 345, (45+78j), 546.56, True]"
      ]
     },
     "execution_count": 35,
     "metadata": {},
     "output_type": "execute_result"
    }
   ],
   "source": [
    "l"
   ]
  },
  {
   "cell_type": "code",
   "execution_count": 36,
   "id": "c2ac3633",
   "metadata": {},
   "outputs": [
    {
     "data": {
      "text/plain": [
       "[4, 5, 6, 7]"
      ]
     },
     "execution_count": 36,
     "metadata": {},
     "output_type": "execute_result"
    }
   ],
   "source": [
    "l1"
   ]
  },
  {
   "cell_type": "code",
   "execution_count": 37,
   "id": "4ce4e355",
   "metadata": {},
   "outputs": [
    {
     "data": {
      "text/plain": [
       "['kumar', 345, (45+78j), 546.56, True, 4, 5, 6, 7]"
      ]
     },
     "execution_count": 37,
     "metadata": {},
     "output_type": "execute_result"
    }
   ],
   "source": [
    "l + l1"
   ]
  },
  {
   "cell_type": "code",
   "execution_count": 38,
   "id": "c1da622b",
   "metadata": {},
   "outputs": [
    {
     "data": {
      "text/plain": [
       "('sudh', 345, (45+78j), 546.56, True, 'sudh', 345, (45+78j), 546.56, True)"
      ]
     },
     "execution_count": 38,
     "metadata": {},
     "output_type": "execute_result"
    }
   ],
   "source": [
    "t1 * 2"
   ]
  },
  {
   "cell_type": "code",
   "execution_count": 39,
   "id": "f326fea6",
   "metadata": {},
   "outputs": [
    {
     "data": {
      "text/plain": [
       "('sudh',\n",
       " 345,\n",
       " (45+78j),\n",
       " 546.56,\n",
       " True,\n",
       " 'sudh',\n",
       " 345,\n",
       " (45+78j),\n",
       " 546.56,\n",
       " True,\n",
       " 'sudh',\n",
       " 345,\n",
       " (45+78j),\n",
       " 546.56,\n",
       " True,\n",
       " 'sudh',\n",
       " 345,\n",
       " (45+78j),\n",
       " 546.56,\n",
       " True,\n",
       " 'sudh',\n",
       " 345,\n",
       " (45+78j),\n",
       " 546.56,\n",
       " True,\n",
       " 'sudh',\n",
       " 345,\n",
       " (45+78j),\n",
       " 546.56,\n",
       " True,\n",
       " 'sudh',\n",
       " 345,\n",
       " (45+78j),\n",
       " 546.56,\n",
       " True)"
      ]
     },
     "execution_count": 39,
     "metadata": {},
     "output_type": "execute_result"
    }
   ],
   "source": [
    "t1*7"
   ]
  },
  {
   "cell_type": "markdown",
   "id": "7d41af36",
   "metadata": {},
   "source": [
    "#### Here I calling my t1, and lets see what's all the inbuild functions available in t1."
   ]
  },
  {
   "cell_type": "markdown",
   "id": "0a4d8c59",
   "metadata": {},
   "source": [
    "just write t1 and press tab, thats all"
   ]
  },
  {
   "cell_type": "markdown",
   "id": "7e53c1f6",
   "metadata": {},
   "source": [
    "if we wrote t. and press tab\n",
    "\n",
    "only 2 functions available (index and count)\n",
    "\n",
    "but if we wrote l. and press tab, \n",
    "\n",
    "there are lot of functions available."
   ]
  },
  {
   "cell_type": "code",
   "execution_count": 40,
   "id": "bd638e19",
   "metadata": {},
   "outputs": [
    {
     "data": {
      "text/plain": [
       "('sudh', 345, (45+78j), 546.56, True)"
      ]
     },
     "execution_count": 40,
     "metadata": {},
     "output_type": "execute_result"
    }
   ],
   "source": [
    "t1"
   ]
  },
  {
   "cell_type": "code",
   "execution_count": 41,
   "id": "47d3ffa1",
   "metadata": {},
   "outputs": [
    {
     "data": {
      "text/plain": [
       "1"
      ]
     },
     "execution_count": 41,
     "metadata": {},
     "output_type": "execute_result"
    }
   ],
   "source": [
    "t1.count(345)"
   ]
  },
  {
   "cell_type": "code",
   "execution_count": 42,
   "id": "b247aee1",
   "metadata": {},
   "outputs": [
    {
     "data": {
      "text/plain": [
       "0"
      ]
     },
     "execution_count": 42,
     "metadata": {},
     "output_type": "execute_result"
    }
   ],
   "source": [
    "t1.index(\"sudh\")"
   ]
  },
  {
   "cell_type": "code",
   "execution_count": 43,
   "id": "4e5dd188",
   "metadata": {},
   "outputs": [
    {
     "ename": "AttributeError",
     "evalue": "'tuple' object has no attribute 'find'",
     "output_type": "error",
     "traceback": [
      "\u001b[1;31m---------------------------------------------------------------------------\u001b[0m",
      "\u001b[1;31mAttributeError\u001b[0m                            Traceback (most recent call last)",
      "Input \u001b[1;32mIn [43]\u001b[0m, in \u001b[0;36m<cell line: 1>\u001b[1;34m()\u001b[0m\n\u001b[1;32m----> 1\u001b[0m \u001b[43mt1\u001b[49m\u001b[38;5;241;43m.\u001b[39;49m\u001b[43mfind\u001b[49m(\u001b[38;5;241m345\u001b[39m)\n",
      "\u001b[1;31mAttributeError\u001b[0m: 'tuple' object has no attribute 'find'"
     ]
    }
   ],
   "source": [
    "t1.find(345)"
   ]
  },
  {
   "cell_type": "markdown",
   "id": "6fa123a7",
   "metadata": {},
   "source": [
    "Where we used tuples?\n",
    "\n",
    "    we all have gmail, fb and so on accounts, we keep changing password in regular basis. \n",
    "    \n",
    "    if we dont want anyone to access the password in the particuar location, so in that case we can try to use tuples.\n",
    "    \n",
    "    so that no one will able to change that at any point of the time.\n",
    "    \n",
    "    (its just an example, not all our password inside in the tuples)"
   ]
  },
  {
   "cell_type": "markdown",
   "id": "fa68ad27",
   "metadata": {},
   "source": [
    "# Tuple never supports append, extend, insert operation\n",
    "\n",
    "because tuples is a immutable"
   ]
  },
  {
   "cell_type": "markdown",
   "id": "f5ab8e70",
   "metadata": {},
   "source": [
    "#### nested tuple will work (nested tuple means tuples inside the tuples)"
   ]
  },
  {
   "cell_type": "code",
   "execution_count": 44,
   "id": "f116b3d0",
   "metadata": {},
   "outputs": [],
   "source": [
    "t = (45,54,54,5,(4,5,6), (\"sudh\"))"
   ]
  },
  {
   "cell_type": "code",
   "execution_count": 45,
   "id": "644a4537",
   "metadata": {},
   "outputs": [
    {
     "data": {
      "text/plain": [
       "(45, 54, 54, 5, (4, 5, 6), 'sudh')"
      ]
     },
     "execution_count": 45,
     "metadata": {},
     "output_type": "execute_result"
    }
   ],
   "source": [
    "t"
   ]
  },
  {
   "cell_type": "markdown",
   "id": "6f9231f3",
   "metadata": {},
   "source": [
    "Inside the tuples we can add multiple type of collections (colletion means list, tuples)"
   ]
  },
  {
   "cell_type": "code",
   "execution_count": 46,
   "id": "affcf8be",
   "metadata": {},
   "outputs": [],
   "source": [
    "t1 = ([3,4,54,6], (\"sd\", 435, 56), \"usd\")"
   ]
  },
  {
   "cell_type": "code",
   "execution_count": 47,
   "id": "db598be7",
   "metadata": {},
   "outputs": [
    {
     "data": {
      "text/plain": [
       "([3, 4, 54, 6], ('sd', 435, 56), 'usd')"
      ]
     },
     "execution_count": 47,
     "metadata": {},
     "output_type": "execute_result"
    }
   ],
   "source": [
    "t1"
   ]
  },
  {
   "cell_type": "markdown",
   "id": "7121ee3f",
   "metadata": {},
   "source": [
    "we can do list of list of list inside in the tuple, \n",
    "\n",
    "tuple of tuple of tuple inside in the tuple, that is preety much possible"
   ]
  },
  {
   "cell_type": "markdown",
   "id": "2c16994c",
   "metadata": {},
   "source": [
    "#### how to get sd in that tuple of t1?"
   ]
  },
  {
   "cell_type": "code",
   "execution_count": 48,
   "id": "9bcf7a4f",
   "metadata": {},
   "outputs": [
    {
     "data": {
      "text/plain": [
       "([3, 4, 54, 6], ('sd', 435, 56), 'usd')"
      ]
     },
     "execution_count": 48,
     "metadata": {},
     "output_type": "execute_result"
    }
   ],
   "source": [
    "t1"
   ]
  },
  {
   "cell_type": "code",
   "execution_count": 49,
   "id": "a02086bd",
   "metadata": {},
   "outputs": [
    {
     "data": {
      "text/plain": [
       "'sd'"
      ]
     },
     "execution_count": 49,
     "metadata": {},
     "output_type": "execute_result"
    }
   ],
   "source": [
    "t1[1][0]"
   ]
  },
  {
   "cell_type": "markdown",
   "id": "225a7cf7",
   "metadata": {},
   "source": [
    "# Question"
   ]
  },
  {
   "cell_type": "markdown",
   "id": "857ffc0a",
   "metadata": {},
   "source": [
    "is it possible to change 54 to sudh?"
   ]
  },
  {
   "cell_type": "code",
   "execution_count": 50,
   "id": "5d5a75ef",
   "metadata": {},
   "outputs": [],
   "source": [
    "t1[0][2] = \"sudh\""
   ]
  },
  {
   "cell_type": "code",
   "execution_count": 51,
   "id": "eb324903",
   "metadata": {},
   "outputs": [
    {
     "data": {
      "text/plain": [
       "([3, 4, 'sudh', 6], ('sd', 435, 56), 'usd')"
      ]
     },
     "execution_count": 51,
     "metadata": {},
     "output_type": "execute_result"
    }
   ],
   "source": [
    "t1"
   ]
  },
  {
   "cell_type": "markdown",
   "id": "46315432",
   "metadata": {},
   "source": [
    "# yes it is possible to change the list value inside the tuple"
   ]
  },
  {
   "cell_type": "code",
   "execution_count": 52,
   "id": "5d02baff",
   "metadata": {},
   "outputs": [
    {
     "ename": "TypeError",
     "evalue": "'tuple' object does not support item assignment",
     "output_type": "error",
     "traceback": [
      "\u001b[1;31m---------------------------------------------------------------------------\u001b[0m",
      "\u001b[1;31mTypeError\u001b[0m                                 Traceback (most recent call last)",
      "Input \u001b[1;32mIn [52]\u001b[0m, in \u001b[0;36m<cell line: 1>\u001b[1;34m()\u001b[0m\n\u001b[1;32m----> 1\u001b[0m t1[\u001b[38;5;241m0\u001b[39m] \u001b[38;5;241m=\u001b[39m \u001b[38;5;124m\"\u001b[39m\u001b[38;5;124msfdsafd\u001b[39m\u001b[38;5;124m\"\u001b[39m\n",
      "\u001b[1;31mTypeError\u001b[0m: 'tuple' object does not support item assignment"
     ]
    }
   ],
   "source": [
    "t1[0] = \"sfdsafd\" #tuples not assign (because its a tuple)"
   ]
  },
  {
   "cell_type": "code",
   "execution_count": 53,
   "id": "4753cd85",
   "metadata": {},
   "outputs": [
    {
     "ename": "TypeError",
     "evalue": "'tuple' object does not support item assignment",
     "output_type": "error",
     "traceback": [
      "\u001b[1;31m---------------------------------------------------------------------------\u001b[0m",
      "\u001b[1;31mTypeError\u001b[0m                                 Traceback (most recent call last)",
      "Input \u001b[1;32mIn [53]\u001b[0m, in \u001b[0;36m<cell line: 1>\u001b[1;34m()\u001b[0m\n\u001b[1;32m----> 1\u001b[0m t1[\u001b[38;5;241m1\u001b[39m][\u001b[38;5;241m1\u001b[39m] \u001b[38;5;241m=\u001b[39m \u001b[38;5;124m\"\u001b[39m\u001b[38;5;124msudh\u001b[39m\u001b[38;5;124m\"\u001b[39m\n",
      "\u001b[1;31mTypeError\u001b[0m: 'tuple' object does not support item assignment"
     ]
    }
   ],
   "source": [
    "t1[1][1] = \"sudh\""
   ]
  },
  {
   "cell_type": "markdown",
   "id": "c4055201",
   "metadata": {},
   "source": [
    "its not possible to change the values in tuples"
   ]
  },
  {
   "cell_type": "markdown",
   "id": "4054fd9e",
   "metadata": {},
   "source": [
    "# What is the only way to change tuple elements?"
   ]
  },
  {
   "cell_type": "code",
   "execution_count": 54,
   "id": "d4eea688",
   "metadata": {},
   "outputs": [],
   "source": [
    "t1 = (53,54,9,84,496,469,8,4)"
   ]
  },
  {
   "cell_type": "code",
   "execution_count": 55,
   "id": "d435f40d",
   "metadata": {},
   "outputs": [],
   "source": [
    "t1 = list(t1)"
   ]
  },
  {
   "cell_type": "code",
   "execution_count": 56,
   "id": "1fecd9a7",
   "metadata": {},
   "outputs": [
    {
     "data": {
      "text/plain": [
       "[53, 54, 9, 84, 496, 469, 8, 4]"
      ]
     },
     "execution_count": 56,
     "metadata": {},
     "output_type": "execute_result"
    }
   ],
   "source": [
    "t1"
   ]
  },
  {
   "cell_type": "code",
   "execution_count": 57,
   "id": "b1304fe5",
   "metadata": {},
   "outputs": [],
   "source": [
    "t1[7] = \"sudh\""
   ]
  },
  {
   "cell_type": "code",
   "execution_count": 58,
   "id": "08f1125e",
   "metadata": {},
   "outputs": [
    {
     "data": {
      "text/plain": [
       "[53, 54, 9, 84, 496, 469, 8, 'sudh']"
      ]
     },
     "execution_count": 58,
     "metadata": {},
     "output_type": "execute_result"
    }
   ],
   "source": [
    "t1"
   ]
  },
  {
   "cell_type": "code",
   "execution_count": 59,
   "id": "44484d99",
   "metadata": {},
   "outputs": [],
   "source": [
    "t1 = tuple(t1)"
   ]
  },
  {
   "cell_type": "code",
   "execution_count": 60,
   "id": "06bdfb7f",
   "metadata": {},
   "outputs": [
    {
     "data": {
      "text/plain": [
       "(53, 54, 9, 84, 496, 469, 8, 'sudh')"
      ]
     },
     "execution_count": 60,
     "metadata": {},
     "output_type": "execute_result"
    }
   ],
   "source": [
    "t1"
   ]
  },
  {
   "cell_type": "markdown",
   "id": "0dea3855",
   "metadata": {},
   "source": [
    "# SET"
   ]
  },
  {
   "cell_type": "markdown",
   "id": "ed4eb46b",
   "metadata": {},
   "source": [
    "Set is a another kind of collection"
   ]
  },
  {
   "cell_type": "code",
   "execution_count": 61,
   "id": "0ab9055e",
   "metadata": {},
   "outputs": [],
   "source": [
    "l = [1,2,3,4,5,6,7,8,9,7,7,7,7,7,7,7,7,7,7,7]"
   ]
  },
  {
   "cell_type": "markdown",
   "id": "2db90b19",
   "metadata": {},
   "source": [
    "# question"
   ]
  },
  {
   "cell_type": "markdown",
   "id": "c969af2b",
   "metadata": {},
   "source": [
    "if someone asking can you remove all the duplicate elements in this list"
   ]
  },
  {
   "cell_type": "code",
   "execution_count": 62,
   "id": "3666cdde",
   "metadata": {},
   "outputs": [
    {
     "data": {
      "text/plain": [
       "[1, 2, 3, 4, 5, 6, 7, 8, 9, 7, 7, 7, 7, 7, 7, 7, 7, 7, 7, 7]"
      ]
     },
     "execution_count": 62,
     "metadata": {},
     "output_type": "execute_result"
    }
   ],
   "source": [
    "l"
   ]
  },
  {
   "cell_type": "code",
   "execution_count": 63,
   "id": "8696a095",
   "metadata": {},
   "outputs": [],
   "source": [
    "l = set(l)"
   ]
  },
  {
   "cell_type": "code",
   "execution_count": 64,
   "id": "d8524300",
   "metadata": {},
   "outputs": [
    {
     "data": {
      "text/plain": [
       "{1, 2, 3, 4, 5, 6, 7, 8, 9}"
      ]
     },
     "execution_count": 64,
     "metadata": {},
     "output_type": "execute_result"
    }
   ],
   "source": [
    "l"
   ]
  },
  {
   "cell_type": "markdown",
   "id": "5f0b1be1",
   "metadata": {},
   "source": [
    "# Set:\n",
    "    \n",
    "    Set is a collection which means always hold a unique element.  It will try to remove the duplicates elements by itself."
   ]
  },
  {
   "cell_type": "code",
   "execution_count": 65,
   "id": "162a5507",
   "metadata": {},
   "outputs": [],
   "source": [
    "s = {}"
   ]
  },
  {
   "cell_type": "code",
   "execution_count": 66,
   "id": "2f8c4f1d",
   "metadata": {},
   "outputs": [
    {
     "data": {
      "text/plain": [
       "dict"
      ]
     },
     "execution_count": 66,
     "metadata": {},
     "output_type": "execute_result"
    }
   ],
   "source": [
    "type(s)"
   ]
  },
  {
   "cell_type": "code",
   "execution_count": 67,
   "id": "36fd49e5",
   "metadata": {},
   "outputs": [],
   "source": [
    "s1 = {2,3,4}"
   ]
  },
  {
   "cell_type": "code",
   "execution_count": 68,
   "id": "222dc243",
   "metadata": {},
   "outputs": [
    {
     "data": {
      "text/plain": [
       "set"
      ]
     },
     "execution_count": 68,
     "metadata": {},
     "output_type": "execute_result"
    }
   ],
   "source": [
    "type(s1)"
   ]
  },
  {
   "cell_type": "code",
   "execution_count": 69,
   "id": "e7827583",
   "metadata": {},
   "outputs": [],
   "source": [
    "s2 = {1,1,1,1,1,2,3,4,54,3,3,3,3,3,3}"
   ]
  },
  {
   "cell_type": "code",
   "execution_count": 70,
   "id": "4c4f05b4",
   "metadata": {},
   "outputs": [
    {
     "data": {
      "text/plain": [
       "{1, 2, 3, 4, 54}"
      ]
     },
     "execution_count": 70,
     "metadata": {},
     "output_type": "execute_result"
    }
   ],
   "source": [
    "s2 #we had a duplicate elements but here we got only uniques."
   ]
  },
  {
   "cell_type": "markdown",
   "id": "b2aab430",
   "metadata": {},
   "source": [
    "#### Is it possible to access the all of this elements in s2, by using a slicing operation4"
   ]
  },
  {
   "cell_type": "markdown",
   "id": "9ec18e38",
   "metadata": {},
   "source": [
    "# NO"
   ]
  },
  {
   "cell_type": "markdown",
   "id": "25d63d8c",
   "metadata": {},
   "source": [
    "#### Because set is a unordered collection"
   ]
  },
  {
   "cell_type": "code",
   "execution_count": 71,
   "id": "8d10db56",
   "metadata": {},
   "outputs": [
    {
     "ename": "TypeError",
     "evalue": "'set' object is not subscriptable",
     "output_type": "error",
     "traceback": [
      "\u001b[1;31m---------------------------------------------------------------------------\u001b[0m",
      "\u001b[1;31mTypeError\u001b[0m                                 Traceback (most recent call last)",
      "Input \u001b[1;32mIn [71]\u001b[0m, in \u001b[0;36m<cell line: 1>\u001b[1;34m()\u001b[0m\n\u001b[1;32m----> 1\u001b[0m \u001b[43ms2\u001b[49m\u001b[43m[\u001b[49m\u001b[38;5;241;43m0\u001b[39;49m\u001b[43m]\u001b[49m\n",
      "\u001b[1;31mTypeError\u001b[0m: 'set' object is not subscriptable"
     ]
    }
   ],
   "source": [
    "s2[0]"
   ]
  },
  {
   "cell_type": "markdown",
   "id": "196d3da3",
   "metadata": {},
   "source": [
    "I just want to access the 1 in the set s2, how can I do?\n",
    "\n",
    "Just convert into list, and then access after that convert into the set"
   ]
  },
  {
   "cell_type": "code",
   "execution_count": 72,
   "id": "fdb758aa",
   "metadata": {},
   "outputs": [
    {
     "data": {
      "text/plain": [
       "{1, 2, 3, 4, 54}"
      ]
     },
     "execution_count": 72,
     "metadata": {},
     "output_type": "execute_result"
    }
   ],
   "source": [
    "s2"
   ]
  },
  {
   "cell_type": "code",
   "execution_count": 73,
   "id": "0c027c9e",
   "metadata": {},
   "outputs": [
    {
     "data": {
      "text/plain": [
       "[1, 2, 3, 4, 54]"
      ]
     },
     "execution_count": 73,
     "metadata": {},
     "output_type": "execute_result"
    }
   ],
   "source": [
    "list(s2)"
   ]
  },
  {
   "cell_type": "markdown",
   "id": "a7fc63c9",
   "metadata": {},
   "source": [
    "# Inbuilt function in set (just press tab)"
   ]
  },
  {
   "cell_type": "code",
   "execution_count": 74,
   "id": "a42bbfbf",
   "metadata": {},
   "outputs": [],
   "source": [
    "#in build function\n",
    "\n",
    "s2.add(89777)"
   ]
  },
  {
   "cell_type": "code",
   "execution_count": 75,
   "id": "63127c23",
   "metadata": {},
   "outputs": [
    {
     "data": {
      "text/plain": [
       "{1, 2, 3, 4, 54, 89777}"
      ]
     },
     "execution_count": 75,
     "metadata": {},
     "output_type": "execute_result"
    }
   ],
   "source": [
    "s2"
   ]
  },
  {
   "cell_type": "code",
   "execution_count": 76,
   "id": "9245271f",
   "metadata": {},
   "outputs": [],
   "source": [
    "s2.add(\"sudh\")"
   ]
  },
  {
   "cell_type": "code",
   "execution_count": 77,
   "id": "aa2817fe",
   "metadata": {},
   "outputs": [
    {
     "data": {
      "text/plain": [
       "{1, 2, 3, 4, 54, 89777, 'sudh'}"
      ]
     },
     "execution_count": 77,
     "metadata": {},
     "output_type": "execute_result"
    }
   ],
   "source": [
    "s2"
   ]
  },
  {
   "cell_type": "markdown",
   "id": "08d18145",
   "metadata": {},
   "source": [
    "#### Is it possible to add a list inside a set?"
   ]
  },
  {
   "cell_type": "markdown",
   "id": "2661918c",
   "metadata": {},
   "source": [
    "# NO"
   ]
  },
  {
   "cell_type": "markdown",
   "id": "121022b0",
   "metadata": {},
   "source": [
    "Reason is\n",
    "\n",
    "    Because set always holds unordered collection of the unique elements.\n",
    "    it just try to find the uniqueness in inbetween not in a primative data type."
   ]
  },
  {
   "cell_type": "code",
   "execution_count": 78,
   "id": "3e7ce304",
   "metadata": {},
   "outputs": [
    {
     "ename": "TypeError",
     "evalue": "unhashable type: 'list'",
     "output_type": "error",
     "traceback": [
      "\u001b[1;31m---------------------------------------------------------------------------\u001b[0m",
      "\u001b[1;31mTypeError\u001b[0m                                 Traceback (most recent call last)",
      "Input \u001b[1;32mIn [78]\u001b[0m, in \u001b[0;36m<cell line: 1>\u001b[1;34m()\u001b[0m\n\u001b[1;32m----> 1\u001b[0m \u001b[43ms2\u001b[49m\u001b[38;5;241;43m.\u001b[39;49m\u001b[43madd\u001b[49m\u001b[43m(\u001b[49m\u001b[43m[\u001b[49m\u001b[38;5;241;43m3\u001b[39;49m\u001b[43m,\u001b[49m\u001b[38;5;241;43m4\u001b[39;49m\u001b[43m,\u001b[49m\u001b[38;5;241;43m5\u001b[39;49m\u001b[43m,\u001b[49m\u001b[38;5;241;43m6\u001b[39;49m\u001b[43m]\u001b[49m\u001b[43m)\u001b[49m\n",
      "\u001b[1;31mTypeError\u001b[0m: unhashable type: 'list'"
     ]
    }
   ],
   "source": [
    "s2.add([3,4,5,6])"
   ]
  },
  {
   "cell_type": "code",
   "execution_count": 79,
   "id": "d6bf559c",
   "metadata": {},
   "outputs": [
    {
     "ename": "TypeError",
     "evalue": "unhashable type: 'set'",
     "output_type": "error",
     "traceback": [
      "\u001b[1;31m---------------------------------------------------------------------------\u001b[0m",
      "\u001b[1;31mTypeError\u001b[0m                                 Traceback (most recent call last)",
      "Input \u001b[1;32mIn [79]\u001b[0m, in \u001b[0;36m<cell line: 1>\u001b[1;34m()\u001b[0m\n\u001b[1;32m----> 1\u001b[0m \u001b[43ms2\u001b[49m\u001b[38;5;241;43m.\u001b[39;49m\u001b[43madd\u001b[49m\u001b[43m(\u001b[49m\u001b[43m{\u001b[49m\u001b[38;5;241;43m1\u001b[39;49m\u001b[43m,\u001b[49m\u001b[38;5;241;43m2\u001b[39;49m\u001b[43m,\u001b[49m\u001b[38;5;241;43m3\u001b[39;49m\u001b[43m,\u001b[49m\u001b[38;5;241;43m4\u001b[39;49m\u001b[43m}\u001b[49m\u001b[43m)\u001b[49m\n",
      "\u001b[1;31mTypeError\u001b[0m: unhashable type: 'set'"
     ]
    }
   ],
   "source": [
    "s2.add({1,2,3,4})"
   ]
  },
  {
   "cell_type": "code",
   "execution_count": 80,
   "id": "09c067d4",
   "metadata": {},
   "outputs": [
    {
     "ename": "TypeError",
     "evalue": "unhashable type: 'list'",
     "output_type": "error",
     "traceback": [
      "\u001b[1;31m---------------------------------------------------------------------------\u001b[0m",
      "\u001b[1;31mTypeError\u001b[0m                                 Traceback (most recent call last)",
      "Input \u001b[1;32mIn [80]\u001b[0m, in \u001b[0;36m<cell line: 1>\u001b[1;34m()\u001b[0m\n\u001b[1;32m----> 1\u001b[0m {[\u001b[38;5;241m3\u001b[39m,\u001b[38;5;241m4\u001b[39m,\u001b[38;5;241m5\u001b[39m,\u001b[38;5;241m6\u001b[39m], [\u001b[38;5;241m1\u001b[39m,\u001b[38;5;241m2\u001b[39m,\u001b[38;5;241m7\u001b[39m,\u001b[38;5;241m8\u001b[39m,\u001b[38;5;241m9\u001b[39m]}\n",
      "\u001b[1;31mTypeError\u001b[0m: unhashable type: 'list'"
     ]
    }
   ],
   "source": [
    "{[3,4,5,6], [1,2,7,8,9]}"
   ]
  },
  {
   "cell_type": "markdown",
   "id": "2f1bda5a",
   "metadata": {},
   "source": [
    "# But it will work in tuples collection inside a set"
   ]
  },
  {
   "cell_type": "code",
   "execution_count": 81,
   "id": "50e3b6dd",
   "metadata": {},
   "outputs": [
    {
     "data": {
      "text/plain": [
       "{(1, 2, 7, 8, 9), (3, 4, 5, 6)}"
      ]
     },
     "execution_count": 81,
     "metadata": {},
     "output_type": "execute_result"
    }
   ],
   "source": [
    "{(3,4,5,6), (1,2,7,8,9)}"
   ]
  },
  {
   "cell_type": "markdown",
   "id": "80683dc6",
   "metadata": {},
   "source": [
    "Why is it working in tuples only?"
   ]
  },
  {
   "cell_type": "markdown",
   "id": "2d3ae5ac",
   "metadata": {},
   "source": [
    "#### Problem is mutability and immutability"
   ]
  },
  {
   "cell_type": "markdown",
   "id": "6723fd59",
   "metadata": {},
   "source": [
    "# Is it going to remove the duplicate tuples inside the set?"
   ]
  },
  {
   "cell_type": "code",
   "execution_count": 82,
   "id": "b4169bc6",
   "metadata": {},
   "outputs": [
    {
     "data": {
      "text/plain": [
       "{(1, 2, 7, 8, 9), (3, 4, 5, 6)}"
      ]
     },
     "execution_count": 82,
     "metadata": {},
     "output_type": "execute_result"
    }
   ],
   "source": [
    "{(3,4,5,6), (3,4,5,6), (1,2,7,8,9)}"
   ]
  },
  {
   "cell_type": "code",
   "execution_count": 83,
   "id": "e89c1aa8",
   "metadata": {},
   "outputs": [
    {
     "data": {
      "text/plain": [
       "{(3, 4, 5, 6), 3, 4, 5}"
      ]
     },
     "execution_count": 83,
     "metadata": {},
     "output_type": "execute_result"
    }
   ],
   "source": [
    "{(3,4,5,6),(3,4,5,6),3,4,5,3,4,5}"
   ]
  },
  {
   "cell_type": "markdown",
   "id": "00ae859a",
   "metadata": {},
   "source": [
    "# Now we see some other inbuild functions in set"
   ]
  },
  {
   "cell_type": "code",
   "execution_count": 84,
   "id": "0df70b3d",
   "metadata": {},
   "outputs": [],
   "source": [
    "s = {(3,4,5,6),(3,4,5,6),3,4,5,3,4,5}"
   ]
  },
  {
   "cell_type": "code",
   "execution_count": 85,
   "id": "b8de8207",
   "metadata": {},
   "outputs": [
    {
     "data": {
      "text/plain": [
       "{(3, 4, 5, 6), 3, 4, 5}"
      ]
     },
     "execution_count": 85,
     "metadata": {},
     "output_type": "execute_result"
    }
   ],
   "source": [
    "s"
   ]
  },
  {
   "cell_type": "markdown",
   "id": "1b2485bc",
   "metadata": {},
   "source": [
    "#### Remove"
   ]
  },
  {
   "cell_type": "code",
   "execution_count": 86,
   "id": "fc0b9340",
   "metadata": {},
   "outputs": [],
   "source": [
    "s.remove(4)"
   ]
  },
  {
   "cell_type": "code",
   "execution_count": 87,
   "id": "4d8a4486",
   "metadata": {},
   "outputs": [
    {
     "data": {
      "text/plain": [
       "{(3, 4, 5, 6), 3, 5}"
      ]
     },
     "execution_count": 87,
     "metadata": {},
     "output_type": "execute_result"
    }
   ],
   "source": [
    "s"
   ]
  },
  {
   "cell_type": "markdown",
   "id": "22162be1",
   "metadata": {},
   "source": [
    "#### Discord"
   ]
  },
  {
   "cell_type": "code",
   "execution_count": 88,
   "id": "f3f27878",
   "metadata": {},
   "outputs": [],
   "source": [
    "s.discard(5) #my 5 is gone, "
   ]
  },
  {
   "cell_type": "code",
   "execution_count": 89,
   "id": "f83f082f",
   "metadata": {},
   "outputs": [
    {
     "data": {
      "text/plain": [
       "{(3, 4, 5, 6), 3}"
      ]
     },
     "execution_count": 89,
     "metadata": {},
     "output_type": "execute_result"
    }
   ],
   "source": [
    "s"
   ]
  },
  {
   "cell_type": "markdown",
   "id": "acd2b421",
   "metadata": {},
   "source": [
    "# What is the difference between remove and discord operation?"
   ]
  },
  {
   "cell_type": "markdown",
   "id": "64338757",
   "metadata": {},
   "source": [
    "REMOVE - \n",
    "\n",
    "    It will remove element\n",
    "    \n",
    "DISCARD - \n",
    "\n",
    "    It will remove element but only for number, If element is not a number it will not do anything."
   ]
  },
  {
   "cell_type": "code",
   "execution_count": 90,
   "id": "c59616c2",
   "metadata": {},
   "outputs": [
    {
     "ename": "KeyError",
     "evalue": "45",
     "output_type": "error",
     "traceback": [
      "\u001b[1;31m---------------------------------------------------------------------------\u001b[0m",
      "\u001b[1;31mKeyError\u001b[0m                                  Traceback (most recent call last)",
      "Input \u001b[1;32mIn [90]\u001b[0m, in \u001b[0;36m<cell line: 1>\u001b[1;34m()\u001b[0m\n\u001b[1;32m----> 1\u001b[0m \u001b[43ms\u001b[49m\u001b[38;5;241;43m.\u001b[39;49m\u001b[43mremove\u001b[49m\u001b[43m(\u001b[49m\u001b[38;5;241;43m45\u001b[39;49m\u001b[43m)\u001b[49m\n",
      "\u001b[1;31mKeyError\u001b[0m: 45"
     ]
    }
   ],
   "source": [
    "s.remove(45) #because 45 namma set la illa adhunaala error kaatudhu"
   ]
  },
  {
   "cell_type": "code",
   "execution_count": 91,
   "id": "0d1772d5",
   "metadata": {},
   "outputs": [],
   "source": [
    "s.discard(45) #discard vandhu number ah remove panna use pannuvom, so it will work, namma set la andha number illainaalum work aagum."
   ]
  },
  {
   "cell_type": "markdown",
   "id": "60911d2e",
   "metadata": {},
   "source": [
    "# weather set is mutable or immutable?"
   ]
  },
  {
   "cell_type": "markdown",
   "id": "2df14869",
   "metadata": {},
   "source": [
    "Its not a mutable not even a immutable\n",
    "\n",
    "Its a unordered collection, when its a unordered collections, you will not able to get a indexes.\n",
    "\n",
    "So, if we not able to get a indexes, If not indexes so we will not able to do any kind of manipulation operations.\n",
    "\n",
    "IN CASE OF A UNORDERED COLLECTION, WE CANT ABLE TO GET ANY INDEXES.\n",
    "we want to do type conversion into a list or tuple, then we can change."
   ]
  },
  {
   "cell_type": "code",
   "execution_count": 92,
   "id": "0cc5ea19",
   "metadata": {},
   "outputs": [
    {
     "data": {
      "text/plain": [
       "{'sudh'}"
      ]
     },
     "execution_count": 92,
     "metadata": {},
     "output_type": "execute_result"
    }
   ],
   "source": [
    "{\"sudh\", \"sudh\"}"
   ]
  },
  {
   "cell_type": "code",
   "execution_count": 93,
   "id": "59de1d85",
   "metadata": {},
   "outputs": [
    {
     "data": {
      "text/plain": [
       "{'Sudh', 'sudh'}"
      ]
     },
     "execution_count": 93,
     "metadata": {},
     "output_type": "execute_result"
    }
   ],
   "source": [
    "{\"sudh\", \"Sudh\"} #because its a case sensitive"
   ]
  },
  {
   "cell_type": "markdown",
   "id": "05c40715",
   "metadata": {},
   "source": [
    "if we want a reverse order in a set elements, we should convert into the list and then we can able to perform."
   ]
  },
  {
   "cell_type": "markdown",
   "id": "cbfb4404",
   "metadata": {},
   "source": [
    "#### Want to check all inbuild functions in set"
   ]
  },
  {
   "cell_type": "code",
   "execution_count": 94,
   "id": "c609c0f5",
   "metadata": {},
   "outputs": [],
   "source": [
    "s2.clear()"
   ]
  },
  {
   "cell_type": "code",
   "execution_count": 95,
   "id": "db5e1bd5",
   "metadata": {},
   "outputs": [
    {
     "data": {
      "text/plain": [
       "set()"
      ]
     },
     "execution_count": 95,
     "metadata": {},
     "output_type": "execute_result"
    }
   ],
   "source": [
    "s2"
   ]
  },
  {
   "cell_type": "markdown",
   "id": "b9d6493c",
   "metadata": {},
   "source": [
    "# Set is sorting for not only integers, It will work on both string also."
   ]
  },
  {
   "cell_type": "code",
   "execution_count": 96,
   "id": "83d4d0d5",
   "metadata": {},
   "outputs": [],
   "source": [
    "s = {4,5,6,4,6,8,9,2,6,5,5,5,66,5, \"sudh\", \"sudh\", \"pudh\"}"
   ]
  },
  {
   "cell_type": "code",
   "execution_count": 97,
   "id": "fe507497",
   "metadata": {},
   "outputs": [
    {
     "data": {
      "text/plain": [
       "{2, 4, 5, 6, 66, 8, 9, 'pudh', 'sudh'}"
      ]
     },
     "execution_count": 97,
     "metadata": {},
     "output_type": "execute_result"
    }
   ],
   "source": [
    "s"
   ]
  },
  {
   "cell_type": "markdown",
   "id": "4fae88a3",
   "metadata": {},
   "source": [
    "# Vikaas asking this question"
   ]
  },
  {
   "cell_type": "code",
   "execution_count": 98,
   "id": "23ec92ef",
   "metadata": {},
   "outputs": [],
   "source": [
    "l = [3,4,5,6]"
   ]
  },
  {
   "cell_type": "code",
   "execution_count": 99,
   "id": "3931ddd4",
   "metadata": {},
   "outputs": [
    {
     "data": {
      "text/plain": [
       "{3, 4, 5, 6}"
      ]
     },
     "execution_count": 99,
     "metadata": {},
     "output_type": "execute_result"
    }
   ],
   "source": [
    "set(l)"
   ]
  },
  {
   "cell_type": "code",
   "execution_count": 100,
   "id": "e1a7a0dc",
   "metadata": {},
   "outputs": [
    {
     "data": {
      "text/plain": [
       "(3, 4, 5, 6)"
      ]
     },
     "execution_count": 100,
     "metadata": {},
     "output_type": "execute_result"
    }
   ],
   "source": [
    "tuple(l)"
   ]
  },
  {
   "cell_type": "markdown",
   "id": "308abdbb",
   "metadata": {},
   "source": [
    "# Dictionary"
   ]
  },
  {
   "cell_type": "markdown",
   "id": "cd59e78c",
   "metadata": {},
   "source": [
    "In dictionary we can store our element in key and values."
   ]
  },
  {
   "cell_type": "code",
   "execution_count": 101,
   "id": "13212402",
   "metadata": {},
   "outputs": [],
   "source": [
    "d = {}"
   ]
  },
  {
   "cell_type": "code",
   "execution_count": 102,
   "id": "32112f5f",
   "metadata": {},
   "outputs": [
    {
     "data": {
      "text/plain": [
       "dict"
      ]
     },
     "execution_count": 102,
     "metadata": {},
     "output_type": "execute_result"
    }
   ],
   "source": [
    "type(d)"
   ]
  },
  {
   "cell_type": "code",
   "execution_count": 103,
   "id": "686c1eb0",
   "metadata": {},
   "outputs": [],
   "source": [
    "d = {3,4}"
   ]
  },
  {
   "cell_type": "code",
   "execution_count": 104,
   "id": "6e07aafc",
   "metadata": {},
   "outputs": [
    {
     "data": {
      "text/plain": [
       "set"
      ]
     },
     "execution_count": 104,
     "metadata": {},
     "output_type": "execute_result"
    }
   ],
   "source": [
    "type(d)"
   ]
  },
  {
   "cell_type": "code",
   "execution_count": 105,
   "id": "2029e75d",
   "metadata": {},
   "outputs": [],
   "source": [
    "d = {4 : \"sudh\"}"
   ]
  },
  {
   "cell_type": "code",
   "execution_count": 106,
   "id": "27a65230",
   "metadata": {},
   "outputs": [
    {
     "data": {
      "text/plain": [
       "dict_keys([4])"
      ]
     },
     "execution_count": 106,
     "metadata": {},
     "output_type": "execute_result"
    }
   ],
   "source": [
    "d.keys()"
   ]
  },
  {
   "cell_type": "code",
   "execution_count": 107,
   "id": "d409d02b",
   "metadata": {},
   "outputs": [
    {
     "data": {
      "text/plain": [
       "dict_values(['sudh'])"
      ]
     },
     "execution_count": 107,
     "metadata": {},
     "output_type": "execute_result"
    }
   ],
   "source": [
    "d.values()"
   ]
  },
  {
   "cell_type": "code",
   "execution_count": 108,
   "id": "d73905df",
   "metadata": {},
   "outputs": [],
   "source": [
    "d1 = {\"key1\" : 5445, \"key2\" : \"sudh\", \"key3\" : [3,4,5,6]}"
   ]
  },
  {
   "cell_type": "code",
   "execution_count": 109,
   "id": "ec3172d1",
   "metadata": {},
   "outputs": [
    {
     "data": {
      "text/plain": [
       "{'key1': 5445, 'key2': 'sudh', 'key3': [3, 4, 5, 6]}"
      ]
     },
     "execution_count": 109,
     "metadata": {},
     "output_type": "execute_result"
    }
   ],
   "source": [
    "d1"
   ]
  },
  {
   "cell_type": "code",
   "execution_count": 110,
   "id": "c26f9bc5",
   "metadata": {},
   "outputs": [
    {
     "data": {
      "text/plain": [
       "dict_keys(['key1', 'key2', 'key3'])"
      ]
     },
     "execution_count": 110,
     "metadata": {},
     "output_type": "execute_result"
    }
   ],
   "source": [
    "d1.keys()"
   ]
  },
  {
   "cell_type": "code",
   "execution_count": 111,
   "id": "91d54794",
   "metadata": {},
   "outputs": [
    {
     "data": {
      "text/plain": [
       "dict_values([5445, 'sudh', [3, 4, 5, 6]])"
      ]
     },
     "execution_count": 111,
     "metadata": {},
     "output_type": "execute_result"
    }
   ],
   "source": [
    "d1.values()"
   ]
  },
  {
   "cell_type": "markdown",
   "id": "a5149dec",
   "metadata": {},
   "source": [
    "#### In list, tuple if we want to access any values we use index number, but here we want to use key value"
   ]
  },
  {
   "cell_type": "code",
   "execution_count": 112,
   "id": "ff9ab667",
   "metadata": {},
   "outputs": [
    {
     "ename": "KeyError",
     "evalue": "0",
     "output_type": "error",
     "traceback": [
      "\u001b[1;31m---------------------------------------------------------------------------\u001b[0m",
      "\u001b[1;31mKeyError\u001b[0m                                  Traceback (most recent call last)",
      "Input \u001b[1;32mIn [112]\u001b[0m, in \u001b[0;36m<cell line: 1>\u001b[1;34m()\u001b[0m\n\u001b[1;32m----> 1\u001b[0m \u001b[43md1\u001b[49m\u001b[43m[\u001b[49m\u001b[38;5;241;43m0\u001b[39;49m\u001b[43m]\u001b[49m\n",
      "\u001b[1;31mKeyError\u001b[0m: 0"
     ]
    }
   ],
   "source": [
    "d1[0]"
   ]
  },
  {
   "cell_type": "code",
   "execution_count": 113,
   "id": "35e632d0",
   "metadata": {},
   "outputs": [
    {
     "data": {
      "text/plain": [
       "'sudh'"
      ]
     },
     "execution_count": 113,
     "metadata": {},
     "output_type": "execute_result"
    }
   ],
   "source": [
    "d1[\"key2\"]"
   ]
  },
  {
   "cell_type": "code",
   "execution_count": 114,
   "id": "d818c74c",
   "metadata": {},
   "outputs": [
    {
     "data": {
      "text/plain": [
       "5445"
      ]
     },
     "execution_count": 114,
     "metadata": {},
     "output_type": "execute_result"
    }
   ],
   "source": [
    "d1[\"key1\"]"
   ]
  },
  {
   "cell_type": "code",
   "execution_count": 115,
   "id": "18fc0da9",
   "metadata": {},
   "outputs": [
    {
     "data": {
      "text/plain": [
       "[3, 4, 5, 6]"
      ]
     },
     "execution_count": 115,
     "metadata": {},
     "output_type": "execute_result"
    }
   ],
   "source": [
    "d1[\"key3\"]"
   ]
  },
  {
   "cell_type": "markdown",
   "id": "4427c5ca",
   "metadata": {},
   "source": [
    "#### Is it going to work if we create a key in special case character?"
   ]
  },
  {
   "cell_type": "code",
   "execution_count": 116,
   "id": "feb8d077",
   "metadata": {},
   "outputs": [
    {
     "ename": "SyntaxError",
     "evalue": "invalid syntax (753164606.py, line 1)",
     "output_type": "error",
     "traceback": [
      "\u001b[1;36m  Input \u001b[1;32mIn [116]\u001b[1;36m\u001b[0m\n\u001b[1;33m    d = {!3 : [\"dsaf\", \"dfsf\", 4,5,6,7,7]}\u001b[0m\n\u001b[1;37m         ^\u001b[0m\n\u001b[1;31mSyntaxError\u001b[0m\u001b[1;31m:\u001b[0m invalid syntax\n"
     ]
    }
   ],
   "source": [
    "d = {!3 : [\"dsaf\", \"dfsf\", 4,5,6,7,7]}"
   ]
  },
  {
   "cell_type": "code",
   "execution_count": 117,
   "id": "a1921ad7",
   "metadata": {},
   "outputs": [
    {
     "ename": "SyntaxError",
     "evalue": "invalid syntax (3162927130.py, line 1)",
     "output_type": "error",
     "traceback": [
      "\u001b[1;36m  Input \u001b[1;32mIn [117]\u001b[1;36m\u001b[0m\n\u001b[1;33m    d = {@3 : [\"dsaf\", \"dfsf\", 4,5,6,7,7]}\u001b[0m\n\u001b[1;37m         ^\u001b[0m\n\u001b[1;31mSyntaxError\u001b[0m\u001b[1;31m:\u001b[0m invalid syntax\n"
     ]
    }
   ],
   "source": [
    "d = {@3 : [\"dsaf\", \"dfsf\", 4,5,6,7,7]}"
   ]
  },
  {
   "cell_type": "code",
   "execution_count": 118,
   "id": "1a439c9c",
   "metadata": {},
   "outputs": [
    {
     "ename": "NameError",
     "evalue": "name '_3' is not defined",
     "output_type": "error",
     "traceback": [
      "\u001b[1;31m---------------------------------------------------------------------------\u001b[0m",
      "\u001b[1;31mNameError\u001b[0m                                 Traceback (most recent call last)",
      "Input \u001b[1;32mIn [118]\u001b[0m, in \u001b[0;36m<cell line: 1>\u001b[1;34m()\u001b[0m\n\u001b[1;32m----> 1\u001b[0m d \u001b[38;5;241m=\u001b[39m {\u001b[43m_3\u001b[49m : [\u001b[38;5;124m\"\u001b[39m\u001b[38;5;124mdsaf\u001b[39m\u001b[38;5;124m\"\u001b[39m, \u001b[38;5;124m\"\u001b[39m\u001b[38;5;124mdfsf\u001b[39m\u001b[38;5;124m\"\u001b[39m, \u001b[38;5;241m4\u001b[39m,\u001b[38;5;241m5\u001b[39m,\u001b[38;5;241m6\u001b[39m,\u001b[38;5;241m7\u001b[39m,\u001b[38;5;241m7\u001b[39m]}\n",
      "\u001b[1;31mNameError\u001b[0m: name '_3' is not defined"
     ]
    }
   ],
   "source": [
    "d = {_3 : [\"dsaf\", \"dfsf\", 4,5,6,7,7]}"
   ]
  },
  {
   "cell_type": "code",
   "execution_count": 119,
   "id": "a1f30e8d",
   "metadata": {},
   "outputs": [
    {
     "ename": "SyntaxError",
     "evalue": "unexpected EOF while parsing (3987120711.py, line 1)",
     "output_type": "error",
     "traceback": [
      "\u001b[1;36m  Input \u001b[1;32mIn [119]\u001b[1;36m\u001b[0m\n\u001b[1;33m    d = {# : [\"dsaf\", \"dfsf\", 4,5,6,7,7]}\u001b[0m\n\u001b[1;37m                                         ^\u001b[0m\n\u001b[1;31mSyntaxError\u001b[0m\u001b[1;31m:\u001b[0m unexpected EOF while parsing\n"
     ]
    }
   ],
   "source": [
    "d = {# : [\"dsaf\", \"dfsf\", 4,5,6,7,7]}"
   ]
  },
  {
   "cell_type": "markdown",
   "id": "13d5497c",
   "metadata": {},
   "source": [
    "#### Special character keys are not going to work, but decimal number will going to work .4 means dot four means decimal four so it will going to work."
   ]
  },
  {
   "cell_type": "markdown",
   "id": "e0872526",
   "metadata": {},
   "source": [
    "#### Special character key will work if we pass in a string like \"!4\""
   ]
  },
  {
   "cell_type": "code",
   "execution_count": 120,
   "id": "925f1de1",
   "metadata": {},
   "outputs": [],
   "source": [
    "d = {.4 : [\"dsaf\", \"dfsf\", 4,5,6,7,7]}"
   ]
  },
  {
   "cell_type": "markdown",
   "id": "b8e3ad69",
   "metadata": {},
   "source": [
    "# We can store our values in list, tuples, set integer, string,"
   ]
  },
  {
   "cell_type": "markdown",
   "id": "b177dd4b",
   "metadata": {},
   "source": [
    "The difference between set and dictionary is both in curly brackets, but dictionary have a key and value."
   ]
  },
  {
   "cell_type": "markdown",
   "id": "f6672565",
   "metadata": {},
   "source": [
    "If we are not create a key & value pair, in that case that is not consider as a dictionary, that will consider as  a set."
   ]
  },
  {
   "cell_type": "code",
   "execution_count": 121,
   "id": "3edfe358",
   "metadata": {},
   "outputs": [],
   "source": [
    "d1 = {\"key1\" : [2,3,4,5], \"key2\" : \"sudh\", \"key1\" : 45}"
   ]
  },
  {
   "cell_type": "code",
   "execution_count": 122,
   "id": "3307f48d",
   "metadata": {},
   "outputs": [
    {
     "data": {
      "text/plain": [
       "{'key1': 45, 'key2': 'sudh'}"
      ]
     },
     "execution_count": 122,
     "metadata": {},
     "output_type": "execute_result"
    }
   ],
   "source": [
    "d1"
   ]
  },
  {
   "cell_type": "code",
   "execution_count": 123,
   "id": "21ebd37d",
   "metadata": {},
   "outputs": [
    {
     "data": {
      "text/plain": [
       "45"
      ]
     },
     "execution_count": 123,
     "metadata": {},
     "output_type": "execute_result"
    }
   ],
   "source": [
    "d1[\"key1\"]"
   ]
  },
  {
   "cell_type": "code",
   "execution_count": 124,
   "id": "8fc549fa",
   "metadata": {},
   "outputs": [],
   "source": [
    "d2 = {\"key1\" : [2,3,4,5], \"key2\" : \"sudh\", \"key3\" : \"sudh\"}"
   ]
  },
  {
   "cell_type": "code",
   "execution_count": 125,
   "id": "d467507f",
   "metadata": {},
   "outputs": [
    {
     "data": {
      "text/plain": [
       "{'key1': [2, 3, 4, 5], 'key2': 'sudh', 'key3': 'sudh'}"
      ]
     },
     "execution_count": 125,
     "metadata": {},
     "output_type": "execute_result"
    }
   ],
   "source": [
    "d2"
   ]
  },
  {
   "cell_type": "code",
   "execution_count": 126,
   "id": "50f5ac08",
   "metadata": {},
   "outputs": [],
   "source": [
    "d1 = {\"key1\" : [2,3,4,5], \"key2\" : \"sudh\", \"kumar\" : 45}"
   ]
  },
  {
   "cell_type": "code",
   "execution_count": 127,
   "id": "0054ab81",
   "metadata": {},
   "outputs": [
    {
     "data": {
      "text/plain": [
       "45"
      ]
     },
     "execution_count": 127,
     "metadata": {},
     "output_type": "execute_result"
    }
   ],
   "source": [
    "d1[\"kumar\"]"
   ]
  },
  {
   "cell_type": "markdown",
   "id": "393b0273",
   "metadata": {},
   "source": [
    "# Can we access key using values"
   ]
  },
  {
   "cell_type": "code",
   "execution_count": 128,
   "id": "cd9d534d",
   "metadata": {},
   "outputs": [],
   "source": [
    "d = {\"name\" : \"sudhanshu\", \"cell_no\" : 21561561656, \"mail_id\" : \"sudhanshu@xyz.com\", \"key1\":[4,5,6,7], \"key2\" : (3,4,5,6), \"key3\" : {3,4,5,6,5,5,5,5,5,7,7,7,7,77,7,77,7,7,77,7,77,7,7,7,7}, \"key4\" : {1:5, 4:6}}"
   ]
  },
  {
   "cell_type": "code",
   "execution_count": 129,
   "id": "6cf4a792",
   "metadata": {},
   "outputs": [
    {
     "data": {
      "text/plain": [
       "{'name': 'sudhanshu',\n",
       " 'cell_no': 21561561656,\n",
       " 'mail_id': 'sudhanshu@xyz.com',\n",
       " 'key1': [4, 5, 6, 7],\n",
       " 'key2': (3, 4, 5, 6),\n",
       " 'key3': {3, 4, 5, 6, 7, 77},\n",
       " 'key4': {1: 5, 4: 6}}"
      ]
     },
     "execution_count": 129,
     "metadata": {},
     "output_type": "execute_result"
    }
   ],
   "source": [
    "d"
   ]
  },
  {
   "cell_type": "code",
   "execution_count": 130,
   "id": "9d303270",
   "metadata": {},
   "outputs": [
    {
     "data": {
      "text/plain": [
       "{3, 4, 5, 6, 7, 77}"
      ]
     },
     "execution_count": 130,
     "metadata": {},
     "output_type": "execute_result"
    }
   ],
   "source": [
    "d[\"key3\"]"
   ]
  },
  {
   "cell_type": "code",
   "execution_count": 131,
   "id": "90b05009",
   "metadata": {},
   "outputs": [
    {
     "data": {
      "text/plain": [
       "set"
      ]
     },
     "execution_count": 131,
     "metadata": {},
     "output_type": "execute_result"
    }
   ],
   "source": [
    "type(d[\"key3\"])"
   ]
  },
  {
   "cell_type": "code",
   "execution_count": 132,
   "id": "2faac721",
   "metadata": {},
   "outputs": [
    {
     "data": {
      "text/plain": [
       "{1: 5, 4: 6}"
      ]
     },
     "execution_count": 132,
     "metadata": {},
     "output_type": "execute_result"
    }
   ],
   "source": [
    "d[\"key4\"]"
   ]
  },
  {
   "cell_type": "markdown",
   "id": "8f9cf5d8",
   "metadata": {},
   "source": [
    "# How to access that 6 in d of key4"
   ]
  },
  {
   "cell_type": "code",
   "execution_count": 133,
   "id": "5e39eee4",
   "metadata": {},
   "outputs": [
    {
     "data": {
      "text/plain": [
       "6"
      ]
     },
     "execution_count": 133,
     "metadata": {},
     "output_type": "execute_result"
    }
   ],
   "source": [
    "d[\"key4\"][4]"
   ]
  },
  {
   "cell_type": "code",
   "execution_count": 134,
   "id": "d1a1b1ce",
   "metadata": {},
   "outputs": [
    {
     "data": {
      "text/plain": [
       "dict_keys(['name', 'cell_no', 'mail_id', 'key1', 'key2', 'key3', 'key4'])"
      ]
     },
     "execution_count": 134,
     "metadata": {},
     "output_type": "execute_result"
    }
   ],
   "source": [
    "d.keys()"
   ]
  },
  {
   "cell_type": "code",
   "execution_count": 135,
   "id": "5ecd52af",
   "metadata": {},
   "outputs": [
    {
     "data": {
      "text/plain": [
       "dict_values(['sudhanshu', 21561561656, 'sudhanshu@xyz.com', [4, 5, 6, 7], (3, 4, 5, 6), {3, 4, 5, 6, 7, 77}, {1: 5, 4: 6}])"
      ]
     },
     "execution_count": 135,
     "metadata": {},
     "output_type": "execute_result"
    }
   ],
   "source": [
    "d.values()"
   ]
  },
  {
   "cell_type": "markdown",
   "id": "3a43f040",
   "metadata": {},
   "source": [
    "# d of items will return in a list of tuples"
   ]
  },
  {
   "cell_type": "code",
   "execution_count": 136,
   "id": "8f17d785",
   "metadata": {},
   "outputs": [
    {
     "data": {
      "text/plain": [
       "dict_items([('name', 'sudhanshu'), ('cell_no', 21561561656), ('mail_id', 'sudhanshu@xyz.com'), ('key1', [4, 5, 6, 7]), ('key2', (3, 4, 5, 6)), ('key3', {3, 4, 5, 6, 7, 77}), ('key4', {1: 5, 4: 6})])"
      ]
     },
     "execution_count": 136,
     "metadata": {},
     "output_type": "execute_result"
    }
   ],
   "source": [
    "d.items()"
   ]
  },
  {
   "cell_type": "code",
   "execution_count": 137,
   "id": "44b2133c",
   "metadata": {},
   "outputs": [
    {
     "data": {
      "text/plain": [
       "dict_items"
      ]
     },
     "execution_count": 137,
     "metadata": {},
     "output_type": "execute_result"
    }
   ],
   "source": [
    "type(d.items())"
   ]
  },
  {
   "cell_type": "markdown",
   "id": "a9c97d49",
   "metadata": {},
   "source": [
    "# How to add a new key"
   ]
  },
  {
   "cell_type": "markdown",
   "id": "0cd17105",
   "metadata": {},
   "source": [
    "#### & how to add a new values for existing keys"
   ]
  },
  {
   "cell_type": "code",
   "execution_count": 144,
   "id": "e2dcc9b9",
   "metadata": {},
   "outputs": [],
   "source": [
    "d = {\"key1\" : \"sudh\", \"key2\" : [1,2,3,4]}"
   ]
  },
  {
   "cell_type": "code",
   "execution_count": 147,
   "id": "1a6dde39",
   "metadata": {},
   "outputs": [],
   "source": [
    "d[\"key3\"] = \"kumar\""
   ]
  },
  {
   "cell_type": "code",
   "execution_count": 148,
   "id": "275c2f07",
   "metadata": {},
   "outputs": [
    {
     "data": {
      "text/plain": [
       "{'key1': 'sudh', 'key2': [1, 2, 3, 4], 'key3': 'kumar'}"
      ]
     },
     "execution_count": 148,
     "metadata": {},
     "output_type": "execute_result"
    }
   ],
   "source": [
    "d"
   ]
  },
  {
   "cell_type": "code",
   "execution_count": 151,
   "id": "d8e75aa1",
   "metadata": {},
   "outputs": [],
   "source": [
    "d[4] = [2,4,4,4,5,4]"
   ]
  },
  {
   "cell_type": "code",
   "execution_count": 152,
   "id": "79471fa7",
   "metadata": {},
   "outputs": [
    {
     "data": {
      "text/plain": [
       "{'key1': 'sudh',\n",
       " 'key2': [1, 2, 3, 4],\n",
       " 'key3': 'kumar',\n",
       " 'key4': 'sd',\n",
       " 4: [2, 4, 4, 4, 5, 4]}"
      ]
     },
     "execution_count": 152,
     "metadata": {},
     "output_type": "execute_result"
    }
   ],
   "source": [
    "d"
   ]
  },
  {
   "cell_type": "markdown",
   "id": "338b1bba",
   "metadata": {},
   "source": [
    "#### What if we use existing key value"
   ]
  },
  {
   "cell_type": "code",
   "execution_count": 153,
   "id": "8f31e7bb",
   "metadata": {},
   "outputs": [],
   "source": [
    "d[\"key1\"] = \"dfasdfsadsfasdfasdf\""
   ]
  },
  {
   "cell_type": "code",
   "execution_count": 154,
   "id": "8c9717bb",
   "metadata": {},
   "outputs": [
    {
     "data": {
      "text/plain": [
       "{'key1': 'dfasdfsadsfasdfasdf',\n",
       " 'key2': [1, 2, 3, 4],\n",
       " 'key3': 'kumar',\n",
       " 'key4': 'sd',\n",
       " 4: [2, 4, 4, 4, 5, 4]}"
      ]
     },
     "execution_count": 154,
     "metadata": {},
     "output_type": "execute_result"
    }
   ],
   "source": [
    "d"
   ]
  },
  {
   "cell_type": "markdown",
   "id": "47ddf1c9",
   "metadata": {},
   "source": [
    "#### How to change the name of the key"
   ]
  },
  {
   "cell_type": "markdown",
   "id": "b279206b",
   "metadata": {},
   "source": [
    "change the name of the key is not available, but we want to delete it."
   ]
  },
  {
   "cell_type": "code",
   "execution_count": 155,
   "id": "b91ca5ed",
   "metadata": {},
   "outputs": [],
   "source": [
    "del d[\"key1\"]"
   ]
  },
  {
   "cell_type": "code",
   "execution_count": 156,
   "id": "ff9fb2c2",
   "metadata": {},
   "outputs": [
    {
     "data": {
      "text/plain": [
       "{'key2': [1, 2, 3, 4], 'key3': 'kumar', 'key4': 'sd', 4: [2, 4, 4, 4, 5, 4]}"
      ]
     },
     "execution_count": 156,
     "metadata": {},
     "output_type": "execute_result"
    }
   ],
   "source": [
    "d"
   ]
  },
  {
   "cell_type": "markdown",
   "id": "fba98127",
   "metadata": {},
   "source": [
    "# how to delete the entire dictionary"
   ]
  },
  {
   "cell_type": "code",
   "execution_count": 157,
   "id": "fc169fb5",
   "metadata": {},
   "outputs": [
    {
     "data": {
      "text/plain": [
       "{'key2': [1, 2, 3, 4], 'key3': 'kumar', 'key4': 'sd', 4: [2, 4, 4, 4, 5, 4]}"
      ]
     },
     "execution_count": 157,
     "metadata": {},
     "output_type": "execute_result"
    }
   ],
   "source": [
    "d"
   ]
  },
  {
   "cell_type": "code",
   "execution_count": 158,
   "id": "5684b857",
   "metadata": {},
   "outputs": [],
   "source": [
    "del d"
   ]
  },
  {
   "cell_type": "code",
   "execution_count": 159,
   "id": "20c34367",
   "metadata": {},
   "outputs": [
    {
     "ename": "NameError",
     "evalue": "name 'd' is not defined",
     "output_type": "error",
     "traceback": [
      "\u001b[1;31m---------------------------------------------------------------------------\u001b[0m",
      "\u001b[1;31mNameError\u001b[0m                                 Traceback (most recent call last)",
      "Input \u001b[1;32mIn [159]\u001b[0m, in \u001b[0;36m<cell line: 1>\u001b[1;34m()\u001b[0m\n\u001b[1;32m----> 1\u001b[0m \u001b[43md\u001b[49m\n",
      "\u001b[1;31mNameError\u001b[0m: name 'd' is not defined"
     ]
    }
   ],
   "source": [
    "d"
   ]
  },
  {
   "cell_type": "code",
   "execution_count": 160,
   "id": "80441e7b",
   "metadata": {},
   "outputs": [],
   "source": [
    "d1 = {\"key1\" : \"sudh\", \"key2\" : [4,5,6,7,8]}"
   ]
  },
  {
   "cell_type": "markdown",
   "id": "d3343f6c",
   "metadata": {},
   "source": [
    "#### create a the new key name as a list"
   ]
  },
  {
   "cell_type": "markdown",
   "id": "36260ee5",
   "metadata": {},
   "source": [
    "Key as a list is not going to work"
   ]
  },
  {
   "cell_type": "code",
   "execution_count": 162,
   "id": "4c96d52a",
   "metadata": {},
   "outputs": [
    {
     "ename": "TypeError",
     "evalue": "unhashable type: 'list'",
     "output_type": "error",
     "traceback": [
      "\u001b[1;31m---------------------------------------------------------------------------\u001b[0m",
      "\u001b[1;31mTypeError\u001b[0m                                 Traceback (most recent call last)",
      "Input \u001b[1;32mIn [162]\u001b[0m, in \u001b[0;36m<cell line: 1>\u001b[1;34m()\u001b[0m\n\u001b[1;32m----> 1\u001b[0m d1[[\u001b[38;5;241m1\u001b[39m,\u001b[38;5;241m2\u001b[39m,\u001b[38;5;241m3\u001b[39m,\u001b[38;5;241m4\u001b[39m]] \u001b[38;5;241m=\u001b[39m \u001b[38;5;124m\"\u001b[39m\u001b[38;5;124msudh\u001b[39m\u001b[38;5;124m\"\u001b[39m\n",
      "\u001b[1;31mTypeError\u001b[0m: unhashable type: 'list'"
     ]
    }
   ],
   "source": [
    "d1[[1,2,3,4]] = \"sudh\""
   ]
  },
  {
   "cell_type": "markdown",
   "id": "577d9a96",
   "metadata": {},
   "source": [
    "#### create a new key name as a tuples"
   ]
  },
  {
   "cell_type": "markdown",
   "id": "afc7f5bf",
   "metadata": {},
   "source": [
    "Key as a tuples is going to work"
   ]
  },
  {
   "cell_type": "code",
   "execution_count": 163,
   "id": "496a7846",
   "metadata": {},
   "outputs": [],
   "source": [
    "d1[(1,2,3,0)] = \"sudh\""
   ]
  },
  {
   "cell_type": "code",
   "execution_count": 164,
   "id": "907521e3",
   "metadata": {},
   "outputs": [
    {
     "data": {
      "text/plain": [
       "{'key1': 'sudh', 'key2': [4, 5, 6, 7, 8], (1, 2, 3, 0): 'sudh'}"
      ]
     },
     "execution_count": 164,
     "metadata": {},
     "output_type": "execute_result"
    }
   ],
   "source": [
    "d1"
   ]
  },
  {
   "cell_type": "markdown",
   "id": "546c92f9",
   "metadata": {},
   "source": [
    "# Get"
   ]
  },
  {
   "cell_type": "code",
   "execution_count": 166,
   "id": "16632a6c",
   "metadata": {},
   "outputs": [],
   "source": [
    "d1.get(\"fsd\") #ipdi oru key name illa so run mattum aagi irukku"
   ]
  },
  {
   "cell_type": "code",
   "execution_count": 167,
   "id": "9c255c5d",
   "metadata": {},
   "outputs": [
    {
     "data": {
      "text/plain": [
       "'sudh'"
      ]
     },
     "execution_count": 167,
     "metadata": {},
     "output_type": "execute_result"
    }
   ],
   "source": [
    "d1.get(\"key1\")"
   ]
  },
  {
   "cell_type": "markdown",
   "id": "22062caa",
   "metadata": {},
   "source": [
    "# Update"
   ]
  },
  {
   "cell_type": "code",
   "execution_count": 168,
   "id": "4f4362aa",
   "metadata": {},
   "outputs": [],
   "source": [
    "d1 = {\"key1\" : \"ineuron\", \"key2\" : \"fsds\"}"
   ]
  },
  {
   "cell_type": "code",
   "execution_count": 169,
   "id": "9b268a19",
   "metadata": {},
   "outputs": [],
   "source": [
    "d2 = {\"key3\" : 456, \"key4\" : [1,2,3,4,5]}"
   ]
  },
  {
   "cell_type": "code",
   "execution_count": 170,
   "id": "adcf6bd7",
   "metadata": {},
   "outputs": [],
   "source": [
    "d1.update(d2)"
   ]
  },
  {
   "cell_type": "code",
   "execution_count": 171,
   "id": "bd43314a",
   "metadata": {},
   "outputs": [
    {
     "data": {
      "text/plain": [
       "{'key1': 'ineuron', 'key2': 'fsds', 'key3': 456, 'key4': [1, 2, 3, 4, 5]}"
      ]
     },
     "execution_count": 171,
     "metadata": {},
     "output_type": "execute_result"
    }
   ],
   "source": [
    "d1"
   ]
  },
  {
   "cell_type": "code",
   "execution_count": 172,
   "id": "af0cfa5d",
   "metadata": {},
   "outputs": [],
   "source": [
    "d2.update(d1)"
   ]
  },
  {
   "cell_type": "code",
   "execution_count": 173,
   "id": "a714b09f",
   "metadata": {},
   "outputs": [
    {
     "data": {
      "text/plain": [
       "{'key3': 456, 'key4': [1, 2, 3, 4, 5], 'key1': 'ineuron', 'key2': 'fsds'}"
      ]
     },
     "execution_count": 173,
     "metadata": {},
     "output_type": "execute_result"
    }
   ],
   "source": [
    "d2"
   ]
  },
  {
   "cell_type": "code",
   "execution_count": 174,
   "id": "005fe5dc",
   "metadata": {},
   "outputs": [
    {
     "ename": "TypeError",
     "evalue": "unsupported operand type(s) for +: 'dict' and 'dict'",
     "output_type": "error",
     "traceback": [
      "\u001b[1;31m---------------------------------------------------------------------------\u001b[0m",
      "\u001b[1;31mTypeError\u001b[0m                                 Traceback (most recent call last)",
      "Input \u001b[1;32mIn [174]\u001b[0m, in \u001b[0;36m<cell line: 1>\u001b[1;34m()\u001b[0m\n\u001b[1;32m----> 1\u001b[0m \u001b[43md1\u001b[49m\u001b[43m \u001b[49m\u001b[38;5;241;43m+\u001b[39;49m\u001b[43m \u001b[49m\u001b[43md2\u001b[49m\n",
      "\u001b[1;31mTypeError\u001b[0m: unsupported operand type(s) for +: 'dict' and 'dict'"
     ]
    }
   ],
   "source": [
    "d1 + d2"
   ]
  },
  {
   "cell_type": "markdown",
   "id": "912146eb",
   "metadata": {},
   "source": [
    "#### What is the difference between d1[\"key1\"] & d1.get(\"key1\")"
   ]
  },
  {
   "cell_type": "code",
   "execution_count": 175,
   "id": "ba8a4b20",
   "metadata": {},
   "outputs": [
    {
     "data": {
      "text/plain": [
       "'ineuron'"
      ]
     },
     "execution_count": 175,
     "metadata": {},
     "output_type": "execute_result"
    }
   ],
   "source": [
    "d1[\"key1\"]"
   ]
  },
  {
   "cell_type": "code",
   "execution_count": 176,
   "id": "ec3c3bbf",
   "metadata": {},
   "outputs": [
    {
     "data": {
      "text/plain": [
       "'ineuron'"
      ]
     },
     "execution_count": 176,
     "metadata": {},
     "output_type": "execute_result"
    }
   ],
   "source": [
    "d1.get(\"key1\")"
   ]
  },
  {
   "cell_type": "markdown",
   "id": "cc37bebe",
   "metadata": {},
   "source": [
    "Here, we got a same output, but d1 la wrong ah key name pota error varum, but get la wrong ah key name pota run aagum but oru answer um varadhu"
   ]
  },
  {
   "cell_type": "markdown",
   "id": "f6bde893",
   "metadata": {},
   "source": [
    "# From keys"
   ]
  },
  {
   "cell_type": "markdown",
   "id": "c931bfd5",
   "metadata": {},
   "source": [
    "What from keys will do is if I want to create a complete dictionary, multiple keys and multiple values we can use fromkeys."
   ]
  },
  {
   "cell_type": "code",
   "execution_count": 178,
   "id": "861dbfb9",
   "metadata": {},
   "outputs": [],
   "source": [
    "d1 = {'key1': 'ineuron', 'key2': 'fsds'}"
   ]
  },
  {
   "cell_type": "code",
   "execution_count": 179,
   "id": "bddae71e",
   "metadata": {},
   "outputs": [],
   "source": [
    "key = (\"name\", \"mobile_no\", \"email_id\")\n",
    "value = \"sudh\""
   ]
  },
  {
   "cell_type": "code",
   "execution_count": 180,
   "id": "f2e5d2fd",
   "metadata": {},
   "outputs": [],
   "source": [
    "d = d1.fromkeys(key, value)"
   ]
  },
  {
   "cell_type": "code",
   "execution_count": 181,
   "id": "2aaee46f",
   "metadata": {},
   "outputs": [
    {
     "data": {
      "text/plain": [
       "{'name': 'sudh', 'mobile_no': 'sudh', 'email_id': 'sudh'}"
      ]
     },
     "execution_count": 181,
     "metadata": {},
     "output_type": "execute_result"
    }
   ],
   "source": [
    "d"
   ]
  },
  {
   "cell_type": "markdown",
   "id": "7f68dd19",
   "metadata": {},
   "source": [
    "# Index"
   ]
  },
  {
   "cell_type": "markdown",
   "id": "b1bb5050",
   "metadata": {},
   "source": [
    "Many members asked this question"
   ]
  },
  {
   "cell_type": "code",
   "execution_count": 182,
   "id": "ea4914a8",
   "metadata": {},
   "outputs": [
    {
     "data": {
      "text/plain": [
       "0"
      ]
     },
     "execution_count": 182,
     "metadata": {},
     "output_type": "execute_result"
    }
   ],
   "source": [
    "t1 = (1,2,3,4,\"fsds\", True)\n",
    "\n",
    "t1.index(True)"
   ]
  },
  {
   "cell_type": "markdown",
   "id": "8619a22a",
   "metadata": {},
   "source": [
    "Answer 0 vandhu irukku adhukku reason vandhu True na 1, so index of 1 vandhu 0 place la irukky, adhunaala dhan 0 nu answer vandhu irukku."
   ]
  },
  {
   "cell_type": "code",
   "execution_count": null,
   "id": "17b4367f",
   "metadata": {},
   "outputs": [],
   "source": []
  }
 ],
 "metadata": {
  "kernelspec": {
   "display_name": "Python 3 (ipykernel)",
   "language": "python",
   "name": "python3"
  },
  "language_info": {
   "codemirror_mode": {
    "name": "ipython",
    "version": 3
   },
   "file_extension": ".py",
   "mimetype": "text/x-python",
   "name": "python",
   "nbconvert_exporter": "python",
   "pygments_lexer": "ipython3",
   "version": "3.9.12"
  }
 },
 "nbformat": 4,
 "nbformat_minor": 5
}
