{
 "cells": [
  {
   "cell_type": "markdown",
   "id": "925e9605",
   "metadata": {},
   "source": [
    "# If Else Statement"
   ]
  },
  {
   "cell_type": "code",
   "execution_count": 1,
   "id": "9b2bff45",
   "metadata": {},
   "outputs": [],
   "source": [
    "a = 10"
   ]
  },
  {
   "cell_type": "markdown",
   "id": "63c1912b",
   "metadata": {},
   "source": [
    "if a is equal to 10, only in that case try to perform something."
   ]
  },
  {
   "cell_type": "code",
   "execution_count": 4,
   "id": "da89e671",
   "metadata": {},
   "outputs": [
    {
     "data": {
      "text/plain": [
       "True"
      ]
     },
     "execution_count": 4,
     "metadata": {},
     "output_type": "execute_result"
    }
   ],
   "source": [
    "a < 15"
   ]
  },
  {
   "cell_type": "markdown",
   "id": "b878d6aa",
   "metadata": {},
   "source": [
    "if it is going to return me true in that case whatever im writing inside the print statement that will executed."
   ]
  },
  {
   "cell_type": "markdown",
   "id": "055e67bf",
   "metadata": {},
   "source": [
    "If it is going to be a false it will not execute whatever we are write inside the print statement."
   ]
  },
  {
   "cell_type": "code",
   "execution_count": 9,
   "id": "98b78ad6",
   "metadata": {},
   "outputs": [
    {
     "name": "stdout",
     "output_type": "stream",
     "text": [
      "a is less than 15\n"
     ]
    }
   ],
   "source": [
    "if a < 15:\n",
    "    print(\"a is less than 15\")"
   ]
  },
  {
   "cell_type": "code",
   "execution_count": 11,
   "id": "87d0d62b",
   "metadata": {},
   "outputs": [
    {
     "name": "stdout",
     "output_type": "stream",
     "text": [
      "my name is sudhanshu\n"
     ]
    }
   ],
   "source": [
    "if a < 15:\n",
    "    print(\"my name is sudhanshu\")"
   ]
  },
  {
   "cell_type": "markdown",
   "id": "9b130f93",
   "metadata": {},
   "source": [
    "if we not write colon in if condition line, it will give syntax error."
   ]
  },
  {
   "cell_type": "code",
   "execution_count": 12,
   "id": "186066c8",
   "metadata": {},
   "outputs": [
    {
     "ename": "SyntaxError",
     "evalue": "invalid syntax (2526725337.py, line 1)",
     "output_type": "error",
     "traceback": [
      "\u001b[1;36m  Input \u001b[1;32mIn [12]\u001b[1;36m\u001b[0m\n\u001b[1;33m    if a < 15\u001b[0m\n\u001b[1;37m             ^\u001b[0m\n\u001b[1;31mSyntaxError\u001b[0m\u001b[1;31m:\u001b[0m invalid syntax\n"
     ]
    }
   ],
   "source": [
    "if a < 15\n",
    "    print(\"my name is sudhanshu\")"
   ]
  },
  {
   "cell_type": "code",
   "execution_count": 13,
   "id": "787a261d",
   "metadata": {},
   "outputs": [
    {
     "ename": "IndentationError",
     "evalue": "expected an indented block (4019363808.py, line 1)",
     "output_type": "error",
     "traceback": [
      "\u001b[1;36m  Input \u001b[1;32mIn [13]\u001b[1;36m\u001b[0m\n\u001b[1;33m    if a < 15:\u001b[0m\n\u001b[1;37m              ^\u001b[0m\n\u001b[1;31mIndentationError\u001b[0m\u001b[1;31m:\u001b[0m expected an indented block\n"
     ]
    }
   ],
   "source": [
    "if a < 15: #it will show error because this condition is true but we did not give any execution statement."
   ]
  },
  {
   "cell_type": "markdown",
   "id": "b43e9404",
   "metadata": {},
   "source": [
    "# what if i dont want to do anything even condition is true?"
   ]
  },
  {
   "cell_type": "code",
   "execution_count": 14,
   "id": "049b467f",
   "metadata": {},
   "outputs": [],
   "source": [
    "if a < 15:\n",
    "    pass"
   ]
  },
  {
   "cell_type": "code",
   "execution_count": 15,
   "id": "cb5068af",
   "metadata": {},
   "outputs": [],
   "source": [
    "if a > 20:\n",
    "    pass"
   ]
  },
  {
   "cell_type": "code",
   "execution_count": 17,
   "id": "27eadda6",
   "metadata": {},
   "outputs": [
    {
     "data": {
      "text/plain": [
       "False"
      ]
     },
     "execution_count": 17,
     "metadata": {},
     "output_type": "execute_result"
    }
   ],
   "source": [
    "24 < 15"
   ]
  },
  {
   "cell_type": "code",
   "execution_count": 16,
   "id": "53fcc4ec",
   "metadata": {},
   "outputs": [],
   "source": [
    "if 24 < 15:\n",
    "    print(\"my name is sudh\")"
   ]
  },
  {
   "cell_type": "code",
   "execution_count": 18,
   "id": "1bed1db4",
   "metadata": {},
   "outputs": [
    {
     "name": "stdout",
     "output_type": "stream",
     "text": [
      "if statement is wrong\n"
     ]
    }
   ],
   "source": [
    "if 10 < 3:\n",
    "    print(\"10 is lesser than 3\")\n",
    "    \n",
    "else:\n",
    "    print(\"if statement is wrong\")"
   ]
  },
  {
   "cell_type": "code",
   "execution_count": 20,
   "id": "cef4e240",
   "metadata": {},
   "outputs": [
    {
     "name": "stdout",
     "output_type": "stream",
     "text": [
      "5 is lesser than 10\n"
     ]
    }
   ],
   "source": [
    "if 5 < 10:\n",
    "    print(\"5 is lesser than 10\")\n",
    "    \n",
    "else:\n",
    "    print(\"if statement is wrong\") "
   ]
  },
  {
   "cell_type": "markdown",
   "id": "5df9036f",
   "metadata": {},
   "source": [
    "indentation is important"
   ]
  },
  {
   "cell_type": "code",
   "execution_count": 21,
   "id": "724c1fe9",
   "metadata": {},
   "outputs": [
    {
     "ename": "IndentationError",
     "evalue": "expected an indented block (3370069194.py, line 2)",
     "output_type": "error",
     "traceback": [
      "\u001b[1;36m  Input \u001b[1;32mIn [21]\u001b[1;36m\u001b[0m\n\u001b[1;33m    print(\"5 is lesser than 10\")\u001b[0m\n\u001b[1;37m    ^\u001b[0m\n\u001b[1;31mIndentationError\u001b[0m\u001b[1;31m:\u001b[0m expected an indented block\n"
     ]
    }
   ],
   "source": [
    "if 5 < 10:\n",
    "print(\"5 is lesser than 10\")\n",
    "    \n",
    "else:\n",
    "print(\"if statement is wrong\")"
   ]
  },
  {
   "cell_type": "markdown",
   "id": "d95ba88f",
   "metadata": {},
   "source": [
    "# Question"
   ]
  },
  {
   "cell_type": "markdown",
   "id": "d623b223",
   "metadata": {},
   "source": [
    "#### Write a code based on my income for my purchasing capability."
   ]
  },
  {
   "cell_type": "code",
   "execution_count": 22,
   "id": "7511321c",
   "metadata": {},
   "outputs": [
    {
     "name": "stdout",
     "output_type": "stream",
     "text": [
      "I wont be able to buy anything\n"
     ]
    }
   ],
   "source": [
    "income = 100\n",
    "\n",
    "if income < 50:\n",
    "    print(\"I will be able to buy phone\")\n",
    "elif income < 70:\n",
    "    print(\"I will be able to buy car\")\n",
    "elif income < 90:\n",
    "    print(\"I will be able to buy a house\")\n",
    "else:\n",
    "    print(\"I wont be able to buy anything\")"
   ]
  },
  {
   "cell_type": "markdown",
   "id": "00f9aef0",
   "metadata": {},
   "source": [
    "#### try this code in user input"
   ]
  },
  {
   "cell_type": "code",
   "execution_count": 23,
   "id": "5c17464d",
   "metadata": {},
   "outputs": [
    {
     "name": "stdout",
     "output_type": "stream",
     "text": [
      "Enter income : 10\n",
      "I will be able to buy phone\n"
     ]
    }
   ],
   "source": [
    "income = int(input(\"Enter income : \"))\n",
    "\n",
    "if income < 50:\n",
    "    print(\"I will be able to buy phone\")\n",
    "elif income < 70:\n",
    "    print(\"I will be able to buy car\")\n",
    "elif income < 90:\n",
    "    print(\"I will be able to buy a house\")\n",
    "else:\n",
    "    print(\"I wont be able to buy anything\")"
   ]
  },
  {
   "cell_type": "markdown",
   "id": "c56da305",
   "metadata": {},
   "source": [
    "# Question"
   ]
  },
  {
   "cell_type": "markdown",
   "id": "dfad5d21",
   "metadata": {},
   "source": [
    "Sell a one neuron course with a discount."
   ]
  },
  {
   "cell_type": "code",
   "execution_count": 27,
   "id": "212a63e5",
   "metadata": {},
   "outputs": [
    {
     "name": "stdout",
     "output_type": "stream",
     "text": [
      "7000\n",
      "Discount will be  350.0\n"
     ]
    }
   ],
   "source": [
    "total_price = int(input())\n",
    "\n",
    "if total_price > 20000:\n",
    "    discount = total_price * 0.20\n",
    "    print(\"Discount will be \", discount)\n",
    "    \n",
    "elif total_price <= 7000:\n",
    "    discount = total_price * 0.05\n",
    "    print(\"Discount will be \", discount)\n",
    "    \n",
    "else:\n",
    "    print(\"Wont able to give any discount\")"
   ]
  },
  {
   "cell_type": "code",
   "execution_count": 28,
   "id": "199d0111",
   "metadata": {},
   "outputs": [
    {
     "name": "stdout",
     "output_type": "stream",
     "text": [
      "5894\n",
      "Discount will be  294.7\n"
     ]
    }
   ],
   "source": [
    "total_price = int(input())\n",
    "\n",
    "if total_price > 20000:\n",
    "    discount = total_price * 0.20\n",
    "    print(\"Discount will be \", discount)\n",
    "    \n",
    "elif total_price <= 7000:\n",
    "    discount = total_price * 0.05\n",
    "    print(\"Discount will be \", discount)\n",
    "    \n",
    "else:\n",
    "    print(\"Wont able to give any discount\")"
   ]
  },
  {
   "cell_type": "code",
   "execution_count": 29,
   "id": "268f38f4",
   "metadata": {},
   "outputs": [
    {
     "name": "stdout",
     "output_type": "stream",
     "text": [
      "352\n",
      "Discount will be  17.6\n"
     ]
    }
   ],
   "source": [
    "total_price = int(input())\n",
    "\n",
    "if total_price > 20000:\n",
    "    discount = total_price * 0.20\n",
    "    print(\"Discount will be \", discount)\n",
    "    \n",
    "elif total_price <= 7000:\n",
    "    discount = total_price * 0.05\n",
    "    print(\"Discount will be \", discount)\n",
    "    \n",
    "else:\n",
    "    print(\"Wont able to give any discount\")"
   ]
  },
  {
   "cell_type": "code",
   "execution_count": 30,
   "id": "97acffdc",
   "metadata": {},
   "outputs": [
    {
     "name": "stdout",
     "output_type": "stream",
     "text": [
      "4565\n",
      "Discount will be  228.25\n"
     ]
    }
   ],
   "source": [
    "total_price = int(input())\n",
    "\n",
    "if total_price > 20000:\n",
    "    discount = total_price * 0.20\n",
    "    print(\"Discount will be \", discount)\n",
    "    \n",
    "elif total_price <= 7000:\n",
    "    discount = total_price * 0.05\n",
    "    print(\"Discount will be \", discount)\n",
    "    \n",
    "else:\n",
    "    print(\"Wont able to give any discount\")"
   ]
  },
  {
   "cell_type": "markdown",
   "id": "ff09e23f",
   "metadata": {},
   "source": [
    "# Question"
   ]
  },
  {
   "cell_type": "markdown",
   "id": "aadf2edc",
   "metadata": {},
   "source": [
    "#### Coupon Code"
   ]
  },
  {
   "cell_type": "code",
   "execution_count": 33,
   "id": "782f5b37",
   "metadata": {},
   "outputs": [
    {
     "name": "stdout",
     "output_type": "stream",
     "text": [
      "Enter course nameData Analysis\n",
      "Enter coupon : Krish10\n",
      "discount is 10000.0\n",
      "Get this course free\n"
     ]
    }
   ],
   "source": [
    "course_name = input(\"Enter course name\")\n",
    "coupon_code = input(\"Enter coupon : \")\n",
    "\n",
    "course_amount = 10000\n",
    "if course_name == \"Data Analysis\" and coupon_code == \"Krish10\":\n",
    "    discount = course_amount * 1.0\n",
    "    print(\"discount is\", discount)\n",
    "    print(\"Get this course free\")\n",
    "    \n",
    "elif course_name == \"Data Science\" and coupon_code == \"Krish10\":\n",
    "    discount = course_amount * 0.50\n",
    "    print(\"discount is\", discount)\n",
    "    print(\"Get this course 50 percent offer\")"
   ]
  },
  {
   "cell_type": "code",
   "execution_count": 34,
   "id": "c2a2b76b",
   "metadata": {},
   "outputs": [
    {
     "name": "stdout",
     "output_type": "stream",
     "text": [
      "Enter course nameData Science\n",
      "Enter coupon : Krish10\n",
      "discount is 5000.0\n",
      "Get this course 50 percent offer\n"
     ]
    }
   ],
   "source": [
    "course_name = input(\"Enter course name\")\n",
    "coupon_code = input(\"Enter coupon : \")\n",
    "\n",
    "course_amount = 10000\n",
    "if course_name == \"Data Analysis\" and coupon_code == \"Krish10\":\n",
    "    discount = course_amount * 1.0\n",
    "    print(\"discount is\", discount)\n",
    "    print(\"Get this course free\")\n",
    "    \n",
    "elif course_name == \"Data Science\" and coupon_code == \"Krish10\":\n",
    "    discount = course_amount * 0.50\n",
    "    print(\"discount is\", discount)\n",
    "    print(\"Get this course 50 percent offer\")"
   ]
  },
  {
   "cell_type": "code",
   "execution_count": 35,
   "id": "658c6338",
   "metadata": {},
   "outputs": [
    {
     "data": {
      "text/plain": [
       "True"
      ]
     },
     "execution_count": 35,
     "metadata": {},
     "output_type": "execute_result"
    }
   ],
   "source": [
    "\"sudh\" == \"sudh\""
   ]
  },
  {
   "cell_type": "code",
   "execution_count": 37,
   "id": "080c2b6c",
   "metadata": {},
   "outputs": [
    {
     "name": "stdout",
     "output_type": "stream",
     "text": [
      "You will be able to get a discount of 5%\n",
      "You will able to get a one neuron course with this amount 9500.0\n"
     ]
    }
   ],
   "source": [
    "Coup = \"SUDHANSHU5\"\n",
    "\n",
    "if Coup == \"SUDHANSHU5\":\n",
    "    print(\"You will be able to get a discount of 5%\")\n",
    "    paid_amount = 10000 - 10000 * 0.05\n",
    "    print(\"You will able to get a one neuron course with this amount\", paid_amount)"
   ]
  },
  {
   "cell_type": "code",
   "execution_count": 38,
   "id": "e1077578",
   "metadata": {},
   "outputs": [
    {
     "name": "stdout",
     "output_type": "stream",
     "text": [
      "You will be able to get a discount of 5%\n",
      "You will able to get a one neuron course with this amount 9500.0\n"
     ]
    }
   ],
   "source": [
    "Coup = \"SUDHANSHU5\"\n",
    "\n",
    "if Coup == \"SUDHANSHU5\":\n",
    "    print(\"You will be able to get a discount of 5%\")\n",
    "    paid_amount = 10000 - 10000 * 0.05\n",
    "    print(\"You will able to get a one neuron course with this amount\", paid_amount)\n",
    "    \n",
    "else:\n",
    "    print(\"Kindly please enter a valid coupon code\")"
   ]
  },
  {
   "cell_type": "code",
   "execution_count": 40,
   "id": "9d22245b",
   "metadata": {},
   "outputs": [
    {
     "name": "stdout",
     "output_type": "stream",
     "text": [
      "Enter coupon code : sant\n",
      "sant\n",
      "Kindly please enter a valid coupon code\n"
     ]
    }
   ],
   "source": [
    "Coup = input(\"Enter coupon code : \")\n",
    "\n",
    "print(Coup)\n",
    "if Coup == \"SUDHANSHU5\":\n",
    "    print(\"You will be able to get a discount of 5%\")\n",
    "    paid_amount = 10000 - 10000 * 0.05\n",
    "    print(\"You will able to get a one neuron course with this amount\", paid_amount)\n",
    "    \n",
    "else:\n",
    "    print(\"Kindly please enter a valid coupon code\")"
   ]
  },
  {
   "cell_type": "markdown",
   "id": "6685db7b",
   "metadata": {},
   "source": [
    "# Question"
   ]
  },
  {
   "cell_type": "markdown",
   "id": "c18c86ef",
   "metadata": {},
   "source": [
    "#### Plan my study"
   ]
  },
  {
   "cell_type": "code",
   "execution_count": 55,
   "id": "8739ca78",
   "metadata": {},
   "outputs": [
    {
     "name": "stdout",
     "output_type": "stream",
     "text": [
      "Enter study hour : 16\n",
      "it may take 3 month for transition\n"
     ]
    }
   ],
   "source": [
    "study_hour = int(input(\"Enter study hour : \"))\n",
    "\n",
    "if study_hour < 1:\n",
    "    print(\"it may take 8-9 month of time to make a transition\")\n",
    "    \n",
    "elif study_hour > 1 and study_hour <= 4:\n",
    "    print(\"it may take 6 month for transition\")\n",
    "    \n",
    "elif study_hour >= 10 and study_hour <= 16:\n",
    "    print(\"it may take 3 month for transition\")\n",
    "    \n",
    "elif study_hour > 16:\n",
    "    print(\"It will be difficult for your mental health\")"
   ]
  },
  {
   "cell_type": "code",
   "execution_count": 59,
   "id": "bffe3acb",
   "metadata": {},
   "outputs": [
    {
     "name": "stdout",
     "output_type": "stream",
     "text": [
      "Enter study hour : 16\n",
      "It will be difficult for your mental health\n"
     ]
    }
   ],
   "source": [
    "study_hour = int(input(\"Enter study hour : \"))\n",
    "\n",
    "if study_hour < 1:\n",
    "    print(\"it may take 8-9 month of time to make a transition\")\n",
    "    \n",
    "elif study_hour > 1 and study_hour <= 4:\n",
    "    print(\"it may take 6 month for transition\")\n",
    "    \n",
    "elif study_hour >= 10 and study_hour < 16:\n",
    "    print(\"it may take 3 month for transition\")\n",
    "    \n",
    "elif study_hour >= 16:\n",
    "    print(\"It will be difficult for your mental health\")"
   ]
  },
  {
   "cell_type": "code",
   "execution_count": 60,
   "id": "9ed1ddaf",
   "metadata": {},
   "outputs": [
    {
     "name": "stdout",
     "output_type": "stream",
     "text": [
      "valid\n"
     ]
    }
   ],
   "source": [
    "#not write a code in a single line\n",
    "\n",
    "a = 9\n",
    "\n",
    "if a == 9: print(\"valid\")"
   ]
  },
  {
   "cell_type": "markdown",
   "id": "cc471409",
   "metadata": {},
   "source": [
    "# DOUBT"
   ]
  },
  {
   "cell_type": "markdown",
   "id": "6ccecb97",
   "metadata": {},
   "source": [
    "# Lets try to understand if inside if, elif inside if and so on."
   ]
  },
  {
   "cell_type": "markdown",
   "id": "f0d55eb8",
   "metadata": {},
   "source": [
    "We do not have a switch statement in python like c and c++."
   ]
  },
  {
   "cell_type": "code",
   "execution_count": 71,
   "id": "1c8c79f8",
   "metadata": {},
   "outputs": [
    {
     "name": "stdout",
     "output_type": "stream",
     "text": [
      "Enter a string to start : oneneuron\n",
      "Enter a course name : asdf\n",
      "Enter a service name : doubt\n",
      "this course is not available kindly raise your demand\n"
     ]
    }
   ],
   "source": [
    "s = input(\"Enter a string to start : \")\n",
    "course = input(\"Enter a course name : \")\n",
    "service = input(\"Enter a service name : \")\n",
    "\n",
    "if s == \"oneneuron\":\n",
    "    if course == \"DSA\":\n",
    "        print(\"yes its available under one neuron and in multiple mode for job preparation and core concept\")\n",
    "    \n",
    "    elif course == \"Blockchain\":\n",
    "        print(\"this is not available as of now, kindly raise your demand and we will fulfill in 60 days\")\n",
    "\n",
    "    elif course ==\"FSDS\":\n",
    "        print(\"yes its available, you can start learning\")\n",
    "        \n",
    "    else:\n",
    "        print(\"this course is not available kindly raise your demand\")\n",
    "        \n",
    "elif s == \"oneneuronservice\":\n",
    "    if service == \"coursequest\":\n",
    "        print(\"NOTE : Dear Learner, you can raise your demand related to any of this course.....\")\n",
    "    elif service == \"module\":\n",
    "        print(\"NOTE :Dear Learner, you can raise your demand related to any of this module\")\n",
    "    elif service == \"doubt\":\n",
    "        print(\"NOTE :Dear Learner, you can raise your demand related to any of this doubt\")\n",
    "    elif service == \"workwithus\":\n",
    "        print(\"You can work with us, HR will contact you soon\")\n",
    "else:\n",
    "    print(\"kindly connect with our team\")"
   ]
  },
  {
   "cell_type": "markdown",
   "id": "58897d55",
   "metadata": {},
   "source": [
    "# Single equal to = means assign\n",
    "\n",
    "# Double equal to == means compare"
   ]
  },
  {
   "cell_type": "markdown",
   "id": "9ca6e843",
   "metadata": {},
   "source": [
    "# Lets try to learn & understand\n",
    "\n",
    "another thing called as while loop, for loop, nested while loop, break statement, continue statement"
   ]
  },
  {
   "cell_type": "markdown",
   "id": "a97de641",
   "metadata": {},
   "source": [
    "# While statement"
   ]
  },
  {
   "cell_type": "markdown",
   "id": "1804035e",
   "metadata": {},
   "source": [
    "Before see while loop we can see for loop"
   ]
  },
  {
   "cell_type": "markdown",
   "id": "9fd05ee3",
   "metadata": {},
   "source": [
    "# For Loop"
   ]
  },
  {
   "cell_type": "markdown",
   "id": "319a9087",
   "metadata": {},
   "source": [
    "one by one I can access something in some of the collections, in some of the variables, using for loop . "
   ]
  },
  {
   "cell_type": "code",
   "execution_count": 72,
   "id": "3c6b3645",
   "metadata": {},
   "outputs": [],
   "source": [
    "l = [1,2,3,4,5,6,7]"
   ]
  },
  {
   "cell_type": "markdown",
   "id": "b26c4d80",
   "metadata": {},
   "source": [
    "# Question"
   ]
  },
  {
   "cell_type": "markdown",
   "id": "12cbeaaf",
   "metadata": {},
   "source": [
    "How to extract this number one by one."
   ]
  },
  {
   "cell_type": "code",
   "execution_count": 74,
   "id": "cc9cb175",
   "metadata": {},
   "outputs": [
    {
     "data": {
      "text/plain": [
       "[1, 2, 3, 4, 5, 6, 7]"
      ]
     },
     "execution_count": 74,
     "metadata": {},
     "output_type": "execute_result"
    }
   ],
   "source": [
    "l"
   ]
  },
  {
   "cell_type": "code",
   "execution_count": 73,
   "id": "8e6d4cff",
   "metadata": {},
   "outputs": [
    {
     "name": "stdout",
     "output_type": "stream",
     "text": [
      "1\n",
      "2\n",
      "3\n",
      "4\n",
      "5\n",
      "6\n",
      "7\n"
     ]
    }
   ],
   "source": [
    "for i in l:\n",
    "    print(i)"
   ]
  },
  {
   "cell_type": "code",
   "execution_count": 91,
   "id": "a0440ebd",
   "metadata": {},
   "outputs": [
    {
     "name": "stdout",
     "output_type": "stream",
     "text": [
      "s\n",
      "u\n",
      "d\n",
      "h\n"
     ]
    }
   ],
   "source": [
    "s = \"sudh\"\n",
    "\n",
    "for i in s:\n",
    "    print(i)"
   ]
  },
  {
   "cell_type": "code",
   "execution_count": 92,
   "id": "17a9bd52",
   "metadata": {},
   "outputs": [
    {
     "name": "stdout",
     "output_type": "stream",
     "text": [
      "a\n",
      "m\n",
      "e\n",
      "r\n",
      "i\n",
      "c\n",
      "a\n"
     ]
    }
   ],
   "source": [
    "for i in \"america\":\n",
    "    print(i)"
   ]
  },
  {
   "cell_type": "code",
   "execution_count": 93,
   "id": "b223b16a",
   "metadata": {},
   "outputs": [
    {
     "name": "stdout",
     "output_type": "stream",
     "text": [
      "1\n",
      "2\n",
      "3\n",
      "4\n",
      "5\n",
      "6\n",
      "6\n",
      "6\n",
      "6\n",
      "6\n"
     ]
    }
   ],
   "source": [
    "t = (1,2,3,4,5,6,6,6,6,6)\n",
    "\n",
    "for i in t:\n",
    "    print(i)"
   ]
  },
  {
   "cell_type": "code",
   "execution_count": 94,
   "id": "1b7c05ea",
   "metadata": {},
   "outputs": [
    {
     "name": "stdout",
     "output_type": "stream",
     "text": [
      "1\n",
      "4\n",
      "5.6\n",
      "(4+7j)\n",
      "sudh\n"
     ]
    }
   ],
   "source": [
    "l = [1, 4, 5.6, 4+7j, \"sudh\"]\n",
    "\n",
    "for i in l:\n",
    "    print(i)"
   ]
  },
  {
   "cell_type": "markdown",
   "id": "a86aa015",
   "metadata": {},
   "source": [
    "# Question :"
   ]
  },
  {
   "cell_type": "markdown",
   "id": "8f1731f2",
   "metadata": {},
   "source": [
    "Print the all element data types of l."
   ]
  },
  {
   "cell_type": "code",
   "execution_count": 95,
   "id": "96191fec",
   "metadata": {},
   "outputs": [
    {
     "data": {
      "text/plain": [
       "[1, 4, 5.6, (4+7j), 'sudh']"
      ]
     },
     "execution_count": 95,
     "metadata": {},
     "output_type": "execute_result"
    }
   ],
   "source": [
    "l"
   ]
  },
  {
   "cell_type": "code",
   "execution_count": 100,
   "id": "3967438c",
   "metadata": {},
   "outputs": [
    {
     "name": "stdout",
     "output_type": "stream",
     "text": [
      "1 -----> <class 'int'>\n",
      "4 -----> <class 'int'>\n",
      "5.6 -----> <class 'float'>\n",
      "(4+7j) -----> <class 'complex'>\n",
      "sudh -----> <class 'str'>\n"
     ]
    }
   ],
   "source": [
    "for i in l:\n",
    "    print(i, \"----->\", type(i))"
   ]
  },
  {
   "cell_type": "code",
   "execution_count": 101,
   "id": "1ad455cd",
   "metadata": {},
   "outputs": [
    {
     "name": "stdout",
     "output_type": "stream",
     "text": [
      "1, ----->, <class 'int'>\n",
      "4, ----->, <class 'int'>\n",
      "5.6, ----->, <class 'float'>\n",
      "(4+7j), ----->, <class 'complex'>\n",
      "sudh, ----->, <class 'str'>\n"
     ]
    }
   ],
   "source": [
    "for i in l:\n",
    "    print(f\"{i}, ----->, {type(i)}\")"
   ]
  },
  {
   "cell_type": "markdown",
   "id": "09c187d6",
   "metadata": {},
   "source": [
    "# Question"
   ]
  },
  {
   "cell_type": "markdown",
   "id": "b38e7015",
   "metadata": {},
   "source": [
    "Add 2 in each and every elements of list."
   ]
  },
  {
   "cell_type": "code",
   "execution_count": 102,
   "id": "9719bed1",
   "metadata": {},
   "outputs": [
    {
     "name": "stdout",
     "output_type": "stream",
     "text": [
      "3\n",
      "4\n",
      "5\n",
      "6\n",
      "7.6\n"
     ]
    }
   ],
   "source": [
    "l = [1,2,3,4,5.6]\n",
    "\n",
    "for i in l:\n",
    "    print(i+2)"
   ]
  },
  {
   "cell_type": "code",
   "execution_count": 108,
   "id": "a80f02ff",
   "metadata": {},
   "outputs": [
    {
     "data": {
      "text/plain": [
       "[3, 4, 5, 6, 7.6]"
      ]
     },
     "execution_count": 108,
     "metadata": {},
     "output_type": "execute_result"
    }
   ],
   "source": [
    "# try to perform the addition operation and return me in a list\n",
    "\n",
    "l = [1,2,3,4,5.6]\n",
    "\n",
    "l1=[]\n",
    "\n",
    "for i in l:\n",
    "    l1.append(i+2)\n",
    "l1"
   ]
  },
  {
   "cell_type": "markdown",
   "id": "9d3a84d5",
   "metadata": {},
   "source": [
    "# Question"
   ]
  },
  {
   "cell_type": "markdown",
   "id": "cda54115",
   "metadata": {},
   "source": [
    "Filiter out the integer out of the list"
   ]
  },
  {
   "cell_type": "code",
   "execution_count": 116,
   "id": "c3d3f436",
   "metadata": {},
   "outputs": [
    {
     "name": "stdout",
     "output_type": "stream",
     "text": [
      "2\n",
      "45\n",
      "78\n",
      "12\n",
      "52\n",
      "23\n",
      "25\n",
      "22\n",
      "17\n"
     ]
    }
   ],
   "source": [
    "l = [2,45,78, 12, 33.77777777, \"sudh\", 6+7j, [1,2,3,45,77], 52, 23, 25, 22, 17]\n",
    "\n",
    "for i in l:\n",
    "    if type(i) == int:\n",
    "        print(i)"
   ]
  },
  {
   "cell_type": "code",
   "execution_count": 115,
   "id": "bf418d89",
   "metadata": {},
   "outputs": [
    {
     "data": {
      "text/plain": [
       "[2, 45, 78, 12, 52, 23, 25, 22, 17]"
      ]
     },
     "execution_count": 115,
     "metadata": {},
     "output_type": "execute_result"
    }
   ],
   "source": [
    "l = [2,45,78, 12, 33.77777777, \"sudh\", 6+7j, [1,2,3,45,77], 52, 23, 25, 22, 17]\n",
    "\n",
    "int_list = []\n",
    "\n",
    "for i in l:\n",
    "    if type(i) == int:\n",
    "        int_list.append(i)\n",
    "int_list"
   ]
  },
  {
   "cell_type": "code",
   "execution_count": 118,
   "id": "5e9db7a4",
   "metadata": {},
   "outputs": [
    {
     "name": "stdout",
     "output_type": "stream",
     "text": [
      "2\n",
      "45\n",
      "78\n",
      "12\n",
      "1\n",
      "2\n",
      "3\n",
      "45\n",
      "77\n",
      "52\n",
      "23\n",
      "25\n",
      "22\n",
      "17\n"
     ]
    }
   ],
   "source": [
    "#here we got list too\n",
    "\n",
    "l = [2,45,78, 12, 33.77777777, \"sudh\", 6+7j, [1,2,3,45,77], 52, 23, 25, 22, 17]\n",
    "\n",
    "for i in l:\n",
    "    if type(i) == int:\n",
    "        print(i)\n",
    "        \n",
    "    elif type(i) == list:\n",
    "        for j in i:\n",
    "            print(j)"
   ]
  },
  {
   "cell_type": "markdown",
   "id": "3b4baf3f",
   "metadata": {},
   "source": [
    "# FOR ELSE STATEMENT"
   ]
  },
  {
   "cell_type": "markdown",
   "id": "1023b29a",
   "metadata": {},
   "source": [
    "This statement available in only python language, not available in any other languages."
   ]
  },
  {
   "cell_type": "markdown",
   "id": "681744bb",
   "metadata": {},
   "source": [
    "# Homework\n",
    "\n",
    "### l = [2,45,78,12,\"sudh\", 6+7j, [56,67,78,\"dsdfdas\"]]\n",
    "\n",
    "#### Question no. 1\n",
    "\n",
    "    Try to print index of all the element\n",
    "    \n",
    "#### Question no. 2\n",
    "\n",
    "    Try to extract all the list of character if the element is string\n",
    "    \n",
    "#### Question no. 3\n",
    "\n",
    "    Try to return a list after doing a square of all the int elements"
   ]
  },
  {
   "cell_type": "markdown",
   "id": "320f7f13",
   "metadata": {},
   "source": [
    "#### Question no.1"
   ]
  },
  {
   "cell_type": "code",
   "execution_count": 157,
   "id": "74004979",
   "metadata": {},
   "outputs": [
    {
     "name": "stdout",
     "output_type": "stream",
     "text": [
      "index 0 for an element 2\n",
      "index 1 for an element 45\n",
      "index 2 for an element 78\n",
      "index 3 for an element 12\n",
      "index 4 for an element sudh\n",
      "index 5 for an element (6+7j)\n",
      "index 6 for an element [56, 67, 78, 'dsdfdas']\n"
     ]
    }
   ],
   "source": [
    "#Try to print index of all the element (my answer)\n",
    "#enumerate also we can use\n",
    "\n",
    "l = [2,45,78,12,\"sudh\", 6+7j, [56,67,78,\"dsdfdas\"]]\n",
    "\n",
    "for i in range(len(l)):\n",
    "    print(\"index\", i, \"for an element\", l[i]) #l[0] na 2, l[1] na 45 indha madhiri dhan l[i] um"
   ]
  },
  {
   "cell_type": "code",
   "execution_count": 158,
   "id": "e523a223",
   "metadata": {},
   "outputs": [
    {
     "name": "stdout",
     "output_type": "stream",
     "text": [
      "(0, 2)\n",
      "(1, 45)\n",
      "(2, 78)\n",
      "(3, 12)\n",
      "(4, 'sudh')\n",
      "(5, (6+7j))\n",
      "(6, [56, 67, 78, 'dsdfdas'])\n"
     ]
    }
   ],
   "source": [
    "for i in enumerate(l):\n",
    "    print(i)"
   ]
  },
  {
   "cell_type": "markdown",
   "id": "8e21955a",
   "metadata": {},
   "source": [
    "#### Question No. 2"
   ]
  },
  {
   "cell_type": "markdown",
   "id": "6711f604",
   "metadata": {},
   "source": [
    "# DOUBT KEKANUM"
   ]
  },
  {
   "cell_type": "code",
   "execution_count": 163,
   "id": "47517422",
   "metadata": {},
   "outputs": [
    {
     "name": "stdout",
     "output_type": "stream",
     "text": [
      "sudh\n"
     ]
    }
   ],
   "source": [
    "# Try to extract all the list of character if the element is string (my answer)\n",
    "\n",
    "l = [2,45,78,12,\"sudh\", 6+7j, [56,67,78,\"dsdfdas\"]]\n",
    "\n",
    "for i in l:\n",
    "    if type(i) == str:\n",
    "        print(i)"
   ]
  },
  {
   "cell_type": "code",
   "execution_count": 172,
   "id": "14094644",
   "metadata": {},
   "outputs": [
    {
     "name": "stdout",
     "output_type": "stream",
     "text": [
      "['s', 'u', 'd', 'h']\n"
     ]
    }
   ],
   "source": [
    "l = [2,45,78,12,\"sudh\", 6+7j, [56,67,78,\"dsdfdas\"]]\n",
    "\n",
    "for i in l:\n",
    "    if type(i) == str:\n",
    "        l1 = []\n",
    "        for j in i: #if it is a string in above condition, we iterating here, thats why this line code\n",
    "            l1.append(j)\n",
    "        print(l1)"
   ]
  },
  {
   "cell_type": "code",
   "execution_count": 173,
   "id": "04fe2fb5",
   "metadata": {},
   "outputs": [
    {
     "name": "stdout",
     "output_type": "stream",
     "text": [
      "['s', 'u', 'd', 'h']\n",
      "['k', 'u', 'm', 'a', 'r']\n"
     ]
    }
   ],
   "source": [
    "l = [2,45,78,12,\"sudh\", 6+7j, [56,67,78,\"dsdfdas\"], \"kumar\"]\n",
    "\n",
    "for i in l:\n",
    "    if type(i) == str:\n",
    "        l1 = []\n",
    "        for j in i:\n",
    "            l1.append(j)\n",
    "        print(l1)"
   ]
  },
  {
   "cell_type": "markdown",
   "id": "4cfb6d14",
   "metadata": {},
   "source": [
    "#### Question No. 3"
   ]
  },
  {
   "cell_type": "code",
   "execution_count": 160,
   "id": "a7cb6c76",
   "metadata": {},
   "outputs": [
    {
     "data": {
      "text/plain": [
       "[4, 2025, 6084, 144]"
      ]
     },
     "execution_count": 160,
     "metadata": {},
     "output_type": "execute_result"
    }
   ],
   "source": [
    "# Try to return a list after doing a square of all the int elements (my answer)\n",
    "\n",
    "l = [2,45,78,12,\"sudh\", 6+7j, [56,67,78,\"dsdfdas\"]]\n",
    "\n",
    "square_list = []\n",
    "for i in l:\n",
    "    if type(i) == int:\n",
    "        square_list.append(i**2)\n",
    "        \n",
    "square_list"
   ]
  },
  {
   "cell_type": "code",
   "execution_count": null,
   "id": "fe93fed0",
   "metadata": {},
   "outputs": [],
   "source": []
  },
  {
   "cell_type": "code",
   "execution_count": null,
   "id": "64cb2143",
   "metadata": {},
   "outputs": [],
   "source": []
  },
  {
   "cell_type": "code",
   "execution_count": 161,
   "id": "12810d7b",
   "metadata": {},
   "outputs": [],
   "source": [
    "l = [1, 2, 3, 4, 5, 6, 7,7,7,7,7,7]"
   ]
  },
  {
   "cell_type": "code",
   "execution_count": 162,
   "id": "4522b353",
   "metadata": {},
   "outputs": [
    {
     "name": "stdout",
     "output_type": "stream",
     "text": [
      "12\n"
     ]
    }
   ],
   "source": [
    "count = 0\n",
    "\n",
    "for i in l:\n",
    "    count = count + 1\n",
    "print(count)"
   ]
  },
  {
   "cell_type": "code",
   "execution_count": null,
   "id": "6cca24e2",
   "metadata": {},
   "outputs": [],
   "source": []
  },
  {
   "cell_type": "code",
   "execution_count": null,
   "id": "2479e455",
   "metadata": {},
   "outputs": [],
   "source": []
  }
 ],
 "metadata": {
  "kernelspec": {
   "display_name": "Python 3",
   "language": "python",
   "name": "python3"
  },
  "language_info": {
   "codemirror_mode": {
    "name": "ipython",
    "version": 3
   },
   "file_extension": ".py",
   "mimetype": "text/x-python",
   "name": "python",
   "nbconvert_exporter": "python",
   "pygments_lexer": "ipython3",
   "version": "3.11.1 (tags/v3.11.1:a7a450f, Dec  6 2022, 19:58:39) [MSC v.1934 64 bit (AMD64)]"
  },
  "vscode": {
   "interpreter": {
    "hash": "180f8518baccd74e1e77565faed7e8576f26917e6b201f6b9516078dc879945e"
   }
  }
 },
 "nbformat": 4,
 "nbformat_minor": 5
}
