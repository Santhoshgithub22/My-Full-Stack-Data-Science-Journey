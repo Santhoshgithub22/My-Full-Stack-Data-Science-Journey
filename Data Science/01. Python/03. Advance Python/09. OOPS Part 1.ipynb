{
 "cells": [
  {
   "cell_type": "markdown",
   "metadata": {},
   "source": [
    "# OOPS PART 1"
   ]
  },
  {
   "cell_type": "markdown",
   "metadata": {},
   "source": [
    "Yesterday We've saw oops concept\n",
    "\n",
    "now we know about the difference between what is the class and object."
   ]
  },
  {
   "cell_type": "markdown",
   "metadata": {},
   "source": [
    "# In Today's class we will able to see self and everything in very very detailed way."
   ]
  },
  {
   "cell_type": "markdown",
   "metadata": {},
   "source": [
    "# SELF\n",
    "\n",
    "    - Self is not a keyword we can use your name, my name, any name\n",
    "\n",
    "    - But, what is the meaning of self is its a pointer\n",
    "\n",
    "    - pointer which will help my class to understand what is the kind of a data or method I am trying to bind with this particular classes."
   ]
  },
  {
   "cell_type": "markdown",
   "metadata": {},
   "source": [
    "Let's understand what is oops concept and how to implement it?"
   ]
  },
  {
   "cell_type": "markdown",
   "metadata": {},
   "source": [
    "Classes is nothing but its a blue print, and object is nothing but its a real world entity."
   ]
  },
  {
   "cell_type": "markdown",
   "metadata": {},
   "source": [
    "#### Lets start"
   ]
  },
  {
   "cell_type": "markdown",
   "metadata": {},
   "source": [
    "I am taking the same examples of car,\n",
    "\n",
    "class name is car (i am trying to create a blue print of a car)\n",
    "\n",
    "whenever I am create a blue print of a car the car must be some specalities(common properties), like fuel type, body type, etc.,"
   ]
  },
  {
   "cell_type": "markdown",
   "metadata": {},
   "source": [
    "# __init__ means initialize"
   ]
  },
  {
   "cell_type": "markdown",
   "metadata": {},
   "source": [
    "#### init is a inbuilt method, its a constructor.\n",
    "\n",
    "#### init is a way to pass a data to the classes.\n",
    "\n",
    "#### We are trying to initialize something to our classes, if we have to pass some data to our classes \n",
    "\n",
    "# SIMPLY \n",
    "\n",
    "    __INIT__ means what?  -  __INIT__ means just a method which will help you out to pass the data to the class if it is required.\n",
    "\n",
    "    If you would like to initialize some short of the variable at thetime of creation of object itself, then __init__ is required, otherwise not required.\n",
    "    So don't confuse yourself.\n",
    "e.g\n",
    "\n",
    " a= 10\n",
    "\n",
    "we are trying pass to a integer class so this is a meaning of this.\n",
    "\n",
    "a = 10 na \n",
    "\n",
    "    10 we are trying to pass a integer class (10 vandhu integer class nu soldradhu dhan) init."
   ]
  },
  {
   "cell_type": "markdown",
   "metadata": {},
   "source": [
    "* First line : create a class\n",
    "\n",
    "* second line : I will try to initialize basic data (information) to the car class\n",
    "\n",
    "    Then I will write pointer, because my car class will not be understand what kind of variable I will provide.\n",
    "\n",
    "* After create one function I can initialize any number of variables \n",
    "\n",
    "or \n",
    "\n",
    "any number of methods.\n",
    "\n"
   ]
  },
  {
   "cell_type": "code",
   "execution_count": 5,
   "metadata": {},
   "outputs": [],
   "source": [
    "class car:\n",
    "    def __init__(self, body_type, engine, fuel_type):\n",
    "        self.body_type = body_type\n",
    "        self.engine = engine\n",
    "        self.fuel_type = fuel_type # we can also give user input here.\n",
    "\n",
    "    def test(self):\n",
    "        print(\"this is my first method in my car class\")"
   ]
  },
  {
   "cell_type": "markdown",
   "metadata": {},
   "source": [
    "# Eg"
   ]
  },
  {
   "cell_type": "code",
   "execution_count": 6,
   "metadata": {},
   "outputs": [
    {
     "name": "stdout",
     "output_type": "stream",
     "text": [
      "<class 'int'>\n"
     ]
    }
   ],
   "source": [
    "a = 10\n",
    "\n",
    "print(type(a))  #output will be in class int, because someone has created the int class\n",
    "\n",
    "# int kooda class dhan, already oruthavanga int ku class concept eludhiirupanga\n",
    "#not only string, for everything."
   ]
  },
  {
   "cell_type": "code",
   "execution_count": 7,
   "metadata": {},
   "outputs": [
    {
     "name": "stdout",
     "output_type": "stream",
     "text": [
      "<class 'str'>\n"
     ]
    }
   ],
   "source": [
    "a = \"sudh\"\n",
    "\n",
    "print(type(a)) #class str"
   ]
  },
  {
   "cell_type": "markdown",
   "metadata": {},
   "source": [
    "In similar manner we have to create our own class.\n",
    "\n",
    "That's also possible."
   ]
  },
  {
   "cell_type": "code",
   "execution_count": 8,
   "metadata": {},
   "outputs": [],
   "source": [
    "class car:\n",
    "    def __init__(self, body_type, engine, fuel_type):\n",
    "        self.body_type = body_type\n",
    "        self.engine = engine\n",
    "        self.fuel_type = fuel_type # we can also give user input here.\n",
    "\n",
    "    def test(self):\n",
    "        print(\"this is my first method in my car class\")"
   ]
  },
  {
   "cell_type": "markdown",
   "metadata": {},
   "source": [
    "In above line I have created my own class,\n",
    "\n",
    "no one will tell you will pass only particular object only\n",
    "\n",
    "NO\n",
    "\n",
    "We can pass any values in our class there is no restriction."
   ]
  },
  {
   "cell_type": "code",
   "execution_count": 9,
   "metadata": {},
   "outputs": [
    {
     "ename": "TypeError",
     "evalue": "car.__init__() missing 3 required positional arguments: 'body_type', 'engine', and 'fuel_type'",
     "output_type": "error",
     "traceback": [
      "\u001b[1;31m---------------------------------------------------------------------------\u001b[0m",
      "\u001b[1;31mTypeError\u001b[0m                                 Traceback (most recent call last)",
      "Cell \u001b[1;32mIn[9], line 1\u001b[0m\n\u001b[1;32m----> 1\u001b[0m forture \u001b[39m=\u001b[39m car()\n",
      "\u001b[1;31mTypeError\u001b[0m: car.__init__() missing 3 required positional arguments: 'body_type', 'engine', and 'fuel_type'"
     ]
    }
   ],
   "source": [
    "forture = car()"
   ]
  },
  {
   "cell_type": "code",
   "execution_count": 10,
   "metadata": {},
   "outputs": [
    {
     "ename": "NameError",
     "evalue": "name 'n' is not defined",
     "output_type": "error",
     "traceback": [
      "\u001b[1;31m---------------------------------------------------------------------------\u001b[0m",
      "\u001b[1;31mNameError\u001b[0m                                 Traceback (most recent call last)",
      "Cell \u001b[1;32mIn[10], line 1\u001b[0m\n\u001b[1;32m----> 1\u001b[0m n \u001b[39m#it will show not defined error, same way there also, we should pass arguments\u001b[39;00m\n\u001b[0;32m      3\u001b[0m \u001b[39m#else it will show not defined error\u001b[39;00m\n",
      "\u001b[1;31mNameError\u001b[0m: name 'n' is not defined"
     ]
    }
   ],
   "source": [
    "n #it will show not defined error, same way there also, we should pass arguments\n",
    "\n",
    "#else it will show not defined error"
   ]
  },
  {
   "cell_type": "markdown",
   "metadata": {},
   "source": [
    "# __init__ is a constructor, There is a concept of constructor you will be able to find out in a oops programming concept everywhere.\n",
    "\n",
    "# CONSTRUCTOR IS NOTHING BUT AN OBJECT / METHOD WHICH IS RESPOSIBLE FOR PROVIDING A DATA TO A CLASS."
   ]
  },
  {
   "cell_type": "code",
   "execution_count": 11,
   "metadata": {},
   "outputs": [],
   "source": [
    "forture = car(\"SUV\", \"bs4\", \"Petrol\") #I just provided my data here."
   ]
  },
  {
   "cell_type": "markdown",
   "metadata": {},
   "source": [
    "I've just provided my data, but now what my car class is going to do with respect to this data.  Let's try to understand.\n",
    "\n",
    "(this path is very very important, once we understand this, we can able to understand the entire flow.  so listen carefully)"
   ]
  },
  {
   "cell_type": "code",
   "execution_count": 12,
   "metadata": {},
   "outputs": [
    {
     "name": "stdout",
     "output_type": "stream",
     "text": [
      "this is my first method in my car class\n"
     ]
    }
   ],
   "source": [
    "forture.test()"
   ]
  },
  {
   "cell_type": "code",
   "execution_count": 13,
   "metadata": {},
   "outputs": [],
   "source": [
    "nexon = car(\"suv\", \"abc\", \"petrol\")"
   ]
  },
  {
   "cell_type": "code",
   "execution_count": 14,
   "metadata": {},
   "outputs": [
    {
     "data": {
      "text/plain": [
       "'SUV'"
      ]
     },
     "execution_count": 14,
     "metadata": {},
     "output_type": "execute_result"
    }
   ],
   "source": [
    "forture.body_type"
   ]
  },
  {
   "cell_type": "code",
   "execution_count": 15,
   "metadata": {},
   "outputs": [
    {
     "data": {
      "text/plain": [
       "'bs4'"
      ]
     },
     "execution_count": 15,
     "metadata": {},
     "output_type": "execute_result"
    }
   ],
   "source": [
    "forture.engine"
   ]
  },
  {
   "cell_type": "code",
   "execution_count": 16,
   "metadata": {},
   "outputs": [
    {
     "data": {
      "text/plain": [
       "'Petrol'"
      ]
     },
     "execution_count": 16,
     "metadata": {},
     "output_type": "execute_result"
    }
   ],
   "source": [
    "forture.fuel_type"
   ]
  },
  {
   "cell_type": "code",
   "execution_count": 17,
   "metadata": {},
   "outputs": [
    {
     "data": {
      "text/plain": [
       "'suv'"
      ]
     },
     "execution_count": 17,
     "metadata": {},
     "output_type": "execute_result"
    }
   ],
   "source": [
    "nexon.body_type"
   ]
  },
  {
   "cell_type": "code",
   "execution_count": 18,
   "metadata": {},
   "outputs": [
    {
     "data": {
      "text/plain": [
       "'abc'"
      ]
     },
     "execution_count": 18,
     "metadata": {},
     "output_type": "execute_result"
    }
   ],
   "source": [
    "nexon.engine"
   ]
  },
  {
   "cell_type": "code",
   "execution_count": 19,
   "metadata": {},
   "outputs": [
    {
     "data": {
      "text/plain": [
       "'petrol'"
      ]
     },
     "execution_count": 19,
     "metadata": {},
     "output_type": "execute_result"
    }
   ],
   "source": [
    "nexon.fuel_type"
   ]
  },
  {
   "cell_type": "markdown",
   "metadata": {},
   "source": [
    "ippa namma nexon.fuel_type nu ketom na andha flow la kaatunanga adhu init line la irukka fuel type ah yum call pannadhu, adhukku keela irukka fuel type ah yum call pannadhu,\n",
    "\n",
    "It will only call self.fuel type adha mattum dhan call pannum nu sonnanga\n",
    "\n",
    "He will give a proof of it.\n",
    "\n",
    "# It will call only class variable and\n",
    "\n",
    "#### what is the class variable?\n",
    "\n",
    "#### these things (self.body_type, self.engine, self.fuel_type) is a class variable."
   ]
  },
  {
   "cell_type": "markdown",
   "metadata": {},
   "source": [
    "# class variable ah dhan call pannum for eg"
   ]
  },
  {
   "cell_type": "code",
   "execution_count": 20,
   "metadata": {},
   "outputs": [],
   "source": [
    "class car:\n",
    "    def __init__(self, body_type, engine, fuel_type):\n",
    "        self.body_type1111 = body_type\n",
    "        self.engine = engine\n",
    "        self.fuel_type = fuel_type # we can also give user input here.\n",
    "\n",
    "    def test(self):\n",
    "        print(\"this is my first method in my car class\")"
   ]
  },
  {
   "cell_type": "code",
   "execution_count": 21,
   "metadata": {},
   "outputs": [],
   "source": [
    "omni = car(\"nano body\", \"2 engine\", \"petrol\")"
   ]
  },
  {
   "cell_type": "code",
   "execution_count": 22,
   "metadata": {},
   "outputs": [
    {
     "ename": "AttributeError",
     "evalue": "'car' object has no attribute 'body_type'",
     "output_type": "error",
     "traceback": [
      "\u001b[1;31m---------------------------------------------------------------------------\u001b[0m",
      "\u001b[1;31mAttributeError\u001b[0m                            Traceback (most recent call last)",
      "Cell \u001b[1;32mIn[22], line 1\u001b[0m\n\u001b[1;32m----> 1\u001b[0m omni\u001b[39m.\u001b[39;49mbody_type \u001b[39m#idhula init line la and keela irukka line la irukka name kudutha\u001b[39;00m\n\u001b[0;32m      3\u001b[0m \u001b[39m#error dhan varum\u001b[39;00m\n\u001b[0;32m      4\u001b[0m \u001b[39m#because\u001b[39;00m\n\u001b[0;32m      5\u001b[0m \n\u001b[0;32m      6\u001b[0m \u001b[39m#class always call class variable only\u001b[39;00m\n",
      "\u001b[1;31mAttributeError\u001b[0m: 'car' object has no attribute 'body_type'"
     ]
    }
   ],
   "source": [
    "omni.body_type #idhula init line la and keela irukka line la irukka name kudutha\n",
    "\n",
    "#error dhan varum\n",
    "#because\n",
    "\n",
    "#class always call class variable only"
   ]
  },
  {
   "cell_type": "code",
   "execution_count": 23,
   "metadata": {},
   "outputs": [
    {
     "data": {
      "text/plain": [
       "'nano body'"
      ]
     },
     "execution_count": 23,
     "metadata": {},
     "output_type": "execute_result"
    }
   ],
   "source": [
    "omni.body_type1111  #inga class variable name ah pota correct ah output varudhu\n",
    "\n",
    "#that's what he trying to say\n",
    "\n",
    "#class variable ah dhan call pannum\n",
    "\n",
    "# class variable na inga forture, nexon, omni nu create panni irukka andha variable name dhan."
   ]
  },
  {
   "cell_type": "code",
   "execution_count": 24,
   "metadata": {},
   "outputs": [],
   "source": [
    "class car:\n",
    "\n",
    "    def __init__(self, body_type, engine, fuel_type):\n",
    "        self.a = body_type\n",
    "        self.b = engine\n",
    "        self.c = fuel_type\n",
    "\n",
    "    def test(self):\n",
    "        print(\"this is my first method in car class\")"
   ]
  },
  {
   "cell_type": "code",
   "execution_count": 25,
   "metadata": {},
   "outputs": [],
   "source": [
    "forture = car(\"suv\", \"bs4\", \"petrol\")"
   ]
  },
  {
   "cell_type": "code",
   "execution_count": 26,
   "metadata": {},
   "outputs": [
    {
     "data": {
      "text/plain": [
       "'suv'"
      ]
     },
     "execution_count": 26,
     "metadata": {},
     "output_type": "execute_result"
    }
   ],
   "source": [
    "forture.a"
   ]
  },
  {
   "cell_type": "code",
   "execution_count": 27,
   "metadata": {},
   "outputs": [
    {
     "data": {
      "text/plain": [
       "'bs4'"
      ]
     },
     "execution_count": 27,
     "metadata": {},
     "output_type": "execute_result"
    }
   ],
   "source": [
    "forture.b"
   ]
  },
  {
   "cell_type": "code",
   "execution_count": 28,
   "metadata": {},
   "outputs": [
    {
     "data": {
      "text/plain": [
       "'petrol'"
      ]
     },
     "execution_count": 28,
     "metadata": {},
     "output_type": "execute_result"
    }
   ],
   "source": [
    "forture.c"
   ]
  },
  {
   "cell_type": "code",
   "execution_count": 29,
   "metadata": {},
   "outputs": [
    {
     "name": "stdout",
     "output_type": "stream",
     "text": [
      "this is my first method in car class\n"
     ]
    }
   ],
   "source": [
    "forture.test()"
   ]
  },
  {
   "cell_type": "code",
   "execution_count": 30,
   "metadata": {},
   "outputs": [],
   "source": [
    "#ippa andha class la irukka test method ah thaniya run panna run agadhu error varum\n",
    "\n",
    "#that's the power of pointer\n",
    "\n",
    "def test(self):\n",
    "    print(\"this is my first method in car class\")"
   ]
  },
  {
   "cell_type": "code",
   "execution_count": 31,
   "metadata": {},
   "outputs": [
    {
     "ename": "TypeError",
     "evalue": "test() missing 1 required positional argument: 'self'",
     "output_type": "error",
     "traceback": [
      "\u001b[1;31m---------------------------------------------------------------------------\u001b[0m",
      "\u001b[1;31mTypeError\u001b[0m                                 Traceback (most recent call last)",
      "Cell \u001b[1;32mIn[31], line 1\u001b[0m\n\u001b[1;32m----> 1\u001b[0m test() \u001b[39m#reason behind is the very first argument inside the class is called as pointer.\u001b[39;00m\n",
      "\u001b[1;31mTypeError\u001b[0m: test() missing 1 required positional argument: 'self'"
     ]
    }
   ],
   "source": [
    "test() #reason behind is the very first argument inside the class is called as pointer."
   ]
  },
  {
   "cell_type": "markdown",
   "metadata": {},
   "source": [
    "__INIT__ means what?  -  __INIT__ means just a method which will help you out to pass the data to the class if it is required.\n",
    "\n",
    "    If you would like to initialize some short of the variable at thetime of creation of object itself, then __init__ is required, otherwise not required.\n",
    "    So don't confuse yourself."
   ]
  },
  {
   "cell_type": "code",
   "execution_count": 32,
   "metadata": {},
   "outputs": [],
   "source": [
    "#init illamayum class create panna mudiyum.\n",
    "\n",
    "class car:\n",
    "\n",
    "    def test(sudh):\n",
    "        print(\"this is my first method in my car class\")"
   ]
  },
  {
   "cell_type": "code",
   "execution_count": 33,
   "metadata": {},
   "outputs": [],
   "source": [
    "x = car()"
   ]
  },
  {
   "cell_type": "code",
   "execution_count": 34,
   "metadata": {},
   "outputs": [
    {
     "data": {
      "text/plain": [
       "<bound method car.test of <__main__.car object at 0x00000166E5D52F10>>"
      ]
     },
     "execution_count": 34,
     "metadata": {},
     "output_type": "execute_result"
    }
   ],
   "source": [
    "x.test"
   ]
  },
  {
   "cell_type": "code",
   "execution_count": 35,
   "metadata": {},
   "outputs": [
    {
     "name": "stdout",
     "output_type": "stream",
     "text": [
      "this is my first method in my car class\n"
     ]
    }
   ],
   "source": [
    "x.test()"
   ]
  },
  {
   "cell_type": "code",
   "execution_count": 36,
   "metadata": {},
   "outputs": [],
   "source": [
    "#suppose inga test function la pointer mattum illama vera argument pass pannomna, it will not work\n",
    "\n",
    "class car:\n",
    "\n",
    "    def test(sudh, a,b,c,d,e,f):\n",
    "        print(\"this is my first method in my car class\")"
   ]
  },
  {
   "cell_type": "code",
   "execution_count": 37,
   "metadata": {},
   "outputs": [],
   "source": [
    "y=car()"
   ]
  },
  {
   "cell_type": "code",
   "execution_count": 38,
   "metadata": {},
   "outputs": [
    {
     "ename": "TypeError",
     "evalue": "car.test() missing 6 required positional arguments: 'a', 'b', 'c', 'd', 'e', and 'f'",
     "output_type": "error",
     "traceback": [
      "\u001b[1;31m---------------------------------------------------------------------------\u001b[0m",
      "\u001b[1;31mTypeError\u001b[0m                                 Traceback (most recent call last)",
      "Cell \u001b[1;32mIn[38], line 1\u001b[0m\n\u001b[1;32m----> 1\u001b[0m y\u001b[39m.\u001b[39;49mtest()\n",
      "\u001b[1;31mTypeError\u001b[0m: car.test() missing 6 required positional arguments: 'a', 'b', 'c', 'd', 'e', and 'f'"
     ]
    }
   ],
   "source": [
    "y.test()"
   ]
  },
  {
   "cell_type": "code",
   "execution_count": 39,
   "metadata": {},
   "outputs": [
    {
     "name": "stdout",
     "output_type": "stream",
     "text": [
      "this is my first method in my car class\n"
     ]
    }
   ],
   "source": [
    "y.test('asdf', 'afds', 'asfd', 'afd', 'afsddasf', 'asfdsdfa')"
   ]
  },
  {
   "cell_type": "markdown",
   "metadata": {},
   "source": [
    "# Ok lets take couple of examples it would be better to understand"
   ]
  },
  {
   "cell_type": "markdown",
   "metadata": {},
   "source": [
    "# DOUBT KEKANUM\n",
    "\n",
    "(inga self.a = a yean podalainu kekanum)"
   ]
  },
  {
   "cell_type": "code",
   "execution_count": 40,
   "metadata": {},
   "outputs": [],
   "source": [
    "class list_parser:\n",
    "    \n",
    "    def parser(self, a):\n",
    "        if type(a) == list:\n",
    "            for i in a:\n",
    "                print(i)"
   ]
  },
  {
   "cell_type": "code",
   "execution_count": 41,
   "metadata": {},
   "outputs": [
    {
     "name": "stdout",
     "output_type": "stream",
     "text": [
      "2\n",
      "3\n",
      "4\n",
      "6\n",
      "7\n",
      "8\n",
      "9\n"
     ]
    }
   ],
   "source": [
    "c = list_parser()\n",
    "\n",
    "c.parser([2,3,4,6,7,8,9])"
   ]
  },
  {
   "cell_type": "markdown",
   "metadata": {},
   "source": [
    "# Now he asked one question, try to write 10 differenet different method for a list.\n",
    "\n",
    "1. to extract (get) the data.\n",
    "2. to reverse the list\n",
    "3. to do some short of the indexing operations.\n",
    "and so on"
   ]
  },
  {
   "cell_type": "code",
   "execution_count": 42,
   "metadata": {},
   "outputs": [],
   "source": [
    "class list_parcer:\n",
    "\n",
    "    def parcer(self, a):\n",
    "        if type(a) == list:\n",
    "            for i in a:\n",
    "                print(i)\n",
    "\n",
    "    def reverser_list(self, z):\n",
    "        if type(z) == list:\n",
    "            return z[::-1]"
   ]
  },
  {
   "cell_type": "code",
   "execution_count": 43,
   "metadata": {},
   "outputs": [],
   "source": [
    "c = list_parser()"
   ]
  },
  {
   "cell_type": "code",
   "execution_count": 44,
   "metadata": {},
   "outputs": [
    {
     "name": "stdout",
     "output_type": "stream",
     "text": [
      "1\n",
      "2\n",
      "3\n",
      "4\n",
      "5\n",
      "6\n",
      "7\n"
     ]
    }
   ],
   "source": [
    "c.parser([1,2,3,4,5,6,7])"
   ]
  },
  {
   "cell_type": "code",
   "execution_count": 45,
   "metadata": {},
   "outputs": [],
   "source": [
    "d = list_parcer()"
   ]
  },
  {
   "cell_type": "code",
   "execution_count": 46,
   "metadata": {},
   "outputs": [
    {
     "data": {
      "text/plain": [
       "[7, 6, 5, 4, 3, 2, 1]"
      ]
     },
     "execution_count": 46,
     "metadata": {},
     "output_type": "execute_result"
    }
   ],
   "source": [
    "d.reverser_list([1,2,3,4,5,6,7])"
   ]
  },
  {
   "cell_type": "markdown",
   "metadata": {},
   "source": [
    "# Doubt kekanum "
   ]
  },
  {
   "cell_type": "markdown",
   "metadata": {},
   "source": [
    "#### Reverser list create panni irukean but inga call panna varala\n",
    "\n",
    "adhukku aprm naana andha class ah d la store panni potean apa dhan vandhu irukku."
   ]
  },
  {
   "cell_type": "code",
   "execution_count": 47,
   "metadata": {},
   "outputs": [
    {
     "ename": "AttributeError",
     "evalue": "'list_parser' object has no attribute 'reverser_list'",
     "output_type": "error",
     "traceback": [
      "\u001b[1;31m---------------------------------------------------------------------------\u001b[0m",
      "\u001b[1;31mAttributeError\u001b[0m                            Traceback (most recent call last)",
      "Cell \u001b[1;32mIn[47], line 1\u001b[0m\n\u001b[1;32m----> 1\u001b[0m c\u001b[39m.\u001b[39;49mreverser_list()\n",
      "\u001b[1;31mAttributeError\u001b[0m: 'list_parser' object has no attribute 'reverser_list'"
     ]
    }
   ],
   "source": [
    "c.reverser_list()"
   ]
  },
  {
   "cell_type": "code",
   "execution_count": 48,
   "metadata": {},
   "outputs": [],
   "source": [
    "# Ippa inga oru oru time um function la list data va namma pass pandrom\n",
    "\n",
    "# but orey time mattum pass pandradhukku __init__ use pannanum."
   ]
  },
  {
   "cell_type": "markdown",
   "metadata": {},
   "source": [
    "If we use __init__ its a constructor\n",
    "\n",
    "and it will pass my data to class.\n",
    "\n",
    "So that we just give our data only once."
   ]
  },
  {
   "cell_type": "markdown",
   "metadata": {},
   "source": [
    "#### In Below code I have just pass my values once, (using init), I can able to use all the objects"
   ]
  },
  {
   "cell_type": "code",
   "execution_count": 49,
   "metadata": {},
   "outputs": [],
   "source": [
    "class list_parser:\n",
    "    def __init__(self, l):\n",
    "        self.l = l\n",
    "\n",
    "    def parcer(self):\n",
    "        if type(self.l) == list:\n",
    "            for i in self.l:\n",
    "                print(i)\n",
    "\n",
    "    def reverser_list(self):\n",
    "        if type(self.l) == list:\n",
    "            return self.l[::-1]\n"
   ]
  },
  {
   "cell_type": "code",
   "execution_count": 50,
   "metadata": {},
   "outputs": [],
   "source": [
    "c = list_parser([1,2,3,4,5,6,7])"
   ]
  },
  {
   "cell_type": "code",
   "execution_count": 51,
   "metadata": {},
   "outputs": [
    {
     "name": "stdout",
     "output_type": "stream",
     "text": [
      "1\n",
      "2\n",
      "3\n",
      "4\n",
      "5\n",
      "6\n",
      "7\n"
     ]
    }
   ],
   "source": [
    "c.parcer()"
   ]
  },
  {
   "cell_type": "code",
   "execution_count": 52,
   "metadata": {},
   "outputs": [
    {
     "data": {
      "text/plain": [
       "[7, 6, 5, 4, 3, 2, 1]"
      ]
     },
     "execution_count": 52,
     "metadata": {},
     "output_type": "execute_result"
    }
   ],
   "source": [
    "c.reverser_list()"
   ]
  },
  {
   "cell_type": "markdown",
   "metadata": {},
   "source": [
    "In the similar way someone has all the methods if we write l. and press tab\n",
    "\n",
    "l. potutu tab ah press pannom na neraya recommendation option varum\n",
    "\n",
    "namma mela create panna class madhiri dhan adhayum create panni eludhi irupanga."
   ]
  },
  {
   "cell_type": "markdown",
   "metadata": {},
   "source": [
    "# ASSIGNMENT"
   ]
  },
  {
   "cell_type": "markdown",
   "metadata": {},
   "source": [
    "Problem statement :\n",
    "\n",
    "    Create a class for dictionary parsing \n",
    "\n",
    "        1. write a function to give all the keys\n",
    "        2. write a function to give all the values\n",
    "        3. write a function to throw an exception in case of input is not dictionary\n",
    "        4. write a function for take user input and then parse a key and value out of dictionary\n",
    "        5. write a function to insert new key value pair into dictionary"
   ]
  },
  {
   "cell_type": "markdown",
   "metadata": {},
   "source": [
    "# Student's solution No.1"
   ]
  },
  {
   "cell_type": "code",
   "execution_count": 67,
   "metadata": {},
   "outputs": [],
   "source": [
    "#sudhanshu said he wrote this code very well and it is a very good approach\n",
    "\n",
    "#because he called the function inside the class, that's a reusability of function\n",
    "\n",
    "#(notdict nu 4th ah oru function create panni irukanga, but adha 2nd, 3rd function la\n",
    "# use panni irukanga.)\n",
    "\n",
    "#idhula def insertion puriyala.\n",
    "\n",
    "class dict_parcing:\n",
    "\n",
    "    def __init__(self, a):\n",
    "        self.a = a\n",
    "\n",
    "    def getkeys(self):\n",
    "        if self.notdict():\n",
    "            return list(self.a.keys())\n",
    "\n",
    "    def getvalues(self):\n",
    "        if self.notdict():\n",
    "            return list(self.a.values())\n",
    "\n",
    "    def notdict(self):\n",
    "        if type(self.a) != dict:\n",
    "            raise Exception(self.a, \"Not a dictionary.\")\n",
    "        return 1\n",
    "\n",
    "    def userinput(self):\n",
    "        self.a = eval(input())  #by default user input is str, but if we use eval it will consider as a dict(edhukum net la pakanum epdi nu)\n",
    "        print(self.a, type(self.a))\n",
    "        print(self.getkeys())\n",
    "        print(self.getvalues())\n",
    "\n",
    "    def insertion(self, k, v):\n",
    "        self.a[k] = v\n"
   ]
  },
  {
   "cell_type": "code",
   "execution_count": 68,
   "metadata": {},
   "outputs": [],
   "source": [
    "d = dict_parcing({\"k1\": \"sudh\", \"k2\" : \"ineuron\"})"
   ]
  },
  {
   "cell_type": "code",
   "execution_count": 69,
   "metadata": {},
   "outputs": [
    {
     "data": {
      "text/plain": [
       "['k1', 'k2']"
      ]
     },
     "execution_count": 69,
     "metadata": {},
     "output_type": "execute_result"
    }
   ],
   "source": [
    "d.getkeys()"
   ]
  },
  {
   "cell_type": "code",
   "execution_count": 70,
   "metadata": {},
   "outputs": [
    {
     "data": {
      "text/plain": [
       "['sudh', 'ineuron']"
      ]
     },
     "execution_count": 70,
     "metadata": {},
     "output_type": "execute_result"
    }
   ],
   "source": [
    "d.getvalues()"
   ]
  },
  {
   "cell_type": "code",
   "execution_count": 71,
   "metadata": {},
   "outputs": [],
   "source": [
    "d = dict_parcing([1,2,3,4,5,6,7])"
   ]
  },
  {
   "cell_type": "code",
   "execution_count": 72,
   "metadata": {},
   "outputs": [
    {
     "ename": "Exception",
     "evalue": "([1, 2, 3, 4, 5, 6, 7], 'Not a dictionary.')",
     "output_type": "error",
     "traceback": [
      "\u001b[1;31m---------------------------------------------------------------------------\u001b[0m",
      "\u001b[1;31mException\u001b[0m                                 Traceback (most recent call last)",
      "Cell \u001b[1;32mIn[72], line 1\u001b[0m\n\u001b[1;32m----> 1\u001b[0m d\u001b[39m.\u001b[39;49mnotdict()\n",
      "Cell \u001b[1;32mIn[67], line 25\u001b[0m, in \u001b[0;36mdict_parcing.notdict\u001b[1;34m(self)\u001b[0m\n\u001b[0;32m     23\u001b[0m \u001b[39mdef\u001b[39;00m \u001b[39mnotdict\u001b[39m(\u001b[39mself\u001b[39m):\n\u001b[0;32m     24\u001b[0m     \u001b[39mif\u001b[39;00m \u001b[39mtype\u001b[39m(\u001b[39mself\u001b[39m\u001b[39m.\u001b[39ma) \u001b[39m!=\u001b[39m \u001b[39mdict\u001b[39m:\n\u001b[1;32m---> 25\u001b[0m         \u001b[39mraise\u001b[39;00m \u001b[39mException\u001b[39;00m(\u001b[39mself\u001b[39m\u001b[39m.\u001b[39ma, \u001b[39m\"\u001b[39m\u001b[39mNot a dictionary.\u001b[39m\u001b[39m\"\u001b[39m)\n\u001b[0;32m     26\u001b[0m     \u001b[39mreturn\u001b[39;00m \u001b[39m1\u001b[39m\n",
      "\u001b[1;31mException\u001b[0m: ([1, 2, 3, 4, 5, 6, 7], 'Not a dictionary.')"
     ]
    }
   ],
   "source": [
    "d.notdict()"
   ]
  },
  {
   "cell_type": "code",
   "execution_count": 73,
   "metadata": {},
   "outputs": [
    {
     "name": "stdout",
     "output_type": "stream",
     "text": [
      "{'k1': 'ineuron'} <class 'dict'>\n",
      "['k1']\n",
      "['ineuron']\n"
     ]
    }
   ],
   "source": [
    "d.userinput() #{\"k1\" : \"ineuron\"}"
   ]
  },
  {
   "cell_type": "code",
   "execution_count": 75,
   "metadata": {},
   "outputs": [],
   "source": [
    "d.insertion(\"k2\", \"sudh\")"
   ]
  },
  {
   "cell_type": "markdown",
   "metadata": {},
   "source": [
    "# Student Solution No.2"
   ]
  },
  {
   "cell_type": "code",
   "execution_count": 79,
   "metadata": {},
   "outputs": [],
   "source": [
    "class dictparser:\n",
    "\n",
    "    def __init__(self, d):\n",
    "        self.d = d\n",
    "\n",
    "    def mykeys(self):\n",
    "        if type(d) == dict:\n",
    "            return self.d.keys()\n",
    "\n",
    "    def myvalues(self):\n",
    "        if type(d) == dict:   #inga again and agian dtype check pandrom\n",
    "            #adhan mela eludhuna code la just function name ah recall panni use panni irundhanga\n",
    "            #thats why sudhanshu sir said that's looking best and modular\n",
    "            return self.d.values()\n",
    "\n",
    "    def inputkey(self):\n",
    "        self.mykey = input()\n",
    "        try:\n",
    "            return self.d[self.mykey]\n",
    "        except Exception as e:\n",
    "            print(e)\n",
    "\n",
    "    def newvalue(self, mykey1, myval1):\n",
    "        if type(self.d) == dict: #inga again and agian dtype check pandrom\n",
    "            self.d[mykey1] == myval1"
   ]
  },
  {
   "cell_type": "markdown",
   "metadata": {},
   "source": [
    "# Student's Solution No.3"
   ]
  },
  {
   "cell_type": "code",
   "execution_count": 80,
   "metadata": {},
   "outputs": [],
   "source": [
    "class not_a_dictionary(Exception):\n",
    "    pass\n",
    "\n",
    "class dictionary():\n",
    "    def __init__(self,d):\n",
    "        self.d = d\n",
    "\n",
    "    def return_keys(self):\n",
    "        return self.d.keys()\n",
    "\n",
    "    def return_values(self):\n",
    "        return self.d.values()\n",
    "\n",
    "    def check_dict(self):\n",
    "        if type(self.d) == dict:\n",
    "            raise(not_a_dictionary)\n",
    "\n",
    "    def parse_dict(self):\n",
    "        self.d={}\n",
    "        while True:\n",
    "            key = input(\"Enter your key here : (press -1 to exit)\")\n",
    "            value = input(\"Enter your value here : (press -1 to exit)\")\n",
    "\n",
    "            if key == \"-1\" or value == \"-1\":\n",
    "                break\n",
    "\n",
    "            self.d[key] = value\n",
    "        return \"Now your dictionary is : \", self.d\n",
    "\n",
    "    def add_key_value(self, key, value):\n",
    "        self.d[key]  = value"
   ]
  },
  {
   "cell_type": "markdown",
   "metadata": {},
   "source": [
    "# Student solution no.4"
   ]
  },
  {
   "cell_type": "code",
   "execution_count": 81,
   "metadata": {},
   "outputs": [],
   "source": [
    "class dict_parser:\n",
    "\n",
    "    def __init__(self, dic):\n",
    "        if type(dic) != dic:\n",
    "            raise ValueError(\"Input is not dictionary\")\n",
    "        self.dictionary = dic\n",
    "\n",
    "    def get_key(self):\n",
    "        return self.dictionary.keys()\n",
    "\n",
    "    def get_values(self):\n",
    "        return self.dictionary.values()\n",
    "\n",
    "    def take_input(self):\n",
    "        a = input(\"enter key : \")\n",
    "        b = input(\"enter value : \")\n",
    "        self.dictinary[a] = b\n",
    "\n",
    "    def insert_key_val_pair(self, key, value):\n",
    "        self.dictinary[key] = value"
   ]
  },
  {
   "cell_type": "markdown",
   "metadata": {},
   "source": [
    "# Ok Now he have a another question for us\n",
    "\n"
   ]
  },
  {
   "cell_type": "markdown",
   "metadata": {},
   "source": [
    "Yesterday he was talking about modules and packages\n",
    "\n",
    "so now what we are suppposed to do is \n",
    "\n",
    "to integrate these things with models and packages"
   ]
  },
  {
   "cell_type": "markdown",
   "metadata": {},
   "source": [
    "#### Namma mela eludhi irukka class function ah ippa oru new notebook la use pannanum na namme modules and package use panni eludhanum"
   ]
  },
  {
   "cell_type": "markdown",
   "metadata": {},
   "source": [
    "Adha epdi eludhuradhunu pakalam.\n",
    "\n",
    "asusual namma eppayum eludhura madhiri dhan. (oru file create panni adhula code ah eludhi vachu endha new notebook la yum import panni eludhuradhu)"
   ]
  },
  {
   "cell_type": "markdown",
   "metadata": {},
   "source": [
    "Notepad ++ la my_dict nu oru file create panni mela eludhi irukka (Student solution No 1) code ah adhula paste panni irukean\n",
    "\n",
    "\n",
    "and idha test panna new ah oops part 1 demo nu oru ipynb file create panni irukean"
   ]
  },
  {
   "cell_type": "markdown",
   "metadata": {},
   "source": [
    "# HERE SEE OUR OOPS PART 1 DEMO\n",
    "\n",
    "AFTER THAT"
   ]
  },
  {
   "cell_type": "markdown",
   "metadata": {},
   "source": [
    "I have a questions for you, I have give you couple of questions."
   ]
  },
  {
   "cell_type": "markdown",
   "metadata": {},
   "source": [
    "1. Create your own package for all the list function\n",
    "\n",
    "2. create your own package for all the tuple function\n",
    "\n",
    "3. Create your own package for all the dictionary function\n",
    "\n",
    "4. Create your own package for all the set function"
   ]
  },
  {
   "cell_type": "markdown",
   "metadata": {},
   "source": [
    "RESTRICTION (RULES/ GUIDELINES) :"
   ]
  },
  {
   "cell_type": "markdown",
   "metadata": {},
   "source": [
    "    Always use exception handling\n",
    "\n",
    "    Never use print statement\n",
    "\n",
    "    Always use logging while writing a code and log every activity performed by code in respective logging file.\n",
    "\n",
    "You have to submit this task before next sunday (one week of time) before january 30.\n",
    "\n",
    "(send to sudhanshu@ineuron.ai)"
   ]
  },
  {
   "cell_type": "markdown",
   "metadata": {},
   "source": [
    "                                                            - Completed"
   ]
  },
  {
   "cell_type": "markdown",
   "metadata": {},
   "source": [
    "                                                                                                          - SANTHOSH KUMAR"
   ]
  }
 ],
 "metadata": {
  "kernelspec": {
   "display_name": "Python 3 (ipykernel)",
   "language": "python",
   "name": "python3"
  },
  "language_info": {
   "codemirror_mode": {
    "name": "ipython",
    "version": 3
   },
   "file_extension": ".py",
   "mimetype": "text/x-python",
   "name": "python",
   "nbconvert_exporter": "python",
   "pygments_lexer": "ipython3",
   "version": "3.9.7"
  },
  "vscode": {
   "interpreter": {
    "hash": "180f8518baccd74e1e77565faed7e8576f26917e6b201f6b9516078dc879945e"
   }
  }
 },
 "nbformat": 4,
 "nbformat_minor": 2
}
