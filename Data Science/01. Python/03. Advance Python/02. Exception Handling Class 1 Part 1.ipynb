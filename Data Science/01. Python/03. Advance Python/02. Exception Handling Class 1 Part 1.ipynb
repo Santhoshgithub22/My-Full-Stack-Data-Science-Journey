{
 "cells": [
  {
   "cell_type": "markdown",
   "metadata": {},
   "source": [
    "# Exception Handling"
   ]
  },
  {
   "cell_type": "markdown",
   "metadata": {},
   "source": [
    "What is exception handling?\n",
    "\n",
    "Where we use exception?\n",
    "\n",
    "Why exception handling and why its requierd in case of the programming?"
   ]
  },
  {
   "cell_type": "markdown",
   "metadata": {},
   "source": [
    "# Without Exception handling its very very difficult to write a safe code"
   ]
  },
  {
   "cell_type": "markdown",
   "metadata": {},
   "source": [
    "We dont know it is going to work or it is not going to work in a production.\n",
    "\n",
    "While writing a code there is a very very high chance that we will make a mistake.  That mistake is going to cause that kind of the problem in run time."
   ]
  },
  {
   "cell_type": "markdown",
   "metadata": {},
   "source": [
    "# So, What we are supposed to do is ?"
   ]
  },
  {
   "cell_type": "markdown",
   "metadata": {},
   "source": [
    "We are supposed to handle it in such a way it is not going to crash over all the program."
   ]
  },
  {
   "cell_type": "markdown",
   "metadata": {},
   "source": [
    "# Why exception handling?"
   ]
  },
  {
   "cell_type": "markdown",
   "metadata": {},
   "source": [
    "There is a very high chance that I will end up writing a code which is not going to work in a production."
   ]
  },
  {
   "cell_type": "markdown",
   "metadata": {},
   "source": [
    "Eg."
   ]
  },
  {
   "cell_type": "markdown",
   "metadata": {},
   "source": [
    "a / 10 working well, but a/0 not going to work.\n",
    "\n",
    "a/0 code is synthetically correct but output wise it is not going to give a any kind of error.\n",
    "\n",
    "It is going to give you exception (zero division error) error we got."
   ]
  },
  {
   "cell_type": "markdown",
   "metadata": {},
   "source": [
    "# We all know anything is divide by zero (0) is infinity"
   ]
  },
  {
   "cell_type": "markdown",
   "metadata": {},
   "source": [
    "Here its raising error, but when we write the same code (a/0) using numpy packages, it will not show any error at all, because in numpy we will able to find the notation called as inf (infinity)."
   ]
  },
  {
   "cell_type": "code",
   "execution_count": 3,
   "metadata": {},
   "outputs": [],
   "source": [
    "a = 5"
   ]
  },
  {
   "cell_type": "code",
   "execution_count": 4,
   "metadata": {},
   "outputs": [
    {
     "data": {
      "text/plain": [
       "0.5"
      ]
     },
     "execution_count": 4,
     "metadata": {},
     "output_type": "execute_result"
    }
   ],
   "source": [
    "a/10"
   ]
  },
  {
   "cell_type": "code",
   "execution_count": 5,
   "metadata": {},
   "outputs": [
    {
     "ename": "ZeroDivisionError",
     "evalue": "division by zero",
     "output_type": "error",
     "traceback": [
      "\u001b[1;31m---------------------------------------------------------------------------\u001b[0m",
      "\u001b[1;31mZeroDivisionError\u001b[0m                         Traceback (most recent call last)",
      "Cell \u001b[1;32mIn[5], line 1\u001b[0m\n\u001b[1;32m----> 1\u001b[0m a\u001b[39m/\u001b[39;49m\u001b[39m0\u001b[39;49m\n",
      "\u001b[1;31mZeroDivisionError\u001b[0m: division by zero"
     ]
    }
   ],
   "source": [
    "a/0"
   ]
  },
  {
   "cell_type": "code",
   "execution_count": 6,
   "metadata": {},
   "outputs": [
    {
     "ename": "ZeroDivisionError",
     "evalue": "division by zero",
     "output_type": "error",
     "traceback": [
      "\u001b[1;31m---------------------------------------------------------------------------\u001b[0m",
      "\u001b[1;31mZeroDivisionError\u001b[0m                         Traceback (most recent call last)",
      "Cell \u001b[1;32mIn[6], line 1\u001b[0m\n\u001b[1;32m----> 1\u001b[0m a\u001b[39m/\u001b[39;49m\u001b[39m0\u001b[39;49m\n\u001b[0;32m      3\u001b[0m \u001b[39m#here this code showing an error\u001b[39;00m\n\u001b[0;32m      4\u001b[0m \u001b[39m#but if we use a same code in python numpy, it will not show any kind of error at all.  It will show inf (infinity).\u001b[39;00m\n",
      "\u001b[1;31mZeroDivisionError\u001b[0m: division by zero"
     ]
    }
   ],
   "source": [
    "a/0\n",
    "\n",
    "#here this code showing an error\n",
    "#but if we use a same code in python numpy, it will not show any kind of error at all.  It will show inf (infinity)."
   ]
  },
  {
   "cell_type": "markdown",
   "metadata": {},
   "source": [
    "We all know program always execute itself in a sequential manner. (line by line)\n",
    "\n",
    "If at one place my program is give me a error, after that it will not going to execute anything."
   ]
  },
  {
   "cell_type": "markdown",
   "metadata": {},
   "source": [
    "# Eg. "
   ]
  },
  {
   "cell_type": "markdown",
   "metadata": {},
   "source": [
    "In below code my first line is wrong, but my second line of the code is correct,\n",
    "\n",
    "but its not executed once I faced errors."
   ]
  },
  {
   "cell_type": "code",
   "execution_count": 8,
   "metadata": {},
   "outputs": [
    {
     "ename": "ZeroDivisionError",
     "evalue": "division by zero",
     "output_type": "error",
     "traceback": [
      "\u001b[1;31m---------------------------------------------------------------------------\u001b[0m",
      "\u001b[1;31mZeroDivisionError\u001b[0m                         Traceback (most recent call last)",
      "Cell \u001b[1;32mIn[8], line 1\u001b[0m\n\u001b[1;32m----> 1\u001b[0m a\u001b[39m/\u001b[39;49m\u001b[39m0\u001b[39;49m\n\u001b[0;32m      3\u001b[0m \u001b[39mprint\u001b[39m(\u001b[39m\"\u001b[39m\u001b[39mthis is my program\u001b[39m\u001b[39m\"\u001b[39m)\n",
      "\u001b[1;31mZeroDivisionError\u001b[0m: division by zero"
     ]
    }
   ],
   "source": [
    "a/0\n",
    "\n",
    "print(\"this is my program\")"
   ]
  },
  {
   "cell_type": "markdown",
   "metadata": {},
   "source": [
    "# From today onwards whenever we are going to write a single line of the program, you are supposed to use exception  error method handling only."
   ]
  },
  {
   "cell_type": "code",
   "execution_count": 10,
   "metadata": {},
   "outputs": [
    {
     "data": {
      "text/plain": [
       "0.8333333333333334"
      ]
     },
     "execution_count": 10,
     "metadata": {},
     "output_type": "execute_result"
    }
   ],
   "source": [
    "a = 5\n",
    "b = int(input()) #6\n",
    "\n",
    "a/b"
   ]
  },
  {
   "cell_type": "code",
   "execution_count": 11,
   "metadata": {},
   "outputs": [
    {
     "ename": "ZeroDivisionError",
     "evalue": "division by zero",
     "output_type": "error",
     "traceback": [
      "\u001b[1;31m---------------------------------------------------------------------------\u001b[0m",
      "\u001b[1;31mZeroDivisionError\u001b[0m                         Traceback (most recent call last)",
      "Cell \u001b[1;32mIn[11], line 4\u001b[0m\n\u001b[0;32m      1\u001b[0m a \u001b[39m=\u001b[39m \u001b[39m5\u001b[39m\n\u001b[0;32m      2\u001b[0m b \u001b[39m=\u001b[39m \u001b[39mint\u001b[39m(\u001b[39minput\u001b[39m()) \u001b[39m#0\u001b[39;00m\n\u001b[1;32m----> 4\u001b[0m a\u001b[39m/\u001b[39;49mb\n",
      "\u001b[1;31mZeroDivisionError\u001b[0m: division by zero"
     ]
    }
   ],
   "source": [
    "a = 5\n",
    "b = int(input()) #0\n",
    "\n",
    "a/b"
   ]
  },
  {
   "cell_type": "markdown",
   "metadata": {},
   "source": [
    "In above line we got a error, we are supposed to handle such kind of the situation in a way that it not going to pass this kind of error.\n",
    "\n",
    "Ever in this kind of the error we want to handle it."
   ]
  },
  {
   "cell_type": "markdown",
   "metadata": {},
   "source": [
    "# How to able to do handle this kind of things automatically ?"
   ]
  },
  {
   "cell_type": "markdown",
   "metadata": {},
   "source": [
    "Whereever we are writing a suspicious code, where there is a chance it may fail in future because of some user input (some circumstances)\n",
    "\n",
    "so, just try to do one simple thing.\n",
    "\n",
    "# Try to put all of your code inside the block called as try block.\n",
    "\n",
    "#### so in exception handling you will be able to find out the block called as try block"
   ]
  },
  {
   "cell_type": "markdown",
   "metadata": {},
   "source": [
    "# In last class we saw some file handling codes"
   ]
  },
  {
   "cell_type": "markdown",
   "metadata": {},
   "source": [
    "Eg."
   ]
  },
  {
   "cell_type": "code",
   "execution_count": 13,
   "metadata": {},
   "outputs": [],
   "source": [
    "f = open(\"test1.txt\", \"x\") #file creation"
   ]
  },
  {
   "cell_type": "markdown",
   "metadata": {},
   "source": [
    "Below code will give me a error, because we are opened in reading mode, but we overwriting some datas.\n",
    "\n",
    "If we want to write, we should open the file into write mode."
   ]
  },
  {
   "cell_type": "markdown",
   "metadata": {},
   "source": [
    "First line will going to work, but second line will not going to work."
   ]
  },
  {
   "cell_type": "code",
   "execution_count": 15,
   "metadata": {},
   "outputs": [
    {
     "ename": "UnsupportedOperation",
     "evalue": "not writable",
     "output_type": "error",
     "traceback": [
      "\u001b[1;31m---------------------------------------------------------------------------\u001b[0m",
      "\u001b[1;31mUnsupportedOperation\u001b[0m                      Traceback (most recent call last)",
      "Cell \u001b[1;32mIn[15], line 2\u001b[0m\n\u001b[0;32m      1\u001b[0m f \u001b[39m=\u001b[39m \u001b[39mopen\u001b[39m(\u001b[39m\"\u001b[39m\u001b[39mtest1.txt\u001b[39m\u001b[39m\"\u001b[39m, \u001b[39m\"\u001b[39m\u001b[39mr\u001b[39m\u001b[39m\"\u001b[39m) \u001b[39m#reading file\u001b[39;00m\n\u001b[1;32m----> 2\u001b[0m f\u001b[39m.\u001b[39;49mwrite(\u001b[39m\"\u001b[39;49m\u001b[39masfsdadfadsfadsfadffagggggggg\u001b[39;49m\u001b[39m\"\u001b[39;49m) \u001b[39m#writing file\u001b[39;00m\n",
      "\u001b[1;31mUnsupportedOperation\u001b[0m: not writable"
     ]
    }
   ],
   "source": [
    "f = open(\"test1.txt\", \"r\") #reading file\n",
    "f.write(\"asfsdadfadsfadsfadffagggggggg\") #writing file"
   ]
  },
  {
   "cell_type": "code",
   "execution_count": 16,
   "metadata": {},
   "outputs": [
    {
     "data": {
      "text/plain": [
       "29"
      ]
     },
     "execution_count": 16,
     "metadata": {},
     "output_type": "execute_result"
    }
   ],
   "source": [
    "f = open(\"test1.txt\", \"w\") #open file in write mode\n",
    "f.write(\"asfsdadfadsfadsfadffagggggggg\") #writing file"
   ]
  },
  {
   "cell_type": "markdown",
   "metadata": {},
   "source": [
    "How to be aware from this kind of mistakes?\n",
    "\n",
    "we should write our all code in try block."
   ]
  },
  {
   "cell_type": "markdown",
   "metadata": {},
   "source": [
    "# Try Block"
   ]
  },
  {
   "cell_type": "markdown",
   "metadata": {},
   "source": [
    "Whatever code we are going to write in try block, it is going to provide a kind of the protection of your code.\n",
    "\n",
    "whatever code we are going to write inside a try block so I will try to protect you, I will try to raise a exception instead of raising a errors in python."
   ]
  },
  {
   "cell_type": "markdown",
   "metadata": {},
   "source": [
    "# How I (try) will able to handle it?"
   ]
  },
  {
   "cell_type": "markdown",
   "metadata": {},
   "source": [
    "Let's suppose I have written a suspicious code, I dont have a confidence at all.\n",
    "\n",
    "weather this code is going to work, or not work.\n",
    "\n",
    "I dont know but yes,\n",
    "\n",
    "So what I will do is I will write all this things inside a try block"
   ]
  },
  {
   "cell_type": "code",
   "execution_count": 17,
   "metadata": {},
   "outputs": [
    {
     "ename": "SyntaxError",
     "evalue": "incomplete input (3918436237.py, line 3)",
     "output_type": "error",
     "traceback": [
      "\u001b[1;36m  Cell \u001b[1;32mIn[17], line 3\u001b[1;36m\u001b[0m\n\u001b[1;33m    f.write(\"asdfafdsadfsafds\")\u001b[0m\n\u001b[1;37m                               ^\u001b[0m\n\u001b[1;31mSyntaxError\u001b[0m\u001b[1;31m:\u001b[0m incomplete input\n"
     ]
    }
   ],
   "source": [
    "# here I write a code to file in a read mode, but I'm trying to write something.\n",
    "\n",
    "# we know it will give me an error\n",
    "\n",
    "# but we written this code in inside the try block, so that try will able to protect me\n",
    "# whenever there will be an error so it will going to do something.\n",
    "\n",
    "# last time we got (unsupported operation - not writeble error)\n",
    "# now we write the same code inside the try block.\n",
    "\n",
    "\n",
    "try:\n",
    "    f = open(\"test1.txt\", \"r\")\n",
    "    f.write(\"asdfafdsadfsafds\")\n",
    "\n",
    "#again is a error (synthetical error)"
   ]
  },
  {
   "cell_type": "markdown",
   "metadata": {},
   "source": [
    "# There are 2 kind of the error you will able to find out"
   ]
  },
  {
   "cell_type": "markdown",
   "metadata": {},
   "source": [
    "# 1. Compile time error\n",
    "\n",
    "# 2. Run time error"
   ]
  },
  {
   "cell_type": "markdown",
   "metadata": {},
   "source": [
    "#### COMPILE TIME ERROR - Compile time error means let's suppose if I have done some sort of the synthetical mistake or may be if I have miss something in my code.  In that case it will going to give me a compile time error or synthetical error"
   ]
  },
  {
   "cell_type": "markdown",
   "metadata": {},
   "source": [
    "#### RUN TIME ERROR - Run time error we are able to receive when our code is perfectly fine.  but, when we are trying to execute it then it is trying to go a exception or we are get the errors.\n",
    "\n",
    "Code wise correct (all lines) but it depends up on the user input.\n",
    "If user entered 7, it will not going to give me any kind of error.\n",
    "But, if user entered 0, it will show errors.  This type of error is called as run time error."
   ]
  },
  {
   "cell_type": "markdown",
   "metadata": {},
   "source": [
    "There is no mistake in my code, but if I give different different input, it will show error sometimes depends on input.\n",
    "\n",
    "This type of error is called as run time error."
   ]
  },
  {
   "cell_type": "markdown",
   "metadata": {},
   "source": [
    "# So, it has raised as exception, Exception has been created to handle a run time error not for synthetical error at all."
   ]
  },
  {
   "cell_type": "markdown",
   "metadata": {},
   "source": [
    "# In case of the synthetical error (Compile time error) our exception handling will not going to work"
   ]
  },
  {
   "cell_type": "markdown",
   "metadata": {},
   "source": [
    "Whenever we have a synthetical error compiler itself will not allow you to execute your code.\n",
    "\n",
    "It will tell you, yes you've made a mistake in a particular line so please try to rectify it then only I allow you to execute the complete code."
   ]
  },
  {
   "cell_type": "markdown",
   "metadata": {},
   "source": [
    "# COMPILE TIME ERROR will be handle initially by yourself and\n",
    "\n",
    "# RUN TIME ERROR you will be able to handle with the help of try, except and finally "
   ]
  },
  {
   "cell_type": "markdown",
   "metadata": {},
   "source": [
    "# What is this try and except block ?"
   ]
  },
  {
   "cell_type": "markdown",
   "metadata": {},
   "source": [
    "I have written the suspicious code, I have a doubt that this code is not going to work.\n",
    "\n",
    "I'm feeling I'm not confidence in this code, \n",
    "\n",
    "In this situation I will write all my code inside try and except block without anychanges."
   ]
  },
  {
   "cell_type": "code",
   "execution_count": 20,
   "metadata": {},
   "outputs": [
    {
     "ename": "SyntaxError",
     "evalue": "incomplete input (3761735344.py, line 4)",
     "output_type": "error",
     "traceback": [
      "\u001b[1;36m  Cell \u001b[1;32mIn[20], line 4\u001b[1;36m\u001b[0m\n\u001b[1;33m    f.write(\"sadfsdaf\")\u001b[0m\n\u001b[1;37m                       ^\u001b[0m\n\u001b[1;31mSyntaxError\u001b[0m\u001b[1;31m:\u001b[0m incomplete input\n"
     ]
    }
   ],
   "source": [
    "try:\n",
    "\n",
    "    f = open(\"test1.txt\", \"r\")\n",
    "    f.write(\"sadfsdaf\")"
   ]
  },
  {
   "cell_type": "markdown",
   "metadata": {},
   "source": [
    "Whenever there will be an error, what I will do is ?\n",
    "\n",
    "I will try to handle those errors, so it will not going to throw all of errors into your console."
   ]
  },
  {
   "cell_type": "code",
   "execution_count": 21,
   "metadata": {},
   "outputs": [
    {
     "name": "stdout",
     "output_type": "stream",
     "text": [
      "there was a mistake\n"
     ]
    }
   ],
   "source": [
    "try:\n",
    "    f = open(\"test1.txt\", \"r\")\n",
    "    f.write(\"afdadsfadf\")\n",
    "\n",
    "except:\n",
    "    print(\"there was a mistake\")"
   ]
  },
  {
   "cell_type": "markdown",
   "metadata": {},
   "source": [
    "# What is difference between try block and except block?"
   ]
  },
  {
   "cell_type": "markdown",
   "metadata": {},
   "source": [
    "Whatever suspicious code we are going to write, lots of wrong code, \n",
    "\n",
    "If I have written a code.\n",
    "\n",
    "But If I made a mistake in try block directly that line will come to the except block statement."
   ]
  },
  {
   "cell_type": "markdown",
   "metadata": {},
   "source": [
    "# If we use except block we will not getting the same kind of the error received last time."
   ]
  },
  {
   "cell_type": "markdown",
   "metadata": {},
   "source": [
    "Let me do one more thing"
   ]
  },
  {
   "cell_type": "markdown",
   "metadata": {},
   "source": [
    "Same code ah exception handling use pannama eludhuna namakku run agala 3rd line la irukka print statement\n",
    "\n",
    "but, exception handling use panna nammakku ellame proper ah nadakudhu"
   ]
  },
  {
   "cell_type": "markdown",
   "metadata": {},
   "source": [
    "# Handle means what?"
   ]
  },
  {
   "cell_type": "markdown",
   "metadata": {},
   "source": [
    "If there is an error then what should happen (Inside the except block message)"
   ]
  },
  {
   "cell_type": "code",
   "execution_count": 24,
   "metadata": {},
   "outputs": [
    {
     "ename": "UnsupportedOperation",
     "evalue": "not writable",
     "output_type": "error",
     "traceback": [
      "\u001b[1;31m---------------------------------------------------------------------------\u001b[0m",
      "\u001b[1;31mUnsupportedOperation\u001b[0m                      Traceback (most recent call last)",
      "Cell \u001b[1;32mIn[24], line 4\u001b[0m\n\u001b[0;32m      1\u001b[0m \u001b[39m# it will not run until end, because code will run in a sequential manner.\u001b[39;00m\n\u001b[0;32m      3\u001b[0m f \u001b[39m=\u001b[39m \u001b[39mopen\u001b[39m(\u001b[39m\"\u001b[39m\u001b[39mtest1.txt\u001b[39m\u001b[39m\"\u001b[39m, \u001b[39m\"\u001b[39m\u001b[39mr\u001b[39m\u001b[39m\"\u001b[39m)\n\u001b[1;32m----> 4\u001b[0m f\u001b[39m.\u001b[39;49mwrite(\u001b[39m\"\u001b[39;49m\u001b[39mafdadsfadf\u001b[39;49m\u001b[39m\"\u001b[39;49m)\n\u001b[0;32m      5\u001b[0m \u001b[39mprint\u001b[39m(\u001b[39m\"\u001b[39m\u001b[39masdfadsfassdf\u001b[39m\u001b[39m\"\u001b[39m)\n",
      "\u001b[1;31mUnsupportedOperation\u001b[0m: not writable"
     ]
    }
   ],
   "source": [
    "# it will not run until end, because code will run in a sequential manner.\n",
    "\n",
    "f = open(\"test1.txt\", \"r\")\n",
    "f.write(\"afdadsfadf\")\n",
    "print(\"asdfadsfassdf\")"
   ]
  },
  {
   "cell_type": "code",
   "execution_count": 25,
   "metadata": {},
   "outputs": [
    {
     "name": "stdout",
     "output_type": "stream",
     "text": [
      "there was a mistake\n",
      "this is my code\n"
     ]
    }
   ],
   "source": [
    "try:\n",
    "    f = open(\"test1.txt\", \"r\")\n",
    "    f.write(\"afdadsfadf\")\n",
    "\n",
    "except:\n",
    "    print(\"there was a mistake\")\n",
    "\n",
    "print(\"this is my code\")"
   ]
  },
  {
   "cell_type": "markdown",
   "metadata": {},
   "source": [
    "# I write all the code in a try block.  but, if there is an error, what will happen? it is going to throw an error\n",
    "\n",
    "# To throw an error to whom ?\n",
    "\n",
    "#### To except block\n",
    "\n",
    "#### so, except block always try to handle your error, \n",
    "#### it is going to handle your mistake, that mistake is going to happen may be in a run time & that will be handled by your except block."
   ]
  },
  {
   "cell_type": "markdown",
   "metadata": {},
   "source": [
    "# Suppose, if I write only try block\n",
    "\n",
    "In that case its a synthetical mistake"
   ]
  },
  {
   "cell_type": "code",
   "execution_count": 26,
   "metadata": {},
   "outputs": [
    {
     "ename": "SyntaxError",
     "evalue": "incomplete input (906251722.py, line 3)",
     "output_type": "error",
     "traceback": [
      "\u001b[1;36m  Cell \u001b[1;32mIn[26], line 3\u001b[1;36m\u001b[0m\n\u001b[1;33m    f.write(\"afdadsfadf\")\u001b[0m\n\u001b[1;37m                         ^\u001b[0m\n\u001b[1;31mSyntaxError\u001b[0m\u001b[1;31m:\u001b[0m incomplete input\n"
     ]
    }
   ],
   "source": [
    "try:\n",
    "    f = open(\"test1.txt\", \"r\")\n",
    "    f.write(\"afdadsfadf\")"
   ]
  },
  {
   "cell_type": "markdown",
   "metadata": {},
   "source": [
    "# Except block is mandatory"
   ]
  },
  {
   "cell_type": "markdown",
   "metadata": {},
   "source": [
    "Below code is a compile time error (synthetical mistakes made - for loop la in podala)"
   ]
  },
  {
   "cell_type": "code",
   "execution_count": 29,
   "metadata": {},
   "outputs": [
    {
     "ename": "SyntaxError",
     "evalue": "invalid syntax (333186933.py, line 3)",
     "output_type": "error",
     "traceback": [
      "\u001b[1;36m  Cell \u001b[1;32mIn[29], line 3\u001b[1;36m\u001b[0m\n\u001b[1;33m    for i range(len(l)):\u001b[0m\n\u001b[1;37m          ^\u001b[0m\n\u001b[1;31mSyntaxError\u001b[0m\u001b[1;31m:\u001b[0m invalid syntax\n"
     ]
    }
   ],
   "source": [
    "l = [4,5,6,7,8,9,8,9,0]\n",
    "\n",
    "for i range(len(l)):\n",
    "    print(l)"
   ]
  },
  {
   "cell_type": "markdown",
   "metadata": {},
   "source": [
    "Suppose, I'm going to same code in try & except block let's see"
   ]
  },
  {
   "cell_type": "markdown",
   "metadata": {},
   "source": [
    "In below line even though I have written entire code in try and except block, still its not going to handle. why ?\n",
    "\n",
    "Because, its a synthetical mistake I have made, not a run time error.\n",
    "\n",
    "So, dont think that it will going to all of your mistakes. no, its not like that, otherwise program is not required one."
   ]
  },
  {
   "cell_type": "markdown",
   "metadata": {},
   "source": [
    "It is not going to handle your synthetical mistakes at all only run time error will handled."
   ]
  },
  {
   "cell_type": "code",
   "execution_count": 31,
   "metadata": {},
   "outputs": [
    {
     "ename": "SyntaxError",
     "evalue": "invalid syntax (2875155483.py, line 4)",
     "output_type": "error",
     "traceback": [
      "\u001b[1;36m  Cell \u001b[1;32mIn[31], line 4\u001b[1;36m\u001b[0m\n\u001b[1;33m    for i range(len(l)):\u001b[0m\n\u001b[1;37m          ^\u001b[0m\n\u001b[1;31mSyntaxError\u001b[0m\u001b[1;31m:\u001b[0m invalid syntax\n"
     ]
    }
   ],
   "source": [
    "#synthetical mistake\n",
    "\n",
    "l = [4,5,6,7,8,9,8,9,0]\n",
    "\n",
    "try:\n",
    "    for i range(len(l)):\n",
    "        print(i)\n",
    "\n",
    "except:\n",
    "    print(\"you made a mistake\")"
   ]
  },
  {
   "cell_type": "code",
   "execution_count": 32,
   "metadata": {},
   "outputs": [
    {
     "name": "stdout",
     "output_type": "stream",
     "text": [
      "0\n",
      "1\n",
      "2\n",
      "3\n",
      "4\n",
      "5\n",
      "6\n",
      "7\n",
      "8\n"
     ]
    }
   ],
   "source": [
    "# now synthetically this code is correct\n",
    "\n",
    "l = [4,5,6,7,8,9,8,9,0]\n",
    "\n",
    "try:\n",
    "    for i in range(len(l)):\n",
    "        print(i)\n",
    "\n",
    "except:\n",
    "    print(\"you made a mistatke\")"
   ]
  },
  {
   "cell_type": "code",
   "execution_count": 33,
   "metadata": {},
   "outputs": [
    {
     "name": "stdout",
     "output_type": "stream",
     "text": [
      "0\n",
      "1\n",
      "2\n",
      "3\n",
      "4\n",
      "5\n",
      "6\n",
      "7\n",
      "8\n",
      "9\n"
     ]
    }
   ],
   "source": [
    "l = [4,5,6,7,8,9,8,9,0]\n",
    "\n",
    "try:\n",
    "    for i in range(len(l)+1): #here +1 potu run aanalum run aagum.\n",
    "        print(i)\n",
    "\n",
    "except:\n",
    "    print(\"you made a mistatke\")"
   ]
  },
  {
   "cell_type": "code",
   "execution_count": 39,
   "metadata": {},
   "outputs": [
    {
     "name": "stdout",
     "output_type": "stream",
     "text": [
      "4\n",
      "5\n",
      "6\n",
      "7\n",
      "8\n",
      "9\n",
      "8\n",
      "9\n",
      "0\n"
     ]
    },
    {
     "ename": "IndexError",
     "evalue": "list index out of range",
     "output_type": "error",
     "traceback": [
      "\u001b[1;31m---------------------------------------------------------------------------\u001b[0m",
      "\u001b[1;31mIndexError\u001b[0m                                Traceback (most recent call last)",
      "Cell \u001b[1;32mIn[39], line 6\u001b[0m\n\u001b[0;32m      3\u001b[0m l \u001b[39m=\u001b[39m [\u001b[39m4\u001b[39m,\u001b[39m5\u001b[39m,\u001b[39m6\u001b[39m,\u001b[39m7\u001b[39m,\u001b[39m8\u001b[39m,\u001b[39m9\u001b[39m,\u001b[39m8\u001b[39m,\u001b[39m9\u001b[39m,\u001b[39m0\u001b[39m]\n\u001b[0;32m      5\u001b[0m \u001b[39mfor\u001b[39;00m i \u001b[39min\u001b[39;00m \u001b[39mrange\u001b[39m(\u001b[39mlen\u001b[39m(l)\u001b[39m+\u001b[39m\u001b[39m1\u001b[39m): \u001b[39m#here +1 potu run aanalum run aagum.\u001b[39;00m\n\u001b[1;32m----> 6\u001b[0m     \u001b[39mprint\u001b[39m(l[i])\n",
      "\u001b[1;31mIndexError\u001b[0m: list index out of range"
     ]
    }
   ],
   "source": [
    "#here we got a index error for not using try and except block\n",
    "\n",
    "l = [4,5,6,7,8,9,8,9,0]\n",
    "\n",
    "for i in range(len(l)+1): #here +1 potu run aanalum run aagum.\n",
    "    print(l[i])"
   ]
  },
  {
   "cell_type": "code",
   "execution_count": 37,
   "metadata": {},
   "outputs": [
    {
     "ename": "SyntaxError",
     "evalue": "incomplete input (2954376464.py, line 7)",
     "output_type": "error",
     "traceback": [
      "\u001b[1;36m  Cell \u001b[1;32mIn[37], line 7\u001b[1;36m\u001b[0m\n\u001b[1;33m    print(l[i])\u001b[0m\n\u001b[1;37m               ^\u001b[0m\n\u001b[1;31mSyntaxError\u001b[0m\u001b[1;31m:\u001b[0m incomplete input\n"
     ]
    }
   ],
   "source": [
    "#here we got a error for not using except block\n",
    "\n",
    "l = [4,5,6,7,8,9,8,9,0]\n",
    "\n",
    "try:\n",
    "    for i in range(len(l)+1): #here +1 potu run aanalum run aagum.\n",
    "        print(l[i])"
   ]
  },
  {
   "cell_type": "code",
   "execution_count": 38,
   "metadata": {},
   "outputs": [
    {
     "name": "stdout",
     "output_type": "stream",
     "text": [
      "4\n",
      "5\n",
      "6\n",
      "7\n",
      "8\n",
      "9\n",
      "8\n",
      "9\n",
      "0\n",
      "you made a mistake\n"
     ]
    }
   ],
   "source": [
    "#here our error has gone because we used except block, whenever in this code we faced error it will throw into a except block\n",
    "\n",
    "l = [4,5,6,7,8,9,8,9,0]\n",
    "\n",
    "try:\n",
    "    for i in range(len(l)+1): #here +1 potu run aanalum run aagum.\n",
    "        print(l[i])\n",
    "\n",
    "except:\n",
    "    print(\"you made a mistake\")"
   ]
  },
  {
   "cell_type": "code",
   "execution_count": 42,
   "metadata": {},
   "outputs": [
    {
     "name": "stdout",
     "output_type": "stream",
     "text": [
      "4\n",
      "5\n",
      "6\n",
      "7\n",
      "8\n",
      "9\n",
      "8\n",
      "9\n",
      "0\n",
      "you made a mistake\n",
      "this is my code\n"
     ]
    }
   ],
   "source": [
    "# after wrong line it will not going to stop, it will execute,\n",
    "# it has handled the particular error\n",
    "# it will always handle that error run time error only, not the compile time error at all.\n",
    "\n",
    "l = [4,5,6,7,8,9,8,9,0]\n",
    "\n",
    "try:\n",
    "    for i in range(len(l)+1): #here +1 potu run aanalum run aagum.\n",
    "        print(l[i])\n",
    "\n",
    "except:\n",
    "    print(\"you made a mistake\")\n",
    "\n",
    "print(\"this is my code\")"
   ]
  },
  {
   "cell_type": "markdown",
   "metadata": {},
   "source": [
    "This is what the try & except block is."
   ]
  },
  {
   "cell_type": "markdown",
   "metadata": {},
   "source": [
    "# Nature of error"
   ]
  },
  {
   "cell_type": "code",
   "execution_count": 44,
   "metadata": {},
   "outputs": [
    {
     "ename": "ZeroDivisionError",
     "evalue": "division by zero",
     "output_type": "error",
     "traceback": [
      "\u001b[1;31m---------------------------------------------------------------------------\u001b[0m",
      "\u001b[1;31mZeroDivisionError\u001b[0m                         Traceback (most recent call last)",
      "Cell \u001b[1;32mIn[44], line 1\u001b[0m\n\u001b[1;32m----> 1\u001b[0m \u001b[39m5\u001b[39;49m\u001b[39m/\u001b[39;49m\u001b[39m0\u001b[39;49m\n",
      "\u001b[1;31mZeroDivisionError\u001b[0m: division by zero"
     ]
    }
   ],
   "source": [
    "#nature of the error is zero division error.\n",
    "#index error, and so on.\n",
    "\n",
    "5/0"
   ]
  },
  {
   "cell_type": "markdown",
   "metadata": {},
   "source": [
    "In except block we got that our custom message I've been written, but Im not able to understand that what kind of the error actually is this."
   ]
  },
  {
   "cell_type": "markdown",
   "metadata": {},
   "source": [
    "We understand only one thing its coming to the except block, but Im not able to understand what mistake I've done.\n",
    "\n",
    "But, \n",
    "\n",
    "what kind of the error I have introduced,\n",
    "If I want to see that kind of error instead of except message, what should I do?"
   ]
  },
  {
   "cell_type": "markdown",
   "metadata": {},
   "source": [
    "# We want to use Exception word in except block"
   ]
  },
  {
   "cell_type": "code",
   "execution_count": 54,
   "metadata": {},
   "outputs": [
    {
     "name": "stdout",
     "output_type": "stream",
     "text": [
      "4\n",
      "5\n",
      "6\n",
      "7\n",
      "8\n",
      "9\n",
      "8\n",
      "9\n",
      "0\n",
      "there was a mistake list index out of range\n",
      "asfdadsfasdf\n"
     ]
    }
   ],
   "source": [
    "l = [4,5,6,7,8,9,8,9,0]\n",
    "\n",
    "try:\n",
    "    for i in range(len(l)+1):\n",
    "        print(l[i])\n",
    "\n",
    "except Exception as e:\n",
    "    print(\"there was a mistake\", e)\n",
    "\n",
    "print(\"asfdadsfasdf\")"
   ]
  },
  {
   "cell_type": "code",
   "execution_count": 51,
   "metadata": {},
   "outputs": [
    {
     "name": "stdout",
     "output_type": "stream",
     "text": [
      "4\n",
      "5\n",
      "6\n",
      "7\n",
      "8\n",
      "9\n",
      "8\n",
      "9\n",
      "0\n",
      "you made a mistake list index out of range\n",
      "this is my code\n"
     ]
    }
   ],
   "source": [
    "l = [4,5,6,7,8,9,8,9,0]\n",
    "\n",
    "try:\n",
    "    for i in range(len(l)+1): #here +1 potu run aanalum run aagum.\n",
    "        print(l[i])\n",
    "\n",
    "except Exception as e:\n",
    "    print(\"you made a mistake\", e)\n",
    "\n",
    "print(\"this is my code\")"
   ]
  },
  {
   "cell_type": "code",
   "execution_count": 55,
   "metadata": {},
   "outputs": [
    {
     "name": "stdout",
     "output_type": "stream",
     "text": [
      "4\n",
      "5\n",
      "6\n",
      "7\n",
      "8\n",
      "9\n",
      "8\n",
      "9\n",
      "0\n",
      "list index out of range\n",
      "this is my code\n"
     ]
    }
   ],
   "source": [
    "l = [4,5,6,7,8,9,8,9,0]\n",
    "\n",
    "try:\n",
    "    for i in range(len(l)+1): #here +1 potu run aanalum run aagum.\n",
    "        print(l[i])\n",
    "\n",
    "except Exception as e:\n",
    "    print(e) #it will show what is the error\n",
    "\n",
    "print(\"this is my code\")"
   ]
  },
  {
   "cell_type": "markdown",
   "metadata": {},
   "source": [
    "If I would like to do something, \n",
    "\n",
    "I have write one line of my code in try block"
   ]
  },
  {
   "cell_type": "code",
   "execution_count": 58,
   "metadata": {},
   "outputs": [
    {
     "name": "stdout",
     "output_type": "stream",
     "text": [
      "invalid literal for int() with base 10: 'asfasdfadsfadsf'\n"
     ]
    }
   ],
   "source": [
    "#user will give any kind of input\n",
    "try:\n",
    "    a=int(input()) #asfdadsf\n",
    "    b=int(input())\n",
    "except Exception as e:\n",
    "    print(e)\n",
    "\n",
    "#here we got a what kind of error in output\n",
    "# is it going to break your program? NO\n",
    "# if we write after that error line that code line will work, if that code line is correct"
   ]
  },
  {
   "cell_type": "code",
   "execution_count": 60,
   "metadata": {},
   "outputs": [
    {
     "name": "stdout",
     "output_type": "stream",
     "text": [
      "invalid literal for int() with base 10: 'asfdafds'\n",
      "this is my code after error line\n"
     ]
    }
   ],
   "source": [
    "try:\n",
    "    a=int(input()) #asdfadadsfads\n",
    "    b=int(input())\n",
    "except Exception as e:\n",
    "    print(e)\n",
    "print(\"this is my code after error line\") #eventhough entered wrong input, its working"
   ]
  },
  {
   "cell_type": "markdown",
   "metadata": {},
   "source": [
    "# Its possible to create my own exception class and write my own custom message"
   ]
  },
  {
   "cell_type": "markdown",
   "metadata": {},
   "source": [
    "Syntax error, index error, zero division error, type error all are written by someone,\n",
    "\n",
    "In the similar way we can able to create own exception class and able to write our own custom message."
   ]
  },
  {
   "cell_type": "code",
   "execution_count": 139,
   "metadata": {},
   "outputs": [],
   "source": [
    "def swapcase(s):\n",
    "    \n",
    "    l = []\n",
    "    for i in s:\n",
    "        if i.lower():\n",
    "            return l.append(i.upper())\n",
    "    return l"
   ]
  },
  {
   "cell_type": "code",
   "execution_count": 141,
   "metadata": {},
   "outputs": [],
   "source": [
    "swapcase(n)"
   ]
  },
  {
   "cell_type": "code",
   "execution_count": 169,
   "metadata": {},
   "outputs": [
    {
     "ename": "SyntaxError",
     "evalue": "invalid syntax (1297377236.py, line 8)",
     "output_type": "error",
     "traceback": [
      "\u001b[1;36m  Cell \u001b[1;32mIn[169], line 8\u001b[1;36m\u001b[0m\n\u001b[1;33m    l.append(i.lower(), , split=\" \")\u001b[0m\n\u001b[1;37m                        ^\u001b[0m\n\u001b[1;31mSyntaxError\u001b[0m\u001b[1;31m:\u001b[0m invalid syntax\n"
     ]
    }
   ],
   "source": [
    "def swapcase(n):\n",
    "    l = []\n",
    "\n",
    "    for i in n:\n",
    "        if i==i.lower:\n",
    "            l.append(i.upper(), split=\" \")\n",
    "        else:\n",
    "            l.append(i.lower(), , split=\" \")\n",
    "\n",
    "    return l\n",
    "\n",
    "\n",
    "            "
   ]
  },
  {
   "cell_type": "code",
   "execution_count": 170,
   "metadata": {},
   "outputs": [
    {
     "data": {
      "text/plain": [
       "['a', 'f', 'd', 'a', 'd', 's', 'f']"
      ]
     },
     "execution_count": 170,
     "metadata": {},
     "output_type": "execute_result"
    }
   ],
   "source": [
    "swapcase(\"afdadsf\")"
   ]
  },
  {
   "cell_type": "code",
   "execution_count": null,
   "metadata": {},
   "outputs": [],
   "source": []
  },
  {
   "cell_type": "code",
   "execution_count": 156,
   "metadata": {},
   "outputs": [],
   "source": [
    "def func(a):\n",
    "\n",
    "    for i in a:\n",
    "        if i==i.lower():\n",
    "            print(i.upper())"
   ]
  },
  {
   "cell_type": "code",
   "execution_count": 153,
   "metadata": {},
   "outputs": [],
   "source": [
    "c = \"adfsaadfs\""
   ]
  },
  {
   "cell_type": "code",
   "execution_count": 154,
   "metadata": {},
   "outputs": [
    {
     "name": "stdout",
     "output_type": "stream",
     "text": [
      "A\n",
      "D\n",
      "F\n",
      "S\n",
      "A\n",
      "A\n",
      "D\n",
      "F\n",
      "S\n"
     ]
    }
   ],
   "source": [
    "func(c)"
   ]
  },
  {
   "cell_type": "markdown",
   "metadata": {},
   "source": [
    "                                                    Completed\n",
    "\n",
    "                                                                                                Author : Santhosh Kumar"
   ]
  }
 ],
 "metadata": {
  "kernelspec": {
   "display_name": "Python 3 (ipykernel)",
   "language": "python",
   "name": "python3"
  },
  "language_info": {
   "codemirror_mode": {
    "name": "ipython",
    "version": 3
   },
   "file_extension": ".py",
   "mimetype": "text/x-python",
   "name": "python",
   "nbconvert_exporter": "python",
   "pygments_lexer": "ipython3",
   "version": "3.9.7"
  },
  "vscode": {
   "interpreter": {
    "hash": "180f8518baccd74e1e77565faed7e8576f26917e6b201f6b9516078dc879945e"
   }
  }
 },
 "nbformat": 4,
 "nbformat_minor": 2
}
