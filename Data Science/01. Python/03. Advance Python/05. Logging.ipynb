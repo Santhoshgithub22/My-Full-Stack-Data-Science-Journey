{
 "cells": [
  {
   "cell_type": "markdown",
   "metadata": {},
   "source": [
    "# LOGGING"
   ]
  },
  {
   "cell_type": "markdown",
   "metadata": {},
   "source": [
    "What is logging?\n",
    "\n",
    "Why logging is important?\n",
    "\n",
    "what we can acheive with the help of logging?"
   ]
  },
  {
   "cell_type": "markdown",
   "metadata": {},
   "source": [
    "Logging is the important concept, whenever we are writing a code anything will happen, there is a possibility my code may be it will work, or it will crash."
   ]
  },
  {
   "cell_type": "markdown",
   "metadata": {},
   "source": [
    "#### I would like to generate a stats, how much time one block of the code taken for execution so that I will able to observe time complexity of code."
   ]
  },
  {
   "cell_type": "markdown",
   "metadata": {},
   "source": [
    "# Why logging is important and what is meaning and uses of logging?"
   ]
  },
  {
   "cell_type": "markdown",
   "metadata": {},
   "source": [
    "Let suppose if I'm write a print message"
   ]
  },
  {
   "cell_type": "code",
   "execution_count": 1,
   "metadata": {},
   "outputs": [
    {
     "name": "stdout",
     "output_type": "stream",
     "text": [
      "adsasdffadsasdfafdsfdsa\n"
     ]
    }
   ],
   "source": [
    "print('adsasdffadsasdfafdsfdsa')"
   ]
  },
  {
   "cell_type": "markdown",
   "metadata": {},
   "source": [
    "So fine, it printed the print message in my console.."
   ]
  },
  {
   "cell_type": "markdown",
   "metadata": {},
   "source": [
    "# In production environment, we dont use the print keyword"
   ]
  },
  {
   "cell_type": "markdown",
   "metadata": {},
   "source": [
    "while writing a code in production may be just for the debugging purpose, for that kind of the value we received, for that kind of the value we would like to pass to the next one, or to create a pointers, break points."
   ]
  },
  {
   "cell_type": "markdown",
   "metadata": {},
   "source": [
    "# In a production strict prohibited to use the print keyword"
   ]
  },
  {
   "cell_type": "markdown",
   "metadata": {},
   "source": [
    "We never use the print keyword for just checking the statement too.\n",
    "\n",
    "(oru chinna condition kaga kooda production apa print word use panna kudadhu.)"
   ]
  },
  {
   "cell_type": "markdown",
   "metadata": {},
   "source": [
    "# We never call the print. then what we will call ?"
   ]
  },
  {
   "cell_type": "markdown",
   "metadata": {},
   "source": [
    "We call the logger.\n",
    "\n",
    "we call the logging module over there to acheive the same purpose\n",
    "\n",
    "whatever things that we used to log so we try to store it somewhere, (may be in some databases, may be in some file system)\n",
    "\n",
    "going forward when we learn databases, when we learn cloud platforms, delpoy our project and so on and that point of the time we will see we are not using printed we are actually using a logging module."
   ]
  },
  {
   "cell_type": "markdown",
   "metadata": {},
   "source": [
    "# What is the advantage of the using logging module?"
   ]
  },
  {
   "cell_type": "markdown",
   "metadata": {},
   "source": [
    "logging will always giving you a flexibility to understand what is the problem just happend which has happend my code and why my things has crashed and why my code is not working at any point of the time.\n",
    "\n",
    "Get some short the warning to the user or may be get some short the information.\n",
    "This is where logging has been used."
   ]
  },
  {
   "cell_type": "markdown",
   "metadata": {},
   "source": [
    "Let suppose, I have been written a code to transfer the file to one server into another server.\n",
    "\n",
    "This is the code which I have written."
   ]
  },
  {
   "cell_type": "markdown",
   "metadata": {},
   "source": [
    "Now because of some issue at night 4 O clock, My code is not working, so it has not transfered the file.\n",
    "\n",
    "I just applied the scheduler, and scheduler will run the code and then code will try to pick the file from one location and it will try to paste the file to another location.  This is the scenarion which I am looking for."
   ]
  },
  {
   "cell_type": "markdown",
   "metadata": {},
   "source": [
    "# May be in between the process something has failed"
   ]
  },
  {
   "cell_type": "markdown",
   "metadata": {},
   "source": [
    "May be there is no file was available and because of that it was not able to transfer it.  May be there was a file and not availabled in expected  format as per my code logic.  so in that case it will not able to transfer."
   ]
  },
  {
   "cell_type": "markdown",
   "metadata": {},
   "source": [
    "so there are infinite number of situation which may possible in the production environment."
   ]
  },
  {
   "cell_type": "markdown",
   "metadata": {},
   "source": [
    "Ok If I investigate tomorrow, day after tomorrow or may be after one month,\n",
    "\n",
    "I'm checking why this file was not transfered and How I will get to know."
   ]
  },
  {
   "cell_type": "markdown",
   "metadata": {},
   "source": [
    "If My business process is not working, then I should the investigation then only I will able to solve.\n",
    "\n",
    "If I'm not solve the problem, that problem will repeat again and again and again in future."
   ]
  },
  {
   "cell_type": "markdown",
   "metadata": {},
   "source": [
    "This is where logging comes into a picture"
   ]
  },
  {
   "cell_type": "markdown",
   "metadata": {},
   "source": [
    "# Logging comes"
   ]
  },
  {
   "cell_type": "markdown",
   "metadata": {},
   "source": [
    "logging is a way which will you will be able to keep track of your error, your info, your debug each and everything.\n",
    "\n",
    "so that in a future if you have to do some short of the investigation you all be able to do the investigation and whatever standard product you will be able to find out the standard product, \n",
    "\n",
    "weather it is a aws - in aws there is a 270+ stack is available\n",
    "\n",
    "weather it is a gcp and weather is a databases and everywhere.\n",
    "in everywhere we will able to find out these concept by default."
   ]
  },
  {
   "cell_type": "markdown",
   "metadata": {},
   "source": [
    "#### If we are working in production side or support side, we all are aware about it, we are go back to the date/day, when the error has happend and we are try to extract the log of it."
   ]
  },
  {
   "cell_type": "markdown",
   "metadata": {},
   "source": [
    "# If security attack in my system \n",
    "\n",
    "So what I will do, I will go and checkout my logs, what messages my system is showing and based on the I will try to encount the those things."
   ]
  },
  {
   "cell_type": "markdown",
   "metadata": {},
   "source": [
    "# Log will give the information about attack or no attack"
   ]
  },
  {
   "cell_type": "markdown",
   "metadata": {},
   "source": [
    "In logs has attacks or not attacked based on log informations, and based on that we try to build the rule and we try to cure the system."
   ]
  },
  {
   "cell_type": "markdown",
   "metadata": {},
   "source": [
    "So there is so many advantage to use in log."
   ]
  },
  {
   "cell_type": "markdown",
   "metadata": {},
   "source": [
    "# Each & Everywhere in the production environment, So, we always try to each and every step my code is going to take we are supposed to log.\n",
    "\n",
    "That is standard procedure that we used to follow."
   ]
  },
  {
   "cell_type": "markdown",
   "metadata": {},
   "source": [
    "#### Whatever I want, I will try to log it and this is where logging comes into the picture."
   ]
  },
  {
   "cell_type": "markdown",
   "metadata": {},
   "source": [
    "In every language you will able to find out the provision to log your messages for the future references."
   ]
  },
  {
   "cell_type": "markdown",
   "metadata": {},
   "source": [
    "# What kind of log we can create?\n",
    "\n",
    "# what kind of log we can try to insert?"
   ]
  },
  {
   "cell_type": "code",
   "execution_count": 2,
   "metadata": {},
   "outputs": [],
   "source": [
    "import logging"
   ]
  },
  {
   "cell_type": "markdown",
   "metadata": {},
   "source": [
    "# LOGGING IS THE SIMPLE WAY TO WRITE A MESSAGES THAT'S IT\n",
    "\n",
    "Nothing more than that"
   ]
  },
  {
   "cell_type": "markdown",
   "metadata": {},
   "source": [
    "print is not a standard procedure so that we all are supposed to use logging."
   ]
  },
  {
   "cell_type": "markdown",
   "metadata": {},
   "source": [
    "logging. potu tab press panna, we can able to find the so many things."
   ]
  },
  {
   "cell_type": "markdown",
   "metadata": {},
   "source": [
    "# In vscode we should use control space"
   ]
  },
  {
   "cell_type": "markdown",
   "metadata": {},
   "source": [
    "Logging means what?\n",
    "\n",
    "We are writing somethings into a file.\n",
    "\n",
    "For eg. (open file, and mode like read mode or write mode, and do something) in the similar way\n",
    "\n",
    "We are creating a another file which is logging based file this will be created by logging.basicconfig() and inside the basic config we will try to give file name over here. (we creating a log file name in test.log)"
   ]
  },
  {
   "cell_type": "code",
   "execution_count": 3,
   "metadata": {},
   "outputs": [],
   "source": [
    "import logging\n",
    "\n",
    "logging.basicConfig(filename = \"test1.log\") #we have a created a log file."
   ]
  },
  {
   "cell_type": "code",
   "execution_count": 4,
   "metadata": {},
   "outputs": [
    {
     "data": {
      "text/plain": [
       "'C:\\\\Users\\\\msant\\\\I Neuron Training\\\\3. Advanced Python'"
      ]
     },
     "execution_count": 4,
     "metadata": {},
     "output_type": "execute_result"
    }
   ],
   "source": [
    "pwd()"
   ]
  },
  {
   "cell_type": "markdown",
   "metadata": {},
   "source": [
    "There are multiple types of the different different kind of the logging I will be able to create."
   ]
  },
  {
   "cell_type": "markdown",
   "metadata": {},
   "source": [
    "In logging information wise there are different different hierarchy of logging that you all will be able to create"
   ]
  },
  {
   "cell_type": "markdown",
   "metadata": {},
   "source": [
    "#### You will be able to store a error log,\n",
    "\n",
    "#### You will be able to store a critical log,\n",
    "\n",
    "#### You will be able to store a warning log,\n",
    "\n",
    "#### You will be able to store a info log,\n",
    "\n",
    "#### You will be able to store a debug log,\n",
    "\n",
    "#### You will be able to store each and every kind of the log at any point of the time\n",
    "\n"
   ]
  },
  {
   "cell_type": "markdown",
   "metadata": {},
   "source": [
    "# How ? Let's try to understand so that we will able to understanded in a detailed way.\n",
    "\n",
    "# How I will able to log the different different kind of the information.\n",
    "\n",
    "#### As of now we have created the one single physical file which is available in my system and going forward may be we can replicate the same thing over the server, or over the databases, There is the possibility which can be done easily.\n"
   ]
  },
  {
   "cell_type": "markdown",
   "metadata": {},
   "source": [
    "# We can create the following kind of log\n",
    "\n",
    "(type of the log)"
   ]
  },
  {
   "cell_type": "markdown",
   "metadata": {},
   "source": [
    "#### DEBUG\n",
    "\n",
    "#### INFO\n",
    "\n",
    "#### WARNING\n",
    "\n",
    "#### ERROR\n",
    "\n",
    "#### CRITICAL\n",
    "\n",
    "so this are the label of the log, he will try to explain the topics in detailed way."
   ]
  },
  {
   "cell_type": "markdown",
   "metadata": {},
   "source": [
    "How and what is the uses of the logs?\n",
    "\n",
    "    - Lets try to understand in the detailed way"
   ]
  },
  {
   "cell_type": "code",
   "execution_count": 5,
   "metadata": {},
   "outputs": [],
   "source": [
    "import logging"
   ]
  },
  {
   "cell_type": "code",
   "execution_count": 6,
   "metadata": {},
   "outputs": [],
   "source": [
    "logging.basicConfig(filename = \"test.log\")"
   ]
  },
  {
   "cell_type": "markdown",
   "metadata": {},
   "source": [
    "The problem with jupyter notebook if I open that file now, it will not replicate immmediately.\n",
    "\n",
    "Because of we are running process, unless or untill we are not going to entire process so it will not going to changes immediately."
   ]
  },
  {
   "cell_type": "markdown",
   "metadata": {},
   "source": [
    "# Info reflect aagudhu, there is a problem in jupyter notebook"
   ]
  },
  {
   "cell_type": "code",
   "execution_count": 7,
   "metadata": {},
   "outputs": [],
   "source": [
    "logging.info(\"this is my info log\") #The problem with jupyter notebook if I open that file now, it will not replicate immmediately"
   ]
  },
  {
   "cell_type": "code",
   "execution_count": 8,
   "metadata": {},
   "outputs": [],
   "source": [
    "logging.warning(\"this is warning log\") #whereever we called warning so it will store in a capital letter"
   ]
  },
  {
   "cell_type": "code",
   "execution_count": 9,
   "metadata": {},
   "outputs": [],
   "source": [
    "logging.error(\"this is my error log\")"
   ]
  },
  {
   "cell_type": "markdown",
   "metadata": {},
   "source": [
    "#### Can I say that whereever I'm calling the ERROR and WARNING, so it is trying to log it."
   ]
  },
  {
   "cell_type": "markdown",
   "metadata": {},
   "source": [
    "YES, It is trying to log it"
   ]
  },
  {
   "cell_type": "markdown",
   "metadata": {},
   "source": [
    "Namma ethana time run pandromo athana time adhula log create aagi irukum"
   ]
  },
  {
   "cell_type": "markdown",
   "metadata": {},
   "source": [
    "So here, It will keep on logging, so I should shutdown that."
   ]
  },
  {
   "cell_type": "code",
   "execution_count": 10,
   "metadata": {},
   "outputs": [],
   "source": [
    "logging.shutdown()"
   ]
  },
  {
   "cell_type": "markdown",
   "metadata": {},
   "source": [
    "# REMEMBER ONE THING"
   ]
  },
  {
   "cell_type": "markdown",
   "metadata": {},
   "source": [
    "I have just called info, but info is not reflected my inside the system.\n",
    "\n",
    "It is not reflecting this info inside my system."
   ]
  },
  {
   "cell_type": "markdown",
   "metadata": {},
   "source": [
    "#### There is a reason behind is why it is not reflecting a info log inside my system"
   ]
  },
  {
   "cell_type": "code",
   "execution_count": 11,
   "metadata": {},
   "outputs": [],
   "source": [
    "#now I just make little bit of changes\n",
    "\n",
    "logging.basicConfig(filename = \"test.log\", level = logging.INFO)"
   ]
  },
  {
   "cell_type": "code",
   "execution_count": 12,
   "metadata": {},
   "outputs": [],
   "source": [
    "#indha information avungalukku romba time varaveilla, avungalukku kernal ah restart panna aprm dhan vandhuchu.\n",
    "#enakum varala\n",
    "\n",
    "#that's the problem in jupyter notebook if we work pycharm we will not face this kind of error."
   ]
  },
  {
   "cell_type": "markdown",
   "metadata": {},
   "source": [
    "Problem is its a jupyter notebook\n",
    "\n",
    "which is not allowing you to log all of these information when one particular of a jupyter notebook is alive "
   ]
  },
  {
   "cell_type": "code",
   "execution_count": 13,
   "metadata": {},
   "outputs": [],
   "source": [
    "logging.shutdown() #shutdown logger"
   ]
  },
  {
   "cell_type": "markdown",
   "metadata": {},
   "source": [
    "Last time we set a level of logging is INFO, this time we set a level of logging is DEBUG."
   ]
  },
  {
   "cell_type": "code",
   "execution_count": 14,
   "metadata": {},
   "outputs": [],
   "source": [
    "logging.basicConfig(filename = \"test2.log\", level = logging.DEBUG)"
   ]
  },
  {
   "cell_type": "markdown",
   "metadata": {},
   "source": [
    "Plus I would like to add some format (store a timestamp and so on)\n",
    "\n",
    "for find (what point of the time that log has been generated)"
   ]
  },
  {
   "cell_type": "markdown",
   "metadata": {},
   "source": [
    "# asc = asynchronous time"
   ]
  },
  {
   "cell_type": "code",
   "execution_count": 15,
   "metadata": {},
   "outputs": [],
   "source": [
    "#it will come with date and time before\n",
    "logging.basicConfig(filename = \"test2.log\", level = logging.DEBUG, format=\"%(asctime)s %(message)s\")"
   ]
  },
  {
   "cell_type": "code",
   "execution_count": 16,
   "metadata": {},
   "outputs": [],
   "source": [
    "#anga file create aagala, adhan jupyter notebook la problem refresh again and again panna vandhurum"
   ]
  },
  {
   "cell_type": "code",
   "execution_count": 17,
   "metadata": {},
   "outputs": [],
   "source": [
    "logging.info(\"this is my info log\")\n",
    "logging.warning(\"this is my warning log\")\n",
    "logging.debug(\"this is my debug log\")\n",
    "\n",
    "#log file la date, time oda create aagi irukum\n",
    "\n",
    "#first create panna log file la label oda pathom(error, info, warning)\n",
    "\n",
    "#but second ah create panna log file la label varala (verum date, time, and message dhan vandhuchu)"
   ]
  },
  {
   "cell_type": "markdown",
   "metadata": {},
   "source": [
    "# But I would like to get that label name, How can we do?"
   ]
  },
  {
   "cell_type": "code",
   "execution_count": 18,
   "metadata": {},
   "outputs": [],
   "source": [
    "logging.basicConfig(filename = \"test1.log\", level=logging.DEBUG, format=\"%(asctime)s %(levelname) %(message)s\")"
   ]
  },
  {
   "cell_type": "markdown",
   "metadata": {},
   "source": [
    "#### After this above code we can get label name also.\n",
    "\n"
   ]
  },
  {
   "cell_type": "markdown",
   "metadata": {},
   "source": [
    "(date,time, label and message)"
   ]
  },
  {
   "cell_type": "markdown",
   "metadata": {},
   "source": [
    "Whatever kind of the name/messages I would like to add in log,\n",
    "\n",
    "It is possible to create a format accordingly and then it will be able to insert each and everything inside your log.\n",
    "\n",
    "This is what happens in general"
   ]
  },
  {
   "cell_type": "markdown",
   "metadata": {},
   "source": [
    "Instead of using a print\n",
    "\n",
    "We just create a log file and insert all of this information one by one, one by one, one by one."
   ]
  },
  {
   "cell_type": "markdown",
   "metadata": {},
   "source": [
    "# DOUBT KEKANUM"
   ]
  },
  {
   "cell_type": "markdown",
   "metadata": {},
   "source": [
    "Logging la level oda purpose ennanu doubt keakanum"
   ]
  },
  {
   "cell_type": "markdown",
   "metadata": {},
   "source": [
    "#### Someone asked this doubt"
   ]
  },
  {
   "cell_type": "markdown",
   "metadata": {},
   "source": [
    "# USES OF LEVEL"
   ]
  },
  {
   "cell_type": "markdown",
   "metadata": {},
   "source": [
    "level is set as a DEBUG level\n",
    "\n",
    "we can create ERROR level and so on"
   ]
  },
  {
   "cell_type": "code",
   "execution_count": 19,
   "metadata": {},
   "outputs": [],
   "source": [
    "logging.basicConfig(filename = \"test2.log\", level=logging.ERROR, format=\"%(asctime)s %(levelname) %(message)s\")"
   ]
  },
  {
   "cell_type": "code",
   "execution_count": 20,
   "metadata": {},
   "outputs": [],
   "source": [
    "logging.info(\"this is my info log\")\n",
    "logging.warning(\"this is my warning log\")\n",
    "logging.debug(\"this is my debug log\")"
   ]
  },
  {
   "cell_type": "markdown",
   "metadata": {},
   "source": [
    "# Priority\n",
    "\n",
    "#### ERROR\n",
    "#### WARNING\n",
    "#### INFO\n",
    "#### DEBUG"
   ]
  },
  {
   "cell_type": "markdown",
   "metadata": {},
   "source": [
    "If we set low priority level it will always call the high priority one\n",
    "\n",
    "If we set high priority level it will not call the low priority level."
   ]
  },
  {
   "cell_type": "markdown",
   "metadata": {},
   "source": [
    "# One simple program.\n",
    "\n",
    "For where we are going to use the logs and where we are going to file the those logs."
   ]
  },
  {
   "cell_type": "markdown",
   "metadata": {},
   "source": [
    "Where we are going to use logging, and what is the actual uses of logging"
   ]
  },
  {
   "cell_type": "code",
   "execution_count": 1,
   "metadata": {},
   "outputs": [],
   "source": [
    "import logging\n",
    "\n",
    "logging.basicConfig(filename = \"test3.log\", level=logging.DEBUG, format=\"%(asctime)s %(levelname)s %(message)s\")"
   ]
  },
  {
   "cell_type": "code",
   "execution_count": 2,
   "metadata": {},
   "outputs": [],
   "source": [
    "#now I will start to writing a code for do something\n",
    "\n",
    "#lets suppose if I'm going to create a function"
   ]
  },
  {
   "cell_type": "markdown",
   "metadata": {},
   "source": [
    "# REMEMBER\n",
    "\n",
    "#### WHENEVER WE ARE START TO WRITE A CODE, YOU ARE SUPPOSED TO FOLLOW TWO THINGS AS PER OUR TODAY'S DISCUSSION\n",
    "\n",
    "1. EXCEPTION HANDLING\n",
    "2. LOGGING\n"
   ]
  },
  {
   "cell_type": "code",
   "execution_count": 3,
   "metadata": {},
   "outputs": [],
   "source": [
    "#indha function summa naana create pannean\n",
    "\n",
    "def divbyzero(a,b):\n",
    "    return a/b"
   ]
  },
  {
   "cell_type": "code",
   "execution_count": 4,
   "metadata": {},
   "outputs": [
    {
     "data": {
      "text/plain": [
       "7.0"
      ]
     },
     "execution_count": 4,
     "metadata": {},
     "output_type": "execute_result"
    }
   ],
   "source": [
    "divbyzero(14,2)"
   ]
  },
  {
   "cell_type": "code",
   "execution_count": 5,
   "metadata": {},
   "outputs": [],
   "source": [
    "#here we are not calling the print statement\n",
    "#we are just trying to log it\n",
    "\n",
    "import logging\n",
    "\n",
    "def divbyzero(a,b):\n",
    "    logging.info(\"this is a start of my code and I am try to enter %s and %s\", a,b)# first %s for a and second %s for b (# 4 and 5 anga a and b potu irukom adhu place holder)\n",
    "    \n",
    "    try:\n",
    "        div = a/b\n",
    "        logging.info(\"executed succesfully\")\n",
    "        \n",
    "    except Exception as e:\n",
    "        logging.error(\"Error has happend\")\n",
    "        logging.exception(\"Exception occured\" + str(e))"
   ]
  },
  {
   "cell_type": "code",
   "execution_count": 6,
   "metadata": {},
   "outputs": [],
   "source": [
    "divbyzero(4,5)"
   ]
  },
  {
   "cell_type": "code",
   "execution_count": 7,
   "metadata": {},
   "outputs": [],
   "source": [
    "#ippa and log file la vandhu irukum"
   ]
  },
  {
   "cell_type": "code",
   "execution_count": 8,
   "metadata": {},
   "outputs": [],
   "source": [
    "#now I'm going to call this function once again\n",
    "\n",
    "#but now I'm going to pass zero\n",
    "\n",
    "divbyzero(4,0)\n",
    "\n",
    "#now log la enna error oh adhu vandhu irukku\n",
    "#even I'm not remember what input I have passed, but when I'm checking my logging file I'm able to see all the details about this.\n",
    "\n"
   ]
  },
  {
   "cell_type": "markdown",
   "metadata": {},
   "source": [
    "# For eg."
   ]
  },
  {
   "cell_type": "code",
   "execution_count": 9,
   "metadata": {},
   "outputs": [
    {
     "ename": "ZeroDivisionError",
     "evalue": "division by zero",
     "output_type": "error",
     "traceback": [
      "\u001b[1;31m---------------------------------------------------------------------------\u001b[0m",
      "\u001b[1;31mZeroDivisionError\u001b[0m                         Traceback (most recent call last)",
      "\u001b[1;32m~\\AppData\\Local\\Temp/ipykernel_4732/1580332654.py\u001b[0m in \u001b[0;36m<module>\u001b[1;34m\u001b[0m\n\u001b[1;32m----> 1\u001b[1;33m \u001b[1;36m4\u001b[0m\u001b[1;33m/\u001b[0m\u001b[1;36m0\u001b[0m\u001b[1;33m\u001b[0m\u001b[1;33m\u001b[0m\u001b[0m\n\u001b[0m",
      "\u001b[1;31mZeroDivisionError\u001b[0m: division by zero"
     ]
    }
   ],
   "source": [
    "4/0"
   ]
  },
  {
   "cell_type": "code",
   "execution_count": 10,
   "metadata": {},
   "outputs": [],
   "source": [
    "#inga vandha same error and ellame namma log file la pakalam"
   ]
  },
  {
   "cell_type": "code",
   "execution_count": null,
   "metadata": {},
   "outputs": [],
   "source": [
    "#lets suppose I have closed my jupyter notebook and I have closed everything\n",
    "\n",
    "#even tomorrow open this log file, I have able to see all the details.\n",
    "\n",
    "#tomorrow I can able to host this file to server, databases everywhere."
   ]
  },
  {
   "cell_type": "markdown",
   "metadata": {},
   "source": [
    "                                                    Completed\n",
    "\n",
    "                                                                                                Author : Santhosh Kumar"
   ]
  }
 ],
 "metadata": {
  "kernelspec": {
   "display_name": "Python 3 (ipykernel)",
   "language": "python",
   "name": "python3"
  },
  "language_info": {
   "codemirror_mode": {
    "name": "ipython",
    "version": 3
   },
   "file_extension": ".py",
   "mimetype": "text/x-python",
   "name": "python",
   "nbconvert_exporter": "python",
   "pygments_lexer": "ipython3",
   "version": "3.9.7"
  },
  "vscode": {
   "interpreter": {
    "hash": "180f8518baccd74e1e77565faed7e8576f26917e6b201f6b9516078dc879945e"
   }
  }
 },
 "nbformat": 4,
 "nbformat_minor": 2
}
