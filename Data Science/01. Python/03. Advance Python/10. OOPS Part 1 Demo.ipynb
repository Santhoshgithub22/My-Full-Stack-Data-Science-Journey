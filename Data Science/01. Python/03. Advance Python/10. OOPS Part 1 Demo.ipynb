{
 "cells": [
  {
   "cell_type": "code",
   "execution_count": 1,
   "metadata": {},
   "outputs": [],
   "source": [
    "import my_dict"
   ]
  },
  {
   "cell_type": "code",
   "execution_count": 15,
   "metadata": {},
   "outputs": [],
   "source": [
    "#another way\n",
    "\n",
    "from my_dict import *"
   ]
  },
  {
   "cell_type": "code",
   "execution_count": 4,
   "metadata": {},
   "outputs": [],
   "source": [
    "data = {\"k1\" : \"sudh\", \"k2\" : \"santhosh\", \"k3\":\"ineuron\", \"k4\":[1,2,3,4,5,6,7]}"
   ]
  },
  {
   "cell_type": "code",
   "execution_count": 5,
   "metadata": {},
   "outputs": [
    {
     "ename": "TypeError",
     "evalue": "dict_parcing.__init__() missing 1 required positional argument: 'a'",
     "output_type": "error",
     "traceback": [
      "\u001b[1;31m---------------------------------------------------------------------------\u001b[0m",
      "\u001b[1;31mTypeError\u001b[0m                                 Traceback (most recent call last)",
      "Cell \u001b[1;32mIn[5], line 1\u001b[0m\n\u001b[1;32m----> 1\u001b[0m d \u001b[39m=\u001b[39m my_dict\u001b[39m.\u001b[39;49mdict_parcing() \u001b[39m#class_name dict parcisng\u001b[39;00m\n",
      "\u001b[1;31mTypeError\u001b[0m: dict_parcing.__init__() missing 1 required positional argument: 'a'"
     ]
    }
   ],
   "source": [
    "d = my_dict.dict_parcing() #class_name dict parcisng"
   ]
  },
  {
   "cell_type": "markdown",
   "metadata": {},
   "source": [
    "We should pass our data here, that's why its showing error."
   ]
  },
  {
   "cell_type": "code",
   "execution_count": 7,
   "metadata": {},
   "outputs": [],
   "source": [
    "d = my_dict.dict_parcing(data)"
   ]
  },
  {
   "cell_type": "code",
   "execution_count": 8,
   "metadata": {},
   "outputs": [
    {
     "data": {
      "text/plain": [
       "['k1', 'k2', 'k3', 'k4']"
      ]
     },
     "execution_count": 8,
     "metadata": {},
     "output_type": "execute_result"
    }
   ],
   "source": [
    "d.getkeys()"
   ]
  },
  {
   "cell_type": "code",
   "execution_count": 9,
   "metadata": {},
   "outputs": [
    {
     "data": {
      "text/plain": [
       "['sudh', 'santhosh', 'ineuron', [1, 2, 3, 4, 5, 6, 7]]"
      ]
     },
     "execution_count": 9,
     "metadata": {},
     "output_type": "execute_result"
    }
   ],
   "source": [
    "d.getvalues()"
   ]
  },
  {
   "cell_type": "code",
   "execution_count": 10,
   "metadata": {},
   "outputs": [
    {
     "data": {
      "text/plain": [
       "1"
      ]
     },
     "execution_count": 10,
     "metadata": {},
     "output_type": "execute_result"
    }
   ],
   "source": [
    "d.notdict()"
   ]
  },
  {
   "cell_type": "code",
   "execution_count": 11,
   "metadata": {},
   "outputs": [
    {
     "name": "stdout",
     "output_type": "stream",
     "text": [
      "[1, 2, 3, 4, 5, 6, 7] <class 'list'>\n"
     ]
    },
    {
     "ename": "Exception",
     "evalue": "([1, 2, 3, 4, 5, 6, 7], 'Not a dictionary.')",
     "output_type": "error",
     "traceback": [
      "\u001b[1;31m---------------------------------------------------------------------------\u001b[0m",
      "\u001b[1;31mException\u001b[0m                                 Traceback (most recent call last)",
      "Cell \u001b[1;32mIn[11], line 1\u001b[0m\n\u001b[1;32m----> 1\u001b[0m d\u001b[39m.\u001b[39;49muserinput()\n",
      "File \u001b[1;32mc:\\Users\\santhoshkumar.m\\my_dict.py:22\u001b[0m, in \u001b[0;36mdict_parcing.userinput\u001b[1;34m(self)\u001b[0m\n\u001b[0;32m     20\u001b[0m \u001b[39mself\u001b[39m\u001b[39m.\u001b[39ma \u001b[39m=\u001b[39m \u001b[39meval\u001b[39m(\u001b[39minput\u001b[39m())  \u001b[39m#by default user input is str, but if we use eval it will consider as a dict(edhukum net la pakanum epdi nu)\u001b[39;00m\n\u001b[0;32m     21\u001b[0m \u001b[39mprint\u001b[39m(\u001b[39mself\u001b[39m\u001b[39m.\u001b[39ma, \u001b[39mtype\u001b[39m(\u001b[39mself\u001b[39m\u001b[39m.\u001b[39ma))\n\u001b[1;32m---> 22\u001b[0m \u001b[39mprint\u001b[39m(\u001b[39mself\u001b[39;49m\u001b[39m.\u001b[39;49mgetkeys())\n\u001b[0;32m     23\u001b[0m \u001b[39mprint\u001b[39m(\u001b[39mself\u001b[39m\u001b[39m.\u001b[39mgetvalues())\n",
      "File \u001b[1;32mc:\\Users\\santhoshkumar.m\\my_dict.py:7\u001b[0m, in \u001b[0;36mdict_parcing.getkeys\u001b[1;34m(self)\u001b[0m\n\u001b[0;32m      6\u001b[0m \u001b[39mdef\u001b[39;00m \u001b[39mgetkeys\u001b[39m(\u001b[39mself\u001b[39m):\n\u001b[1;32m----> 7\u001b[0m     \u001b[39mif\u001b[39;00m \u001b[39mself\u001b[39;49m\u001b[39m.\u001b[39;49mnotdict():\n\u001b[0;32m      8\u001b[0m         \u001b[39mreturn\u001b[39;00m \u001b[39mlist\u001b[39m(\u001b[39mself\u001b[39m\u001b[39m.\u001b[39ma\u001b[39m.\u001b[39mkeys())\n",
      "File \u001b[1;32mc:\\Users\\santhoshkumar.m\\my_dict.py:16\u001b[0m, in \u001b[0;36mdict_parcing.notdict\u001b[1;34m(self)\u001b[0m\n\u001b[0;32m     14\u001b[0m \u001b[39mdef\u001b[39;00m \u001b[39mnotdict\u001b[39m(\u001b[39mself\u001b[39m):\n\u001b[0;32m     15\u001b[0m     \u001b[39mif\u001b[39;00m \u001b[39mtype\u001b[39m(\u001b[39mself\u001b[39m\u001b[39m.\u001b[39ma) \u001b[39m!=\u001b[39m \u001b[39mdict\u001b[39m:\n\u001b[1;32m---> 16\u001b[0m         \u001b[39mraise\u001b[39;00m \u001b[39mException\u001b[39;00m(\u001b[39mself\u001b[39m\u001b[39m.\u001b[39ma, \u001b[39m\"\u001b[39m\u001b[39mNot a dictionary.\u001b[39m\u001b[39m\"\u001b[39m)\n\u001b[0;32m     17\u001b[0m     \u001b[39mreturn\u001b[39;00m \u001b[39m1\u001b[39m\n",
      "\u001b[1;31mException\u001b[0m: ([1, 2, 3, 4, 5, 6, 7], 'Not a dictionary.')"
     ]
    }
   ],
   "source": [
    "d.userinput()"
   ]
  },
  {
   "cell_type": "code",
   "execution_count": 14,
   "metadata": {},
   "outputs": [
    {
     "ename": "TypeError",
     "evalue": "dict_parcing.insertion() missing 1 required positional argument: 'v'",
     "output_type": "error",
     "traceback": [
      "\u001b[1;31m---------------------------------------------------------------------------\u001b[0m",
      "\u001b[1;31mTypeError\u001b[0m                                 Traceback (most recent call last)",
      "Cell \u001b[1;32mIn[14], line 1\u001b[0m\n\u001b[1;32m----> 1\u001b[0m d\u001b[39m.\u001b[39;49minsertion({\u001b[39m\"\u001b[39;49m\u001b[39mk7\u001b[39;49m\u001b[39m\"\u001b[39;49m,\u001b[39m\"\u001b[39;49m\u001b[39mvalue7\u001b[39;49m\u001b[39m\"\u001b[39;49m})\n",
      "\u001b[1;31mTypeError\u001b[0m: dict_parcing.insertion() missing 1 required positional argument: 'v'"
     ]
    }
   ],
   "source": [
    "d.insertion({\"k7\",\"value7\"})"
   ]
  },
  {
   "cell_type": "markdown",
   "metadata": {},
   "source": [
    "# Now we can say that, this is a good way for reusability"
   ]
  },
  {
   "cell_type": "markdown",
   "metadata": {},
   "source": [
    "Writing a same class function again and again is unneccasary\n",
    "\n",
    "we can store all our class function in py file, and we can use it where we want."
   ]
  },
  {
   "cell_type": "markdown",
   "metadata": {},
   "source": [
    "Also we can store multiple classes in a single module (single module python file)"
   ]
  },
  {
   "cell_type": "markdown",
   "metadata": {},
   "source": [
    "# We can store any number of concept (classes) inside the module file.  It's not a issue."
   ]
  },
  {
   "cell_type": "markdown",
   "metadata": {},
   "source": [
    "                                                                        - COMPLETED"
   ]
  },
  {
   "cell_type": "markdown",
   "metadata": {},
   "source": [
    "                                                                                                            - SANTHOSH KUMAR"
   ]
  }
 ],
 "metadata": {
  "kernelspec": {
   "display_name": "Python 3 (ipykernel)",
   "language": "python",
   "name": "python3"
  },
  "language_info": {
   "codemirror_mode": {
    "name": "ipython",
    "version": 3
   },
   "file_extension": ".py",
   "mimetype": "text/x-python",
   "name": "python",
   "nbconvert_exporter": "python",
   "pygments_lexer": "ipython3",
   "version": "3.9.7"
  },
  "vscode": {
   "interpreter": {
    "hash": "180f8518baccd74e1e77565faed7e8576f26917e6b201f6b9516078dc879945e"
   }
  }
 },
 "nbformat": 4,
 "nbformat_minor": 2
}
