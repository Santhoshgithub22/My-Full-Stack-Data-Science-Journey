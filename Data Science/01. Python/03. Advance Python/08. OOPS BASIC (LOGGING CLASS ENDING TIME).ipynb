{
 "cells": [
  {
   "cell_type": "markdown",
   "metadata": {},
   "source": [
    "OOPS CONCEPT"
   ]
  },
  {
   "cell_type": "markdown",
   "metadata": {},
   "source": [
    "Today We will see only basic.\n",
    "\n",
    "What is classes, object, and modules that's it."
   ]
  },
  {
   "cell_type": "markdown",
   "metadata": {},
   "source": [
    "Let's start"
   ]
  },
  {
   "cell_type": "markdown",
   "metadata": {},
   "source": [
    "#### Let's try to talk about, what is class, what is object and what is oops programming ?"
   ]
  },
  {
   "cell_type": "markdown",
   "metadata": {},
   "source": [
    "(OOPS concepts is different from python programmiing)"
   ]
  },
  {
   "cell_type": "markdown",
   "metadata": {},
   "source": [
    "if someone ask give all the elements in list one by one its easy"
   ]
  },
  {
   "cell_type": "code",
   "execution_count": 1,
   "metadata": {},
   "outputs": [
    {
     "name": "stdout",
     "output_type": "stream",
     "text": [
      "1\n",
      "2\n",
      "3\n",
      "4\n",
      "5\n",
      "6\n",
      "7\n"
     ]
    }
   ],
   "source": [
    "l = [1,2,3,4,5,6,7]\n",
    "\n",
    "for i in l:\n",
    "    print(i)"
   ]
  },
  {
   "cell_type": "markdown",
   "metadata": {},
   "source": [
    "Easily we all are able to do it, but"
   ]
  },
  {
   "cell_type": "markdown",
   "metadata": {},
   "source": [
    "#### What happens when we are able to create a 100 of 1000 of functions.\n",
    "\n",
    "#### what happens if they are giving to us in single task you have to complete a multiple sub task.\n",
    "\n",
    "#### What happends when you are supposed to build a big software.\n",
    "\n",
    "Whether all of these task's are related to ai or non-ai, that's not a matter.\n",
    "\n",
    "Sometimes we will have to write 10000 lines of a code as a minimum one, sometimes we will have to write a code millions of lines."
   ]
  },
  {
   "cell_type": "markdown",
   "metadata": {},
   "source": [
    "# That point of the times, it's really very very too difficult to maintain to find out that which function is written inside which file.\n",
    "\n",
    "#### It's really very very too difficult to find"
   ]
  },
  {
   "cell_type": "markdown",
   "metadata": {},
   "source": [
    "#### It's very very difficult to involve a multiple people in a single project.\n",
    "\n",
    "all of these difficulties we are going to face when we are work in the real time project."
   ]
  },
  {
   "cell_type": "markdown",
   "metadata": {},
   "source": [
    "#### SO on an enterprise level when you are going to work at that point of the time you have to create a modules, \n",
    "\n",
    "#### you have to maintain a packages,\n",
    "\n",
    "#### you have to maintain each and everything\n",
    "\n",
    "so that other people will be able to use it, other people will be able to call your functions or your models or your method."
   ]
  },
  {
   "cell_type": "markdown",
   "metadata": {},
   "source": [
    "# THIS IS WHERE THE OOOPS CONCEPT ARE COMES INTO A PICTURE."
   ]
  },
  {
   "cell_type": "markdown",
   "metadata": {},
   "source": [
    "#### It is going to give you a capacity to create a structured module for your different different kind of the tasks and sub tasks you have to create.\n",
    "\n",
    "# That is the very very first advantages you will be able to get."
   ]
  },
  {
   "cell_type": "markdown",
   "metadata": {},
   "source": [
    "Let's suppose I don't know what is object, what is classes, what is inheritance, what is encapsulation, what is polymorphism, all those things are completely fine.\n",
    "\n",
    "Even if I am not aware about it I will be able to work and I will be able to complete my task without having the understanding about the oops concept.\n",
    "\n",
    "But If we have an understanding about the oops concept I can do this task maybe in a more effective way in a more structured way a packaged way.\n",
    "\n",
    "and that can be used by any other developer who is going to use my code."
   ]
  },
  {
   "cell_type": "markdown",
   "metadata": {},
   "source": [
    "# So I believe advantage we all are able to understand, But\n",
    "\n",
    "#### code wise you can try to opt for oops as well.\n",
    "#### you can try to opt for scripting"
   ]
  },
  {
   "cell_type": "markdown",
   "metadata": {},
   "source": [
    "OOPS concept will give you a structureness for your code.\n",
    "\n",
    "so let's try to understand\n",
    "\n",
    "What is oops concept & how will I try to solve the exact same thing by using OOPS concept."
   ]
  },
  {
   "cell_type": "markdown",
   "metadata": {},
   "source": [
    "By using oops i will be able to increase the structured modules, I will be able to increase the reusability of a code, that is my first objective."
   ]
  },
  {
   "cell_type": "markdown",
   "metadata": {},
   "source": [
    "PYTHON SCRIPTING :"
   ]
  },
  {
   "cell_type": "markdown",
   "metadata": {},
   "source": [
    "Whatever we are doing so far so forth that is called as scripting."
   ]
  },
  {
   "cell_type": "markdown",
   "metadata": {},
   "source": [
    "PYTHON SCRIPTING :\n",
    "\n",
    "In 1 Line ----------------> Without any kind of a structure we were writing each and every kind of code like anywhere that you want and that is something called as scripting."
   ]
  },
  {
   "cell_type": "markdown",
   "metadata": {},
   "source": [
    "# Now Let's try to understand what is oops?\n",
    "\n",
    " #### concept of oops is same in any language."
   ]
  },
  {
   "cell_type": "markdown",
   "metadata": {},
   "source": [
    "Definition wise not a changes but may be syntax wise we are able to see the changes because of different programming language."
   ]
  },
  {
   "cell_type": "markdown",
   "metadata": {},
   "source": [
    "# LETS TRY TO UNDERSTAND\n",
    "\n",
    "#### WHAT IS THE MEANING OF CLASSES AND OBJECT?"
   ]
  },
  {
   "cell_type": "markdown",
   "metadata": {},
   "source": [
    "Layman way means not a technical defenition"
   ]
  },
  {
   "cell_type": "markdown",
   "metadata": {},
   "source": [
    "What is class ?\n",
    "\n",
    "Eg.1\n",
    "\n",
    "Let's suppose I'm taking a CAR\n",
    "\n",
    "Car ok, but which car? may be tata, toyotoa, so on.\n",
    "\n",
    "Eg.2\n",
    "\n",
    "Let's suppose I'm taking a BIRD\n",
    "\n",
    "Bird ok, but which bird?\n"
   ]
  },
  {
   "cell_type": "markdown",
   "metadata": {},
   "source": [
    "Eg. 3\n",
    "\n",
    "ANIMAL\n",
    "\n",
    "you will be able to some sense of it, but you will not be able to understand that whether I'm talking about a cow, whether I'm talking about buffalo, tiger and so on.\n",
    "\n",
    "\n",
    "Eg. 4\n",
    "\n",
    "When I am talking about HUMAN BEINGS\n",
    "\n",
    "you will be able to get some idea that ok fine so personal may be human being male or female something and we will be able to get some sense of it.\n"
   ]
  },
  {
   "cell_type": "markdown",
   "metadata": {},
   "source": [
    "# That car, bird, animal, human beings are a particular segment as a whole"
   ]
  },
  {
   "cell_type": "markdown",
   "metadata": {},
   "source": [
    "After we heard that eg name, car is a entity, we having a sense of car, It have 4 wheels, mirrors, and so on.\n",
    "\n",
    "\n"
   ]
  },
  {
   "cell_type": "markdown",
   "metadata": {},
   "source": [
    "# In oop we will be find out the \n",
    "    first concept called as class.\n",
    "    second concept called as object."
   ]
  },
  {
   "cell_type": "markdown",
   "metadata": {},
   "source": [
    "# Class is nothing but It's kind of a blue print\n",
    "\n",
    "# Object is nothing but It's kind of a entity which really exists. \n",
    "(which we will able to - endha car, endha animal, endha bird, endha human nu soldradhu dhan object)"
   ]
  },
  {
   "cell_type": "markdown",
   "metadata": {},
   "source": [
    "#### Class na overall name, & object na class name la irukka neraya variety ah kurikudhu dhan object."
   ]
  },
  {
   "cell_type": "markdown",
   "metadata": {},
   "source": [
    "What is OOPS ?"
   ]
  },
  {
   "cell_type": "markdown",
   "metadata": {},
   "source": [
    "#### when you are trying to derive everything as an object, and you are going to bind inside the classes\n",
    "\n",
    "#### and then if you are going to perform some sort of a task that is something comes under oops."
   ]
  },
  {
   "cell_type": "markdown",
   "metadata": {},
   "source": [
    "In OOP we derive each and everything in a form of class and in a form of object."
   ]
  },
  {
   "cell_type": "markdown",
   "metadata": {},
   "source": [
    "# Ok, Let's understand how we will create a class and object"
   ]
  },
  {
   "cell_type": "markdown",
   "metadata": {},
   "source": [
    "and how whatever we have written so far so forth whether it's a like a logging everything whether it's exception handling everything, we will end up using even in case of a object oriented programming.\n",
    "\n",
    "so everything will go for a revision but this time with the help of classes and objects.\n",
    "\n",
    "we are going to see."
   ]
  },
  {
   "cell_type": "markdown",
   "metadata": {},
   "source": [
    "Class and objects are not difficult, believe me \n",
    "\n",
    "it's easier than in scripting."
   ]
  },
  {
   "cell_type": "markdown",
   "metadata": {},
   "source": [
    "# Let's see how to create a class."
   ]
  },
  {
   "cell_type": "code",
   "execution_count": 2,
   "metadata": {},
   "outputs": [
    {
     "ename": "SyntaxError",
     "evalue": "incomplete input (2524229445.py, line 1)",
     "output_type": "error",
     "traceback": [
      "\u001b[1;36m  Cell \u001b[1;32mIn[2], line 1\u001b[1;36m\u001b[0m\n\u001b[1;33m    class car:\u001b[0m\n\u001b[1;37m              ^\u001b[0m\n\u001b[1;31mSyntaxError\u001b[0m\u001b[1;31m:\u001b[0m incomplete input\n"
     ]
    }
   ],
   "source": [
    "class car:"
   ]
  },
  {
   "cell_type": "code",
   "execution_count": null,
   "metadata": {},
   "outputs": [],
   "source": [
    "class car:\n",
    "    pass"
   ]
  },
  {
   "cell_type": "markdown",
   "metadata": {},
   "source": [
    "Step 1 :\n",
    "\n",
    "I am creating a class name, the I want to define a function\n",
    "\n",
    "Step 2 :\n",
    "\n",
    "__init__ Method create pandrom"
   ]
  },
  {
   "cell_type": "markdown",
   "metadata": {},
   "source": [
    "# What is __init__ Method ?"
   ]
  },
  {
   "cell_type": "markdown",
   "metadata": {},
   "source": [
    "This __init__ is nothing but whatever function which is start with double underscore __ and ends with double underscore __ in python is an inbuild function.\n",
    "\n",
    "Inbuild function means this function was already written by someone."
   ]
  },
  {
   "cell_type": "markdown",
   "metadata": {},
   "source": [
    "# What is the use of it __init__ function?"
   ]
  },
  {
   "cell_type": "markdown",
   "metadata": {},
   "source": [
    "This is really very very important and it will remove so many confusions."
   ]
  },
  {
   "cell_type": "markdown",
   "metadata": {},
   "source": [
    "# __init__"
   ]
  },
  {
   "cell_type": "markdown",
   "metadata": {},
   "source": [
    "Here we can try to utilize, reutilize, or overwrite the function which is already written.\n",
    "\n",
    "in inside that __init__ function I'm going to pass the keyword called as self, self is not a keyword we can use our name, any name, self is called as a pointer.\n",
    "\n",
    "# self\n",
    "\n",
    "Self is not a keyword it's just a pointer, which is responsible for pointing to a classes. so now we are able to receive.\n",
    "\n",
    "The very first place of init function is called as pointer. Then we should pass the parameter which is suitable for our class name.\n",
    "\n",
    "Then I have created a one more function and this function will give you a detailed description of car.\n",
    "\n",
    "After that, we have just created the car class but we dont what type of the car we are talking about.\n",
    "(no one knows whether I am talking about omni, audi, and anything else)\n",
    "\n",
    "Adhukku aprm parameter pass pannama empty ah pass panna error varudhu, init missing positional arguments nu.\n",
    "\n",
    "now what is __init__\n",
    "\n",
    "# __init__ is called as CONSTRUCTOR\n",
    "\n",
    "Constructor is nothing but a kind of a entity/method/function which helps my class to take an input\n",
    "\n",
    "or\n",
    "\n",
    "which is responsible for providing a data to the particular class. that is something called as constructor.\n",
    "\n",
    "#Constructor is nothing but a kind of a entity which help us to pass a data to a particular class this is called as a constructor.\n",
    "\n",
    "# SIMPLY\n",
    "\n",
    "SIMPLY CONSTRUCTOR IS NOTHING BUT, CONSTRUCTOR IS SOMETHING WHICH WILL TRY TO PASS A DATA TO A CLASS\n",
    "\n",
    "ORU CLASS LA NAMMA ENNA KUDUKKA POROM NU THERIYADHU, IPPA CAR NU ORU CLASS IRUKKUNA ADHU ENNA CAR NU THERIYADHU,\n",
    "SO ADHUKKANA DATA VA PASS PANDRADHU DHAN CONSTRUCTOR, CONSTRUCTOR NA INIT."
   ]
  },
  {
   "cell_type": "markdown",
   "metadata": {},
   "source": [
    "# REMEMBER"
   ]
  },
  {
   "cell_type": "markdown",
   "metadata": {},
   "source": [
    "#### In classes the very first variable in function inside the classes, must be a pointer."
   ]
  },
  {
   "cell_type": "code",
   "execution_count": 3,
   "metadata": {},
   "outputs": [],
   "source": [
    "class car: #car has so many types of engines, color, and so on. # so I will define everything\n",
    "    def __init__(self, brand_name, fuel_type, body_type):\n",
    "\n",
    "        self.brand_name = brand_name\n",
    "        self.fuel_type = fuel_type\n",
    "        self.body_type = body_type\n",
    "\n",
    "    def desc_car():\n",
    "        print(self.brand_name, self.fuel_type, self.body_type)"
   ]
  },
  {
   "cell_type": "code",
   "execution_count": 4,
   "metadata": {},
   "outputs": [],
   "source": [
    "# now, I am just creating the variable called as inova, now inova is the variable of what?\n",
    "\n",
    "# inova is the variable of car class."
   ]
  },
  {
   "cell_type": "code",
   "execution_count": 10,
   "metadata": {},
   "outputs": [
    {
     "ename": "TypeError",
     "evalue": "car.__init__() missing 3 required positional arguments: 'brand_name', 'fuel_type', and 'body_type'",
     "output_type": "error",
     "traceback": [
      "\u001b[1;31m---------------------------------------------------------------------------\u001b[0m",
      "\u001b[1;31mTypeError\u001b[0m                                 Traceback (most recent call last)",
      "Cell \u001b[1;32mIn[10], line 1\u001b[0m\n\u001b[1;32m----> 1\u001b[0m innova \u001b[39m=\u001b[39m car() \u001b[39m#now it will show error, we should pass arguments\u001b[39;00m\n",
      "\u001b[1;31mTypeError\u001b[0m: car.__init__() missing 3 required positional arguments: 'brand_name', 'fuel_type', and 'body_type'"
     ]
    }
   ],
   "source": [
    "innova = car() #now it will show error, we should pass arguments"
   ]
  },
  {
   "cell_type": "code",
   "execution_count": 9,
   "metadata": {},
   "outputs": [],
   "source": [
    "#innova = car(\"Toyota\", \"Petrol\", \"Suv\")\n",
    "\n",
    "#toyota will go over the init function brand name\n",
    "# petrol will go over the init function fuel type\n",
    "# suv will go over the init function body type\n",
    "\n",
    "#def __init__(self, brand_name, fuel_type, body_type):\n",
    "\n",
    "\n",
    "#after that\n",
    "#brand name will come self.brand name\n",
    "#fuel type will come self.fuel type\n",
    "#body type will come self.body type\n",
    "\n",
    "#self.brand_name = brand_name\n",
    "#self.fuel_type = fuel_type\n",
    "#self.body_type = body_type\n",
    "\n",
    "\n",
    "# AFTER THAT ALL OF THESE (self._____) WILL GO OVER TO THE CLASS NAME (eg. car)\n",
    "\n",
    "innova = car(\"Toyota\", \"Petrol\", \"Suv\")"
   ]
  },
  {
   "cell_type": "code",
   "execution_count": 15,
   "metadata": {},
   "outputs": [
    {
     "ename": "TypeError",
     "evalue": "car.desc_car() takes 0 positional arguments but 1 was given",
     "output_type": "error",
     "traceback": [
      "\u001b[1;31m---------------------------------------------------------------------------\u001b[0m",
      "\u001b[1;31mTypeError\u001b[0m                                 Traceback (most recent call last)",
      "Cell \u001b[1;32mIn[15], line 1\u001b[0m\n\u001b[1;32m----> 1\u001b[0m inova\u001b[39m.\u001b[39;49mdesc_car()\n",
      "\u001b[1;31mTypeError\u001b[0m: car.desc_car() takes 0 positional arguments but 1 was given"
     ]
    }
   ],
   "source": [
    "inova.desc_car() #it will not going to work, because "
   ]
  },
  {
   "cell_type": "markdown",
   "metadata": {},
   "source": [
    "# Yean error kaatudhuna\n",
    "\n",
    "#### whatever function inside the class, the very first variable should be a pointer,\n",
    "#### namma create panna second function la pointer name kudukala adhan error vandhuirukku\n",
    "\n",
    "If we give a pointer, then only my system will able to understand that this function is binded to my car class."
   ]
  },
  {
   "cell_type": "code",
   "execution_count": 22,
   "metadata": {},
   "outputs": [],
   "source": [
    "class car:\n",
    "\n",
    "    def __init__(self, brand_name, fuel_type, body_type):\n",
    "        self.brand_name = brand_name\n",
    "        self.fuel_type = fuel_type\n",
    "        self.body_type = body_type\n",
    "\n",
    "    def desc_car(self):\n",
    "        print(self.brand_name, self.fuel_type, self.body_type)"
   ]
  },
  {
   "cell_type": "code",
   "execution_count": 23,
   "metadata": {},
   "outputs": [],
   "source": [
    "inova = car(\"toyota\", \"petrol\", \"suv\")"
   ]
  },
  {
   "cell_type": "code",
   "execution_count": 24,
   "metadata": {},
   "outputs": [
    {
     "name": "stdout",
     "output_type": "stream",
     "text": [
      "toyota petrol suv\n"
     ]
    }
   ],
   "source": [
    "inova.desc_car()"
   ]
  },
  {
   "cell_type": "code",
   "execution_count": 27,
   "metadata": {},
   "outputs": [
    {
     "data": {
      "text/plain": [
       "'toyota'"
      ]
     },
     "execution_count": 27,
     "metadata": {},
     "output_type": "execute_result"
    }
   ],
   "source": [
    "inova.brand_name"
   ]
  },
  {
   "cell_type": "code",
   "execution_count": 28,
   "metadata": {},
   "outputs": [
    {
     "data": {
      "text/plain": [
       "'petrol'"
      ]
     },
     "execution_count": 28,
     "metadata": {},
     "output_type": "execute_result"
    }
   ],
   "source": [
    "inova.fuel_type"
   ]
  },
  {
   "cell_type": "code",
   "execution_count": 29,
   "metadata": {},
   "outputs": [
    {
     "data": {
      "text/plain": [
       "'suv'"
      ]
     },
     "execution_count": 29,
     "metadata": {},
     "output_type": "execute_result"
    }
   ],
   "source": [
    "inova.body_type"
   ]
  },
  {
   "cell_type": "markdown",
   "metadata": {},
   "source": [
    "#### Now, I am creating a another car details in another new variable."
   ]
  },
  {
   "cell_type": "code",
   "execution_count": 30,
   "metadata": {},
   "outputs": [],
   "source": [
    "nexon = car(\"tata\", \"petrol\", \"min_suv\")"
   ]
  },
  {
   "cell_type": "code",
   "execution_count": 32,
   "metadata": {},
   "outputs": [
    {
     "name": "stdout",
     "output_type": "stream",
     "text": [
      "tata petrol min_suv\n"
     ]
    }
   ],
   "source": [
    "nexon.desc_car()"
   ]
  },
  {
   "cell_type": "code",
   "execution_count": 33,
   "metadata": {},
   "outputs": [
    {
     "data": {
      "text/plain": [
       "'tata'"
      ]
     },
     "execution_count": 33,
     "metadata": {},
     "output_type": "execute_result"
    }
   ],
   "source": [
    "nexon.brand_name"
   ]
  },
  {
   "cell_type": "code",
   "execution_count": 34,
   "metadata": {},
   "outputs": [
    {
     "data": {
      "text/plain": [
       "'petrol'"
      ]
     },
     "execution_count": 34,
     "metadata": {},
     "output_type": "execute_result"
    }
   ],
   "source": [
    "nexon.fuel_type"
   ]
  },
  {
   "cell_type": "code",
   "execution_count": 35,
   "metadata": {},
   "outputs": [
    {
     "data": {
      "text/plain": [
       "'min_suv'"
      ]
     },
     "execution_count": 35,
     "metadata": {},
     "output_type": "execute_result"
    }
   ],
   "source": [
    "nexon.body_type"
   ]
  },
  {
   "cell_type": "code",
   "execution_count": 36,
   "metadata": {},
   "outputs": [],
   "source": [
    "fortuner = car(\"omni\", \"diesel\", \"suv\")"
   ]
  },
  {
   "cell_type": "markdown",
   "metadata": {},
   "source": [
    "Three variables I've created all these 3 variables are representing a car, with different different data inside the car class."
   ]
  },
  {
   "cell_type": "markdown",
   "metadata": {},
   "source": [
    "So These are the class variables and its actually called as object."
   ]
  },
  {
   "cell_type": "code",
   "execution_count": 37,
   "metadata": {},
   "outputs": [],
   "source": [
    "#oru self create pannitom apdina, namma sudh.brandname kuduthu kooda pass pannalam\n",
    "#is it also possible.\n",
    "\n",
    "class car:\n",
    "\n",
    "    def __init__(self, brand_name, fuel_type, body_type):\n",
    "        sudh.brand_name = brand_name\n",
    "        self.fuel_type = fuel_type\n",
    "        self.body_type = body_type\n",
    "\n",
    "    def desc_car(self):\n",
    "        print(self.brand_name, self.fuel_type, self.body_type)"
   ]
  },
  {
   "cell_type": "code",
   "execution_count": null,
   "metadata": {},
   "outputs": [],
   "source": [
    "#### diesel, desiel"
   ]
  },
  {
   "cell_type": "markdown",
   "metadata": {},
   "source": [
    "                                                                    COMPLETED"
   ]
  },
  {
   "cell_type": "markdown",
   "metadata": {},
   "source": [
    "                                                                                                                        Author - SANTHOSH KUMAR"
   ]
  },
  {
   "cell_type": "markdown",
   "metadata": {},
   "source": [
    "# ASSIGNMENT HE GAVE :\n",
    "\n",
    "Create a kind of a tool by which you will be able to browse each and everything\n",
    "\n",
    "list down all the files\n",
    "\n",
    "find whether in current directory, we have pdf or not\n",
    "\n",
    "if pdf=0, do nothing\n",
    "\n",
    "if pdf>0, merge all the pdf\n",
    "\n",
    "\n",
    "#### by using tkinter, kivy library\n",
    "#### kivi is best\n",
    "\n",
    "#### RESTRICTION:\n",
    "\n",
    "use logging\n",
    "use modulear coding\n",
    "use exception handling"
   ]
  },
  {
   "cell_type": "markdown",
   "metadata": {},
   "source": [
    "                                                    Completed\n",
    "\n",
    "                                                                                                Author : Santhosh Kumar"
   ]
  }
 ],
 "metadata": {
  "kernelspec": {
   "display_name": "Python 3 (ipykernel)",
   "language": "python",
   "name": "python3"
  },
  "language_info": {
   "codemirror_mode": {
    "name": "ipython",
    "version": 3
   },
   "file_extension": ".py",
   "mimetype": "text/x-python",
   "name": "python",
   "nbconvert_exporter": "python",
   "pygments_lexer": "ipython3",
   "version": "3.9.7"
  },
  "vscode": {
   "interpreter": {
    "hash": "180f8518baccd74e1e77565faed7e8576f26917e6b201f6b9516078dc879945e"
   }
  }
 },
 "nbformat": 4,
 "nbformat_minor": 2
}
