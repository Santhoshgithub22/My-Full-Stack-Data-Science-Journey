{
 "cells": [
  {
   "cell_type": "markdown",
   "metadata": {},
   "source": [
    "In last class he was talking about logging.\n",
    "\n",
    "We understand what is logging and how we will be able to perform a logging.\n",
    "\n",
    "This is what we have done (what we have discussed)"
   ]
  },
  {
   "cell_type": "markdown",
   "metadata": {},
   "source": [
    "# Simple Revision\n",
    "\n",
    "Instead of using a print function so what we try to do is we always try to log.\n",
    "\n",
    "We always try to create a logs of each and every activities that we performed.\n",
    "\n",
    "and that's a standard procedure."
   ]
  },
  {
   "cell_type": "markdown",
   "metadata": {},
   "source": [
    "# MAKE SURE OUR CODE IS WRITING IN EXCEPTION HANDLING AND LOGGING"
   ]
  },
  {
   "cell_type": "markdown",
   "metadata": {},
   "source": [
    "So that in a later stage if we are trying investigate our code or may be our system so for sure we can try to go through this entire logs and then we will be able to get some sort of the insights.\n",
    "\n",
    "and\n",
    "\n",
    "It is going to help us to fix a bug inside our code and this is comes logging comes into a picture.\n",
    "\n",
    "LOGGING IS ONE OF THE VERY VERY IMPORTANT MODULE WHENEVER WE WRITE A CODE."
   ]
  },
  {
   "cell_type": "markdown",
   "metadata": {},
   "source": [
    "#### In today's class we will see about modules\n",
    "\n",
    "What is modules?\n",
    "\n",
    "What is advantage and disadvantage of modules?\n",
    "\n",
    "Creating a modules.\n",
    "\n",
    "(this is how probably we are going to start ahead with the modular coding)"
   ]
  },
  {
   "cell_type": "markdown",
   "metadata": {},
   "source": [
    "# MODULES"
   ]
  },
  {
   "cell_type": "code",
   "execution_count": 1,
   "metadata": {},
   "outputs": [],
   "source": [
    "import os"
   ]
  },
  {
   "cell_type": "code",
   "execution_count": 2,
   "metadata": {},
   "outputs": [],
   "source": [
    "#whenever I'm writing import os, by default in os module, there are so many functions are available (just press tab)"
   ]
  },
  {
   "cell_type": "markdown",
   "metadata": {},
   "source": [
    "\n",
    "#### os. #just write os. and press ctrl + space for see the available functions"
   ]
  },
  {
   "cell_type": "markdown",
   "metadata": {},
   "source": [
    "Someone has created all of these function inside the os module and then we all are able to use it."
   ]
  },
  {
   "cell_type": "markdown",
   "metadata": {},
   "source": [
    "# Question"
   ]
  },
  {
   "cell_type": "markdown",
   "metadata": {},
   "source": [
    "Now, My question is how we will be able to create a such kind of a file\n",
    "\n",
    "How I will be able to create a such kind of the functions\n",
    "\n",
    "How I will be able to keep all of these function in some of the file system\n",
    "\n",
    "Where anyone can import and anyone will be able to use it the way a creator python"
   ]
  },
  {
   "cell_type": "markdown",
   "metadata": {},
   "source": [
    "#### In today's class we will be able to create a similar kind of the modules so that we all will be to import our own modules and then we can try to use it."
   ]
  },
  {
   "cell_type": "markdown",
   "metadata": {},
   "source": [
    "Because in modular coding you are supposed to increase a reusability of a code it's not like a I will keep on writing a same function again and again and again."
   ]
  },
  {
   "cell_type": "markdown",
   "metadata": {},
   "source": [
    "# Whenever I need that function, I will just try to import it that's a whole idea"
   ]
  },
  {
   "cell_type": "markdown",
   "metadata": {},
   "source": [
    "#### So how I will be able to create a own module / own functions"
   ]
  },
  {
   "cell_type": "markdown",
   "metadata": {},
   "source": [
    "# Just try to open up the notebook++"
   ]
  },
  {
   "cell_type": "markdown",
   "metadata": {},
   "source": [
    "# Why notebook++?\n",
    "\n",
    "Easy to create a modules and\n",
    "Easier to create a dot pi file.\n",
    "(In a later stage I'll tell you, you're not even supposed to use a notebook notepad++.\n",
    "\n",
    "If we are going to switch into a pycharm or vscode, which is nothing but it's an IDE - INTEGRATED DEVELOPMENT ENVIRONMENT, Notepad++ are not required, but as of now we are not used to pycharm and vscode in classes, so I will not recommend you to create a modules but yeah creating our modules by using a pycharm or by using a vs code maintaining a modules by using a pycharm and vs code is way easier as compare to a step which I'm going to showcase.\n",
    "\n",
    "IDE gives you a flexibility to do anything that you want."
   ]
  },
  {
   "cell_type": "markdown",
   "metadata": {},
   "source": [
    "Step 1 : You all can try to open up a notebook++ over here\n",
    "\n",
    "Step 2 : Try to create a new notebook\n",
    "\n",
    "Step 3 : Try to save somewhere inside the system\n",
    "(save anywhere in system it's ok, but, It would be better If we save in current directory)\n",
    "\n",
    "\n"
   ]
  },
  {
   "cell_type": "markdown",
   "metadata": {},
   "source": [
    "(Notepad++, sublime, atom or python idle anything is ok just open)"
   ]
  },
  {
   "cell_type": "markdown",
   "metadata": {},
   "source": [
    "# What is MODULES?"
   ]
  },
  {
   "cell_type": "markdown",
   "metadata": {},
   "source": [
    "Modules is nothing but a piece of a code or \n",
    "\n",
    "set of the code or \n",
    "\n",
    "collection of a code which I can keep inside any inside any of these files in a layman way"
   ]
  },
  {
   "cell_type": "markdown",
   "metadata": {},
   "source": [
    "#### Let suppose I have written 10 functions\n",
    "\n",
    "In past we have done lots lots of functions \n",
    "\n",
    "lots lots of classes and objects"
   ]
  },
  {
   "cell_type": "markdown",
   "metadata": {},
   "source": [
    "#### Let suppose I have written a multiple functions and I would like to reuse those functions again and again.\n",
    "\n",
    "For example\n",
    "\n",
    "Someone giving a task like \n",
    "\n",
    "#### Try to use a logging function all the time\n",
    "\n",
    "(so are you going to rewrite a import login and write each and everything inside the file again and again?\n",
    "\n",
    "No, This is not a procedure)\n",
    "\n",
    "#### What we will do?\n",
    "\n",
    "We should write once and use many times (modular coding)"
   ]
  },
  {
   "cell_type": "markdown",
   "metadata": {},
   "source": [
    "# Question"
   ]
  },
  {
   "cell_type": "markdown",
   "metadata": {},
   "source": [
    "#### Let suppose write a very simple function add."
   ]
  },
  {
   "cell_type": "code",
   "execution_count": 3,
   "metadata": {},
   "outputs": [],
   "source": [
    "def test(a,b):\n",
    "    return a+b"
   ]
  },
  {
   "cell_type": "code",
   "execution_count": 4,
   "metadata": {},
   "outputs": [
    {
     "data": {
      "text/plain": [
       "14"
      ]
     },
     "execution_count": 4,
     "metadata": {},
     "output_type": "execute_result"
    }
   ],
   "source": [
    "test(7,7)"
   ]
  },
  {
   "cell_type": "markdown",
   "metadata": {},
   "source": [
    "Suppose if they ask write these things into a different jupyter notebook,\n",
    "\n",
    "we will write this function again  in new jupyter notebook.\n",
    "\n",
    "\n",
    "\n"
   ]
  },
  {
   "cell_type": "markdown",
   "metadata": {},
   "source": [
    "#### Suppose indha test(7,7) indha function ah new ah oru file la run panna run aagadhu error varum.\n",
    "\n",
    "#### (modules test nu oru file create panni adhula run panni irukean)\n",
    "\n",
    "Because new jupyter notebook will not understand what I'm talking about, \n",
    "\n",
    "In new jupyter notebook will not understand what is test function, \n",
    "\n",
    "because the test function is available in this notebook only, not available in other notebooks. "
   ]
  },
  {
   "cell_type": "markdown",
   "metadata": {},
   "source": [
    "# But I would like to use this same function in everywhere in my system."
   ]
  },
  {
   "cell_type": "markdown",
   "metadata": {},
   "source": [
    "# Question"
   ]
  },
  {
   "cell_type": "markdown",
   "metadata": {},
   "source": [
    "My problem statement is I would like to use this function in every new notebooks."
   ]
  },
  {
   "cell_type": "markdown",
   "metadata": {},
   "source": [
    "#### (suppose I have written 100000 function here in this notebook, \n",
    "\n",
    "But I need all of these code/function in my new notebook and I dont have a mind to write again from first in new notebook)\n",
    "\n",
    "So I need a solution\n",
    "\n",
    "#### The solution is modules and packages"
   ]
  },
  {
   "cell_type": "markdown",
   "metadata": {},
   "source": [
    "For sure, I will able to import it again and again that number of times I want and my work is done.\n",
    "\n",
    "I am not supposed to rewrite a same line of a code again and again and again and again and again.\n",
    "\n",
    "I'll just call the function, pass my parameter and my work is done."
   ]
  },
  {
   "cell_type": "markdown",
   "metadata": {},
   "source": [
    "# In 1 module I will able to store all of my function,\n",
    "\n",
    "able to store all of my module,\n",
    "\n",
    "able to store all of my work,\n",
    "\n",
    "and when I need this I will just try to import it and my work is done. simple"
   ]
  },
  {
   "cell_type": "markdown",
   "metadata": {},
   "source": [
    "# What Anaconda?"
   ]
  },
  {
   "cell_type": "markdown",
   "metadata": {},
   "source": [
    "# When we install anaconda, what anaconda is ?\n",
    "\n",
    "#### Anaconda is nothing but its a collection of modules of packages and our ide's.\n",
    "\n",
    "\n",
    "because someone has written a python function that we are able to use right.\n",
    "eg. we all are using type function, print function, len function already someone has wrote this function."
   ]
  },
  {
   "cell_type": "markdown",
   "metadata": {},
   "source": [
    "#### MAY BE TODAY\n",
    "IN A TODAY WE CAN TRY TO CREATE THIS KIND OF A MODULE IN A LOCAL SYSTEM\n",
    "MAY BE TOMORROW WE ARE HOST THIS THINGS INTO PUBLIC, SO THAT EVEN OTHER PEOPLE WILL BE ABLE TO USE IT, ANYONE ON THIS PLANET WILL BE ABLE TO INSTALL THOSE THINGS INSIDE YOUR SYSTEM AND INSIDE THEIR SYSTEM.\n",
    "\n",
    "& THEN THEY WILL BE USE IT. EVEN THAT IS A POSSIBLE AND THAT IS NOT A DIFFICULT AT ALL."
   ]
  },
  {
   "cell_type": "markdown",
   "metadata": {},
   "source": [
    "As of now we are using notepad++, going forward I am going to use pycharm and vscode.\n",
    "\n",
    "Creating a modules and packages is way easier in case of pycharm and vscode."
   ]
  },
  {
   "cell_type": "markdown",
   "metadata": {},
   "source": [
    "# STEP 1"
   ]
  },
  {
   "cell_type": "markdown",
   "metadata": {},
   "source": [
    "We can save this notepad++ file in python format"
   ]
  },
  {
   "cell_type": "code",
   "execution_count": 5,
   "metadata": {},
   "outputs": [
    {
     "data": {
      "text/plain": [
       "'c:\\\\Users\\\\santhoshkumar.m'"
      ]
     },
     "execution_count": 5,
     "metadata": {},
     "output_type": "execute_result"
    }
   ],
   "source": [
    "pwd()"
   ]
  },
  {
   "cell_type": "code",
   "execution_count": 6,
   "metadata": {},
   "outputs": [
    {
     "data": {
      "text/plain": [
       "['In',\n",
       " 'Out',\n",
       " '_',\n",
       " '_4',\n",
       " '_5',\n",
       " '__',\n",
       " '___',\n",
       " '__builtin__',\n",
       " '__builtins__',\n",
       " '__doc__',\n",
       " '__loader__',\n",
       " '__name__',\n",
       " '__package__',\n",
       " '__spec__',\n",
       " '__vsc_ipynb_file__',\n",
       " '_dh',\n",
       " '_i',\n",
       " '_i1',\n",
       " '_i2',\n",
       " '_i3',\n",
       " '_i4',\n",
       " '_i5',\n",
       " '_i6',\n",
       " '_ih',\n",
       " '_ii',\n",
       " '_iii',\n",
       " '_oh',\n",
       " 'exit',\n",
       " 'get_ipython',\n",
       " 'open',\n",
       " 'os',\n",
       " 'quit',\n",
       " 'sys',\n",
       " 'test']"
      ]
     },
     "execution_count": 6,
     "metadata": {},
     "output_type": "execute_result"
    }
   ],
   "source": [
    "dir()"
   ]
  },
  {
   "cell_type": "code",
   "execution_count": 7,
   "metadata": {},
   "outputs": [
    {
     "name": "stdout",
     "output_type": "stream",
     "text": [
      " Volume in drive C has no label.\n",
      " Volume Serial Number is EA1C-C479\n",
      "\n",
      " Directory of c:\\Users\\santhoshkumar.m\n",
      "\n",
      "03-01-2023  12:01    <DIR>          .\n",
      "03-01-2023  12:01    <DIR>          ..\n",
      "08-12-2022  13:14    <DIR>          .ipython\n",
      "08-12-2022  12:43    <DIR>          .vscode\n",
      "03-01-2023  15:49    <DIR>          __pycache__\n",
      "08-12-2022  12:37    <DIR>          3D Objects\n",
      "08-12-2022  12:37    <DIR>          Contacts\n",
      "08-12-2022  13:06    <DIR>          Documents\n",
      "03-01-2023  19:22    <DIR>          Downloads\n",
      "20-12-2022  11:44            39,245 Exception Handling Class 1 Part 1.ipynb\n",
      "20-12-2022  11:44             1,022 Exception Handling Class 1 Part 2.ipynb\n",
      "30-12-2022  10:58            82,161 Exception Handling Class 2.ipynb\n",
      "08-12-2022  12:37    <DIR>          Favorites\n",
      "08-12-2022  12:37    <DIR>          Links\n",
      "02-01-2023  11:29            13,707 Logging.ipynb\n",
      "04-01-2023  10:54             2,007 Modules test.ipynb\n",
      "04-01-2023  10:54            40,170 Modules.ipynb\n",
      "08-12-2022  12:37    <DIR>          Music\n",
      "03-01-2023  16:13               245 my_module.py\n",
      "08-12-2022  13:05    <DIR>          OneDrive\n",
      "04-01-2023  10:44    <DIR>          OneDrive - LogicValley Technologies\n",
      "08-12-2022  12:52    <DIR>          Postman\n",
      "08-12-2022  12:37    <DIR>          Saved Games\n",
      "08-12-2022  12:38    <DIR>          Searches\n",
      "30-12-2022  11:48                 0 test1.log\n",
      "02-01-2023  18:19               227 test1.py\n",
      "21-12-2022  10:48                22 test1.txt\n",
      "21-12-2022  10:48                 0 test7.txt\n",
      "09-12-2022  12:31    <DIR>          Videos\n",
      "              11 File(s)        178,806 bytes\n",
      "              18 Dir(s)  102,737,174,528 bytes free\n"
     ]
    }
   ],
   "source": [
    "ls"
   ]
  },
  {
   "cell_type": "markdown",
   "metadata": {},
   "source": [
    "Namma create panna notebook++ file ah indha pwd directory la place pannanum,\n",
    "\n",
    "already adhula irundha ok, but illaina just cut and copy here thats all."
   ]
  },
  {
   "cell_type": "code",
   "execution_count": 8,
   "metadata": {},
   "outputs": [
    {
     "name": "stdout",
     "output_type": "stream",
     "text": [
      " Volume in drive C has no label.\n",
      " Volume Serial Number is EA1C-C479\n",
      "\n",
      " Directory of c:\\Users\\santhoshkumar.m\n",
      "\n",
      "\n",
      " Directory of c:\\Users\\santhoshkumar.m\n",
      "\n",
      "\n",
      " Directory of c:\\Users\\santhoshkumar.m\n",
      "\n"
     ]
    },
    {
     "name": "stderr",
     "output_type": "stream",
     "text": [
      "File Not Found\n"
     ]
    }
   ],
   "source": [
    "ls #test1 is available"
   ]
  },
  {
   "cell_type": "markdown",
   "metadata": {},
   "source": [
    "# if we are not using notebook++\n",
    "\n",
    "just creating the kind of way using file handling\n",
    "\n",
    "open(\"test1.py\", \"w\")"
   ]
  },
  {
   "cell_type": "markdown",
   "metadata": {},
   "source": [
    "#### Once my work is done, I've create this files now what can I do next."
   ]
  },
  {
   "cell_type": "markdown",
   "metadata": {},
   "source": [
    "Just open that file and write code."
   ]
  },
  {
   "cell_type": "markdown",
   "metadata": {},
   "source": [
    "Now I've written the add function in my notebook++ file."
   ]
  },
  {
   "cell_type": "markdown",
   "metadata": {},
   "source": [
    "Now I would like to use this code in any new jupyter notebook"
   ]
  },
  {
   "cell_type": "code",
   "execution_count": 9,
   "metadata": {},
   "outputs": [],
   "source": [
    "import test1 #namma notebook file name ah potu import pandrom"
   ]
  },
  {
   "cell_type": "markdown",
   "metadata": {},
   "source": [
    "Now test1 is what?\n",
    "\n",
    "    test1 is just a file name.  It's actually a modules name which I have mentioned over here.\n",
    "\n",
    "    So that I have import all the modules."
   ]
  },
  {
   "cell_type": "code",
   "execution_count": 10,
   "metadata": {},
   "outputs": [],
   "source": [
    "# if we get a error for above code\n",
    "\n",
    "# it simply means that we are not able to see that, you have created this file maybe in some different places.\n",
    "\n",
    "# & it is not able to identify it.\n",
    "\n",
    "# so we are able to keep this file in a particular place"
   ]
  },
  {
   "cell_type": "code",
   "execution_count": 11,
   "metadata": {},
   "outputs": [
    {
     "data": {
      "text/plain": [
       "14"
      ]
     },
     "execution_count": 11,
     "metadata": {},
     "output_type": "execute_result"
    }
   ],
   "source": [
    "test1.test(7,7) #inside the test1 file we have created a function name called as test."
   ]
  },
  {
   "cell_type": "markdown",
   "metadata": {},
   "source": [
    "My objective was to achieve these things in such a way that I'm not supposed to rewrite this function again and again and again.\n",
    "\n",
    "I just have to use it. I'll call the function, I'll use it that was my objective and that was the whole idea."
   ]
  },
  {
   "cell_type": "markdown",
   "metadata": {},
   "source": [
    "In google collab also we can we, because that also have a directory."
   ]
  },
  {
   "cell_type": "markdown",
   "metadata": {},
   "source": [
    "# Now I've written so many function over there in my file (test1.py)\n",
    "\n",
    "#### so let's see how to utilize it"
   ]
  },
  {
   "cell_type": "code",
   "execution_count": 12,
   "metadata": {},
   "outputs": [],
   "source": [
    "import test1"
   ]
  },
  {
   "cell_type": "code",
   "execution_count": 13,
   "metadata": {},
   "outputs": [
    {
     "data": {
      "text/plain": [
       "14"
      ]
     },
     "execution_count": 13,
     "metadata": {},
     "output_type": "execute_result"
    }
   ],
   "source": [
    "test1.test(7,7) #add"
   ]
  },
  {
   "cell_type": "code",
   "execution_count": 14,
   "metadata": {},
   "outputs": [
    {
     "data": {
      "text/plain": [
       "49"
      ]
     },
     "execution_count": 14,
     "metadata": {},
     "output_type": "execute_result"
    }
   ],
   "source": [
    "test1.test1(7,7) #multiply"
   ]
  },
  {
   "cell_type": "code",
   "execution_count": 15,
   "metadata": {},
   "outputs": [
    {
     "data": {
      "text/plain": [
       "1.0"
      ]
     },
     "execution_count": 15,
     "metadata": {},
     "output_type": "execute_result"
    }
   ],
   "source": [
    "test1.test2(7,7) #division"
   ]
  },
  {
   "cell_type": "code",
   "execution_count": 16,
   "metadata": {},
   "outputs": [
    {
     "name": "stdout",
     "output_type": "stream",
     "text": [
      "this is my code written in module test1\n"
     ]
    }
   ],
   "source": [
    "test1.test3() #printing the sentences"
   ]
  },
  {
   "cell_type": "code",
   "execution_count": 17,
   "metadata": {},
   "outputs": [],
   "source": [
    "#if new function name not work, just restart the kernal\n",
    "\n",
    "#this is the issue I faced and restarted my kernal and it works correctly."
   ]
  },
  {
   "cell_type": "markdown",
   "metadata": {},
   "source": [
    "# suppose If I want to import one particular function only, not all\n",
    "\n",
    "# how can I import only one particular function"
   ]
  },
  {
   "cell_type": "code",
   "execution_count": 18,
   "metadata": {},
   "outputs": [],
   "source": [
    "from test1 import test3 #I dont want to import everything, I just want to import one particular method."
   ]
  },
  {
   "cell_type": "code",
   "execution_count": 19,
   "metadata": {},
   "outputs": [
    {
     "name": "stdout",
     "output_type": "stream",
     "text": [
      "this is my code written in module test1\n"
     ]
    }
   ],
   "source": [
    "test3()"
   ]
  },
  {
   "cell_type": "code",
   "execution_count": 20,
   "metadata": {},
   "outputs": [],
   "source": [
    "from test1 import * #import * means import everything"
   ]
  },
  {
   "cell_type": "markdown",
   "metadata": {},
   "source": [
    "# DOUBT KEKANUM"
   ]
  },
  {
   "cell_type": "markdown",
   "metadata": {},
   "source": [
    "#### Keela irukka test1 funciton la doc string create panni irukean but idhula doc string katala"
   ]
  },
  {
   "cell_type": "code",
   "execution_count": 21,
   "metadata": {},
   "outputs": [
    {
     "data": {
      "text/plain": [
       "6"
      ]
     },
     "execution_count": 21,
     "metadata": {},
     "output_type": "execute_result"
    }
   ],
   "source": [
    "test1(2,3)"
   ]
  },
  {
   "cell_type": "code",
   "execution_count": 22,
   "metadata": {},
   "outputs": [],
   "source": [
    "l = [2,3,4,5,6]\n",
    "\n",
    "#how we see the list, because already someone created a condition for list."
   ]
  },
  {
   "cell_type": "markdown",
   "metadata": {},
   "source": [
    "If someone asked creates a 1000 of functions and reuse again and again\n",
    "\n",
    "we can do in this way (module)\n",
    "\n",
    "Just write all the functions and keep into the modules."
   ]
  },
  {
   "cell_type": "markdown",
   "metadata": {},
   "source": [
    "THEN HE GO (PYTHON MODULE INDEX WEBSITE)\n",
    "\n",
    "There are so many functions we are able to get. (not possible to remember)\n",
    "\n",
    "Also we can see the source code for inbuild function, so how this functions has been written, how this function has been implemented, each & every source code we can able to see there."
   ]
  },
  {
   "cell_type": "markdown",
   "metadata": {},
   "source": [
    "Let suppose I was talking about print function, len function and so on.\n",
    "\n",
    "There is a source code available. \n",
    "\n",
    "All inbuild function source code available."
   ]
  },
  {
   "cell_type": "markdown",
   "metadata": {},
   "source": [
    "#### Someone has created the module (os, pprint, so on.,)"
   ]
  },
  {
   "cell_type": "markdown",
   "metadata": {},
   "source": [
    "Some one has created the json modules, Inside the json module they have written some functions."
   ]
  },
  {
   "cell_type": "markdown",
   "metadata": {},
   "source": [
    "# In the similar way we will be able to create the same functions in the exact way"
   ]
  },
  {
   "cell_type": "markdown",
   "metadata": {},
   "source": [
    "# Namma Python romba nalla kathukiranum na \"https://docs.python.org/3/library/\" indha link la irukka ella modules oda code and adhula mela source code link kuduthu irupanga, adha nalla learn pannitom apdina namma idhula kathukira madhiri vera edhulayume kathukira mudiyadhu"
   ]
  },
  {
   "cell_type": "markdown",
   "metadata": {},
   "source": [
    "he told so many times in the above sentence."
   ]
  },
  {
   "cell_type": "markdown",
   "metadata": {},
   "source": [
    "Adhula neraya (10000, 20000, so many) bug irukumam, adha namma open panni solve kooda pannalam."
   ]
  },
  {
   "cell_type": "markdown",
   "metadata": {},
   "source": [
    "# There we will learn how to use (write) standard code."
   ]
  },
  {
   "cell_type": "markdown",
   "metadata": {},
   "source": [
    "That's the best place to learn."
   ]
  },
  {
   "cell_type": "markdown",
   "metadata": {},
   "source": [
    "SIMPLY SAYING :\n",
    "\n",
    "    There are so many modules are available and implemented in a similar way which is how we have creating a modules.  \n",
    "\n",
    "        There we will be able to find py file, able to find classes in codes, \n",
    "\n",
    "            Inside the py file all of these functions are available, every function even len function, print function, every function, "
   ]
  },
  {
   "cell_type": "markdown",
   "metadata": {},
   "source": [
    "So done"
   ]
  },
  {
   "cell_type": "markdown",
   "metadata": {},
   "source": [
    "Now module is cleared,\n",
    "\n",
    "We learnt\n",
    "\n",
    "    (i) How can we create our own modules,\n",
    "\n",
    "    (ii) And then how I will be able to import it,\n",
    "\n",
    "    (iii) And then how I will be able to perform the different different kind of the operations."
   ]
  },
  {
   "cell_type": "markdown",
   "metadata": {},
   "source": [
    "How to check the available modules in our local dir?"
   ]
  },
  {
   "cell_type": "markdown",
   "metadata": {},
   "source": [
    "just call dir()"
   ]
  },
  {
   "cell_type": "code",
   "execution_count": 23,
   "metadata": {},
   "outputs": [
    {
     "data": {
      "text/plain": [
       "<function dir>"
      ]
     },
     "execution_count": 23,
     "metadata": {},
     "output_type": "execute_result"
    }
   ],
   "source": [
    "dir"
   ]
  },
  {
   "cell_type": "code",
   "execution_count": 24,
   "metadata": {},
   "outputs": [
    {
     "data": {
      "text/plain": [
       "['In',\n",
       " 'Out',\n",
       " '_',\n",
       " '_11',\n",
       " '_13',\n",
       " '_14',\n",
       " '_15',\n",
       " '_21',\n",
       " '_23',\n",
       " '_4',\n",
       " '_5',\n",
       " '_6',\n",
       " '__',\n",
       " '___',\n",
       " '__builtin__',\n",
       " '__builtins__',\n",
       " '__doc__',\n",
       " '__loader__',\n",
       " '__name__',\n",
       " '__package__',\n",
       " '__spec__',\n",
       " '__vsc_ipynb_file__',\n",
       " '_dh',\n",
       " '_exit_code',\n",
       " '_i',\n",
       " '_i1',\n",
       " '_i10',\n",
       " '_i11',\n",
       " '_i12',\n",
       " '_i13',\n",
       " '_i14',\n",
       " '_i15',\n",
       " '_i16',\n",
       " '_i17',\n",
       " '_i18',\n",
       " '_i19',\n",
       " '_i2',\n",
       " '_i20',\n",
       " '_i21',\n",
       " '_i22',\n",
       " '_i23',\n",
       " '_i24',\n",
       " '_i3',\n",
       " '_i4',\n",
       " '_i5',\n",
       " '_i6',\n",
       " '_i7',\n",
       " '_i8',\n",
       " '_i9',\n",
       " '_ih',\n",
       " '_ii',\n",
       " '_iii',\n",
       " '_oh',\n",
       " 'exit',\n",
       " 'get_ipython',\n",
       " 'l',\n",
       " 'open',\n",
       " 'os',\n",
       " 'quit',\n",
       " 'sys',\n",
       " 'test',\n",
       " 'test1',\n",
       " 'test2',\n",
       " 'test3']"
      ]
     },
     "execution_count": 24,
     "metadata": {},
     "output_type": "execute_result"
    }
   ],
   "source": [
    "dir() #here we can find the available modules and file names."
   ]
  },
  {
   "cell_type": "code",
   "execution_count": 25,
   "metadata": {},
   "outputs": [
    {
     "data": {
      "text/plain": [
       "<_io.TextIOWrapper name='my_module.py' mode='r' encoding='cp1252'>"
      ]
     },
     "execution_count": 25,
     "metadata": {},
     "output_type": "execute_result"
    }
   ],
   "source": [
    "#creating a new file\n",
    "\n",
    "open(\"my_module.py\") #it will show error, so we should open up in the write mode."
   ]
  },
  {
   "cell_type": "code",
   "execution_count": 26,
   "metadata": {},
   "outputs": [
    {
     "data": {
      "text/plain": [
       "<_io.TextIOWrapper name='my_module.py' mode='w' encoding='cp1252'>"
      ]
     },
     "execution_count": 26,
     "metadata": {},
     "output_type": "execute_result"
    }
   ],
   "source": [
    "open(\"my_module.py\", \"w\") #if we go and check the file explorer, we will able to check the file name there."
   ]
  },
  {
   "cell_type": "markdown",
   "metadata": {},
   "source": [
    "Now, We've created the data there, some dictionary data's there.\n",
    "\n",
    "#### there I've created the dictionary,\n",
    "#### I've created the function which will be able to get the course name,\n",
    "which will be able to get the greetings data."
   ]
  },
  {
   "cell_type": "code",
   "execution_count": 34,
   "metadata": {},
   "outputs": [],
   "source": [
    "import my_module"
   ]
  },
  {
   "cell_type": "code",
   "execution_count": 35,
   "metadata": {},
   "outputs": [
    {
     "name": "stdout",
     "output_type": "stream",
     "text": [
      " Volume in drive C has no label.\n",
      " Volume Serial Number is EA1C-C479\n",
      "\n",
      " Directory of c:\\Users\\santhoshkumar.m\n",
      "\n",
      "03-01-2023  12:01    <DIR>          .\n",
      "03-01-2023  12:01    <DIR>          ..\n",
      "08-12-2022  13:14    <DIR>          .ipython\n",
      "08-12-2022  12:43    <DIR>          .vscode\n",
      "04-01-2023  10:55    <DIR>          __pycache__\n",
      "08-12-2022  12:37    <DIR>          3D Objects\n",
      "08-12-2022  12:37    <DIR>          Contacts\n",
      "08-12-2022  13:06    <DIR>          Documents\n",
      "03-01-2023  19:22    <DIR>          Downloads\n",
      "20-12-2022  11:44            39,245 Exception Handling Class 1 Part 1.ipynb\n",
      "20-12-2022  11:44             1,022 Exception Handling Class 1 Part 2.ipynb\n",
      "30-12-2022  10:58            82,161 Exception Handling Class 2.ipynb\n",
      "08-12-2022  12:37    <DIR>          Favorites\n",
      "08-12-2022  12:37    <DIR>          Links\n",
      "02-01-2023  11:29            13,707 Logging.ipynb\n",
      "04-01-2023  10:54             2,007 Modules test.ipynb\n",
      "04-01-2023  10:54            40,170 Modules.ipynb\n",
      "08-12-2022  12:37    <DIR>          Music\n",
      "04-01-2023  11:00               234 my_module.py\n",
      "08-12-2022  13:05    <DIR>          OneDrive\n",
      "04-01-2023  10:44    <DIR>          OneDrive - LogicValley Technologies\n",
      "08-12-2022  12:52    <DIR>          Postman\n",
      "08-12-2022  12:37    <DIR>          Saved Games\n",
      "08-12-2022  12:38    <DIR>          Searches\n",
      "30-12-2022  11:48                 0 test1.log\n",
      "02-01-2023  18:19               227 test1.py\n",
      "21-12-2022  10:48                22 test1.txt\n",
      "21-12-2022  10:48                 0 test7.txt\n",
      "09-12-2022  12:31    <DIR>          Videos\n",
      "              11 File(s)        178,795 bytes\n",
      "              18 Dir(s)  102,710,333,440 bytes free\n"
     ]
    }
   ],
   "source": [
    "ls"
   ]
  },
  {
   "cell_type": "code",
   "execution_count": 36,
   "metadata": {},
   "outputs": [
    {
     "ename": "NameError",
     "evalue": "name 'greetings' is not defined",
     "output_type": "error",
     "traceback": [
      "\u001b[1;31m---------------------------------------------------------------------------\u001b[0m",
      "\u001b[1;31mNameError\u001b[0m                                 Traceback (most recent call last)",
      "Cell \u001b[1;32mIn[36], line 1\u001b[0m\n\u001b[1;32m----> 1\u001b[0m greetings()\n",
      "\u001b[1;31mNameError\u001b[0m: name 'greetings' is not defined"
     ]
    }
   ],
   "source": [
    "greetings()"
   ]
  },
  {
   "cell_type": "code",
   "execution_count": 37,
   "metadata": {},
   "outputs": [
    {
     "ename": "NameError",
     "evalue": "name 'get_course' is not defined",
     "output_type": "error",
     "traceback": [
      "\u001b[1;31m---------------------------------------------------------------------------\u001b[0m",
      "\u001b[1;31mNameError\u001b[0m                                 Traceback (most recent call last)",
      "Cell \u001b[1;32mIn[37], line 1\u001b[0m\n\u001b[1;32m----> 1\u001b[0m get_course()\n",
      "\u001b[1;31mNameError\u001b[0m: name 'get_course' is not defined"
     ]
    }
   ],
   "source": [
    "get_course()"
   ]
  },
  {
   "cell_type": "markdown",
   "metadata": {},
   "source": [
    "# DOUBT KEKANUM"
   ]
  },
  {
   "cell_type": "markdown",
   "metadata": {},
   "source": [
    "#### Idula my_module.get_course avungalukku work aagudhu enakku work agala."
   ]
  },
  {
   "cell_type": "code",
   "execution_count": 38,
   "metadata": {},
   "outputs": [
    {
     "ename": "AttributeError",
     "evalue": "module 'my_module' has no attribute 'get_course'",
     "output_type": "error",
     "traceback": [
      "\u001b[1;31m---------------------------------------------------------------------------\u001b[0m",
      "\u001b[1;31mAttributeError\u001b[0m                            Traceback (most recent call last)",
      "Cell \u001b[1;32mIn[38], line 1\u001b[0m\n\u001b[1;32m----> 1\u001b[0m my_module\u001b[39m.\u001b[39;49mget_course()\n",
      "\u001b[1;31mAttributeError\u001b[0m: module 'my_module' has no attribute 'get_course'"
     ]
    }
   ],
   "source": [
    "my_module.get_course()"
   ]
  },
  {
   "cell_type": "code",
   "execution_count": 39,
   "metadata": {},
   "outputs": [],
   "source": [
    "import my_module"
   ]
  },
  {
   "cell_type": "code",
   "execution_count": 40,
   "metadata": {},
   "outputs": [
    {
     "ename": "AttributeError",
     "evalue": "module 'my_module' has no attribute 'greetings'",
     "output_type": "error",
     "traceback": [
      "\u001b[1;31m---------------------------------------------------------------------------\u001b[0m",
      "\u001b[1;31mAttributeError\u001b[0m                            Traceback (most recent call last)",
      "Cell \u001b[1;32mIn[40], line 1\u001b[0m\n\u001b[1;32m----> 1\u001b[0m my_module\u001b[39m.\u001b[39;49mgreetings()\n",
      "\u001b[1;31mAttributeError\u001b[0m: module 'my_module' has no attribute 'greetings'"
     ]
    }
   ],
   "source": [
    "my_module.greetings()"
   ]
  },
  {
   "cell_type": "markdown",
   "metadata": {},
   "source": [
    "It's possible to create a 100 of modules and inside those modules 1000 of functions."
   ]
  },
  {
   "cell_type": "markdown",
   "metadata": {},
   "source": [
    "We all can do it."
   ]
  },
  {
   "cell_type": "markdown",
   "metadata": {},
   "source": [
    "If suppose I am trying to create a project."
   ]
  },
  {
   "cell_type": "markdown",
   "metadata": {},
   "source": [
    "# In single project we can able to find out so many multiple files"
   ]
  },
  {
   "cell_type": "markdown",
   "metadata": {},
   "source": [
    "Eg."
   ]
  },
  {
   "cell_type": "markdown",
   "metadata": {},
   "source": [
    "oru projet pandrapa oru folder kulla neraya file create pannalam and files um create pannalam, there is a possibility."
   ]
  },
  {
   "cell_type": "markdown",
   "metadata": {},
   "source": [
    "# What is Packages?"
   ]
  },
  {
   "cell_type": "markdown",
   "metadata": {},
   "source": [
    "#### Modules are nothing but one single file. (that we have created .py file) & which we have written n number of functions.  So, that something called as modules."
   ]
  },
  {
   "cell_type": "markdown",
   "metadata": {},
   "source": [
    "Now let's try to understand.\n",
    "\n",
    "# What is the meaning of the package?"
   ]
  },
  {
   "cell_type": "markdown",
   "metadata": {},
   "source": [
    "package na romba simple oru folder kulla lot of .py file irukadhu dhan, andha folder ah package nu solluvom.\n",
    "\n",
    "oru .py file kulla lot of functions irukum."
   ]
  },
  {
   "cell_type": "markdown",
   "metadata": {},
   "source": [
    "What is modules - Its nothing but its just a .py file."
   ]
  },
  {
   "cell_type": "markdown",
   "metadata": {},
   "source": [
    "In a very simple term,\n",
    "\n",
    "#### Packages is nothing but, its a collection of a modules.\n",
    "\n",
    "If we are going to a multiple modules, we store all the modules in a single directory, that folder directory is called as a modules."
   ]
  },
  {
   "cell_type": "markdown",
   "metadata": {},
   "source": [
    "# He just simply installed pycharm"
   ]
  },
  {
   "cell_type": "markdown",
   "metadata": {},
   "source": [
    "# Dont use jupyter notebook for doing a full project."
   ]
  },
  {
   "cell_type": "markdown",
   "metadata": {},
   "source": [
    "he select create project, type project name, choose path, and choosing the new environment (conda environment ah choose pannanga pycharm la)\n",
    "\n",
    "pycharm la create panna folders ellame avunga local directory la kaatunanga,\n",
    "\n",
    "inside the folder if we see any folder start's with .______ (its a hidden folder)\n",
    "\n",
    "Any folder starting with dot it will actually treated as hidden folder."
   ]
  },
  {
   "cell_type": "markdown",
   "metadata": {},
   "source": [
    "# PACKAGE :"
   ]
  },
  {
   "cell_type": "markdown",
   "metadata": {},
   "source": [
    "Collection of modules are called as package. simple"
   ]
  },
  {
   "cell_type": "markdown",
   "metadata": {},
   "source": [
    "(inside the simple folder if I'm going to create the multiple python files that is simply called as packages.)"
   ]
  },
  {
   "cell_type": "markdown",
   "metadata": {},
   "source": [
    "# Easy to understand\n",
    "\n",
    "Avunga 2 package create panni, oru oru packages la yum 3 modules file create panni, oru oru module file la oru oru function write panni irundhanga.\n",
    "\n",
    "\n",
    "ippa oru package la irukka oru module la irukka function ah adhey package la irukka vera oru modules la kooda call pannitu run pannalam.\n",
    "\n",
    "adhe madhiri vera modules la irukka function ah same package la irukka file yum call pannalam.\n",
    "\n",
    "vera package la iurkka endha oru module la irukka endha oru file ah yum eppa venalum call pannikalam."
   ]
  },
  {
   "cell_type": "markdown",
   "metadata": {},
   "source": [
    "# whenever we are going to join the industry,"
   ]
  },
  {
   "cell_type": "markdown",
   "metadata": {},
   "source": [
    "#### Over there, first we are talk about problem statement on a very high level.\n",
    "\n",
    "If a team has 10 members, some of us are going to write a code for data bases, some of us are going to write a code for data structures, some of us are going to write a code for handling some of the data or some of the utility files.\n",
    "\n",
    "Some of you are going to write a code for data processing.\n",
    "Some of you are going to write a code for the deployment.\n",
    "\n",
    "For each and every team members will be different.\n",
    "\n",
    "Starting from data injection to till the deployment."
   ]
  },
  {
   "cell_type": "markdown",
   "metadata": {},
   "source": [
    "It's not possible to create a one just python file and write all the 10000 line of codes.\n",
    "\n",
    "we create the so many python files, package files, and create a so many module files for one single project."
   ]
  },
  {
   "cell_type": "markdown",
   "metadata": {},
   "source": [
    "(py, modules, package, html, json, so many files we will create for one single project)"
   ]
  },
  {
   "cell_type": "markdown",
   "metadata": {},
   "source": [
    "#### We willcreate a different different packages, inside the different differentn modules , and then we will go for the integration."
   ]
  },
  {
   "cell_type": "markdown",
   "metadata": {},
   "source": [
    "# What is packages and modules.\n",
    "\n",
    "#### just create the folders and files, thats all"
   ]
  },
  {
   "cell_type": "markdown",
   "metadata": {},
   "source": [
    "# Questions"
   ]
  },
  {
   "cell_type": "markdown",
   "metadata": {},
   "source": [
    "# Homework"
   ]
  },
  {
   "cell_type": "markdown",
   "metadata": {},
   "source": [
    "(Exception handling, Logging, Using packages and module is must)"
   ]
  },
  {
   "cell_type": "markdown",
   "metadata": {},
   "source": [
    "For creating a UI interface, Tkinter is a best python library."
   ]
  },
  {
   "cell_type": "markdown",
   "metadata": {},
   "source": [
    "(tkinter, kivi) indha library use panna sonnanga. (GUI INTERFACE) He told kivi is best."
   ]
  },
  {
   "cell_type": "markdown",
   "metadata": {},
   "source": [
    "1. You have to create a particular tool, \n",
    "\n",
    "List down all of the files using that tool."
   ]
  },
  {
   "cell_type": "markdown",
   "metadata": {},
   "source": [
    "One week time for do this task, it takes only 1 or hours.\n",
    "\n",
    "So just do it."
   ]
  },
  {
   "cell_type": "markdown",
   "metadata": {},
   "source": [
    "Idhu mudunja aprm neraya time irundhuchu, so avunga idhulaye oops oda basic nadathunanga, \n",
    "\n",
    "Adha na indha file la podama,  New ah oru file create panni irukean adhula irukkum inime paaka pora ella codes um."
   ]
  },
  {
   "cell_type": "markdown",
   "metadata": {},
   "source": [
    "                                                    Completed\n",
    "\n",
    "                                                                                                Author : Santhosh Kumar"
   ]
  }
 ],
 "metadata": {
  "kernelspec": {
   "display_name": "Python 3 (ipykernel)",
   "language": "python",
   "name": "python3"
  },
  "language_info": {
   "codemirror_mode": {
    "name": "ipython",
    "version": 3
   },
   "file_extension": ".py",
   "mimetype": "text/x-python",
   "name": "python",
   "nbconvert_exporter": "python",
   "pygments_lexer": "ipython3",
   "version": "3.9.7"
  },
  "vscode": {
   "interpreter": {
    "hash": "180f8518baccd74e1e77565faed7e8576f26917e6b201f6b9516078dc879945e"
   }
  }
 },
 "nbformat": 4,
 "nbformat_minor": 2
}
