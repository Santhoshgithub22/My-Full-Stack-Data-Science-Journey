{
 "cells": [
  {
   "attachments": {},
   "cell_type": "markdown",
   "metadata": {},
   "source": [
    "# POLYMORPHISM"
   ]
  },
  {
   "attachments": {},
   "cell_type": "markdown",
   "metadata": {},
   "source": [
    "    POLY - MULTIPLE\n",
    "\n",
    "    MORPHISM - FORM"
   ]
  },
  {
   "attachments": {},
   "cell_type": "markdown",
   "metadata": {},
   "source": [
    "oops is a better way to write a code."
   ]
  },
  {
   "attachments": {},
   "cell_type": "markdown",
   "metadata": {},
   "source": [
    "#### What is polymorphism?\n",
    "\n",
    "    Eg. \n",
    "\n",
    "    (If you go meaning of this word)\n",
    "\n",
    "    Polymorphism means\n",
    "\n",
    "        Let's suppose you are a person at a same point of a time you can be a father of someone, you can be a brother of someone, you can be a uncle of someone, you can be uncle of someone.\n",
    "\n",
    "        You are the same person (your designation is difference with respect to the circumstances)\n",
    "\n",
    "        That is called as polymorphism\n",
    "\n",
    "    (Simply Means - one single object but its behaviour is going to change with respect to the different differenct situation, that is called as polymorphism)\n",
    "\n"
   ]
  },
  {
   "attachments": {},
   "cell_type": "markdown",
   "metadata": {},
   "source": [
    "Polymorphism simple means that \n",
    "\n",
    "    different different form in different different stage\n",
    "\n",
    "        If one person going to behave one way in  one situation and same person going to behave a different way in different situation  \n",
    "\n",
    "    "
   ]
  },
  {
   "cell_type": "code",
   "execution_count": 1,
   "metadata": {},
   "outputs": [],
   "source": [
    "def test(a,b):\n",
    "    return a+b"
   ]
  },
  {
   "cell_type": "code",
   "execution_count": 2,
   "metadata": {},
   "outputs": [
    {
     "data": {
      "text/plain": [
       "7"
      ]
     },
     "execution_count": 2,
     "metadata": {},
     "output_type": "execute_result"
    }
   ],
   "source": [
    "test(3,4)"
   ]
  },
  {
   "cell_type": "code",
   "execution_count": 4,
   "metadata": {},
   "outputs": [
    {
     "data": {
      "text/plain": [
       "'sudhkumar'"
      ]
     },
     "execution_count": 4,
     "metadata": {},
     "output_type": "execute_result"
    }
   ],
   "source": [
    "#instead of passing integer here I'm passing except the integer.\n",
    "\n",
    "test(\"sudh\" , \"kumar\")"
   ]
  },
  {
   "attachments": {},
   "cell_type": "markdown",
   "metadata": {},
   "source": [
    "idhula first test la addition result kuduthu irukku\n",
    "\n",
    "second result la concatenation result kuduthu irukku\n",
    "\n",
    "methods are same, but its difference about what we are giving, this is called as polymorphism"
   ]
  },
  {
   "attachments": {},
   "cell_type": "markdown",
   "metadata": {},
   "source": [
    "# Lets try to understand how we can try to implement the polymorphism in case of the classes and objects"
   ]
  },
  {
   "attachments": {},
   "cell_type": "markdown",
   "metadata": {},
   "source": [
    "(we all are using facebook and instagram, both are platforms providing to share a stories)"
   ]
  },
  {
   "cell_type": "code",
   "execution_count": 6,
   "metadata": {},
   "outputs": [],
   "source": [
    "class insta:\n",
    "\n",
    "    def share_stories(self):\n",
    "        print(\"this will share my insta story\")\n",
    "\n",
    "class facebook:\n",
    "\n",
    "    def share_stories(self):\n",
    "        print(\"this will share my facebook story\")\n",
    "\n",
    "#both will try to share a story at any point of the time"
   ]
  },
  {
   "cell_type": "code",
   "execution_count": 16,
   "metadata": {},
   "outputs": [],
   "source": [
    "def sharestories(app):\n",
    "    app.share_stories()"
   ]
  },
  {
   "cell_type": "code",
   "execution_count": 17,
   "metadata": {},
   "outputs": [],
   "source": [
    "i = insta() #i is the object of insta\n",
    "\n",
    "f = facebook() #f is the object of facebook"
   ]
  },
  {
   "cell_type": "code",
   "execution_count": 18,
   "metadata": {},
   "outputs": [
    {
     "name": "stdout",
     "output_type": "stream",
     "text": [
      "this will share my insta story\n"
     ]
    }
   ],
   "source": [
    "sharestories(i)"
   ]
  },
  {
   "cell_type": "code",
   "execution_count": 19,
   "metadata": {},
   "outputs": [
    {
     "name": "stdout",
     "output_type": "stream",
     "text": [
      "this will share my facebook story\n"
     ]
    }
   ],
   "source": [
    "sharestories(f)"
   ]
  },
  {
   "attachments": {},
   "cell_type": "markdown",
   "metadata": {},
   "source": [
    "If I am going to pass the insta object, it is trying to give me everything from the insta class\n",
    "\n",
    "In case of the facebook object, it is trying to give me everything from the facebook class."
   ]
  },
  {
   "attachments": {},
   "cell_type": "markdown",
   "metadata": {},
   "source": [
    "# Now Let's try to understand\n",
    "\n",
    "#### How this can be applicable in case of the inheritance \n",
    "\n",
    "#### so let's suppose if I have to implement a same thing with respect to a inheritance."
   ]
  },
  {
   "cell_type": "code",
   "execution_count": 20,
   "metadata": {},
   "outputs": [],
   "source": [
    "class social_media:\n",
    "\n",
    "    def share_stories(self):\n",
    "        print(\"share a stories\")\n",
    "\n",
    "    def upload_pictures(self):\n",
    "        print(\"this will help you to upload a picture on social media\")\n",
    "\n",
    "\n",
    "class facebook(social_media): #here I'm doing the inheritance - social media class\n",
    "    def share_stories(self):\n",
    "        print(\"this is a func for sharing a story for facebook\")\n",
    "\n",
    "class insta(social_media): #here I'm doing the inheritance - social media class\n",
    "    def share_stories(self):\n",
    "        print(\"this will print a story from insta\")"
   ]
  },
  {
   "attachments": {},
   "cell_type": "markdown",
   "metadata": {},
   "source": [
    "we've created a class for social media, inside the social media class we've created some functions\n",
    "\n",
    "and then we have created the facebook class and instagram class and inherit to the social media. "
   ]
  },
  {
   "cell_type": "code",
   "execution_count": 22,
   "metadata": {},
   "outputs": [],
   "source": [
    "# now I'm creating the object for the facebook and instagram\n",
    "\n",
    "f = facebook()\n",
    "i = insta()"
   ]
  },
  {
   "cell_type": "code",
   "execution_count": 24,
   "metadata": {},
   "outputs": [
    {
     "name": "stdout",
     "output_type": "stream",
     "text": [
      "this is a func for sharing a story for facebook\n"
     ]
    }
   ],
   "source": [
    "#it will call the local function, because it a object for the facebook class\n",
    "\n",
    "f.share_stories() #it will going to call the local function."
   ]
  },
  {
   "cell_type": "code",
   "execution_count": 26,
   "metadata": {},
   "outputs": [
    {
     "name": "stdout",
     "output_type": "stream",
     "text": [
      "this will print a story from insta\n"
     ]
    }
   ],
   "source": [
    "i.share_stories()"
   ]
  },
  {
   "cell_type": "code",
   "execution_count": 28,
   "metadata": {},
   "outputs": [],
   "source": [
    "# this share_stories function not going to change\n",
    "\n",
    "# the nature of the function is going to change"
   ]
  },
  {
   "attachments": {},
   "cell_type": "markdown",
   "metadata": {},
   "source": [
    "methods is same but it nature will be different depends on call - that is polymorphism"
   ]
  },
  {
   "attachments": {},
   "cell_type": "markdown",
   "metadata": {},
   "source": [
    "# while teaching exception handling he told just give me remainder &\n",
    "\n",
    "# I will try to explain with respect to the classes and object how to create your own exception class.\n",
    "\n",
    "# This is something he told."
   ]
  },
  {
   "attachments": {},
   "cell_type": "markdown",
   "metadata": {},
   "source": [
    "let's try to understand\n",
    "\n",
    "#### How I will be able to create my own class which can be like a helpful for me for raising an exceptions at any point of a time.\n",
    "\n",
    "so let's try to understand this things in a detailed way."
   ]
  },
  {
   "cell_type": "code",
   "execution_count": 30,
   "metadata": {},
   "outputs": [],
   "source": [
    "# in the test class we are trying to inherit the exception class \n",
    "# (We all know exception is the super class because of every error it will show)\n",
    "\n",
    "class test(Exception):\n",
    "\n",
    "    def __init__(self, msg):\n",
    "        self.msg = msg"
   ]
  },
  {
   "cell_type": "code",
   "execution_count": 31,
   "metadata": {},
   "outputs": [
    {
     "name": "stdout",
     "output_type": "stream",
     "text": [
      "this is my own exception class\n"
     ]
    }
   ],
   "source": [
    "try:\n",
    "    raise(test(\"this is my own exception class\"))\n",
    "\n",
    "except test as t:\n",
    "    print(t)"
   ]
  },
  {
   "cell_type": "code",
   "execution_count": 40,
   "metadata": {},
   "outputs": [
    {
     "ename": "ZeroDivisionError",
     "evalue": "division by zero",
     "output_type": "error",
     "traceback": [
      "\u001b[1;31m---------------------------------------------------------------------------\u001b[0m",
      "\u001b[1;31mZeroDivisionError\u001b[0m                         Traceback (most recent call last)",
      "Cell \u001b[1;32mIn[40], line 2\u001b[0m\n\u001b[0;32m      1\u001b[0m \u001b[39mtry\u001b[39;00m:\n\u001b[1;32m----> 2\u001b[0m     \u001b[39m5\u001b[39;49m\u001b[39m/\u001b[39;49m\u001b[39m0\u001b[39;49m\n\u001b[0;32m      3\u001b[0m \u001b[39mexcept\u001b[39;00m test \u001b[39mas\u001b[39;00m t:\n\u001b[0;32m      4\u001b[0m     \u001b[39mprint\u001b[39m(t)\n",
      "\u001b[1;31mZeroDivisionError\u001b[0m: division by zero"
     ]
    }
   ],
   "source": [
    "try:\n",
    "    5/0\n",
    "except test as t:\n",
    "    print(t)"
   ]
  },
  {
   "cell_type": "code",
   "execution_count": 33,
   "metadata": {},
   "outputs": [
    {
     "ename": "ZeroDivisionError",
     "evalue": "division by zero",
     "output_type": "error",
     "traceback": [
      "\u001b[1;31m---------------------------------------------------------------------------\u001b[0m",
      "\u001b[1;31mZeroDivisionError\u001b[0m                         Traceback (most recent call last)",
      "Cell \u001b[1;32mIn[33], line 2\u001b[0m\n\u001b[0;32m      1\u001b[0m \u001b[39mtry\u001b[39;00m:\n\u001b[1;32m----> 2\u001b[0m     \u001b[39m5\u001b[39;49m\u001b[39m/\u001b[39;49m\u001b[39m0\u001b[39;49m\n\u001b[0;32m      3\u001b[0m     \u001b[39mraise\u001b[39;00m(test(\u001b[39m\"\u001b[39m\u001b[39mthis is my own exception class\u001b[39m\u001b[39m\"\u001b[39m))\n\u001b[0;32m      5\u001b[0m \u001b[39mexcept\u001b[39;00m test \u001b[39mas\u001b[39;00m t:\n",
      "\u001b[1;31mZeroDivisionError\u001b[0m: division by zero"
     ]
    }
   ],
   "source": [
    "try:\n",
    "    5/0\n",
    "    raise(test(\"this is my own exception class\"))\n",
    "\n",
    "except test as t:\n",
    "    print(t)"
   ]
  },
  {
   "cell_type": "code",
   "execution_count": 34,
   "metadata": {},
   "outputs": [
    {
     "name": "stdout",
     "output_type": "stream",
     "text": [
      "this is my own exception class\n"
     ]
    }
   ],
   "source": [
    "try:\n",
    "    raise(test(\"this is my own exception class\"))\n",
    "    5/0\n",
    "\n",
    "except test as t:\n",
    "    print(t)"
   ]
  },
  {
   "cell_type": "code",
   "execution_count": 36,
   "metadata": {},
   "outputs": [],
   "source": [
    "class test(Exception):\n",
    "\n",
    "    def __init__(self, msg, myval):\n",
    "        self.msg = msg\n",
    "        self.myval = myval"
   ]
  },
  {
   "cell_type": "code",
   "execution_count": 38,
   "metadata": {},
   "outputs": [
    {
     "name": "stdout",
     "output_type": "stream",
     "text": [
      "('this is my own exception class', 'adfsadsf')\n"
     ]
    }
   ],
   "source": [
    "try:\n",
    "    raise(test(\"this is my own exception class\", \"adfsadsf\"))\n",
    "\n",
    "except test as t:\n",
    "    print(t)"
   ]
  },
  {
   "cell_type": "code",
   "execution_count": 39,
   "metadata": {},
   "outputs": [
    {
     "name": "stdout",
     "output_type": "stream",
     "text": [
      "('this is my own exception class', 5)\n"
     ]
    }
   ],
   "source": [
    "try:\n",
    "    raise(test(\"this is my own exception class\", 5))\n",
    "\n",
    "except test as t:\n",
    "    print(t)"
   ]
  },
  {
   "attachments": {},
   "cell_type": "markdown",
   "metadata": {},
   "source": [
    "# We are almost covered every topics in python"
   ]
  },
  {
   "attachments": {},
   "cell_type": "markdown",
   "metadata": {},
   "source": [
    "    Q1 - create your own class for to achieve multiple, multilevel inheritance\n",
    "\n",
    "    Q2 - create your own class to represent polymorphism\n",
    "\n",
    "    Q3 - create your own class for custom exception\n",
    "\n",
    "    Q4 - create your own class to achieve encapsulation\n",
    "\n",
    "    Q5 - create your own class to achieve method overloading and overriding"
   ]
  },
  {
   "attachments": {},
   "cell_type": "markdown",
   "metadata": {},
   "source": [
    "overloading means if we are trying to represent or rewrite the same thing in a different way\n",
    "\n",
    "    may be we are trying to different kind of the defintion that is called as overloading.\n",
    "\n",
    "overriding simply means that there is a one function that is we are just trying to write a different different kind a definition of it."
   ]
  },
  {
   "attachments": {},
   "cell_type": "markdown",
   "metadata": {},
   "source": [
    "# Student Solution No. 01 (Question 1)"
   ]
  },
  {
   "attachments": {},
   "cell_type": "markdown",
   "metadata": {},
   "source": [
    "#### 1. Multiple Inheritance"
   ]
  },
  {
   "attachments": {},
   "cell_type": "markdown",
   "metadata": {},
   "source": [
    "ivunga static variable use panni irukanga, that is (batchnumber = \"\") ipdi create panni irukanga, adha static nu solluvom,\n",
    "\n",
    "idhukku munnadi varaikum namma def __init__ la create panni irupom adha object nu solluvom."
   ]
  },
  {
   "attachments": {},
   "cell_type": "markdown",
   "metadata": {},
   "source": [
    "#### Idhula sudh static, decorator nu enna ennamo solli kuduthanga suthama puriyala "
   ]
  },
  {
   "cell_type": "code",
   "execution_count": 46,
   "metadata": {},
   "outputs": [],
   "source": [
    "# create your own class for to acheive multiple inheritance ?\n",
    "\n",
    "# parent class1\n",
    "\n",
    "class Batch_number:\n",
    "\n",
    "    batchnumber = \"\"\n",
    "    def batch(self):\n",
    "        print(self.batchnumber)\n",
    "\n",
    "# parent class 2\n",
    "\n",
    "class Course_name :\n",
    "\n",
    "    cname = \"\"\n",
    "    def course(self):\n",
    "        print(self.cname)\n",
    "\n",
    "# child class\n",
    "\n",
    "class student(Batch_number, Course_name):\n",
    "    \n",
    "    def deets(self):\n",
    "        print(\"Batch :\", self.batchnumber)\n",
    "        print(\"Course :\", self.cname)\n",
    "\n",
    "#child class code\n",
    "\n",
    "s1 = student()\n",
    "s1.batchnumber = \"2.O\"\n",
    "s1.cname = \"Fsds\""
   ]
  },
  {
   "cell_type": "code",
   "execution_count": 30,
   "metadata": {},
   "outputs": [
    {
     "name": "stdout",
     "output_type": "stream",
     "text": [
      "Batch : 2.O\n",
      "Course : Fsds\n"
     ]
    }
   ],
   "source": [
    "s1.deets()"
   ]
  },
  {
   "attachments": {},
   "cell_type": "markdown",
   "metadata": {},
   "source": [
    "He teached decorater more than 40 minutes, I didn't understand, below code is writing when he teached about static method.(that also not understand)"
   ]
  },
  {
   "cell_type": "code",
   "execution_count": 33,
   "metadata": {},
   "outputs": [],
   "source": [
    "\n",
    "\n",
    "class accountdetails:\n",
    "\n",
    "    account_no = \"794654874577777777777\" #it will not change at any time\n",
    "\n",
    "    def __init__(self, amount): #there is a possibility to amount going to change\n",
    "        self.amount = amount\n",
    "\n",
    "    def show_balance(self, deduction):\n",
    "        self.amount = self.amount - deduction\n",
    "        return self.amount, account_no"
   ]
  },
  {
   "attachments": {},
   "cell_type": "markdown",
   "metadata": {},
   "source": [
    "# Back to question solving"
   ]
  },
  {
   "attachments": {},
   "cell_type": "markdown",
   "metadata": {},
   "source": [
    "#### Multi level inheritance"
   ]
  },
  {
   "cell_type": "code",
   "execution_count": 44,
   "metadata": {},
   "outputs": [
    {
     "name": "stdout",
     "output_type": "stream",
     "text": [
      "this is my code of xyz1 class\n"
     ]
    }
   ],
   "source": [
    "#create your own class for to achieve multilevel inheritance?\n",
    "\n",
    "# multi level inheritance\n",
    "\n",
    "class xyz:\n",
    "\n",
    "    def __init__(self, a, b, c):\n",
    "        self.a = a\n",
    "        self.b = b\n",
    "        self.c = c\n",
    "\n",
    "    def test(self):\n",
    "        print(\"this is my code of xyz class\")\n",
    "\n",
    "class xyz1(xyz):\n",
    "\n",
    "    def test1(self):\n",
    "        print(\"this is my code of xyz1 class\")\n",
    "\n",
    "class xyz2(xyz1):\n",
    "\n",
    "    def test2(self):\n",
    "        print(\"this is my code of xyz2 class\")\n",
    "\n",
    "n = xyz1(3,4,5)\n",
    "n.test1()"
   ]
  },
  {
   "cell_type": "code",
   "execution_count": 11,
   "metadata": {},
   "outputs": [
    {
     "name": "stdout",
     "output_type": "stream",
     "text": [
      "Flagship mobile, laptop\n",
      "None\n",
      "Flagship laptops\n",
      "None\n"
     ]
    }
   ],
   "source": [
    "# multi level inheritance\n",
    "\n",
    "class apple:\n",
    "    \n",
    "    def devices(self):\n",
    "        print(\"Iphone, Imac, airpods\")\n",
    "\n",
    "class mi(apple):\n",
    "\n",
    "    def devices(self):\n",
    "        print(\"Flagship mobile, laptop\")\n",
    "\n",
    "class dell(mi):\n",
    "\n",
    "    def devices(self):\n",
    "        print(\"Flagship laptops\")\n",
    "\n",
    "n = mi()\n",
    "\n",
    "print(n.devices())\n",
    "\n",
    "r = dell()\n",
    "\n",
    "print(r.devices())"
   ]
  },
  {
   "attachments": {},
   "cell_type": "markdown",
   "metadata": {},
   "source": [
    "#### Custom Exception"
   ]
  },
  {
   "attachments": {},
   "cell_type": "markdown",
   "metadata": {},
   "source": [
    "Idhula b oda value 5 vandha error varanum nu code eludhi irukom"
   ]
  },
  {
   "cell_type": "code",
   "execution_count": 47,
   "metadata": {},
   "outputs": [
    {
     "name": "stdout",
     "output_type": "stream",
     "text": [
      "division by 5 error\n"
     ]
    }
   ],
   "source": [
    "# create your own class for custom exception?\n",
    "\n",
    "class division_by_5(Exception):\n",
    "\n",
    "    def __init__(self, msg):\n",
    "        self.msg = msg\n",
    "\n",
    "try:\n",
    "    a = int(input(\"Enter first number : \")) #4\n",
    "    b = int(input(\"Enter second number : \")) #5\n",
    "\n",
    "    if b == 5:\n",
    "        raise division_by_5(\"division by 5 error\")\n",
    "\n",
    "except ValueError as msg:\n",
    "    print(msg)\n",
    "\n",
    "except ZeroDivisionError as msg:\n",
    "    print(msg)\n",
    "\n",
    "except division_by_5 as msg:\n",
    "    print(msg)\n",
    "\n",
    "else:\n",
    "    result = a/b\n",
    "    print(result)"
   ]
  },
  {
   "attachments": {},
   "cell_type": "markdown",
   "metadata": {},
   "source": [
    "#### Polymorphism"
   ]
  },
  {
   "cell_type": "code",
   "execution_count": 3,
   "metadata": {},
   "outputs": [
    {
     "name": "stdout",
     "output_type": "stream",
     "text": [
      "test1....\n",
      "test2....\n"
     ]
    }
   ],
   "source": [
    "# create your own class to represent polymorphism\n",
    "\n",
    "class test1:\n",
    "\n",
    "    def a(self):\n",
    "        return \"test1....\"\n",
    "\n",
    "class test2:\n",
    "\n",
    "    def a(self):\n",
    "        return \"test2....\"\n",
    "\n",
    "def poly(obj):\n",
    "    print(obj.a()) #inga call symbol pota dhan output varudhu if not function ah output varudhu\n",
    "\n",
    "t1 = test1()\n",
    "t2 = test2()\n",
    "\n",
    "poly(t1)\n",
    "poly(t2)"
   ]
  },
  {
   "cell_type": "code",
   "execution_count": 14,
   "metadata": {},
   "outputs": [
    {
     "name": "stdout",
     "output_type": "stream",
     "text": [
      "New delhi is the capital of India....\n",
      "Hindi is the most widely spoken language of india\n",
      "India is a developing country\n",
      "Dhaka is the capital of Bangladesh\n",
      "Bengali is the Primary language of USA\n",
      "Bangladesh is a developed country\n"
     ]
    }
   ],
   "source": [
    "# Polymorphism\n",
    "\n",
    "class India():\n",
    "\n",
    "    def capital(self):\n",
    "        print(\"New delhi is the capital of India....\")\n",
    "\n",
    "    def language(self):\n",
    "        print(\"Hindi is the most widely spoken language of india\")\n",
    "\n",
    "    def type(self):\n",
    "        print(\"India is a developing country\")\n",
    "        \n",
    "class Bangladesh():\n",
    "\n",
    "    def capital(self):\n",
    "        print(\"Dhaka is the capital of Bangladesh\")\n",
    "\n",
    "    def language(self):\n",
    "        print(\"Bengali is the Primary language of USA\")\n",
    "\n",
    "    def type(self):\n",
    "        print(\"Bangladesh is a developed country\")\n",
    "\n",
    "\n",
    "obj_ind = India()\n",
    "obj_usa = Bangladesh()\n",
    "\n",
    "for country in (obj_ind, obj_usa):\n",
    "    country.capital()\n",
    "    country.language()\n",
    "    country.type()"
   ]
  },
  {
   "attachments": {},
   "cell_type": "markdown",
   "metadata": {},
   "source": [
    "# Abstraction"
   ]
  },
  {
   "attachments": {},
   "cell_type": "markdown",
   "metadata": {},
   "source": [
    "Lets suppose I am working in one of the projects right\n",
    "\n",
    "So I am a manager / lead and I am working in one of the project and for sure inside my project I have a multiple module / packages / classes.\n",
    "\n",
    "Under me another 5 developers working in the same project."
   ]
  },
  {
   "attachments": {},
   "cell_type": "markdown",
   "metadata": {},
   "source": [
    "#### I have a situation over here that on a very first day what we used to do is we try to break down my entire system into a small small modules\n",
    "\n",
    "#### Because we will end up writing a thousands and thousands line of the code ten thousand line of the code. plus (+) thousands thousands of function implementation we will end up doing."
   ]
  },
  {
   "attachments": {},
   "cell_type": "markdown",
   "metadata": {},
   "source": [
    "If that is a situation then in that case its very very difficult to maintain and to remember all of the functions or all of the modules that we are going to use or we are going to build inside our classes or inside our modules or inside our packages.\n",
    "\n",
    "Simply saying - Its very very difficult to remember all of these things."
   ]
  },
  {
   "attachments": {},
   "cell_type": "markdown",
   "metadata": {},
   "source": [
    "# So if it is very very difficult so in that case what we used to do is so we try to create a abstract classes."
   ]
  },
  {
   "attachments": {},
   "cell_type": "markdown",
   "metadata": {},
   "source": [
    "#### So abstract is nothing but\n",
    "\n",
    "# It's kind of a blue print I will try to create means I will define a function but so I will utilize function but I will not try to write the functions like a definition. \n",
    "\n",
    "how ?\n",
    "\n",
    "So lets suppose I have created a class over here right. (class abc)"
   ]
  },
  {
   "cell_type": "code",
   "execution_count": 15,
   "metadata": {},
   "outputs": [],
   "source": [
    "class abc:\n",
    "    pass\n",
    "\n",
    "# I have created a class over here right (class abc I have written)\n",
    "# and then I have written pass.\n",
    "\n",
    "# so can I say that I have created class but I have not written any kind of a definition of the classes ?\n",
    "\n",
    "# can I say that I have just created a blueprint of it?\n"
   ]
  },
  {
   "attachments": {},
   "cell_type": "markdown",
   "metadata": {},
   "source": [
    "# YES"
   ]
  },
  {
   "attachments": {},
   "cell_type": "markdown",
   "metadata": {},
   "source": [
    "So I have just created a blue print of it right.  I just created a class right.\n",
    "\n",
    "So now I can name these things as a ABSTRACT CLASS.\n",
    "\n",
    "this is just abstract.\n",
    "\n",
    "means - it is just going to give you a blueprint it's not a actual implementation it's just a abstract. \n",
    "\n",
    "Go after the english word I believe if you will find out the meaning of abstract.  abstract simply means that kind of a blueprint a kind of a skeleton that we are trying to build. / A kind of a structure I am trying to build that is the actual meaning of abstract / abstraction."
   ]
  },
  {
   "cell_type": "code",
   "execution_count": 16,
   "metadata": {},
   "outputs": [],
   "source": [
    "# here I am not able to see any kind of implementation.\n",
    "# but here we just created a skeleton / blueprint.\n",
    "# this is called as abstract.\n",
    "# or abstraction.\n",
    "\n",
    "# here I am not able to see any Implementation then why I have done this?\n",
    "# ANS. : So that I will be able to create the abstraction,\n",
    "#        I will be able to create a blueprint of it.\n",
    "\n",
    "class abc:\n",
    "    pass"
   ]
  },
  {
   "attachments": {},
   "cell_type": "markdown",
   "metadata": {},
   "source": [
    "#### So on a very first day \n",
    "\n",
    "#### When you are going to join when you are going to join your team as a lead,\n",
    "\n",
    "#### So what we use to do is - We used to do lots of discussion on each and every functions and modules and we create a abstraction / abstract of it."
   ]
  },
  {
   "attachments": {},
   "cell_type": "markdown",
   "metadata": {},
   "source": [
    "so lets suppose If I am going to create a class called as car."
   ]
  },
  {
   "attachments": {},
   "cell_type": "markdown",
   "metadata": {},
   "source": [
    "# My problem is I dont want to define each and every function on a very first day.\n",
    "\n",
    "# But\n",
    "\n",
    "# I would like to list down all the functions on the very first day."
   ]
  },
  {
   "attachments": {},
   "cell_type": "markdown",
   "metadata": {},
   "source": [
    "so lets suppose I am working with a data project."
   ]
  },
  {
   "cell_type": "code",
   "execution_count": 17,
   "metadata": {},
   "outputs": [],
   "source": [
    "class data_project :\n",
    "\n",
    "    def read_file(self):\n",
    "        pass\n",
    "\n",
    "    def validate_file(self):\n",
    "        pass\n",
    "\n",
    "    def validate_datatype(self):\n",
    "        pass\n",
    "\n",
    "    def validate_db_connection(self):\n",
    "        pass\n",
    "\n",
    "    def create_connection_with_db(self):\n",
    "        pass\n",
    "\n",
    "    def insert_data(self):\n",
    "        pass\n",
    "\n",
    "    def delete_data(self):\n",
    "        pass\n",
    "\n",
    "    def update_data(self):\n",
    "        pass\n",
    "\n",
    "    def perform_stats(self): #perform statistical analysis.\n",
    "        pass\n",
    "\n",
    "    def perform_eda(self):\n",
    "        pass\n",
    "\n",
    "# here you can see there are so many functions we created and \n",
    "# none of these functions I have not given a definition over here.\n",
    "\n",
    "# so I am trying to create a blueprint.\n",
    "\n",
    "# I am just trying to create a blueprint of it just a blueprint.\n",
    "# Nothing else I am trying to perform in this particular place a complete class blueprint\n",
    "\n",
    "# I have created each and everything over here.\n"
   ]
  },
  {
   "attachments": {},
   "cell_type": "markdown",
   "metadata": {},
   "source": [
    "# Now I will ask you\n",
    "\n",
    "#### Lets suppose you are working under me so I will ask you just do one thing.\n",
    "\n",
    "#### So whatever function which I have written for a db operation.\n",
    "\n",
    "so person number 1 is going to pick all of those functions and he is going to write all of those functions.\n",
    "\n",
    "person number 2 is going to pick all of those operations which is related to a file - read file, write file, validate file, whatever I have given.\n",
    "\n",
    "person number 3 is going to pick all the statistical related functions.\n",
    "\n",
    "person number 4 is going to pick all the eda related and they are going to create each and every modules.\n",
    "\n",
    "so this is how I will be dividing a task so first of all.\n",
    "\n",
    "#### I will create each and every modules.  Inside the packages, inside the modules, inside that classes so first of all I will try to get the abstract class and then I will assign a job to a person who is working under me.\n",
    "\n",
    "saying that ok fine so you are the one who is going to write all db operation now there is a person who is very good with the statistical analysis.\n",
    "\n",
    "In this similar way I will assign that task depends on persons skills.\n"
   ]
  },
  {
   "attachments": {},
   "cell_type": "markdown",
   "metadata": {},
   "source": [
    "# So This is called as ABSTRACTION"
   ]
  },
  {
   "attachments": {},
   "cell_type": "markdown",
   "metadata": {},
   "source": [
    "let's suppose I asking a person for db operation\n",
    "\n",
    "So what the person will do, the person is going to create a class called as db operation"
   ]
  },
  {
   "cell_type": "code",
   "execution_count": null,
   "metadata": {},
   "outputs": [],
   "source": [
    "class db_ops(data_project): # its a seperate class dp operation class, I have enherit entire project details class.\n",
    "\n",
    "    # After inherit, Now all of the functions will be available here.\n",
    "\n",
    "    # As per the name the person is going to choose.\n",
    "\n",
    "    # Now the particular person will write the code in this class.\n",
    "\n"
   ]
  },
  {
   "attachments": {},
   "cell_type": "markdown",
   "metadata": {},
   "source": [
    "# KEEP IN MIND\n",
    "\n",
    "So abstraction are nothing but, in a generic way abstaraction is nothing but creating a blueprint.  That's it."
   ]
  },
  {
   "attachments": {},
   "cell_type": "markdown",
   "metadata": {},
   "source": [
    "# abstract are also available in decorator too."
   ]
  },
  {
   "cell_type": "code",
   "execution_count": 18,
   "metadata": {},
   "outputs": [
    {
     "ename": "ImportError",
     "evalue": "cannot import name 'abstractmethod' from 'test' (c:\\Users\\santhoshkumar.m\\AppData\\Local\\Programs\\Python\\Python311\\Lib\\test\\__init__.py)",
     "output_type": "error",
     "traceback": [
      "\u001b[1;31m---------------------------------------------------------------------------\u001b[0m",
      "\u001b[1;31mImportError\u001b[0m                               Traceback (most recent call last)",
      "Cell \u001b[1;32mIn[18], line 1\u001b[0m\n\u001b[1;32m----> 1\u001b[0m \u001b[39mfrom\u001b[39;00m \u001b[39mtest\u001b[39;00m \u001b[39mimport\u001b[39;00m abstractmethod\n",
      "\u001b[1;31mImportError\u001b[0m: cannot import name 'abstractmethod' from 'test' (c:\\Users\\santhoshkumar.m\\AppData\\Local\\Programs\\Python\\Python311\\Lib\\test\\__init__.py)"
     ]
    }
   ],
   "source": [
    "from test import abstractmethod"
   ]
  },
  {
   "cell_type": "code",
   "execution_count": 20,
   "metadata": {},
   "outputs": [],
   "source": [
    "from abc import abstractmethod\n",
    "\n",
    "# this is a something which is already a predefined one inside your __init__ method.\n",
    "\n",
    "# even without a decorator creating a abstract is also possible."
   ]
  },
  {
   "attachments": {},
   "cell_type": "markdown",
   "metadata": {},
   "source": [
    "# Now lets see one more topic"
   ]
  },
  {
   "attachments": {},
   "cell_type": "markdown",
   "metadata": {},
   "source": [
    "# Overloading Vs Overriding"
   ]
  },
  {
   "cell_type": "code",
   "execution_count": 1,
   "metadata": {},
   "outputs": [],
   "source": [
    "class test:\n",
    "\n",
    "    def func(self):\n",
    "        print(\"this is my sample class\")"
   ]
  },
  {
   "cell_type": "code",
   "execution_count": 2,
   "metadata": {},
   "outputs": [],
   "source": [
    "t = test()"
   ]
  },
  {
   "cell_type": "code",
   "execution_count": 3,
   "metadata": {},
   "outputs": [
    {
     "name": "stdout",
     "output_type": "stream",
     "text": [
      "<__main__.test object at 0x00000189DD90C810>\n"
     ]
    }
   ],
   "source": [
    "print(t)"
   ]
  },
  {
   "cell_type": "code",
   "execution_count": 4,
   "metadata": {},
   "outputs": [
    {
     "data": {
      "text/plain": [
       "<__main__.test at 0x189dd90c810>"
      ]
     },
     "execution_count": 4,
     "metadata": {},
     "output_type": "execute_result"
    }
   ],
   "source": [
    "t"
   ]
  },
  {
   "attachments": {},
   "cell_type": "markdown",
   "metadata": {},
   "source": [
    "If I am going to print / call a object.\n",
    "\n",
    "you will able to see some short of the hexadecimal code"
   ]
  },
  {
   "attachments": {},
   "cell_type": "markdown",
   "metadata": {},
   "source": [
    "#### NOW WHAT I WILL DO IS."
   ]
  },
  {
   "attachments": {},
   "cell_type": "markdown",
   "metadata": {},
   "source": [
    "what I am expecting here is some short of the meaningfull message over here at the same point of the time."
   ]
  },
  {
   "cell_type": "code",
   "execution_count": 5,
   "metadata": {},
   "outputs": [],
   "source": [
    "class test:\n",
    "\n",
    "    def func(self):\n",
    "        print(\"this is my sample class\")\n",
    "\n",
    "# here we are trying to overload the str function\n",
    "# str is a inbuild one like init.\n",
    "\n",
    "#overload __str__ method the we will able to operation.\n",
    "\n",
    "# last ah indha function eludhama run pannapa nammaku output varala\n",
    "# verum hexadecimal values dhan output ah vandhuchu\n",
    "# but indha function eludhuna aprm output vandhuruchu.\n",
    "\n",
    "    def __str__(self):\n",
    "        return str(\" this is the function called at a time of object print\")"
   ]
  },
  {
   "cell_type": "code",
   "execution_count": 6,
   "metadata": {},
   "outputs": [],
   "source": [
    "t = test()"
   ]
  },
  {
   "cell_type": "code",
   "execution_count": 7,
   "metadata": {},
   "outputs": [
    {
     "name": "stdout",
     "output_type": "stream",
     "text": [
      " this is the function called at a time of object print\n"
     ]
    }
   ],
   "source": [
    "print(t)"
   ]
  },
  {
   "cell_type": "code",
   "execution_count": 12,
   "metadata": {},
   "outputs": [],
   "source": [
    "class test:\n",
    "\n",
    "    def func(self):\n",
    "        print(\"this is my sample class\")\n",
    "\n",
    "def __str__(self):\n",
    "        return 716145164161 #If I remove string and put number here it will not going to work."
   ]
  },
  {
   "cell_type": "code",
   "execution_count": 13,
   "metadata": {},
   "outputs": [],
   "source": [
    "t = test()"
   ]
  },
  {
   "cell_type": "code",
   "execution_count": 14,
   "metadata": {},
   "outputs": [
    {
     "name": "stdout",
     "output_type": "stream",
     "text": [
      "<__main__.test object at 0x00000189DD9918D0>\n"
     ]
    }
   ],
   "source": [
    "print(t) #Avungalukku inga error vandhuchu"
   ]
  },
  {
   "cell_type": "code",
   "execution_count": 8,
   "metadata": {},
   "outputs": [],
   "source": [
    "# Overloading We have already discussed in the previous class."
   ]
  },
  {
   "attachments": {},
   "cell_type": "markdown",
   "metadata": {},
   "source": [
    "                                                                             Completed\n",
    "\n",
    "                                                                                                                                            Santhosh Kumar"
   ]
  }
 ],
 "metadata": {
  "kernelspec": {
   "display_name": "Python 3",
   "language": "python",
   "name": "python3"
  },
  "language_info": {
   "codemirror_mode": {
    "name": "ipython",
    "version": 3
   },
   "file_extension": ".py",
   "mimetype": "text/x-python",
   "name": "python",
   "nbconvert_exporter": "python",
   "pygments_lexer": "ipython3",
   "version": "3.11.1"
  },
  "orig_nbformat": 4,
  "vscode": {
   "interpreter": {
    "hash": "180f8518baccd74e1e77565faed7e8576f26917e6b201f6b9516078dc879945e"
   }
  }
 },
 "nbformat": 4,
 "nbformat_minor": 2
}
