{
 "cells": [
  {
   "cell_type": "markdown",
   "metadata": {},
   "source": [
    "Yesterday we saw exception handling, & learnt well"
   ]
  },
  {
   "cell_type": "markdown",
   "metadata": {},
   "source": [
    "# REMEMBER - Exception is not a keyword, Exception is a super class"
   ]
  },
  {
   "cell_type": "markdown",
   "metadata": {},
   "source": [
    "Today we will see LOGGING"
   ]
  },
  {
   "cell_type": "markdown",
   "metadata": {},
   "source": [
    "If we write any kind of the code, we should use exception handling & logging."
   ]
  },
  {
   "cell_type": "markdown",
   "metadata": {},
   "source": [
    "Eg.\n",
    "\n",
    "I have written 10000 lines of the code, if there is a issue in between, which may fail and affect the entire code.\n",
    "\n",
    "so that we should use exception handling."
   ]
  },
  {
   "cell_type": "markdown",
   "metadata": {},
   "source": [
    "# Brief RECAP of yesterday"
   ]
  },
  {
   "cell_type": "markdown",
   "metadata": {},
   "source": [
    "Remember always, try block is trying to call except block only in case of an error."
   ]
  },
  {
   "cell_type": "code",
   "execution_count": 1,
   "metadata": {},
   "outputs": [
    {
     "ename": "SyntaxError",
     "evalue": "incomplete input (3416906790.py, line 3)",
     "output_type": "error",
     "traceback": [
      "\u001b[1;36m  Cell \u001b[1;32mIn[1], line 3\u001b[1;36m\u001b[0m\n\u001b[1;33m    print(\"asdfadfsdf\"\u001b[0m\n\u001b[1;37m                      ^\u001b[0m\n\u001b[1;31mSyntaxError\u001b[0m\u001b[1;31m:\u001b[0m incomplete input\n"
     ]
    }
   ],
   "source": [
    "#here I make one synthetical mistake\n",
    "\n",
    "print(\"asdfadfsdf\""
   ]
  },
  {
   "cell_type": "code",
   "execution_count": null,
   "metadata": {},
   "outputs": [
    {
     "ename": "ValueError",
     "evalue": "invalid literal for int() with base 10: 'adfsasf'",
     "output_type": "error",
     "traceback": [
      "\u001b[1;31m---------------------------------------------------------------------------\u001b[0m",
      "\u001b[1;31mValueError\u001b[0m                                Traceback (most recent call last)",
      "Cell \u001b[1;32mIn[3], line 5\u001b[0m\n\u001b[0;32m      1\u001b[0m \u001b[39m# there is a possible to we get a error even if our code is correct.\u001b[39;00m\n\u001b[0;32m      2\u001b[0m \n\u001b[0;32m      3\u001b[0m \u001b[39m# for eg.\u001b[39;00m\n\u001b[1;32m----> 5\u001b[0m a \u001b[39m=\u001b[39m \u001b[39mint\u001b[39;49m(\u001b[39minput\u001b[39;49m())\n",
      "\u001b[1;31mValueError\u001b[0m: invalid literal for int() with base 10: 'adfsasf'"
     ]
    }
   ],
   "source": [
    "# there is a possible to we get a error even if our code is correct.\n",
    "\n",
    "# for eg.\n",
    "\n",
    "a = int(input()) #fadsasdf - int ah pass pannama string ah pass pandrom\n",
    "\n",
    "#so now, this kind of the error is called as a exception (value error)\n"
   ]
  },
  {
   "cell_type": "markdown",
   "metadata": {},
   "source": [
    "Try & Exception statement is going to help you out to overcome this entire problem to handle it."
   ]
  },
  {
   "cell_type": "markdown",
   "metadata": {},
   "source": [
    "In a try, we always keep a suspicious code in a try block.\n",
    "\n",
    "Inside except block we will able to handle it."
   ]
  },
  {
   "cell_type": "code",
   "execution_count": 2,
   "metadata": {},
   "outputs": [
    {
     "ename": "SyntaxError",
     "evalue": "'(' was never closed (4058886143.py, line 4)",
     "output_type": "error",
     "traceback": [
      "\u001b[1;36m  Cell \u001b[1;32mIn[2], line 4\u001b[1;36m\u001b[0m\n\u001b[1;33m    print(\"asdfdfasadfs\"\u001b[0m\n\u001b[1;37m         ^\u001b[0m\n\u001b[1;31mSyntaxError\u001b[0m\u001b[1;31m:\u001b[0m '(' was never closed\n"
     ]
    }
   ],
   "source": [
    "#its a synthetical mistake thats why our exception handling not working\n",
    "\n",
    "try:\n",
    "    print(\"asdfdfasadfs\"\n",
    "except:\n",
    "    print(\"you made a mistake\")"
   ]
  },
  {
   "cell_type": "code",
   "execution_count": 3,
   "metadata": {},
   "outputs": [
    {
     "name": "stdout",
     "output_type": "stream",
     "text": [
      "You made a mistake\n"
     ]
    }
   ],
   "source": [
    "try:\n",
    "    a = int(input()) # afadfsadsf\n",
    "except:\n",
    "    print(\"You made a mistake\")"
   ]
  },
  {
   "cell_type": "code",
   "execution_count": 4,
   "metadata": {},
   "outputs": [
    {
     "name": "stdout",
     "output_type": "stream",
     "text": [
      "You made a mistake -  invalid literal for int() with base 10: 'asdfasdf'\n"
     ]
    }
   ],
   "source": [
    "try:\n",
    "    a = int(input()) #adfadfadffdad\n",
    "except Exception as e:\n",
    "    print(\"You made a mistake - \", e)"
   ]
  },
  {
   "cell_type": "markdown",
   "metadata": {},
   "source": [
    "Let's suppose I am writing suspicious code, Im not sure my code is correct may be it has a some short of the error."
   ]
  },
  {
   "cell_type": "code",
   "execution_count": 5,
   "metadata": {},
   "outputs": [
    {
     "ename": "SyntaxError",
     "evalue": "incomplete input (3621663330.py, line 3)",
     "output_type": "error",
     "traceback": [
      "\u001b[1;36m  Cell \u001b[1;32mIn[5], line 3\u001b[1;36m\u001b[0m\n\u001b[1;33m    f.write(\"asfdafd\")\u001b[0m\n\u001b[1;37m                      ^\u001b[0m\n\u001b[1;31mSyntaxError\u001b[0m\u001b[1;31m:\u001b[0m incomplete input\n"
     ]
    }
   ],
   "source": [
    "try:\n",
    "    f = open(\"test1.txt\", \"r\")\n",
    "    f.write(\"asfdafd\")"
   ]
  },
  {
   "cell_type": "code",
   "execution_count": 6,
   "metadata": {},
   "outputs": [
    {
     "name": "stdout",
     "output_type": "stream",
     "text": [
      "You made some mistake\n"
     ]
    }
   ],
   "source": [
    "try:\n",
    "    f = open(\"test1.txt\", \"r\")\n",
    "    f.write(\"safafsdf\")\n",
    "\n",
    "except:\n",
    "    print(\"You made some mistake\")"
   ]
  },
  {
   "cell_type": "code",
   "execution_count": 7,
   "metadata": {},
   "outputs": [
    {
     "name": "stdout",
     "output_type": "stream",
     "text": [
      "You made some mistake -  not writable\n",
      "7\n",
      "this is my code\n"
     ]
    }
   ],
   "source": [
    "#here if we did some mistake, it will not crashed all my codes,\n",
    "# it will run if my next line of code is correct.\n",
    "\n",
    "#syntheticall this code is correct, but may be in run time my file opened in read mode.\n",
    "try:\n",
    "    f = open(\"test1.txt\", \"r\")\n",
    "    f.write(\"asfdfasdfadfs\")\n",
    "\n",
    "except Exception as e:\n",
    "    print(\"You made some mistake - \", e)\n",
    "\n",
    "print(7)\n",
    "print(\"this is my code\")"
   ]
  },
  {
   "cell_type": "code",
   "execution_count": 8,
   "metadata": {},
   "outputs": [
    {
     "name": "stdout",
     "output_type": "stream",
     "text": [
      "this is my handler\n",
      "1\n",
      "2\n",
      "3\n",
      "4\n",
      "5\n",
      "6\n",
      "7\n"
     ]
    }
   ],
   "source": [
    "try:\n",
    "    f = open(\"test1.txt\", \"r\")\n",
    "    f.write(\"this is my code with exceptional handling\")\n",
    "    print(\"this is my code after write eh\")\n",
    "\n",
    "except:\n",
    "    print(\"this is my handler\")\n",
    "\n",
    "l = [1,2,3,4,5,6,7]\n",
    "for i in l:\n",
    "    print(i)"
   ]
  },
  {
   "cell_type": "code",
   "execution_count": 9,
   "metadata": {},
   "outputs": [
    {
     "ename": "UnsupportedOperation",
     "evalue": "not writable",
     "output_type": "error",
     "traceback": [
      "\u001b[1;31m---------------------------------------------------------------------------\u001b[0m",
      "\u001b[1;31mUnsupportedOperation\u001b[0m                      Traceback (most recent call last)",
      "Cell \u001b[1;32mIn[9], line 6\u001b[0m\n\u001b[0;32m      1\u001b[0m \u001b[39m#same code without exceptional handling is not going to work.\u001b[39;00m\n\u001b[0;32m      2\u001b[0m \u001b[39m#because my code was failed in second line.\u001b[39;00m\n\u001b[0;32m      3\u001b[0m \u001b[39m#if my code has failed in particular line, next lines of the code will not work.\u001b[39;00m\n\u001b[0;32m      5\u001b[0m f \u001b[39m=\u001b[39m \u001b[39mopen\u001b[39m(\u001b[39m\"\u001b[39m\u001b[39mtest1.txt\u001b[39m\u001b[39m\"\u001b[39m, \u001b[39m\"\u001b[39m\u001b[39mr\u001b[39m\u001b[39m\"\u001b[39m)\n\u001b[1;32m----> 6\u001b[0m f\u001b[39m.\u001b[39;49mwrite(\u001b[39m\"\u001b[39;49m\u001b[39mthis is my code with exceptional handling\u001b[39;49m\u001b[39m\"\u001b[39;49m)\n\u001b[0;32m      7\u001b[0m \u001b[39mprint\u001b[39m(\u001b[39m\"\u001b[39m\u001b[39mthis is my code after write eh\u001b[39m\u001b[39m\"\u001b[39m)\n\u001b[0;32m      8\u001b[0m l \u001b[39m=\u001b[39m [\u001b[39m1\u001b[39m,\u001b[39m2\u001b[39m,\u001b[39m3\u001b[39m,\u001b[39m4\u001b[39m,\u001b[39m5\u001b[39m,\u001b[39m6\u001b[39m,\u001b[39m7\u001b[39m]\n",
      "\u001b[1;31mUnsupportedOperation\u001b[0m: not writable"
     ]
    }
   ],
   "source": [
    "#same code without exceptional handling is not going to work.\n",
    "#because my code was failed in second line.\n",
    "#if my code has failed in particular line, next lines of the code will not work.\n",
    "\n",
    "f = open(\"test1.txt\", \"r\")\n",
    "f.write(\"this is my code with exceptional handling\")\n",
    "print(\"this is my code after write eh\")\n",
    "l = [1,2,3,4,5,6,7]\n",
    "for i in l:\n",
    "    print(i)\n"
   ]
  },
  {
   "cell_type": "markdown",
   "metadata": {},
   "source": [
    "# We can create any number of try and except block. It does not matter.\n",
    "\n",
    "#### Its completly fine\n",
    "\n",
    "#### We can create a millions of try and except block\n",
    "\n",
    "# We can create a millions of try block inside the try block itself, its completly fine.\n",
    "\n",
    "#### We can create a nested try block its not going to affect at all, and its not going to break our code."
   ]
  },
  {
   "cell_type": "code",
   "execution_count": 10,
   "metadata": {},
   "outputs": [
    {
     "name": "stdout",
     "output_type": "stream",
     "text": [
      "this is my handler\n",
      "1\n",
      "2\n",
      "3\n",
      "4\n",
      "5\n",
      "6\n",
      "7\n"
     ]
    }
   ],
   "source": [
    "try:\n",
    "    f = open(\"test1.txt\", \"r\")\n",
    "    f.write(\"this is my code with exceptional handling\")\n",
    "    print(\"this is my code after write eh\")\n",
    "\n",
    "except:\n",
    "    print(\"this is my handler\")\n",
    "\n",
    "try:\n",
    "    l = [1,2,3,4,5,6,7]\n",
    "    for i in l:\n",
    "        print(i)\n",
    "\n",
    "except:\n",
    "    print(\"This is the handler for forloop\")"
   ]
  },
  {
   "cell_type": "markdown",
   "metadata": {},
   "source": [
    "Let's see some more programs in try & except"
   ]
  },
  {
   "cell_type": "code",
   "execution_count": 12,
   "metadata": {},
   "outputs": [],
   "source": [
    "try:\n",
    "    d = {\"key1\" : \"sudh\", \"key2\" : [1,2,3,4,5,6,7], \"key3\" : (4,5,6,7,8,9,10)}\n",
    "    d[\"key4\"] = int(input()) #7\n",
    "\n",
    "except Exception as e:\n",
    "    print(e)"
   ]
  },
  {
   "cell_type": "code",
   "execution_count": 13,
   "metadata": {},
   "outputs": [
    {
     "data": {
      "text/plain": [
       "{'key1': 'sudh',\n",
       " 'key2': [1, 2, 3, 4, 5, 6, 7],\n",
       " 'key3': (4, 5, 6, 7, 8, 9, 10),\n",
       " 'key4': 7}"
      ]
     },
     "execution_count": 13,
     "metadata": {},
     "output_type": "execute_result"
    }
   ],
   "source": [
    "d"
   ]
  },
  {
   "cell_type": "code",
   "execution_count": 14,
   "metadata": {},
   "outputs": [
    {
     "name": "stdout",
     "output_type": "stream",
     "text": [
      "invalid literal for int() with base 10: 'asdfasfdadsffsdafs'\n"
     ]
    }
   ],
   "source": [
    "#it will raise a error, because input need in integer datatype,\n",
    "#but we passed in string.\n",
    "\n",
    "try:\n",
    "    d = {\"key1\" : \"sudh\", \"key2\" : [1,2,3,4,5,6,7], \"key3\" : (4,5,6,7,8,9,10)}\n",
    "    d[\"key4\"] = int(input()) #asdfasdadsf\n",
    "\n",
    "except Exception as e:\n",
    "    print(e)"
   ]
  },
  {
   "cell_type": "markdown",
   "metadata": {},
   "source": [
    "DOUBT KEKANUM (List ah input vanguna adhu string ah varudhu)"
   ]
  },
  {
   "cell_type": "code",
   "execution_count": 15,
   "metadata": {},
   "outputs": [],
   "source": [
    "try:\n",
    "    d = {\"key1\" : \"sudh\", \"key2\" : [1,2,3,4,5,6,7], \"key3\" : (4,5,6,7,8,9,10)}\n",
    "    d[\"key4\"] = list(input()) #asdfasdadsf\n",
    "\n",
    "except Exception as e:\n",
    "    print(e)"
   ]
  },
  {
   "cell_type": "code",
   "execution_count": 16,
   "metadata": {},
   "outputs": [
    {
     "data": {
      "text/plain": [
       "{'key1': 'sudh',\n",
       " 'key2': [1, 2, 3, 4, 5, 6, 7],\n",
       " 'key3': (4, 5, 6, 7, 8, 9, 10),\n",
       " 'key4': ['a', 'd', 'f', 'f', 'a', 'f', 'd', 'a', 'd', 'a', 'd', 'f']}"
      ]
     },
     "execution_count": 16,
     "metadata": {},
     "output_type": "execute_result"
    }
   ],
   "source": [
    "d"
   ]
  },
  {
   "cell_type": "code",
   "execution_count": 17,
   "metadata": {},
   "outputs": [
    {
     "ename": "ValueError",
     "evalue": "invalid literal for int() with base 10: 'adfadfasd'",
     "output_type": "error",
     "traceback": [
      "\u001b[1;31m---------------------------------------------------------------------------\u001b[0m",
      "\u001b[1;31mValueError\u001b[0m                                Traceback (most recent call last)",
      "Cell \u001b[1;32mIn[17], line 4\u001b[0m\n\u001b[0;32m      1\u001b[0m \u001b[39m#now I am writing this same code without exceptional handling, it will show value error.\u001b[39;00m\n\u001b[0;32m      3\u001b[0m d \u001b[39m=\u001b[39m {\u001b[39m\"\u001b[39m\u001b[39mkey1\u001b[39m\u001b[39m\"\u001b[39m : \u001b[39m\"\u001b[39m\u001b[39msudh\u001b[39m\u001b[39m\"\u001b[39m, \u001b[39m\"\u001b[39m\u001b[39mkey2\u001b[39m\u001b[39m\"\u001b[39m : [\u001b[39m1\u001b[39m,\u001b[39m2\u001b[39m,\u001b[39m3\u001b[39m,\u001b[39m4\u001b[39m,\u001b[39m5\u001b[39m,\u001b[39m6\u001b[39m,\u001b[39m7\u001b[39m], \u001b[39m\"\u001b[39m\u001b[39mkey3\u001b[39m\u001b[39m\"\u001b[39m : (\u001b[39m4\u001b[39m,\u001b[39m5\u001b[39m,\u001b[39m6\u001b[39m,\u001b[39m7\u001b[39m,\u001b[39m8\u001b[39m,\u001b[39m9\u001b[39m,\u001b[39m10\u001b[39m)}\n\u001b[1;32m----> 4\u001b[0m d[\u001b[39m\"\u001b[39m\u001b[39mkey4\u001b[39m\u001b[39m\"\u001b[39m] \u001b[39m=\u001b[39m \u001b[39mint\u001b[39;49m(\u001b[39minput\u001b[39;49m()) \u001b[39m#asdfasdadsf\u001b[39;00m\n",
      "\u001b[1;31mValueError\u001b[0m: invalid literal for int() with base 10: 'adfadfasd'"
     ]
    }
   ],
   "source": [
    "#now I am writing this same code without exceptional handling, it will show value error.\n",
    "\n",
    "d = {\"key1\" : \"sudh\", \"key2\" : [1,2,3,4,5,6,7], \"key3\" : (4,5,6,7,8,9,10)}\n",
    "d[\"key4\"] = int(input()) #asdfasdadsf"
   ]
  },
  {
   "cell_type": "markdown",
   "metadata": {},
   "source": [
    "Now I will write the same code in exception handling,\n",
    "\n",
    "but one small thing will change, instead of Exception I'm writing the error name, but I will get the same error what I got before."
   ]
  },
  {
   "cell_type": "code",
   "execution_count": 18,
   "metadata": {},
   "outputs": [
    {
     "name": "stdout",
     "output_type": "stream",
     "text": [
      "invalid literal for int() with base 10: 'adsfadsfas'\n"
     ]
    }
   ],
   "source": [
    "try:\n",
    "    d = {\"key1\" : \"sudh\", \"key2\" : [1,2,3,4,5,6,7], \"key3\" : (4,5,6,7,8,9,10)}\n",
    "    d[\"key4\"] = int(input()) #asdfasdadsf\n",
    "\n",
    "except ValueError as e:\n",
    "    print(e)"
   ]
  },
  {
   "cell_type": "markdown",
   "metadata": {},
   "source": [
    "# when I have used super class (Exception) I got a same message.\n",
    "\n",
    "# but, when I'm using sub class (Error Name), Now also I'm getting the same message"
   ]
  },
  {
   "cell_type": "markdown",
   "metadata": {},
   "source": [
    "# There are 100 of sub class there is available inside exception class"
   ]
  },
  {
   "cell_type": "markdown",
   "metadata": {},
   "source": [
    "# Remember again\n",
    "\n",
    "#### Exception is a super class\n",
    "#### Error name is a sub class (error name is except block)\n",
    "\n",
    "More than 100 of sub class are available inside the exception class (super class)"
   ]
  },
  {
   "cell_type": "markdown",
   "metadata": {},
   "source": [
    "Error title - No file error, zero division and error, and so on.\n",
    "\n",
    "\n",
    "Error title - System (python) not giving\n",
    "\n",
    "Someone has written a code for it."
   ]
  },
  {
   "cell_type": "markdown",
   "metadata": {},
   "source": [
    "# Example"
   ]
  },
  {
   "cell_type": "markdown",
   "metadata": {},
   "source": [
    "In below code, I have used try block & I have used except block, but still,\n",
    "\n",
    "I'm not able to handle my error, what is the reason?"
   ]
  },
  {
   "cell_type": "markdown",
   "metadata": {},
   "source": [
    "#### until 3rd line code will run, but in 4th line it will show error,\n",
    "\n",
    "I have used try block, I have used except block but still its showing error"
   ]
  },
  {
   "cell_type": "markdown",
   "metadata": {},
   "source": [
    "# What is the reason? why we are not able to handle it?"
   ]
  },
  {
   "cell_type": "markdown",
   "metadata": {},
   "source": [
    "The reason behind is we wrote value error in except block, when value error will come for sure it will able to handle, now we got file not found error so that it will giving as a error.\n",
    "\n",
    "Thats why we should use except (super class) only.\n"
   ]
  },
  {
   "cell_type": "code",
   "execution_count": 19,
   "metadata": {},
   "outputs": [
    {
     "ename": "FileNotFoundError",
     "evalue": "[Errno 2] No such file or directory: 'test2.txt'",
     "output_type": "error",
     "traceback": [
      "\u001b[1;31m---------------------------------------------------------------------------\u001b[0m",
      "\u001b[1;31mFileNotFoundError\u001b[0m                         Traceback (most recent call last)",
      "Cell \u001b[1;32mIn[19], line 4\u001b[0m\n\u001b[0;32m      2\u001b[0m     d \u001b[39m=\u001b[39m {\u001b[39m\"\u001b[39m\u001b[39mkey1\u001b[39m\u001b[39m\"\u001b[39m : \u001b[39m\"\u001b[39m\u001b[39msudh\u001b[39m\u001b[39m\"\u001b[39m, \u001b[39m\"\u001b[39m\u001b[39mkey2\u001b[39m\u001b[39m\"\u001b[39m : [\u001b[39m1\u001b[39m,\u001b[39m2\u001b[39m,\u001b[39m3\u001b[39m,\u001b[39m4\u001b[39m,\u001b[39m5\u001b[39m,\u001b[39m6\u001b[39m,\u001b[39m7\u001b[39m], \u001b[39m\"\u001b[39m\u001b[39mkey3\u001b[39m\u001b[39m\"\u001b[39m : (\u001b[39m4\u001b[39m,\u001b[39m5\u001b[39m,\u001b[39m6\u001b[39m,\u001b[39m7\u001b[39m,\u001b[39m8\u001b[39m,\u001b[39m9\u001b[39m,\u001b[39m10\u001b[39m)}\n\u001b[0;32m      3\u001b[0m     d[\u001b[39m\"\u001b[39m\u001b[39mkey4\u001b[39m\u001b[39m\"\u001b[39m] \u001b[39m=\u001b[39m \u001b[39mint\u001b[39m(\u001b[39minput\u001b[39m()) \u001b[39m#12345678910 (this time I gave a proper input)\u001b[39;00m\n\u001b[1;32m----> 4\u001b[0m     f \u001b[39m=\u001b[39m \u001b[39mopen\u001b[39;49m(\u001b[39m\"\u001b[39;49m\u001b[39mtest2.txt\u001b[39;49m\u001b[39m\"\u001b[39;49m, \u001b[39m\"\u001b[39;49m\u001b[39mr\u001b[39;49m\u001b[39m\"\u001b[39;49m)\n\u001b[0;32m      6\u001b[0m \u001b[39mexcept\u001b[39;00m \u001b[39mValueError\u001b[39;00m \u001b[39mas\u001b[39;00m e:\n\u001b[0;32m      7\u001b[0m     \u001b[39mprint\u001b[39m(e)\n",
      "File \u001b[1;32m~\\AppData\\Roaming\\Python\\Python311\\site-packages\\IPython\\core\\interactiveshell.py:282\u001b[0m, in \u001b[0;36m_modified_open\u001b[1;34m(file, *args, **kwargs)\u001b[0m\n\u001b[0;32m    275\u001b[0m \u001b[39mif\u001b[39;00m file \u001b[39min\u001b[39;00m {\u001b[39m0\u001b[39m, \u001b[39m1\u001b[39m, \u001b[39m2\u001b[39m}:\n\u001b[0;32m    276\u001b[0m     \u001b[39mraise\u001b[39;00m \u001b[39mValueError\u001b[39;00m(\n\u001b[0;32m    277\u001b[0m         \u001b[39mf\u001b[39m\u001b[39m\"\u001b[39m\u001b[39mIPython won\u001b[39m\u001b[39m'\u001b[39m\u001b[39mt let you open fd=\u001b[39m\u001b[39m{\u001b[39;00mfile\u001b[39m}\u001b[39;00m\u001b[39m by default \u001b[39m\u001b[39m\"\u001b[39m\n\u001b[0;32m    278\u001b[0m         \u001b[39m\"\u001b[39m\u001b[39mas it is likely to crash IPython. If you know what you are doing, \u001b[39m\u001b[39m\"\u001b[39m\n\u001b[0;32m    279\u001b[0m         \u001b[39m\"\u001b[39m\u001b[39myou can use builtins\u001b[39m\u001b[39m'\u001b[39m\u001b[39m open.\u001b[39m\u001b[39m\"\u001b[39m\n\u001b[0;32m    280\u001b[0m     )\n\u001b[1;32m--> 282\u001b[0m \u001b[39mreturn\u001b[39;00m io_open(file, \u001b[39m*\u001b[39;49margs, \u001b[39m*\u001b[39;49m\u001b[39m*\u001b[39;49mkwargs)\n",
      "\u001b[1;31mFileNotFoundError\u001b[0m: [Errno 2] No such file or directory: 'test2.txt'"
     ]
    }
   ],
   "source": [
    "try:\n",
    "    d = {\"key1\" : \"sudh\", \"key2\" : [1,2,3,4,5,6,7], \"key3\" : (4,5,6,7,8,9,10)}\n",
    "    d[\"key4\"] = int(input()) #12345678910 (this time I gave a proper input)\n",
    "    f = open(\"test2.txt\", \"r\")\n",
    "\n",
    "except ValueError as e:\n",
    "    print(e)"
   ]
  },
  {
   "cell_type": "markdown",
   "metadata": {},
   "source": [
    "# When value error comes it will handle it."
   ]
  },
  {
   "cell_type": "code",
   "execution_count": 20,
   "metadata": {},
   "outputs": [
    {
     "name": "stdout",
     "output_type": "stream",
     "text": [
      "invalid literal for int() with base 10: ''\n"
     ]
    }
   ],
   "source": [
    "#if my line number 3 going to work well, in that case it will raise a error like above line.\n",
    "\n",
    "try:\n",
    "    d = {\"key1\" : \"sudh\", \"key2\" : [1,2,3,4,5,6,7], \"key3\" : (4,5,6,7,8,9,10)}\n",
    "    d[\"key4\"] = int(input()) #asfdadfs\n",
    "    f = open(\"test2.txt\", \"r\")\n",
    "\n",
    "except ValueError as e:\n",
    "    print(e)"
   ]
  },
  {
   "cell_type": "markdown",
   "metadata": {},
   "source": [
    "# Now, same code I'm writing in super model"
   ]
  },
  {
   "cell_type": "markdown",
   "metadata": {},
   "source": [
    "So that, we should use Exception in except block"
   ]
  },
  {
   "cell_type": "code",
   "execution_count": 21,
   "metadata": {},
   "outputs": [
    {
     "name": "stdout",
     "output_type": "stream",
     "text": [
      "invalid literal for int() with base 10: ''\n"
     ]
    }
   ],
   "source": [
    "try:\n",
    "    d = {\"key1\" : \"sudh\", \"key2\" : [1,2,3,4,5,6,7], \"key3\" : (4,5,6,7,8,9,10)}\n",
    "    d[\"key4\"] = int(input()) #12345678910 (this time I gave a proper input)\n",
    "    f = open(\"test2.txt\", \"r\")\n",
    "\n",
    "except Exception as e:\n",
    "    print(e)"
   ]
  },
  {
   "cell_type": "markdown",
   "metadata": {},
   "source": [
    "# MULTIPLE EXCEPT IS POSSIBLE.\n",
    "\n",
    "#### How to write multiple except?"
   ]
  },
  {
   "cell_type": "markdown",
   "metadata": {},
   "source": [
    "Inga multiple except block create panni irukom, first except block value error vandha adhula irukka print return aagum, second except block filenotfounderror vandha adhula irukka print statement return aagum."
   ]
  },
  {
   "cell_type": "code",
   "execution_count": 22,
   "metadata": {},
   "outputs": [
    {
     "name": "stdout",
     "output_type": "stream",
     "text": [
      "invalid literal for int() with base 10: ''\n"
     ]
    }
   ],
   "source": [
    "try:\n",
    "    d = {\"key1\" : \"sudh\", \"key2\" : [1,2,3,4,5,6,7], \"key3\" : (4,5,6,7,8,9,10)}\n",
    "    d[\"key4\"] = int(input()) #123456789910\n",
    "    f = open(\"test2.txt\", \"r\")\n",
    "\n",
    "except ValueError as e:\n",
    "    print(e)\n",
    "\n",
    "except FileNotFoundError as fne:\n",
    "    print(fne)"
   ]
  },
  {
   "cell_type": "markdown",
   "metadata": {},
   "source": [
    "sub class um create panni, super class um create panna, same error ah super class la write panni irundhom na endha except block first ah eludhi irundhomo adhu varum."
   ]
  },
  {
   "cell_type": "markdown",
   "metadata": {},
   "source": [
    "#### Because code always execute in a sequential manner."
   ]
  },
  {
   "cell_type": "code",
   "execution_count": 23,
   "metadata": {},
   "outputs": [
    {
     "name": "stdout",
     "output_type": "stream",
     "text": [
      "invalid literal for int() with base 10: ''\n"
     ]
    }
   ],
   "source": [
    "try:\n",
    "    d = {\"key1\" : \"sudh\", \"key2\" : [1,2,3,4,5,6,7], \"key3\" : (4,5,6,7,8,9,10)}\n",
    "    d[\"key4\"] = int(input()) #123456789910\n",
    "    f = open(\"test2.txt\", \"r\")\n",
    "\n",
    "except ValueError as e:\n",
    "    print(e)\n",
    "\n",
    "except FileNotFoundError as fne:\n",
    "    print(fne)\n",
    "\n",
    "except Exception as ex:\n",
    "    print(\"You made a mistake - \", ex)"
   ]
  },
  {
   "cell_type": "code",
   "execution_count": 24,
   "metadata": {},
   "outputs": [
    {
     "name": "stdout",
     "output_type": "stream",
     "text": [
      "This is my exception class -  invalid literal for int() with base 10: ''\n"
     ]
    }
   ],
   "source": [
    "try:\n",
    "    d = {\"key1\" : \"sudh\", \"key2\" : [1,2,3,4,5,6,7], \"key3\" : (4,5,6,7,8,9,10)}\n",
    "    d[\"key4\"] = int(input()) #123456789910\n",
    "    f = open(\"test2.txt\", \"r\")\n",
    "\n",
    "except Exception as ex:\n",
    "    print(\"This is my exception class - \", ex)\n",
    "\n",
    "except ValueError as e:\n",
    "    print(e)\n",
    "\n",
    "except FileNotFoundError as fne:\n",
    "    print(fne)"
   ]
  },
  {
   "cell_type": "markdown",
   "metadata": {},
   "source": [
    "# Now I'm making a mistake, passing string instead of integer."
   ]
  },
  {
   "cell_type": "markdown",
   "metadata": {},
   "source": [
    "Which except block will print?"
   ]
  },
  {
   "cell_type": "code",
   "execution_count": 25,
   "metadata": {},
   "outputs": [
    {
     "name": "stdout",
     "output_type": "stream",
     "text": [
      "This is my exception class -  invalid literal for int() with base 10: ''\n"
     ]
    }
   ],
   "source": [
    "try:\n",
    "    d = {\"key1\" : \"sudh\", \"key2\" : [1,2,3,4,5,6,7], \"key3\" : (4,5,6,7,8,9,10)}\n",
    "    d[\"key4\"] = int(input()) #adfsadsffad\n",
    "    f = open(\"test2.txt\", \"r\")\n",
    "\n",
    "except Exception as ex:\n",
    "    print(\"This is my exception class - \", ex)\n",
    "\n",
    "except ValueError as e:\n",
    "    print(e)\n",
    "\n",
    "except FileNotFoundError as fne:\n",
    "    print(fne)"
   ]
  },
  {
   "cell_type": "code",
   "execution_count": 26,
   "metadata": {},
   "outputs": [
    {
     "name": "stdout",
     "output_type": "stream",
     "text": [
      "invalid literal for int() with base 10: ''\n"
     ]
    }
   ],
   "source": [
    "try:\n",
    "    d = {\"key1\" : \"sudh\", \"key2\" : [1,2,3,4,5,6,7], \"key3\" : (4,5,6,7,8,9,10)}\n",
    "    d[\"key4\"] = int(input()) #adfsadsffad\n",
    "    f = open(\"test2.txt\", \"r\")\n",
    "\n",
    "\n",
    "except ValueError as e:\n",
    "    print(e)\n",
    "\n",
    "except FileNotFoundError as fne:\n",
    "    print(fne)\n",
    "\n",
    "except Exception as ex:\n",
    "    print(\"This is my exception class - \", ex)"
   ]
  },
  {
   "cell_type": "markdown",
   "metadata": {},
   "source": [
    "Exception except block is a parent class\n",
    "\n",
    "rest's are child class"
   ]
  },
  {
   "cell_type": "markdown",
   "metadata": {},
   "source": [
    "We do not know all kind of error, so using Exception class is better.\n",
    "\n",
    "because sometimes it will show zero division error, lookup error, arithmetic error and so on."
   ]
  },
  {
   "cell_type": "markdown",
   "metadata": {},
   "source": [
    "Its completly fine, We are aware about try block & except block in very better way"
   ]
  },
  {
   "cell_type": "markdown",
   "metadata": {},
   "source": [
    "# Now we seeing another one block"
   ]
  },
  {
   "cell_type": "markdown",
   "metadata": {},
   "source": [
    "# THAT IS ELSE BLOCK\n",
    "\n",
    "#### It is not available in any other language, only in python its available."
   ]
  },
  {
   "cell_type": "code",
   "execution_count": 27,
   "metadata": {},
   "outputs": [
    {
     "name": "stdout",
     "output_type": "stream",
     "text": [
      "this will handle an error -  not writable\n"
     ]
    }
   ],
   "source": [
    "try:\n",
    "    f = open(\"test1.txt\", \"r\")\n",
    "    f.write(\"this is my code in try\")\n",
    "\n",
    "except Exception as e:\n",
    "    print(\"this will handle an error - \", e)\n",
    "\n",
    "else:\n",
    "    print(\"this will execute once my try block will be executed successfully\")"
   ]
  },
  {
   "cell_type": "markdown",
   "metadata": {},
   "source": [
    "My else block statement will execute once my try block code is able to executed. "
   ]
  },
  {
   "cell_type": "code",
   "execution_count": 28,
   "metadata": {},
   "outputs": [
    {
     "name": "stdout",
     "output_type": "stream",
     "text": [
      "this will execute once my try block will be executed successfully\n"
     ]
    }
   ],
   "source": [
    "try:\n",
    "    f = open(\"test1.txt\", \"w\") #writing mode\n",
    "    f.write(\"this is my code in try\")\n",
    "\n",
    "except Exception as e:\n",
    "    print(\"this will handle an error - \", e)\n",
    "\n",
    "else:\n",
    "    print(\"this will execute once my try block will be executed successfully\")\n",
    "    f.close()"
   ]
  },
  {
   "cell_type": "code",
   "execution_count": 29,
   "metadata": {},
   "outputs": [
    {
     "name": "stdout",
     "output_type": "stream",
     "text": [
      "this will handle an error -  not writable\n"
     ]
    }
   ],
   "source": [
    "#now error will happen in line no. 3\n",
    "try:\n",
    "    f = open(\"test1.txt\", \"r\") #read mode\n",
    "    f.write(\"this is my code in try\")\n",
    "\n",
    "except Exception as e:\n",
    "    print(\"this will handle an error - \", e)\n",
    "\n",
    "else:\n",
    "    print(\"this will execute once my try block will be executed successfully\")\n",
    "    f.close()"
   ]
  },
  {
   "cell_type": "code",
   "execution_count": 30,
   "metadata": {},
   "outputs": [
    {
     "name": "stdout",
     "output_type": "stream",
     "text": [
      "this will handle an error -  not writable\n"
     ]
    }
   ],
   "source": [
    "#now error will happen in line no. 5\n",
    "try:\n",
    "    f = open(\"test7.txt\", \"r\") #read mode\n",
    "    f.write(\"this is my code in try\")\n",
    "\n",
    "except Exception as e:\n",
    "    print(\"this will handle an error - \", e)\n",
    "\n",
    "else:\n",
    "    print(\"this will execute once my try block will be executed successfully\")\n",
    "    f.close()"
   ]
  },
  {
   "cell_type": "markdown",
   "metadata": {},
   "source": [
    "# In exception handling else block is very simple, If try block code execute successfully without any kind of error, in that case only our else block statement will print."
   ]
  },
  {
   "cell_type": "markdown",
   "metadata": {},
   "source": [
    "There is another one block available in exception handling in python\n",
    "\n",
    "that is finally block."
   ]
  },
  {
   "cell_type": "markdown",
   "metadata": {},
   "source": [
    "# FINALLY BLOCK"
   ]
  },
  {
   "cell_type": "markdown",
   "metadata": {},
   "source": [
    "#### Finally is a common block available in all the programming language on exception handling."
   ]
  },
  {
   "cell_type": "markdown",
   "metadata": {},
   "source": [
    "#### How this finally block difference from your block?"
   ]
  },
  {
   "cell_type": "markdown",
   "metadata": {},
   "source": [
    "# Else will going to execute itself, once try block will able to execute successfully.\n",
    "\n",
    "# finally is kind of the block which will execute all the time.  It does not matter weather your try has failed or not failed, but it will execute for sure."
   ]
  },
  {
   "cell_type": "code",
   "execution_count": 31,
   "metadata": {},
   "outputs": [
    {
     "name": "stdout",
     "output_type": "stream",
     "text": [
      "do this for sure\n"
     ]
    }
   ],
   "source": [
    "try:\n",
    "    f = open(\"test7.txt\", \"r\")\n",
    "except Exception as e:\n",
    "    print(\"Your error is - \", e)\n",
    "finally:\n",
    "    print(\"do this for sure\")"
   ]
  },
  {
   "cell_type": "markdown",
   "metadata": {},
   "source": [
    "# what is the difference between else block and finally block ?\n",
    "\n",
    "#### ELSE BLOCK - Else block will execute itself if try block code is correct\n",
    "#### FINALLY BLOCK - Finally block will execute all the time, It does not matter try block code is correct or wrong."
   ]
  },
  {
   "cell_type": "code",
   "execution_count": 32,
   "metadata": {},
   "outputs": [
    {
     "name": "stdout",
     "output_type": "stream",
     "text": [
      "do this on successfully execution of try block\n",
      "do this for sure\n"
     ]
    }
   ],
   "source": [
    "# it will not execute my else block at all, it will execute my finally block.\n",
    "\n",
    "try:\n",
    "    f = open(\"test7.txt\", \"r\") #read mode\n",
    "except Exception as e:\n",
    "    print(\"Your error is - \", e)\n",
    "else:\n",
    "    print(\"do this on successfully execution of try block\")\n",
    "finally:\n",
    "    print(\"do this for sure\")"
   ]
  },
  {
   "cell_type": "code",
   "execution_count": 33,
   "metadata": {},
   "outputs": [
    {
     "name": "stdout",
     "output_type": "stream",
     "text": [
      "do this on successfully execution of try block\n",
      "do this for sure\n"
     ]
    }
   ],
   "source": [
    "#here my try block is correct\n",
    "#thats why we got a output in else and finally block statements.\n",
    "\n",
    "try:\n",
    "    f = open(\"test7.txt\", \"w\") #write mode\n",
    "except Exception as e:\n",
    "    print(\"Your error is - \", e)\n",
    "else:\n",
    "    print(\"do this on successfully execution of try block\")\n",
    "finally:\n",
    "    print(\"do this for sure\")"
   ]
  },
  {
   "cell_type": "markdown",
   "metadata": {},
   "source": [
    "And dont say finally block will execute if the code is wrong too\n",
    "\n",
    "for eg., "
   ]
  },
  {
   "cell_type": "code",
   "execution_count": 34,
   "metadata": {},
   "outputs": [
    {
     "name": "stdout",
     "output_type": "stream",
     "text": [
      "do this on successfully execution of try block\n",
      "do this for sure\n"
     ]
    },
    {
     "ename": "FileNotFoundError",
     "evalue": "[Errno 2] No such file or directory: 'adsfadsffads'",
     "output_type": "error",
     "traceback": [
      "\u001b[1;31m---------------------------------------------------------------------------\u001b[0m",
      "\u001b[1;31mFileNotFoundError\u001b[0m                         Traceback (most recent call last)",
      "Cell \u001b[1;32mIn[34], line 13\u001b[0m\n\u001b[0;32m     11\u001b[0m \u001b[39mfinally\u001b[39;00m:\n\u001b[0;32m     12\u001b[0m     \u001b[39mprint\u001b[39m(\u001b[39m\"\u001b[39m\u001b[39mdo this for sure\u001b[39m\u001b[39m\"\u001b[39m)\n\u001b[1;32m---> 13\u001b[0m     f \u001b[39m=\u001b[39m \u001b[39mopen\u001b[39;49m(\u001b[39m\"\u001b[39;49m\u001b[39madsfadsffads\u001b[39;49m\u001b[39m\"\u001b[39;49m, \u001b[39m\"\u001b[39;49m\u001b[39mr\u001b[39;49m\u001b[39m\"\u001b[39;49m)\n",
      "File \u001b[1;32m~\\AppData\\Roaming\\Python\\Python311\\site-packages\\IPython\\core\\interactiveshell.py:282\u001b[0m, in \u001b[0;36m_modified_open\u001b[1;34m(file, *args, **kwargs)\u001b[0m\n\u001b[0;32m    275\u001b[0m \u001b[39mif\u001b[39;00m file \u001b[39min\u001b[39;00m {\u001b[39m0\u001b[39m, \u001b[39m1\u001b[39m, \u001b[39m2\u001b[39m}:\n\u001b[0;32m    276\u001b[0m     \u001b[39mraise\u001b[39;00m \u001b[39mValueError\u001b[39;00m(\n\u001b[0;32m    277\u001b[0m         \u001b[39mf\u001b[39m\u001b[39m\"\u001b[39m\u001b[39mIPython won\u001b[39m\u001b[39m'\u001b[39m\u001b[39mt let you open fd=\u001b[39m\u001b[39m{\u001b[39;00mfile\u001b[39m}\u001b[39;00m\u001b[39m by default \u001b[39m\u001b[39m\"\u001b[39m\n\u001b[0;32m    278\u001b[0m         \u001b[39m\"\u001b[39m\u001b[39mas it is likely to crash IPython. If you know what you are doing, \u001b[39m\u001b[39m\"\u001b[39m\n\u001b[0;32m    279\u001b[0m         \u001b[39m\"\u001b[39m\u001b[39myou can use builtins\u001b[39m\u001b[39m'\u001b[39m\u001b[39m open.\u001b[39m\u001b[39m\"\u001b[39m\n\u001b[0;32m    280\u001b[0m     )\n\u001b[1;32m--> 282\u001b[0m \u001b[39mreturn\u001b[39;00m io_open(file, \u001b[39m*\u001b[39;49margs, \u001b[39m*\u001b[39;49m\u001b[39m*\u001b[39;49mkwargs)\n",
      "\u001b[1;31mFileNotFoundError\u001b[0m: [Errno 2] No such file or directory: 'adsfadsffads'"
     ]
    }
   ],
   "source": [
    "#here my first try block is correct, so it will try else block then finally block\n",
    "#but in finally block we wrote a code, have we handle that code with exception ? NO \n",
    "#how to handle that too, In next cell.\n",
    "\n",
    "try:\n",
    "    f = open(\"test7.txt\", \"w\") #write mode\n",
    "except Exception as e:\n",
    "    print(\"Your error is - \", e)\n",
    "else:\n",
    "    print(\"do this on successfully execution of try block\")\n",
    "finally:\n",
    "    print(\"do this for sure\")\n",
    "    f = open(\"adsfadsffads\", \"r\")"
   ]
  },
  {
   "cell_type": "markdown",
   "metadata": {},
   "source": [
    "#### In above line my first try block is correct, so it will try else block then finally block\n",
    "#### but in finally block we wrote a code, have we handle that code with exception ? \n",
    "#### NO \n",
    "#### how to handle that too ?\n",
    "#### ANS. is we should create try block again inside the finally block"
   ]
  },
  {
   "cell_type": "markdown",
   "metadata": {},
   "source": [
    "# Doubt Kekanum"
   ]
  },
  {
   "cell_type": "code",
   "execution_count": 35,
   "metadata": {},
   "outputs": [
    {
     "name": "stdout",
     "output_type": "stream",
     "text": [
      "do this on successfully execution of try block\n",
      "do this for sure\n",
      "handle this\n",
      "it will come to this block for sure\n"
     ]
    }
   ],
   "source": [
    "#output understanding :\n",
    "\n",
    "#first try block correct so adhoda else ah print panni irukku\n",
    "#finally ah print panni irukku because of try block is correct\n",
    "#inside finally la irukka try block correct so adhoda except and finally block ah print panni irukku.\n",
    "\n",
    "try:\n",
    "    f = open(\"test7.txt\", \"w\") #write mode\n",
    "except Exception as e:\n",
    "    print(\"Your error is - \", e)\n",
    "else:\n",
    "    print(\"do this on successfully execution of try block\")\n",
    "finally:\n",
    "    print(\"do this for sure\")\n",
    "    try:\n",
    "        f = open(\"adsfadsffads\", \"r\")\n",
    "    except:\n",
    "        print(\"handle this\")\n",
    "    finally:\n",
    "        print(\"it will come to this block for sure\")"
   ]
  },
  {
   "cell_type": "markdown",
   "metadata": {},
   "source": [
    "# We can write try, except, else, finally anywhere inside the block\n",
    "\n",
    "# block kulla again and again kooda namma try, except, else, finally ah ethana time venalum eludhalam."
   ]
  },
  {
   "cell_type": "markdown",
   "metadata": {},
   "source": [
    "# We can write anywhere, There is no restriction."
   ]
  },
  {
   "cell_type": "markdown",
   "metadata": {},
   "source": [
    "# Question"
   ]
  },
  {
   "cell_type": "markdown",
   "metadata": {},
   "source": [
    "# Doubt Kekanum (int pass pannalum except block statement varudhu)"
   ]
  },
  {
   "cell_type": "markdown",
   "metadata": {},
   "source": [
    "Write a function which we able to ask a integer from a user."
   ]
  },
  {
   "cell_type": "code",
   "execution_count": 36,
   "metadata": {},
   "outputs": [],
   "source": [
    "def test1():\n",
    "    a = int(input(\"Enter the number : \"))\n",
    "    return a"
   ]
  },
  {
   "cell_type": "code",
   "execution_count": 37,
   "metadata": {},
   "outputs": [
    {
     "ename": "ValueError",
     "evalue": "invalid literal for int() with base 10: ''",
     "output_type": "error",
     "traceback": [
      "\u001b[1;31m---------------------------------------------------------------------------\u001b[0m",
      "\u001b[1;31mValueError\u001b[0m                                Traceback (most recent call last)",
      "Cell \u001b[1;32mIn[37], line 1\u001b[0m\n\u001b[1;32m----> 1\u001b[0m test1()\n",
      "Cell \u001b[1;32mIn[36], line 2\u001b[0m, in \u001b[0;36mtest1\u001b[1;34m()\u001b[0m\n\u001b[0;32m      1\u001b[0m \u001b[39mdef\u001b[39;00m \u001b[39mtest1\u001b[39m():\n\u001b[1;32m----> 2\u001b[0m     a \u001b[39m=\u001b[39m \u001b[39mint\u001b[39;49m(\u001b[39minput\u001b[39;49m(\u001b[39m\"\u001b[39;49m\u001b[39mEnter the number : \u001b[39;49m\u001b[39m\"\u001b[39;49m))\n\u001b[0;32m      3\u001b[0m     \u001b[39mreturn\u001b[39;00m a\n",
      "\u001b[1;31mValueError\u001b[0m: invalid literal for int() with base 10: ''"
     ]
    }
   ],
   "source": [
    "test1()"
   ]
  },
  {
   "cell_type": "code",
   "execution_count": 38,
   "metadata": {},
   "outputs": [],
   "source": [
    "def test2(a):\n",
    "    a = int(input(\"enter no. \"))\n",
    "    return a"
   ]
  },
  {
   "cell_type": "code",
   "execution_count": 39,
   "metadata": {},
   "outputs": [],
   "source": [
    "b = 1631615"
   ]
  },
  {
   "cell_type": "code",
   "execution_count": 40,
   "metadata": {},
   "outputs": [
    {
     "ename": "ValueError",
     "evalue": "invalid literal for int() with base 10: ''",
     "output_type": "error",
     "traceback": [
      "\u001b[1;31m---------------------------------------------------------------------------\u001b[0m",
      "\u001b[1;31mValueError\u001b[0m                                Traceback (most recent call last)",
      "Cell \u001b[1;32mIn[40], line 1\u001b[0m\n\u001b[1;32m----> 1\u001b[0m test2(b)\n",
      "Cell \u001b[1;32mIn[38], line 2\u001b[0m, in \u001b[0;36mtest2\u001b[1;34m(a)\u001b[0m\n\u001b[0;32m      1\u001b[0m \u001b[39mdef\u001b[39;00m \u001b[39mtest2\u001b[39m(a):\n\u001b[1;32m----> 2\u001b[0m     a \u001b[39m=\u001b[39m \u001b[39mint\u001b[39;49m(\u001b[39minput\u001b[39;49m(\u001b[39m\"\u001b[39;49m\u001b[39menter no. \u001b[39;49m\u001b[39m\"\u001b[39;49m))\n\u001b[0;32m      3\u001b[0m     \u001b[39mreturn\u001b[39;00m a\n",
      "\u001b[1;31mValueError\u001b[0m: invalid literal for int() with base 10: ''"
     ]
    }
   ],
   "source": [
    "test2(b)"
   ]
  },
  {
   "cell_type": "code",
   "execution_count": 41,
   "metadata": {},
   "outputs": [],
   "source": [
    "#his code\n",
    "\n",
    "def askint():\n",
    "    a = int(input())\n",
    "    return a"
   ]
  },
  {
   "cell_type": "code",
   "execution_count": 42,
   "metadata": {},
   "outputs": [
    {
     "ename": "ValueError",
     "evalue": "invalid literal for int() with base 10: ''",
     "output_type": "error",
     "traceback": [
      "\u001b[1;31m---------------------------------------------------------------------------\u001b[0m",
      "\u001b[1;31mValueError\u001b[0m                                Traceback (most recent call last)",
      "Cell \u001b[1;32mIn[42], line 1\u001b[0m\n\u001b[1;32m----> 1\u001b[0m askint() \u001b[39m#1363641136163164\u001b[39;00m\n",
      "Cell \u001b[1;32mIn[41], line 4\u001b[0m, in \u001b[0;36maskint\u001b[1;34m()\u001b[0m\n\u001b[0;32m      3\u001b[0m \u001b[39mdef\u001b[39;00m \u001b[39maskint\u001b[39m():\n\u001b[1;32m----> 4\u001b[0m     a \u001b[39m=\u001b[39m \u001b[39mint\u001b[39;49m(\u001b[39minput\u001b[39;49m())\n\u001b[0;32m      5\u001b[0m     \u001b[39mreturn\u001b[39;00m a\n",
      "\u001b[1;31mValueError\u001b[0m: invalid literal for int() with base 10: ''"
     ]
    }
   ],
   "source": [
    "askint() #1363641136163164"
   ]
  },
  {
   "cell_type": "code",
   "execution_count": 43,
   "metadata": {},
   "outputs": [
    {
     "ename": "ValueError",
     "evalue": "invalid literal for int() with base 10: ''",
     "output_type": "error",
     "traceback": [
      "\u001b[1;31m---------------------------------------------------------------------------\u001b[0m",
      "\u001b[1;31mValueError\u001b[0m                                Traceback (most recent call last)",
      "Cell \u001b[1;32mIn[43], line 1\u001b[0m\n\u001b[1;32m----> 1\u001b[0m askint() \u001b[39m#adfasfdadfsafd\u001b[39;00m\n",
      "Cell \u001b[1;32mIn[41], line 4\u001b[0m, in \u001b[0;36maskint\u001b[1;34m()\u001b[0m\n\u001b[0;32m      3\u001b[0m \u001b[39mdef\u001b[39;00m \u001b[39maskint\u001b[39m():\n\u001b[1;32m----> 4\u001b[0m     a \u001b[39m=\u001b[39m \u001b[39mint\u001b[39;49m(\u001b[39minput\u001b[39;49m())\n\u001b[0;32m      5\u001b[0m     \u001b[39mreturn\u001b[39;00m a\n",
      "\u001b[1;31mValueError\u001b[0m: invalid literal for int() with base 10: ''"
     ]
    }
   ],
   "source": [
    "askint() #adfasfdadfsafd"
   ]
  },
  {
   "cell_type": "markdown",
   "metadata": {},
   "source": [
    "# What if we write this fuction in exception handling?"
   ]
  },
  {
   "cell_type": "markdown",
   "metadata": {},
   "source": [
    "We should write our code in anywhere, From now write like this using exception handling"
   ]
  },
  {
   "cell_type": "markdown",
   "metadata": {},
   "source": [
    "We can write anywhere/Everywhere"
   ]
  },
  {
   "cell_type": "code",
   "execution_count": 44,
   "metadata": {},
   "outputs": [],
   "source": [
    "def askint():\n",
    "\n",
    "    try:\n",
    "        a = int(input(\"enter no. \"))\n",
    "        return a\n",
    "        \n",
    "    except Exception as e:\n",
    "        print(\"you made a input error - \", e)"
   ]
  },
  {
   "cell_type": "code",
   "execution_count": 45,
   "metadata": {},
   "outputs": [
    {
     "name": "stdout",
     "output_type": "stream",
     "text": [
      "you made a input error -  invalid literal for int() with base 10: ''\n"
     ]
    }
   ],
   "source": [
    "askint() #123646"
   ]
  },
  {
   "cell_type": "code",
   "execution_count": 46,
   "metadata": {},
   "outputs": [
    {
     "name": "stdout",
     "output_type": "stream",
     "text": [
      "you made a input error -  invalid literal for int() with base 10: ''\n"
     ]
    }
   ],
   "source": [
    "askint() #afdsasdf"
   ]
  },
  {
   "cell_type": "markdown",
   "metadata": {},
   "source": [
    "phone, screen everything is full of code"
   ]
  },
  {
   "cell_type": "markdown",
   "metadata": {},
   "source": [
    "Ok, let's suppose I'm going to write another function again"
   ]
  },
  {
   "cell_type": "markdown",
   "metadata": {},
   "source": [
    "# Question"
   ]
  },
  {
   "cell_type": "markdown",
   "metadata": {},
   "source": [
    "Already, we created a function above, my requirement is very simple"
   ]
  },
  {
   "cell_type": "code",
   "execution_count": 47,
   "metadata": {},
   "outputs": [],
   "source": [
    "# In previous line, if we didn't give the proper integer it will execute the except block"
   ]
  },
  {
   "cell_type": "markdown",
   "metadata": {},
   "source": [
    "But now I would like to create a function, which will keep an asking you to enter an integer, unless and until you are not going to enter the integer"
   ]
  },
  {
   "cell_type": "markdown",
   "metadata": {},
   "source": [
    "Idhukku munnadi function create pannapa input la int kudutha nalla work aachu, but string kudutha except block la vandhuchu\n",
    "\n",
    "but inga int kudutha work aganum, str kudutha until int ah input ah kudukura varaikum input kekanum."
   ]
  },
  {
   "cell_type": "markdown",
   "metadata": {},
   "source": [
    "# Students Code"
   ]
  },
  {
   "cell_type": "markdown",
   "metadata": {},
   "source": [
    "#### Way 1"
   ]
  },
  {
   "cell_type": "code",
   "execution_count": 54,
   "metadata": {},
   "outputs": [],
   "source": [
    "#this code will ask input again and again until we enter a integer\n",
    "# idhula a la int kudukama vera datatype kuduthom na if class run aagadhu, \n",
    "# but try block la input vangura line still true ah dhan irukum, thats why again and again asking.\n",
    "\n",
    "# while is still true it will keep on a while loop again and agian and again\n",
    "#again go to the while and check true or not, if it is true it will return the particular statement\n",
    "\n",
    "def fun1():\n",
    "    flag = True\n",
    "    while flag: #while true it will get into a infinite loop.\n",
    "        try:\n",
    "            a=int(input(\"enter the integer : \"))\n",
    "            if type(a) == int:\n",
    "                return \"yes, you have entered an integer\"\n",
    "                flag = False #if int return the above statement, and this line will help to break the loop\n",
    "\n",
    "        except Exception as e:\n",
    "            print(\"Nah, you did not enter an integer, please enterr an integer, ERROR : \", e)"
   ]
  },
  {
   "cell_type": "code",
   "execution_count": 55,
   "metadata": {},
   "outputs": [
    {
     "name": "stdout",
     "output_type": "stream",
     "text": [
      "Nah, you did not enter an integer, please enterr an integer, ERROR :  invalid literal for int() with base 10: 'adfsadf'\n",
      "Nah, you did not enter an integer, please enterr an integer, ERROR :  invalid literal for int() with base 10: 'adfadsf'\n",
      "Nah, you did not enter an integer, please enterr an integer, ERROR :  invalid literal for int() with base 10: 'afdsadfadf'\n",
      "Nah, you did not enter an integer, please enterr an integer, ERROR :  invalid literal for int() with base 10: 'adsfadsf'\n"
     ]
    },
    {
     "data": {
      "text/plain": [
       "'yes, you have entered an integer'"
      ]
     },
     "execution_count": 55,
     "metadata": {},
     "output_type": "execute_result"
    }
   ],
   "source": [
    "fun1()"
   ]
  },
  {
   "cell_type": "code",
   "execution_count": 1,
   "metadata": {},
   "outputs": [],
   "source": [
    "def test1():\n",
    "    while True:\n",
    "        try:\n",
    "            a = int(input(\"enter no. : \"))\n",
    "            if type(a) == int:\n",
    "                return (\"You have entered the correct input\")\n",
    "        except Exception as e:\n",
    "            print(\"No, you are not entered int data type, please enter integer, ERROR : \", e)"
   ]
  },
  {
   "cell_type": "code",
   "execution_count": 2,
   "metadata": {},
   "outputs": [
    {
     "name": "stdout",
     "output_type": "stream",
     "text": [
      "No, you are not entered int data type, please enter integer, ERROR :  invalid literal for int() with base 10: '6j'\n",
      "No, you are not entered int data type, please enter integer, ERROR :  invalid literal for int() with base 10: 'hfth'\n",
      "No, you are not entered int data type, please enter integer, ERROR :  invalid literal for int() with base 10: 'hfhcj'\n",
      "No, you are not entered int data type, please enter integer, ERROR :  invalid literal for int() with base 10: 'fhc'\n",
      "No, you are not entered int data type, please enter integer, ERROR :  invalid literal for int() with base 10: 'dchgc'\n",
      "No, you are not entered int data type, please enter integer, ERROR :  invalid literal for int() with base 10: 'yfjy'\n"
     ]
    },
    {
     "data": {
      "text/plain": [
       "'You have entered the correct input'"
      ]
     },
     "execution_count": 2,
     "metadata": {},
     "output_type": "execute_result"
    }
   ],
   "source": [
    "test1()"
   ]
  },
  {
   "cell_type": "markdown",
   "metadata": {},
   "source": [
    "#### Way 2"
   ]
  },
  {
   "cell_type": "code",
   "execution_count": 60,
   "metadata": {},
   "outputs": [],
   "source": [
    "def integer():\n",
    "    while True:\n",
    "        \"\"\"function asks for an integer unless provided otherwise\"\"\"\n",
    "        try:\n",
    "            x = int(input(\"ent. no. : \")) #if user has entered something, which can be converted into the integer, For sure in that case it will break the loop.\n",
    "            break\n",
    "#once I entered the integer in that case my loop will close, until I enter the integer it will ask input again and again because of loop.\n",
    "        except Exception as e:\n",
    "            print(\"you have not entered the integer, Error is : \", e)"
   ]
  },
  {
   "cell_type": "code",
   "execution_count": 61,
   "metadata": {},
   "outputs": [
    {
     "name": "stdout",
     "output_type": "stream",
     "text": [
      "you have not entered the integer, Error is :  invalid literal for int() with base 10: 'afafafd'\n",
      "you have not entered the integer, Error is :  invalid literal for int() with base 10: 'afdsadfadf'\n",
      "you have not entered the integer, Error is :  invalid literal for int() with base 10: '######'\n",
      "you have not entered the integer, Error is :  invalid literal for int() with base 10: '\"65165161614654163416563\"'\n"
     ]
    }
   ],
   "source": [
    "integer()"
   ]
  },
  {
   "cell_type": "markdown",
   "metadata": {},
   "source": [
    "#### Way 3"
   ]
  },
  {
   "cell_type": "markdown",
   "metadata": {},
   "source": [
    "Indha method enakku pudikala"
   ]
  },
  {
   "cell_type": "code",
   "execution_count": 66,
   "metadata": {},
   "outputs": [],
   "source": [
    "def getint(p):\n",
    "    while True:\n",
    "        try:\n",
    "            value = int(input(p))\n",
    "        except ValueError as ve:\n",
    "            print(\"Sorry, I didn't understand that.\", ve)\n",
    "\n",
    "        if value < 0:\n",
    "            print(\"sorry, your response must not be negative\")\n",
    "            continue\n",
    "        else:\n",
    "            break\n",
    "\n",
    "    return value"
   ]
  },
  {
   "cell_type": "code",
   "execution_count": 68,
   "metadata": {},
   "outputs": [
    {
     "data": {
      "text/plain": [
       "15215215154584541"
      ]
     },
     "execution_count": 68,
     "metadata": {},
     "output_type": "execute_result"
    }
   ],
   "source": [
    "getint(1554)"
   ]
  },
  {
   "cell_type": "markdown",
   "metadata": {},
   "source": [
    "#### Way 4"
   ]
  },
  {
   "cell_type": "code",
   "execution_count": 69,
   "metadata": {},
   "outputs": [],
   "source": [
    "def askint():\n",
    "    while True:\n",
    "        try:\n",
    "            num = int(input(\"enter only number : \"))\n",
    "            break\n",
    "        except ValueError as ve:\n",
    "            print(\"Please input number only.......\")\n",
    "            continue"
   ]
  },
  {
   "cell_type": "code",
   "execution_count": 70,
   "metadata": {},
   "outputs": [
    {
     "name": "stdout",
     "output_type": "stream",
     "text": [
      "Please input number only.......\n",
      "Please input number only.......\n",
      "Please input number only.......\n",
      "Please input number only.......\n"
     ]
    }
   ],
   "source": [
    "askint() #it will ask input again and again, until we enter integers."
   ]
  },
  {
   "cell_type": "markdown",
   "metadata": {},
   "source": [
    "# Again one Important concept."
   ]
  },
  {
   "cell_type": "markdown",
   "metadata": {},
   "source": [
    "# How to raise an exception by ourselves?"
   ]
  },
  {
   "cell_type": "markdown",
   "metadata": {},
   "source": [
    "#### System is going to raise an exception by itself.\n",
    "\n",
    "#### If I'm going to say 6/10 its ok, but if i pass 5/0 it will raising a exception."
   ]
  },
  {
   "cell_type": "code",
   "execution_count": 71,
   "metadata": {},
   "outputs": [
    {
     "data": {
      "text/plain": [
       "0.6"
      ]
     },
     "execution_count": 71,
     "metadata": {},
     "output_type": "execute_result"
    }
   ],
   "source": [
    "6/10"
   ]
  },
  {
   "cell_type": "code",
   "execution_count": 72,
   "metadata": {},
   "outputs": [
    {
     "ename": "ZeroDivisionError",
     "evalue": "division by zero",
     "output_type": "error",
     "traceback": [
      "\u001b[1;31m---------------------------------------------------------------------------\u001b[0m",
      "\u001b[1;31mZeroDivisionError\u001b[0m                         Traceback (most recent call last)",
      "Cell \u001b[1;32mIn[72], line 1\u001b[0m\n\u001b[1;32m----> 1\u001b[0m \u001b[39m5\u001b[39;49m\u001b[39m/\u001b[39;49m\u001b[39m0\u001b[39;49m\n",
      "\u001b[1;31mZeroDivisionError\u001b[0m: division by zero"
     ]
    }
   ],
   "source": [
    "5/0"
   ]
  },
  {
   "cell_type": "markdown",
   "metadata": {},
   "source": [
    "how its raising a exception ?\n",
    "\n",
    "Because someone has write a code for this exception (zero division error)"
   ]
  },
  {
   "cell_type": "markdown",
   "metadata": {},
   "source": [
    "# Let's suppose I have a own custom condition"
   ]
  },
  {
   "cell_type": "markdown",
   "metadata": {},
   "source": [
    "#### How to raise our own exception with our own condition?"
   ]
  },
  {
   "cell_type": "markdown",
   "metadata": {},
   "source": [
    "This is what we are going to learn. and this is very very easy."
   ]
  },
  {
   "cell_type": "code",
   "execution_count": 78,
   "metadata": {},
   "outputs": [
    {
     "data": {
      "text/plain": [
       "'c:\\\\Users\\\\santhoshkumar.m'"
      ]
     },
     "execution_count": 78,
     "metadata": {},
     "output_type": "execute_result"
    }
   ],
   "source": [
    "pwd()"
   ]
  },
  {
   "cell_type": "markdown",
   "metadata": {},
   "source": [
    "# How to raise our own exception?"
   ]
  },
  {
   "cell_type": "code",
   "execution_count": 4,
   "metadata": {},
   "outputs": [],
   "source": [
    "#we creating a funciton, it will raise a exception if a is in negative number\n",
    "\n",
    "def test(a):\n",
    "    if a < 0:\n",
    "        raise Exception(a)\n",
    "    return a"
   ]
  },
  {
   "cell_type": "code",
   "execution_count": 5,
   "metadata": {},
   "outputs": [
    {
     "ename": "Exception",
     "evalue": "-4",
     "output_type": "error",
     "traceback": [
      "\u001b[1;31m---------------------------------------------------------------------------\u001b[0m",
      "\u001b[1;31mException\u001b[0m                                 Traceback (most recent call last)",
      "Cell \u001b[1;32mIn[5], line 1\u001b[0m\n\u001b[1;32m----> 1\u001b[0m test(\u001b[39m-\u001b[39;49m\u001b[39m4\u001b[39;49m)\n",
      "Cell \u001b[1;32mIn[4], line 5\u001b[0m, in \u001b[0;36mtest\u001b[1;34m(a)\u001b[0m\n\u001b[0;32m      3\u001b[0m \u001b[39mdef\u001b[39;00m \u001b[39mtest\u001b[39m(a):\n\u001b[0;32m      4\u001b[0m     \u001b[39mif\u001b[39;00m a \u001b[39m<\u001b[39m \u001b[39m0\u001b[39m:\n\u001b[1;32m----> 5\u001b[0m         \u001b[39mraise\u001b[39;00m \u001b[39mException\u001b[39;00m(a)\n\u001b[0;32m      6\u001b[0m     \u001b[39mreturn\u001b[39;00m a\n",
      "\u001b[1;31mException\u001b[0m: -4"
     ]
    }
   ],
   "source": [
    "test(-4)"
   ]
  },
  {
   "cell_type": "code",
   "execution_count": 6,
   "metadata": {},
   "outputs": [
    {
     "data": {
      "text/plain": [
       "7"
      ]
     },
     "execution_count": 6,
     "metadata": {},
     "output_type": "execute_result"
    }
   ],
   "source": [
    "test(7)"
   ]
  },
  {
   "cell_type": "markdown",
   "metadata": {},
   "source": [
    "#### Why -4 is raised expections\n",
    "\n",
    "#### becuase that is our custom condition. (we created that)"
   ]
  },
  {
   "cell_type": "markdown",
   "metadata": {},
   "source": [
    "All the exception someone has written, that why we got a messages (error message)"
   ]
  },
  {
   "cell_type": "markdown",
   "metadata": {},
   "source": [
    "#### For eg"
   ]
  },
  {
   "cell_type": "code",
   "execution_count": 7,
   "metadata": {},
   "outputs": [
    {
     "ename": "FileNotFoundError",
     "evalue": "[Errno 2] No such file or directory: 'fasfadsfadfs'",
     "output_type": "error",
     "traceback": [
      "\u001b[1;31m---------------------------------------------------------------------------\u001b[0m",
      "\u001b[1;31mFileNotFoundError\u001b[0m                         Traceback (most recent call last)",
      "Cell \u001b[1;32mIn[7], line 1\u001b[0m\n\u001b[1;32m----> 1\u001b[0m g \u001b[39m=\u001b[39m \u001b[39mopen\u001b[39;49m(\u001b[39m\"\u001b[39;49m\u001b[39mfasfadsfadfs\u001b[39;49m\u001b[39m\"\u001b[39;49m, \u001b[39m\"\u001b[39;49m\u001b[39mr\u001b[39;49m\u001b[39m\"\u001b[39;49m)\n",
      "File \u001b[1;32m~\\AppData\\Roaming\\Python\\Python311\\site-packages\\IPython\\core\\interactiveshell.py:282\u001b[0m, in \u001b[0;36m_modified_open\u001b[1;34m(file, *args, **kwargs)\u001b[0m\n\u001b[0;32m    275\u001b[0m \u001b[39mif\u001b[39;00m file \u001b[39min\u001b[39;00m {\u001b[39m0\u001b[39m, \u001b[39m1\u001b[39m, \u001b[39m2\u001b[39m}:\n\u001b[0;32m    276\u001b[0m     \u001b[39mraise\u001b[39;00m \u001b[39mValueError\u001b[39;00m(\n\u001b[0;32m    277\u001b[0m         \u001b[39mf\u001b[39m\u001b[39m\"\u001b[39m\u001b[39mIPython won\u001b[39m\u001b[39m'\u001b[39m\u001b[39mt let you open fd=\u001b[39m\u001b[39m{\u001b[39;00mfile\u001b[39m}\u001b[39;00m\u001b[39m by default \u001b[39m\u001b[39m\"\u001b[39m\n\u001b[0;32m    278\u001b[0m         \u001b[39m\"\u001b[39m\u001b[39mas it is likely to crash IPython. If you know what you are doing, \u001b[39m\u001b[39m\"\u001b[39m\n\u001b[0;32m    279\u001b[0m         \u001b[39m\"\u001b[39m\u001b[39myou can use builtins\u001b[39m\u001b[39m'\u001b[39m\u001b[39m open.\u001b[39m\u001b[39m\"\u001b[39m\n\u001b[0;32m    280\u001b[0m     )\n\u001b[1;32m--> 282\u001b[0m \u001b[39mreturn\u001b[39;00m io_open(file, \u001b[39m*\u001b[39;49margs, \u001b[39m*\u001b[39;49m\u001b[39m*\u001b[39;49mkwargs)\n",
      "\u001b[1;31mFileNotFoundError\u001b[0m: [Errno 2] No such file or directory: 'fasfadsfadfs'"
     ]
    }
   ],
   "source": [
    "g = open(\"fasfadsfadfs\", \"r\")"
   ]
  },
  {
   "cell_type": "markdown",
   "metadata": {},
   "source": [
    "#### someone has written the error will show like this to us, if we opened invalid file name."
   ]
  },
  {
   "cell_type": "markdown",
   "metadata": {},
   "source": [
    "# How I will able to do this things?"
   ]
  },
  {
   "cell_type": "markdown",
   "metadata": {},
   "source": [
    "Raise\n",
    "\n",
    "    Raise is a reserved keyword.\n",
    "\n",
    "    raise is a reserved keyword which will help you out to raise your exception at any point of the time.\n",
    "\n",
    "    We can call Exception (super class) at any point of the time.\n",
    "\n",
    "    Using raise keyword we can create a error and error message"
   ]
  },
  {
   "cell_type": "code",
   "execution_count": 1,
   "metadata": {},
   "outputs": [],
   "source": [
    "#we creating a funciton, it will raise a exception if a is in negative number\n",
    "\n",
    "def test(a):\n",
    "    if a < 0:\n",
    "        raise Exception(a)\n",
    "    return a\n",
    "\n",
    "#raise is a reserved keyword\n",
    "#if our value is less than 0, (this is our condition inside the function)\n",
    "# if the value < 0, then we raise the exception"
   ]
  },
  {
   "cell_type": "code",
   "execution_count": 2,
   "metadata": {},
   "outputs": [
    {
     "ename": "Exception",
     "evalue": "-7",
     "output_type": "error",
     "traceback": [
      "\u001b[1;31m---------------------------------------------------------------------------\u001b[0m",
      "\u001b[1;31mException\u001b[0m                                 Traceback (most recent call last)",
      "Cell \u001b[1;32mIn[2], line 1\u001b[0m\n\u001b[1;32m----> 1\u001b[0m test(\u001b[39m-\u001b[39;49m\u001b[39m7\u001b[39;49m)\n",
      "Cell \u001b[1;32mIn[1], line 5\u001b[0m, in \u001b[0;36mtest\u001b[1;34m(a)\u001b[0m\n\u001b[0;32m      3\u001b[0m \u001b[39mdef\u001b[39;00m \u001b[39mtest\u001b[39m(a):\n\u001b[0;32m      4\u001b[0m     \u001b[39mif\u001b[39;00m a \u001b[39m<\u001b[39m \u001b[39m0\u001b[39m:\n\u001b[1;32m----> 5\u001b[0m         \u001b[39mraise\u001b[39;00m \u001b[39mException\u001b[39;00m(a)\n\u001b[0;32m      6\u001b[0m     \u001b[39mreturn\u001b[39;00m a\n",
      "\u001b[1;31mException\u001b[0m: -7"
     ]
    }
   ],
   "source": [
    "test(-7)"
   ]
  },
  {
   "cell_type": "markdown",
   "metadata": {},
   "source": [
    "# We can write message as well"
   ]
  },
  {
   "cell_type": "code",
   "execution_count": 3,
   "metadata": {},
   "outputs": [],
   "source": [
    "def test(a):\n",
    "    if a<0:\n",
    "        raise Exception (\"you have entered a negative value\")\n",
    "    return a"
   ]
  },
  {
   "cell_type": "code",
   "execution_count": 4,
   "metadata": {},
   "outputs": [
    {
     "ename": "Exception",
     "evalue": "you have entered a negative value",
     "output_type": "error",
     "traceback": [
      "\u001b[1;31m---------------------------------------------------------------------------\u001b[0m",
      "\u001b[1;31mException\u001b[0m                                 Traceback (most recent call last)",
      "Cell \u001b[1;32mIn[4], line 1\u001b[0m\n\u001b[1;32m----> 1\u001b[0m test(\u001b[39m-\u001b[39;49m\u001b[39m7\u001b[39;49m)\n",
      "Cell \u001b[1;32mIn[3], line 3\u001b[0m, in \u001b[0;36mtest\u001b[1;34m(a)\u001b[0m\n\u001b[0;32m      1\u001b[0m \u001b[39mdef\u001b[39;00m \u001b[39mtest\u001b[39m(a):\n\u001b[0;32m      2\u001b[0m     \u001b[39mif\u001b[39;00m a\u001b[39m<\u001b[39m\u001b[39m0\u001b[39m:\n\u001b[1;32m----> 3\u001b[0m         \u001b[39mraise\u001b[39;00m \u001b[39mException\u001b[39;00m (\u001b[39m\"\u001b[39m\u001b[39myou have entered a negative value\u001b[39m\u001b[39m\"\u001b[39m)\n\u001b[0;32m      4\u001b[0m     \u001b[39mreturn\u001b[39;00m a\n",
      "\u001b[1;31mException\u001b[0m: you have entered a negative value"
     ]
    }
   ],
   "source": [
    "test(-7)"
   ]
  },
  {
   "cell_type": "code",
   "execution_count": 5,
   "metadata": {},
   "outputs": [
    {
     "data": {
      "text/plain": [
       "7"
      ]
     },
     "execution_count": 5,
     "metadata": {},
     "output_type": "execute_result"
    }
   ],
   "source": [
    "test(7)"
   ]
  },
  {
   "cell_type": "markdown",
   "metadata": {},
   "source": [
    "Let's suppose I'm writing valueerror over here"
   ]
  },
  {
   "cell_type": "code",
   "execution_count": 8,
   "metadata": {},
   "outputs": [],
   "source": [
    "#Inga raise la valueerror use panna naala namakku error la valueerror nu vandhu irukku, as well as namma message panna sentence um vandhu irukku\n",
    "\n",
    "def test(a):\n",
    "    if a<0:\n",
    "        raise ValueError(\"You have entered a negative value\")\n",
    "    return a"
   ]
  },
  {
   "cell_type": "code",
   "execution_count": 9,
   "metadata": {},
   "outputs": [
    {
     "ename": "ValueError",
     "evalue": "You have entered a negative value",
     "output_type": "error",
     "traceback": [
      "\u001b[1;31m---------------------------------------------------------------------------\u001b[0m",
      "\u001b[1;31mValueError\u001b[0m                                Traceback (most recent call last)",
      "Cell \u001b[1;32mIn[9], line 1\u001b[0m\n\u001b[1;32m----> 1\u001b[0m test(\u001b[39m-\u001b[39;49m\u001b[39m4\u001b[39;49m)\n",
      "Cell \u001b[1;32mIn[8], line 3\u001b[0m, in \u001b[0;36mtest\u001b[1;34m(a)\u001b[0m\n\u001b[0;32m      1\u001b[0m \u001b[39mdef\u001b[39;00m \u001b[39mtest\u001b[39m(a):\n\u001b[0;32m      2\u001b[0m     \u001b[39mif\u001b[39;00m a\u001b[39m<\u001b[39m\u001b[39m0\u001b[39m:\n\u001b[1;32m----> 3\u001b[0m         \u001b[39mraise\u001b[39;00m \u001b[39mValueError\u001b[39;00m(\u001b[39m\"\u001b[39m\u001b[39mYou have entered a negative value\u001b[39m\u001b[39m\"\u001b[39m)\n\u001b[0;32m      4\u001b[0m     \u001b[39mreturn\u001b[39;00m a\n",
      "\u001b[1;31mValueError\u001b[0m: You have entered a negative value"
     ]
    }
   ],
   "source": [
    "test(-4)"
   ]
  },
  {
   "cell_type": "markdown",
   "metadata": {},
   "source": [
    "Let suppose I'm writing IOError Over here"
   ]
  },
  {
   "cell_type": "code",
   "execution_count": 11,
   "metadata": {},
   "outputs": [],
   "source": [
    "def test(a):\n",
    "    if a<0:\n",
    "        raise IOError(\"You have entered a negative value\")\n",
    "    return a"
   ]
  },
  {
   "cell_type": "code",
   "execution_count": 12,
   "metadata": {},
   "outputs": [
    {
     "ename": "OSError",
     "evalue": "You have entered a negative value",
     "output_type": "error",
     "traceback": [
      "\u001b[1;31m---------------------------------------------------------------------------\u001b[0m",
      "\u001b[1;31mOSError\u001b[0m                                   Traceback (most recent call last)",
      "Cell \u001b[1;32mIn[12], line 1\u001b[0m\n\u001b[1;32m----> 1\u001b[0m test(\u001b[39m-\u001b[39;49m\u001b[39m7\u001b[39;49m)\n",
      "Cell \u001b[1;32mIn[11], line 3\u001b[0m, in \u001b[0;36mtest\u001b[1;34m(a)\u001b[0m\n\u001b[0;32m      1\u001b[0m \u001b[39mdef\u001b[39;00m \u001b[39mtest\u001b[39m(a):\n\u001b[0;32m      2\u001b[0m     \u001b[39mif\u001b[39;00m a\u001b[39m<\u001b[39m\u001b[39m0\u001b[39m:\n\u001b[1;32m----> 3\u001b[0m         \u001b[39mraise\u001b[39;00m \u001b[39mIOError\u001b[39;00m(\u001b[39m\"\u001b[39m\u001b[39mYou have entered a negative value\u001b[39m\u001b[39m\"\u001b[39m)\n\u001b[0;32m      4\u001b[0m     \u001b[39mreturn\u001b[39;00m a\n",
      "\u001b[1;31mOSError\u001b[0m: You have entered a negative value"
     ]
    }
   ],
   "source": [
    "test(-7)"
   ]
  },
  {
   "cell_type": "markdown",
   "metadata": {},
   "source": [
    "In below code its not division by zero error, we just over write that error name\n",
    "\n",
    "# I'm just use the existing exception class and just print my own message, that's it."
   ]
  },
  {
   "cell_type": "code",
   "execution_count": 15,
   "metadata": {},
   "outputs": [],
   "source": [
    "def test(a):\n",
    "    if a<0:\n",
    "        raise ZeroDivision(\"You have entered a negative value - \", a)\n",
    "    return a"
   ]
  },
  {
   "cell_type": "code",
   "execution_count": 16,
   "metadata": {},
   "outputs": [
    {
     "ename": "NameError",
     "evalue": "name 'ZeroDivision' is not defined",
     "output_type": "error",
     "traceback": [
      "\u001b[1;31m---------------------------------------------------------------------------\u001b[0m",
      "\u001b[1;31mNameError\u001b[0m                                 Traceback (most recent call last)",
      "Cell \u001b[1;32mIn[16], line 1\u001b[0m\n\u001b[1;32m----> 1\u001b[0m test(\u001b[39m-\u001b[39;49m\u001b[39m9\u001b[39;49m)\n",
      "Cell \u001b[1;32mIn[15], line 3\u001b[0m, in \u001b[0;36mtest\u001b[1;34m(a)\u001b[0m\n\u001b[0;32m      1\u001b[0m \u001b[39mdef\u001b[39;00m \u001b[39mtest\u001b[39m(a):\n\u001b[0;32m      2\u001b[0m     \u001b[39mif\u001b[39;00m a\u001b[39m<\u001b[39m\u001b[39m0\u001b[39m:\n\u001b[1;32m----> 3\u001b[0m         \u001b[39mraise\u001b[39;00m ZeroDivision(\u001b[39m\"\u001b[39m\u001b[39mYou have entered a negative value - \u001b[39m\u001b[39m\"\u001b[39m, a)\n\u001b[0;32m      4\u001b[0m     \u001b[39mreturn\u001b[39;00m a\n",
      "\u001b[1;31mNameError\u001b[0m: name 'ZeroDivision' is not defined"
     ]
    }
   ],
   "source": [
    "test(-9)"
   ]
  },
  {
   "cell_type": "markdown",
   "metadata": {},
   "source": [
    "In above function we over write the error name like IOError, Zerodivision error, and so open\n",
    "\n",
    "I'm just trying to use the existing exception class and I just try to call it (over write it)"
   ]
  },
  {
   "cell_type": "markdown",
   "metadata": {},
   "source": [
    "# zero division error"
   ]
  },
  {
   "cell_type": "code",
   "execution_count": 17,
   "metadata": {},
   "outputs": [
    {
     "ename": "ZeroDivisionError",
     "evalue": "division by zero",
     "output_type": "error",
     "traceback": [
      "\u001b[1;31m---------------------------------------------------------------------------\u001b[0m",
      "\u001b[1;31mZeroDivisionError\u001b[0m                         Traceback (most recent call last)",
      "Cell \u001b[1;32mIn[17], line 1\u001b[0m\n\u001b[1;32m----> 1\u001b[0m \u001b[39m5\u001b[39;49m\u001b[39m/\u001b[39;49m\u001b[39m0\u001b[39;49m\n",
      "\u001b[1;31mZeroDivisionError\u001b[0m: division by zero"
     ]
    }
   ],
   "source": [
    "5/0"
   ]
  },
  {
   "cell_type": "code",
   "execution_count": 18,
   "metadata": {},
   "outputs": [],
   "source": [
    "def test(a):\n",
    "    if a<0:\n",
    "        raise ZeroDivisionError(\"You entered a negative value - \", a)\n",
    "    return a"
   ]
  },
  {
   "cell_type": "code",
   "execution_count": 19,
   "metadata": {},
   "outputs": [
    {
     "ename": "ZeroDivisionError",
     "evalue": "('You entered a negative value - ', -7)",
     "output_type": "error",
     "traceback": [
      "\u001b[1;31m---------------------------------------------------------------------------\u001b[0m",
      "\u001b[1;31mZeroDivisionError\u001b[0m                         Traceback (most recent call last)",
      "Cell \u001b[1;32mIn[19], line 1\u001b[0m\n\u001b[1;32m----> 1\u001b[0m test(\u001b[39m-\u001b[39;49m\u001b[39m7\u001b[39;49m)\n",
      "Cell \u001b[1;32mIn[18], line 3\u001b[0m, in \u001b[0;36mtest\u001b[1;34m(a)\u001b[0m\n\u001b[0;32m      1\u001b[0m \u001b[39mdef\u001b[39;00m \u001b[39mtest\u001b[39m(a):\n\u001b[0;32m      2\u001b[0m     \u001b[39mif\u001b[39;00m a\u001b[39m<\u001b[39m\u001b[39m0\u001b[39m:\n\u001b[1;32m----> 3\u001b[0m         \u001b[39mraise\u001b[39;00m \u001b[39mZeroDivisionError\u001b[39;00m(\u001b[39m\"\u001b[39m\u001b[39mYou entered a negative value - \u001b[39m\u001b[39m\"\u001b[39m, a)\n\u001b[0;32m      4\u001b[0m     \u001b[39mreturn\u001b[39;00m a\n",
      "\u001b[1;31mZeroDivisionError\u001b[0m: ('You entered a negative value - ', -7)"
     ]
    }
   ],
   "source": [
    "test(-7)"
   ]
  },
  {
   "cell_type": "markdown",
   "metadata": {},
   "source": [
    "Using raise keyword, I can try to write my own custom message over here, so I can try infinite number of conditions based on I created my own exceptions."
   ]
  },
  {
   "cell_type": "markdown",
   "metadata": {},
   "source": [
    "# Keela error la error name and error message varum\n",
    "\n",
    "#### so namma andha error message epdi eludhanum and error message ah epdi eludhanum nu paathom."
   ]
  },
  {
   "cell_type": "markdown",
   "metadata": {},
   "source": [
    "# What is zerodivisionerror?"
   ]
  },
  {
   "cell_type": "markdown",
   "metadata": {},
   "source": [
    "It is actually a class.\n",
    "\n",
    "What is this exception ?\n",
    "    someone has return the class.\n",
    "    if some particular error has come, and this class will able to handle.\n",
    "    and in Exception super class which will handle everything."
   ]
  },
  {
   "cell_type": "markdown",
   "metadata": {},
   "source": [
    "# we are not using our new exception class\n",
    "\n",
    "# we are using our existing exception class"
   ]
  },
  {
   "cell_type": "markdown",
   "metadata": {},
   "source": [
    "# Raise is an keyword, which is going to help you out raise an exception by your condition."
   ]
  },
  {
   "cell_type": "code",
   "execution_count": 23,
   "metadata": {},
   "outputs": [],
   "source": [
    "def test(a):\n",
    "    if a==\"sudh\":\n",
    "        raise ZeroDivisionError(\"You have entered a wrong word\")\n",
    "    return a"
   ]
  },
  {
   "cell_type": "code",
   "execution_count": 24,
   "metadata": {},
   "outputs": [
    {
     "data": {
      "text/plain": [
       "'asfdadfs'"
      ]
     },
     "execution_count": 24,
     "metadata": {},
     "output_type": "execute_result"
    }
   ],
   "source": [
    "test(\"asfdadfs\")"
   ]
  },
  {
   "cell_type": "code",
   "execution_count": 25,
   "metadata": {},
   "outputs": [
    {
     "ename": "ZeroDivisionError",
     "evalue": "You have entered a wrong word",
     "output_type": "error",
     "traceback": [
      "\u001b[1;31m---------------------------------------------------------------------------\u001b[0m",
      "\u001b[1;31mZeroDivisionError\u001b[0m                         Traceback (most recent call last)",
      "Cell \u001b[1;32mIn[25], line 1\u001b[0m\n\u001b[1;32m----> 1\u001b[0m test(\u001b[39m\"\u001b[39;49m\u001b[39msudh\u001b[39;49m\u001b[39m\"\u001b[39;49m)\n",
      "Cell \u001b[1;32mIn[23], line 3\u001b[0m, in \u001b[0;36mtest\u001b[1;34m(a)\u001b[0m\n\u001b[0;32m      1\u001b[0m \u001b[39mdef\u001b[39;00m \u001b[39mtest\u001b[39m(a):\n\u001b[0;32m      2\u001b[0m     \u001b[39mif\u001b[39;00m a\u001b[39m==\u001b[39m\u001b[39m\"\u001b[39m\u001b[39msudh\u001b[39m\u001b[39m\"\u001b[39m:\n\u001b[1;32m----> 3\u001b[0m         \u001b[39mraise\u001b[39;00m \u001b[39mZeroDivisionError\u001b[39;00m(\u001b[39m\"\u001b[39m\u001b[39mYou have entered a wrong word\u001b[39m\u001b[39m\"\u001b[39m)\n\u001b[0;32m      4\u001b[0m     \u001b[39mreturn\u001b[39;00m a\n",
      "\u001b[1;31mZeroDivisionError\u001b[0m: You have entered a wrong word"
     ]
    }
   ],
   "source": [
    "test(\"sudh\")"
   ]
  },
  {
   "cell_type": "markdown",
   "metadata": {},
   "source": [
    "Doubt Kekanum (Idhukku enakku answer varala, but avungalukku vandhu irukku)"
   ]
  },
  {
   "cell_type": "code",
   "execution_count": 30,
   "metadata": {},
   "outputs": [],
   "source": [
    "try:\n",
    "    a=input()\n",
    "    test(a)\n",
    "\n",
    "except Exception as e:\n",
    "    (\"calling my raised exception\", e)"
   ]
  },
  {
   "cell_type": "markdown",
   "metadata": {},
   "source": [
    "#### Now we are going to learn a new topic, that is logging"
   ]
  },
  {
   "cell_type": "markdown",
   "metadata": {},
   "source": [
    "# LOGGING"
   ]
  },
  {
   "cell_type": "markdown",
   "metadata": {},
   "source": [
    "What is logging ?\n",
    "\n",
    "Why logging is important ?\n",
    "\n",
    "what we can acheive with the help of logging?"
   ]
  },
  {
   "cell_type": "markdown",
   "metadata": {},
   "source": [
    "He created a new notebook for logging, so that I'm also created a new notebook for logging, just try to open and see that."
   ]
  },
  {
   "cell_type": "markdown",
   "metadata": {},
   "source": [
    "                                                    Completed\n",
    "\n",
    "                                                                                                Author : Santhosh Kumar"
   ]
  }
 ],
 "metadata": {
  "kernelspec": {
   "display_name": "Python 3 (ipykernel)",
   "language": "python",
   "name": "python3"
  },
  "language_info": {
   "codemirror_mode": {
    "name": "ipython",
    "version": 3
   },
   "file_extension": ".py",
   "mimetype": "text/x-python",
   "name": "python",
   "nbconvert_exporter": "python",
   "pygments_lexer": "ipython3",
   "version": "3.9.7"
  },
  "vscode": {
   "interpreter": {
    "hash": "180f8518baccd74e1e77565faed7e8576f26917e6b201f6b9516078dc879945e"
   }
  }
 },
 "nbformat": 4,
 "nbformat_minor": 2
}
