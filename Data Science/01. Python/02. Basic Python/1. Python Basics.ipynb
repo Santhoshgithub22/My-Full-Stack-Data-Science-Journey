{
 "cells": [
  {
   "cell_type": "code",
   "execution_count": 1,
   "id": "2f8430fe",
   "metadata": {},
   "outputs": [
    {
     "data": {
      "text/plain": [
       "3"
      ]
     },
     "execution_count": 1,
     "metadata": {},
     "output_type": "execute_result"
    }
   ],
   "source": [
    "1+2"
   ]
  },
  {
   "cell_type": "code",
   "execution_count": 2,
   "id": "c168ad40",
   "metadata": {},
   "outputs": [
    {
     "data": {
      "text/plain": [
       "'sudhanshu'"
      ]
     },
     "execution_count": 2,
     "metadata": {},
     "output_type": "execute_result"
    }
   ],
   "source": [
    "\"sudhanshu\""
   ]
  },
  {
   "cell_type": "code",
   "execution_count": 3,
   "id": "1c2616fb",
   "metadata": {},
   "outputs": [
    {
     "data": {
      "text/plain": [
       "'C:\\\\Users\\\\santhoshkumar.m'"
      ]
     },
     "execution_count": 3,
     "metadata": {},
     "output_type": "execute_result"
    }
   ],
   "source": [
    "pwd"
   ]
  },
  {
   "cell_type": "markdown",
   "id": "f0b5b019",
   "metadata": {},
   "source": [
    "#### In every programming language only 20% of codings and 80% of debugging."
   ]
  },
  {
   "cell_type": "markdown",
   "id": "5667be80",
   "metadata": {},
   "source": [
    "Python is the one of the easiest programming in the entire world.  Even if the non tech backgroud student also will learn easily."
   ]
  },
  {
   "cell_type": "markdown",
   "id": "4e53ef2a",
   "metadata": {},
   "source": [
    "Inside our system many of the apps are developed by python programming language"
   ]
  },
  {
   "cell_type": "markdown",
   "id": "a2ecac9e",
   "metadata": {},
   "source": [
    "### Python Uses"
   ]
  },
  {
   "cell_type": "markdown",
   "id": "e2409ab1",
   "metadata": {},
   "source": [
    "###### System Programming\n",
    "\n",
    "###### GUI Interface\n",
    "\n",
    "###### Any kind of the mobile application, web application etc., \n",
    "\n",
    "###### Web scrapping\n",
    "\n",
    "###### Databases(MongoDB, Cassandra, SQL, SQLLITE)\n",
    "\n",
    "###### Scientific Programming\n",
    "\n",
    "###### Create a game\n",
    "\n",
    "###### Image Processing\n",
    "\n",
    "###### Robotics"
   ]
  },
  {
   "cell_type": "code",
   "execution_count": 9,
   "id": "1b343327",
   "metadata": {},
   "outputs": [
    {
     "name": "stdout",
     "output_type": "stream",
     "text": [
      "The Zen of Python, by Tim Peters\n",
      "\n",
      "Beautiful is better than ugly.\n",
      "Explicit is better than implicit.\n",
      "Simple is better than complex.\n",
      "Complex is better than complicated.\n",
      "Flat is better than nested.\n",
      "Sparse is better than dense.\n",
      "Readability counts.\n",
      "Special cases aren't special enough to break the rules.\n",
      "Although practicality beats purity.\n",
      "Errors should never pass silently.\n",
      "Unless explicitly silenced.\n",
      "In the face of ambiguity, refuse the temptation to guess.\n",
      "There should be one-- and preferably only one --obvious way to do it.\n",
      "Although that way may not be obvious at first unless you're Dutch.\n",
      "Now is better than never.\n",
      "Although never is often better than *right* now.\n",
      "If the implementation is hard to explain, it's a bad idea.\n",
      "If the implementation is easy to explain, it may be a good idea.\n",
      "Namespaces are one honking great idea -- let's do more of those!\n"
     ]
    }
   ],
   "source": [
    "import this"
   ]
  },
  {
   "cell_type": "code",
   "execution_count": 10,
   "id": "86bf14a7",
   "metadata": {},
   "outputs": [
    {
     "name": "stdout",
     "output_type": "stream",
     "text": [
      "this is my first program\n"
     ]
    }
   ],
   "source": [
    "print(\"this is my first program\")"
   ]
  },
  {
   "cell_type": "markdown",
   "id": "6725e9de",
   "metadata": {},
   "source": [
    "Suppose I dont know what this print will do, what is this print, \n",
    "\n",
    "just thinked I'm flat now\n",
    "\n",
    "Why print?\n",
    "\n",
    "just press shift & tab inside this print we will get the answer"
   ]
  },
  {
   "cell_type": "code",
   "execution_count": 11,
   "id": "462a8533",
   "metadata": {},
   "outputs": [
    {
     "name": "stdout",
     "output_type": "stream",
     "text": [
      "\n"
     ]
    }
   ],
   "source": [
    "print()"
   ]
  },
  {
   "cell_type": "markdown",
   "id": "ac7552e1",
   "metadata": {},
   "source": [
    "Suppose I write one more function len\n",
    "\n",
    "I dont know what is len, what will len do \n",
    "\n",
    "so just press shift & tab"
   ]
  },
  {
   "cell_type": "code",
   "execution_count": 13,
   "id": "c538f5a8",
   "metadata": {},
   "outputs": [
    {
     "data": {
      "text/plain": [
       "0"
      ]
     },
     "execution_count": 13,
     "metadata": {},
     "output_type": "execute_result"
    }
   ],
   "source": [
    "len(\"\") #just press shift & tab"
   ]
  },
  {
   "cell_type": "code",
   "execution_count": 14,
   "id": "206bf1f9",
   "metadata": {},
   "outputs": [
    {
     "data": {
      "text/plain": [
       "3"
      ]
     },
     "execution_count": 14,
     "metadata": {},
     "output_type": "execute_result"
    }
   ],
   "source": [
    "1+2"
   ]
  },
  {
   "cell_type": "code",
   "execution_count": 15,
   "id": "a941fb27",
   "metadata": {},
   "outputs": [
    {
     "data": {
      "text/plain": [
       "0.42857142857142855"
      ]
     },
     "execution_count": 15,
     "metadata": {},
     "output_type": "execute_result"
    }
   ],
   "source": [
    "3/7"
   ]
  },
  {
   "cell_type": "markdown",
   "id": "dae18335",
   "metadata": {},
   "source": [
    "### Python supports a two way of a programming"
   ]
  },
  {
   "cell_type": "markdown",
   "id": "04e64eec",
   "metadata": {},
   "source": [
    "One is a scripting way, another one is a oops concept"
   ]
  },
  {
   "cell_type": "markdown",
   "id": "f4c7bd1a",
   "metadata": {},
   "source": [
    "First see the scripting way, once we feel comfortable in a oops concept (we will write in a modular coding)"
   ]
  },
  {
   "cell_type": "markdown",
   "id": "f014f49a",
   "metadata": {},
   "source": [
    "System --> Hard disk --> RAM --> CPU --> Action\n",
    "\n",
    "system epayume adha hard disk la vachu adhula irundhu ram ku send panni aprm cpu ku send pannitu dhan action ku varum (suppose if want to play the video) "
   ]
  },
  {
   "cell_type": "code",
   "execution_count": 16,
   "id": "de3d1e21",
   "metadata": {},
   "outputs": [
    {
     "data": {
      "text/plain": [
       "3"
      ]
     },
     "execution_count": 16,
     "metadata": {},
     "output_type": "execute_result"
    }
   ],
   "source": [
    "1+2"
   ]
  },
  {
   "cell_type": "markdown",
   "id": "9e5fc6e9",
   "metadata": {},
   "source": [
    "how to use that 3?\n",
    "\n",
    "we want to store in variable, so that we can use again and again"
   ]
  },
  {
   "cell_type": "markdown",
   "id": "8545abce",
   "metadata": {},
   "source": [
    "#### Variable is nothing but its store a data (whatever file it is)"
   ]
  },
  {
   "cell_type": "code",
   "execution_count": 17,
   "id": "00ab727f",
   "metadata": {},
   "outputs": [],
   "source": [
    "a = 10 #a is not a static name, we can store in any variable"
   ]
  },
  {
   "cell_type": "code",
   "execution_count": 18,
   "id": "0d5736c8",
   "metadata": {},
   "outputs": [],
   "source": [
    "sudh = 4565"
   ]
  },
  {
   "cell_type": "code",
   "execution_count": 19,
   "id": "b4fb8604",
   "metadata": {},
   "outputs": [],
   "source": [
    "re = 23423"
   ]
  },
  {
   "cell_type": "code",
   "execution_count": 20,
   "id": "c059ef05",
   "metadata": {},
   "outputs": [
    {
     "data": {
      "text/plain": [
       "4565"
      ]
     },
     "execution_count": 20,
     "metadata": {},
     "output_type": "execute_result"
    }
   ],
   "source": [
    "sudh"
   ]
  },
  {
   "cell_type": "code",
   "execution_count": 21,
   "id": "74126180",
   "metadata": {},
   "outputs": [
    {
     "data": {
      "text/plain": [
       "23423"
      ]
     },
     "execution_count": 21,
     "metadata": {},
     "output_type": "execute_result"
    }
   ],
   "source": [
    "re"
   ]
  },
  {
   "cell_type": "markdown",
   "id": "964415b2",
   "metadata": {},
   "source": [
    "#### Type"
   ]
  },
  {
   "cell_type": "code",
   "execution_count": 22,
   "id": "0187e9c8",
   "metadata": {},
   "outputs": [
    {
     "data": {
      "text/plain": [
       "int"
      ]
     },
     "execution_count": 22,
     "metadata": {},
     "output_type": "execute_result"
    }
   ],
   "source": [
    "type(a)"
   ]
  },
  {
   "cell_type": "code",
   "execution_count": 23,
   "id": "2f10ab3d",
   "metadata": {},
   "outputs": [
    {
     "data": {
      "text/plain": [
       "int"
      ]
     },
     "execution_count": 23,
     "metadata": {},
     "output_type": "execute_result"
    }
   ],
   "source": [
    "type(re)"
   ]
  },
  {
   "cell_type": "code",
   "execution_count": 24,
   "id": "de755ebd",
   "metadata": {},
   "outputs": [
    {
     "data": {
      "text/plain": [
       "int"
      ]
     },
     "execution_count": 24,
     "metadata": {},
     "output_type": "execute_result"
    }
   ],
   "source": [
    "type(sudh)"
   ]
  },
  {
   "cell_type": "markdown",
   "id": "0c1771cc",
   "metadata": {},
   "source": [
    "When we dont know, instead of searching in browser just press shift + tab"
   ]
  },
  {
   "cell_type": "code",
   "execution_count": 25,
   "id": "2127e052",
   "metadata": {},
   "outputs": [],
   "source": [
    "b= 45.67"
   ]
  },
  {
   "cell_type": "code",
   "execution_count": 26,
   "id": "8a8e6639",
   "metadata": {},
   "outputs": [
    {
     "data": {
      "text/plain": [
       "float"
      ]
     },
     "execution_count": 26,
     "metadata": {},
     "output_type": "execute_result"
    }
   ],
   "source": [
    "type(b)"
   ]
  },
  {
   "cell_type": "code",
   "execution_count": 27,
   "id": "d579aa14",
   "metadata": {},
   "outputs": [],
   "source": [
    "c = \"sudh\" #weather its a double coats or single coats, output wise it will be in a single coats\n",
    "\n",
    "#collection of character is called as a string"
   ]
  },
  {
   "cell_type": "code",
   "execution_count": 28,
   "id": "2f34258b",
   "metadata": {},
   "outputs": [
    {
     "data": {
      "text/plain": [
       "str"
      ]
     },
     "execution_count": 28,
     "metadata": {},
     "output_type": "execute_result"
    }
   ],
   "source": [
    "type(c)"
   ]
  },
  {
   "cell_type": "markdown",
   "id": "c0d2201b",
   "metadata": {},
   "source": [
    "#### Complex"
   ]
  },
  {
   "cell_type": "markdown",
   "id": "88d95314",
   "metadata": {},
   "source": [
    "What is complex number?\n",
    "\n",
    "    The number is the combination of real and imaginary number."
   ]
  },
  {
   "cell_type": "markdown",
   "id": "46cdd9f6",
   "metadata": {},
   "source": [
    "To represent a imaginary part we are using i as a imaginary in a mathematics book.\n",
    "\n",
    "but here we are using j as a imaginary part."
   ]
  },
  {
   "cell_type": "code",
   "execution_count": 29,
   "id": "7cc408d9",
   "metadata": {},
   "outputs": [],
   "source": [
    "d = 5+6j"
   ]
  },
  {
   "cell_type": "code",
   "execution_count": 31,
   "id": "f72bb91b",
   "metadata": {},
   "outputs": [
    {
     "data": {
      "text/plain": [
       "(5+6j)"
      ]
     },
     "execution_count": 31,
     "metadata": {},
     "output_type": "execute_result"
    }
   ],
   "source": [
    "d"
   ]
  },
  {
   "cell_type": "code",
   "execution_count": 30,
   "id": "14fb7c9e",
   "metadata": {},
   "outputs": [
    {
     "data": {
      "text/plain": [
       "complex"
      ]
     },
     "execution_count": 30,
     "metadata": {},
     "output_type": "execute_result"
    }
   ],
   "source": [
    "type(d)"
   ]
  },
  {
   "cell_type": "markdown",
   "id": "78372092",
   "metadata": {},
   "source": [
    "#### Boolean"
   ]
  },
  {
   "cell_type": "code",
   "execution_count": 32,
   "id": "5a0360d1",
   "metadata": {},
   "outputs": [],
   "source": [
    "g= True"
   ]
  },
  {
   "cell_type": "code",
   "execution_count": 33,
   "id": "b41c24cf",
   "metadata": {},
   "outputs": [
    {
     "data": {
      "text/plain": [
       "True"
      ]
     },
     "execution_count": 33,
     "metadata": {},
     "output_type": "execute_result"
    }
   ],
   "source": [
    "g"
   ]
  },
  {
   "cell_type": "code",
   "execution_count": 34,
   "id": "5466db1f",
   "metadata": {},
   "outputs": [
    {
     "data": {
      "text/plain": [
       "bool"
      ]
     },
     "execution_count": 34,
     "metadata": {},
     "output_type": "execute_result"
    }
   ],
   "source": [
    "type(g)"
   ]
  },
  {
   "cell_type": "code",
   "execution_count": 35,
   "id": "c5158476",
   "metadata": {},
   "outputs": [
    {
     "ename": "SyntaxError",
     "evalue": "starred assignment target must be in a list or tuple (3202519458.py, line 1)",
     "output_type": "error",
     "traceback": [
      "\u001b[1;36m  Input \u001b[1;32mIn [35]\u001b[1;36m\u001b[0m\n\u001b[1;33m    *a =67\u001b[0m\n\u001b[1;37m    ^\u001b[0m\n\u001b[1;31mSyntaxError\u001b[0m\u001b[1;31m:\u001b[0m starred assignment target must be in a list or tuple\n"
     ]
    }
   ],
   "source": [
    "*a =67"
   ]
  },
  {
   "cell_type": "code",
   "execution_count": 36,
   "id": "1a19503d",
   "metadata": {},
   "outputs": [],
   "source": [
    "_a = 45"
   ]
  },
  {
   "cell_type": "code",
   "execution_count": 37,
   "id": "bdaa253d",
   "metadata": {},
   "outputs": [],
   "source": [
    "a = 34"
   ]
  },
  {
   "cell_type": "markdown",
   "id": "0d7b185d",
   "metadata": {},
   "source": [
    "Already we created a value is 10, now which one is \"a\" value, 34 or 10?"
   ]
  },
  {
   "cell_type": "markdown",
   "id": "05f8bebf",
   "metadata": {},
   "source": [
    "Answer is 34 #(because 34 is latest value of a)"
   ]
  },
  {
   "cell_type": "code",
   "execution_count": 41,
   "id": "044ab6c9",
   "metadata": {},
   "outputs": [
    {
     "data": {
      "text/plain": [
       "34"
      ]
     },
     "execution_count": 41,
     "metadata": {},
     "output_type": "execute_result"
    }
   ],
   "source": [
    "a"
   ]
  },
  {
   "cell_type": "code",
   "execution_count": 42,
   "id": "de71375c",
   "metadata": {},
   "outputs": [],
   "source": [
    "a = 5464\n",
    "b = \"sudh\"\n",
    "c = 6+7j\n",
    "d = True\n",
    "e = 546.67"
   ]
  },
  {
   "cell_type": "code",
   "execution_count": 43,
   "id": "76e5f06b",
   "metadata": {},
   "outputs": [
    {
     "data": {
      "text/plain": [
       "5464"
      ]
     },
     "execution_count": 43,
     "metadata": {},
     "output_type": "execute_result"
    }
   ],
   "source": [
    "a"
   ]
  },
  {
   "cell_type": "code",
   "execution_count": 44,
   "id": "58bfeefc",
   "metadata": {},
   "outputs": [],
   "source": [
    "a1 = 9877"
   ]
  },
  {
   "cell_type": "code",
   "execution_count": 45,
   "id": "947b1bfc",
   "metadata": {},
   "outputs": [
    {
     "data": {
      "text/plain": [
       "15341"
      ]
     },
     "execution_count": 45,
     "metadata": {},
     "output_type": "execute_result"
    }
   ],
   "source": [
    "a+a1"
   ]
  },
  {
   "cell_type": "markdown",
   "id": "35ad1c07",
   "metadata": {},
   "source": [
    "#### Instead of 5 lines we can write all this in one single line"
   ]
  },
  {
   "cell_type": "code",
   "execution_count": 46,
   "id": "526d69e6",
   "metadata": {},
   "outputs": [],
   "source": [
    "a,b,c,d,e = 5464, \"sudh\", 6+7j, True, 546.67"
   ]
  },
  {
   "cell_type": "code",
   "execution_count": 47,
   "id": "775ad6f3",
   "metadata": {},
   "outputs": [],
   "source": [
    "a, b, c, d, e = 234, \"kumar\", 4+6j, False, 345.345"
   ]
  },
  {
   "cell_type": "code",
   "execution_count": 48,
   "id": "c05b899f",
   "metadata": {},
   "outputs": [
    {
     "data": {
      "text/plain": [
       "234"
      ]
     },
     "execution_count": 48,
     "metadata": {},
     "output_type": "execute_result"
    }
   ],
   "source": [
    "a"
   ]
  },
  {
   "cell_type": "code",
   "execution_count": 49,
   "id": "eb05cc30",
   "metadata": {},
   "outputs": [
    {
     "data": {
      "text/plain": [
       "'kumar'"
      ]
     },
     "execution_count": 49,
     "metadata": {},
     "output_type": "execute_result"
    }
   ],
   "source": [
    "b"
   ]
  },
  {
   "cell_type": "code",
   "execution_count": 50,
   "id": "b3afc84c",
   "metadata": {},
   "outputs": [
    {
     "data": {
      "text/plain": [
       "(4+6j)"
      ]
     },
     "execution_count": 50,
     "metadata": {},
     "output_type": "execute_result"
    }
   ],
   "source": [
    "c"
   ]
  },
  {
   "cell_type": "code",
   "execution_count": 51,
   "id": "3ff57f60",
   "metadata": {},
   "outputs": [
    {
     "data": {
      "text/plain": [
       "False"
      ]
     },
     "execution_count": 51,
     "metadata": {},
     "output_type": "execute_result"
    }
   ],
   "source": [
    "d"
   ]
  },
  {
   "cell_type": "code",
   "execution_count": 52,
   "id": "c2796b83",
   "metadata": {},
   "outputs": [
    {
     "data": {
      "text/plain": [
       "345.345"
      ]
     },
     "execution_count": 52,
     "metadata": {},
     "output_type": "execute_result"
    }
   ],
   "source": [
    "e"
   ]
  },
  {
   "cell_type": "markdown",
   "id": "90791dfc",
   "metadata": {},
   "source": [
    "#### Errors"
   ]
  },
  {
   "cell_type": "code",
   "execution_count": 55,
   "id": "0a1e7217",
   "metadata": {},
   "outputs": [
    {
     "ename": "ValueError",
     "evalue": "not enough values to unpack (expected 5, got 4)",
     "output_type": "error",
     "traceback": [
      "\u001b[1;31m---------------------------------------------------------------------------\u001b[0m",
      "\u001b[1;31mValueError\u001b[0m                                Traceback (most recent call last)",
      "Input \u001b[1;32mIn [55]\u001b[0m, in \u001b[0;36m<cell line: 1>\u001b[1;34m()\u001b[0m\n\u001b[1;32m----> 1\u001b[0m a, b, c, d, e \u001b[38;5;241m=\u001b[39m \u001b[38;5;241m234\u001b[39m, \u001b[38;5;124m\"\u001b[39m\u001b[38;5;124mkumar\u001b[39m\u001b[38;5;124m\"\u001b[39m, \u001b[38;5;241m4\u001b[39m\u001b[38;5;241m+\u001b[39m\u001b[38;5;241m6\u001b[39mj, \u001b[38;5;28;01mFalse\u001b[39;00m\n",
      "\u001b[1;31mValueError\u001b[0m: not enough values to unpack (expected 5, got 4)"
     ]
    }
   ],
   "source": [
    "a, b, c, d, e = 234, \"kumar\", 4+6j, False"
   ]
  },
  {
   "cell_type": "code",
   "execution_count": 57,
   "id": "57c6e184",
   "metadata": {},
   "outputs": [
    {
     "ename": "ValueError",
     "evalue": "too many values to unpack (expected 4)",
     "output_type": "error",
     "traceback": [
      "\u001b[1;31m---------------------------------------------------------------------------\u001b[0m",
      "\u001b[1;31mValueError\u001b[0m                                Traceback (most recent call last)",
      "Input \u001b[1;32mIn [57]\u001b[0m, in \u001b[0;36m<cell line: 1>\u001b[1;34m()\u001b[0m\n\u001b[1;32m----> 1\u001b[0m a, b, c, d \u001b[38;5;241m=\u001b[39m \u001b[38;5;241m234\u001b[39m, \u001b[38;5;124m\"\u001b[39m\u001b[38;5;124mkumar\u001b[39m\u001b[38;5;124m\"\u001b[39m, \u001b[38;5;241m4\u001b[39m\u001b[38;5;241m+\u001b[39m\u001b[38;5;241m6\u001b[39mj, \u001b[38;5;28;01mFalse\u001b[39;00m, \u001b[38;5;241m345.345\u001b[39m\n",
      "\u001b[1;31mValueError\u001b[0m: too many values to unpack (expected 4)"
     ]
    }
   ],
   "source": [
    "a, b, c, d = 234, \"kumar\", 4+6j, False, 345.345"
   ]
  },
  {
   "cell_type": "code",
   "execution_count": 58,
   "id": "3ea81e91",
   "metadata": {},
   "outputs": [
    {
     "data": {
      "text/plain": [
       "(4+6j)"
      ]
     },
     "execution_count": 58,
     "metadata": {},
     "output_type": "execute_result"
    }
   ],
   "source": [
    "c"
   ]
  },
  {
   "cell_type": "code",
   "execution_count": 59,
   "id": "fddea40a",
   "metadata": {},
   "outputs": [
    {
     "data": {
      "text/plain": [
       "complex"
      ]
     },
     "execution_count": 59,
     "metadata": {},
     "output_type": "execute_result"
    }
   ],
   "source": [
    "type(c)"
   ]
  },
  {
   "cell_type": "markdown",
   "id": "715269be",
   "metadata": {},
   "source": [
    "#### How to get real and imaginary part"
   ]
  },
  {
   "cell_type": "markdown",
   "id": "3f122da3",
   "metadata": {},
   "source": [
    "If we dont know what can type after c dot. just press only tab. we will get a recommendation words."
   ]
  },
  {
   "cell_type": "code",
   "execution_count": 61,
   "id": "4c9418f4",
   "metadata": {},
   "outputs": [
    {
     "data": {
      "text/plain": [
       "4.0"
      ]
     },
     "execution_count": 61,
     "metadata": {},
     "output_type": "execute_result"
    }
   ],
   "source": [
    "c.real"
   ]
  },
  {
   "cell_type": "code",
   "execution_count": 63,
   "id": "129008aa",
   "metadata": {},
   "outputs": [
    {
     "data": {
      "text/plain": [
       "6.0"
      ]
     },
     "execution_count": 63,
     "metadata": {},
     "output_type": "execute_result"
    }
   ],
   "source": [
    "c.imag"
   ]
  },
  {
   "cell_type": "code",
   "execution_count": 67,
   "id": "47d72198",
   "metadata": {},
   "outputs": [
    {
     "data": {
      "text/plain": [
       "'kumar'"
      ]
     },
     "execution_count": 67,
     "metadata": {},
     "output_type": "execute_result"
    }
   ],
   "source": [
    "b"
   ]
  },
  {
   "cell_type": "markdown",
   "id": "051f52eb",
   "metadata": {},
   "source": [
    "#### what can we do in this b. just type b dot. and press tab, we can get what we will do in this b."
   ]
  },
  {
   "cell_type": "code",
   "execution_count": 66,
   "id": "1c65d2d1",
   "metadata": {},
   "outputs": [
    {
     "data": {
      "text/plain": [
       "1"
      ]
     },
     "execution_count": 66,
     "metadata": {},
     "output_type": "execute_result"
    }
   ],
   "source": [
    "b.find(\"u\")"
   ]
  },
  {
   "cell_type": "code",
   "execution_count": 68,
   "id": "f4c19735",
   "metadata": {},
   "outputs": [],
   "source": [
    "a = \"sudh\""
   ]
  },
  {
   "cell_type": "code",
   "execution_count": 71,
   "id": "e6b32e61",
   "metadata": {},
   "outputs": [
    {
     "ename": "TypeError",
     "evalue": "can only concatenate str (not \"int\") to str",
     "output_type": "error",
     "traceback": [
      "\u001b[1;31m---------------------------------------------------------------------------\u001b[0m",
      "\u001b[1;31mTypeError\u001b[0m                                 Traceback (most recent call last)",
      "Input \u001b[1;32mIn [71]\u001b[0m, in \u001b[0;36m<cell line: 1>\u001b[1;34m()\u001b[0m\n\u001b[1;32m----> 1\u001b[0m \u001b[43ma\u001b[49m\u001b[43m \u001b[49m\u001b[38;5;241;43m+\u001b[39;49m\u001b[43m \u001b[49m\u001b[38;5;241;43m4\u001b[39;49m\n",
      "\u001b[1;31mTypeError\u001b[0m: can only concatenate str (not \"int\") to str"
     ]
    }
   ],
   "source": [
    "a + 4 #it will show error because it will concatenate only string to string only, not string to int"
   ]
  },
  {
   "cell_type": "code",
   "execution_count": 72,
   "id": "b0ab8dcb",
   "metadata": {},
   "outputs": [
    {
     "data": {
      "text/plain": [
       "'sudh4'"
      ]
     },
     "execution_count": 72,
     "metadata": {},
     "output_type": "execute_result"
    }
   ],
   "source": [
    "a + \"4\" #if we pass this 4 in string it will work"
   ]
  },
  {
   "cell_type": "code",
   "execution_count": 73,
   "id": "0119abb0",
   "metadata": {},
   "outputs": [
    {
     "data": {
      "text/plain": [
       "'sudh4'"
      ]
     },
     "execution_count": 73,
     "metadata": {},
     "output_type": "execute_result"
    }
   ],
   "source": [
    "a + str(4) #we passing 4 as a string"
   ]
  },
  {
   "cell_type": "markdown",
   "id": "a2b6c725",
   "metadata": {},
   "source": [
    "#### True means 1 & False means 0"
   ]
  },
  {
   "cell_type": "code",
   "execution_count": 76,
   "id": "f2ff7ac5",
   "metadata": {},
   "outputs": [
    {
     "data": {
      "text/plain": [
       "2"
      ]
     },
     "execution_count": 76,
     "metadata": {},
     "output_type": "execute_result"
    }
   ],
   "source": [
    "True + True"
   ]
  },
  {
   "cell_type": "code",
   "execution_count": 77,
   "id": "c8a55fbb",
   "metadata": {},
   "outputs": [
    {
     "data": {
      "text/plain": [
       "1"
      ]
     },
     "execution_count": 77,
     "metadata": {},
     "output_type": "execute_result"
    }
   ],
   "source": [
    "True - False"
   ]
  },
  {
   "cell_type": "code",
   "execution_count": 78,
   "id": "e0d063b3",
   "metadata": {},
   "outputs": [
    {
     "data": {
      "text/plain": [
       "2"
      ]
     },
     "execution_count": 78,
     "metadata": {},
     "output_type": "execute_result"
    }
   ],
   "source": [
    "1 + True"
   ]
  },
  {
   "cell_type": "markdown",
   "id": "3cca3bac",
   "metadata": {},
   "source": [
    "#### In above we give a values for a varibles.\n",
    "\n",
    "#### but let suppose if we get a values from a user as per demand"
   ]
  },
  {
   "cell_type": "markdown",
   "id": "280d44c7",
   "metadata": {},
   "source": [
    "#### User Input"
   ]
  },
  {
   "cell_type": "markdown",
   "id": "2001da83",
   "metadata": {},
   "source": [
    "User input is just like a calculator, we just give input from a user that is called as a user input."
   ]
  },
  {
   "cell_type": "markdown",
   "id": "768b66b9",
   "metadata": {},
   "source": [
    "we give input and whatever input I want we can give there"
   ]
  },
  {
   "cell_type": "code",
   "execution_count": 79,
   "id": "ad1db3c7",
   "metadata": {},
   "outputs": [
    {
     "name": "stdout",
     "output_type": "stream",
     "text": [
      "sudh\n"
     ]
    },
    {
     "data": {
      "text/plain": [
       "'sudh'"
      ]
     },
     "execution_count": 79,
     "metadata": {},
     "output_type": "execute_result"
    }
   ],
   "source": [
    "input() #by default every user input in a string format"
   ]
  },
  {
   "cell_type": "code",
   "execution_count": 80,
   "id": "7661fa14",
   "metadata": {},
   "outputs": [
    {
     "name": "stdout",
     "output_type": "stream",
     "text": [
      "sudh\n"
     ]
    }
   ],
   "source": [
    "a = input()"
   ]
  },
  {
   "cell_type": "code",
   "execution_count": 81,
   "id": "e2ad379a",
   "metadata": {},
   "outputs": [
    {
     "data": {
      "text/plain": [
       "'sudh'"
      ]
     },
     "execution_count": 81,
     "metadata": {},
     "output_type": "execute_result"
    }
   ],
   "source": [
    "a"
   ]
  },
  {
   "cell_type": "code",
   "execution_count": null,
   "id": "cfbe07a7",
   "metadata": {},
   "outputs": [],
   "source": [
    "a = input() #just press shift & tab"
   ]
  },
  {
   "cell_type": "code",
   "execution_count": 82,
   "id": "c20eaeb1",
   "metadata": {},
   "outputs": [
    {
     "name": "stdout",
     "output_type": "stream",
     "text": [
      "12345678900\n"
     ]
    }
   ],
   "source": [
    "#suppose if we give numbers in the user input\n",
    "\n",
    "a = input()"
   ]
  },
  {
   "cell_type": "code",
   "execution_count": 83,
   "id": "7e4a05ea",
   "metadata": {},
   "outputs": [
    {
     "data": {
      "text/plain": [
       "'12345678900'"
      ]
     },
     "execution_count": 83,
     "metadata": {},
     "output_type": "execute_result"
    }
   ],
   "source": [
    "a"
   ]
  },
  {
   "cell_type": "markdown",
   "id": "2345c2aa",
   "metadata": {},
   "source": [
    "#### if we print a it will return in string not as a integer, so we should use int keyword before in user input."
   ]
  },
  {
   "cell_type": "code",
   "execution_count": 84,
   "id": "9e2c36ad",
   "metadata": {},
   "outputs": [
    {
     "name": "stdout",
     "output_type": "stream",
     "text": [
      "12345678900\n"
     ]
    }
   ],
   "source": [
    "a = int(input())"
   ]
  },
  {
   "cell_type": "code",
   "execution_count": 85,
   "id": "397f2f11",
   "metadata": {},
   "outputs": [
    {
     "data": {
      "text/plain": [
       "12345678900"
      ]
     },
     "execution_count": 85,
     "metadata": {},
     "output_type": "execute_result"
    }
   ],
   "source": [
    "a"
   ]
  },
  {
   "cell_type": "code",
   "execution_count": 86,
   "id": "183bee81",
   "metadata": {},
   "outputs": [],
   "source": [
    "b = 45"
   ]
  },
  {
   "cell_type": "code",
   "execution_count": 87,
   "id": "19e19b0f",
   "metadata": {},
   "outputs": [
    {
     "data": {
      "text/plain": [
       "12345678945"
      ]
     },
     "execution_count": 87,
     "metadata": {},
     "output_type": "execute_result"
    }
   ],
   "source": [
    "a + b"
   ]
  },
  {
   "cell_type": "code",
   "execution_count": 88,
   "id": "e827133d",
   "metadata": {},
   "outputs": [
    {
     "data": {
      "text/plain": [
       "12345678945"
      ]
     },
     "execution_count": 88,
     "metadata": {},
     "output_type": "execute_result"
    }
   ],
   "source": [
    "int(a) + b"
   ]
  },
  {
   "cell_type": "code",
   "execution_count": 90,
   "id": "20e4c624",
   "metadata": {},
   "outputs": [
    {
     "data": {
      "text/plain": [
       "2345678"
      ]
     },
     "execution_count": 90,
     "metadata": {},
     "output_type": "execute_result"
    }
   ],
   "source": [
    "int(\"2345678\")"
   ]
  },
  {
   "cell_type": "code",
   "execution_count": 91,
   "id": "f790bcf0",
   "metadata": {},
   "outputs": [
    {
     "data": {
      "text/plain": [
       "'122316688646464'"
      ]
     },
     "execution_count": 91,
     "metadata": {},
     "output_type": "execute_result"
    }
   ],
   "source": [
    "str(122316688646464)"
   ]
  },
  {
   "cell_type": "code",
   "execution_count": 1,
   "id": "03450aff",
   "metadata": {},
   "outputs": [
    {
     "data": {
      "text/plain": [
       "'12345466sudh'"
      ]
     },
     "execution_count": 1,
     "metadata": {},
     "output_type": "execute_result"
    }
   ],
   "source": [
    "str(12345466) + \"sudh\""
   ]
  },
  {
   "cell_type": "markdown",
   "id": "1489aecc",
   "metadata": {},
   "source": [
    "#### How to find the memory address of variable?"
   ]
  },
  {
   "cell_type": "code",
   "execution_count": 92,
   "id": "c996e391",
   "metadata": {},
   "outputs": [
    {
     "data": {
      "text/plain": [
       "1692115340016"
      ]
     },
     "execution_count": 92,
     "metadata": {},
     "output_type": "execute_result"
    }
   ],
   "source": [
    "id(a)"
   ]
  },
  {
   "cell_type": "code",
   "execution_count": 93,
   "id": "4c8afd06",
   "metadata": {},
   "outputs": [
    {
     "data": {
      "text/plain": [
       "1691972628144"
      ]
     },
     "execution_count": 93,
     "metadata": {},
     "output_type": "execute_result"
    }
   ],
   "source": [
    "id(b)"
   ]
  },
  {
   "cell_type": "code",
   "execution_count": 94,
   "id": "6fbcb88f",
   "metadata": {},
   "outputs": [
    {
     "data": {
      "text/plain": [
       "1692102394576"
      ]
     },
     "execution_count": 94,
     "metadata": {},
     "output_type": "execute_result"
    }
   ],
   "source": [
    "id(c)"
   ]
  },
  {
   "cell_type": "code",
   "execution_count": 95,
   "id": "2ccee866",
   "metadata": {},
   "outputs": [
    {
     "data": {
      "text/plain": [
       "140706272237704"
      ]
     },
     "execution_count": 95,
     "metadata": {},
     "output_type": "execute_result"
    }
   ],
   "source": [
    "id(d)"
   ]
  },
  {
   "cell_type": "code",
   "execution_count": 96,
   "id": "ca81a13b",
   "metadata": {},
   "outputs": [
    {
     "data": {
      "text/plain": [
       "1692102381776"
      ]
     },
     "execution_count": 96,
     "metadata": {},
     "output_type": "execute_result"
    }
   ],
   "source": [
    "id(e)"
   ]
  },
  {
   "cell_type": "markdown",
   "id": "78ff2374",
   "metadata": {},
   "source": [
    "                                                    Completed\n",
    "\n",
    "                                                                                                Author : Santhosh Kumar"
   ]
  }
 ],
 "metadata": {
  "kernelspec": {
   "display_name": "Python 3 (ipykernel)",
   "language": "python",
   "name": "python3"
  },
  "language_info": {
   "codemirror_mode": {
    "name": "ipython",
    "version": 3
   },
   "file_extension": ".py",
   "mimetype": "text/x-python",
   "name": "python",
   "nbconvert_exporter": "python",
   "pygments_lexer": "ipython3",
   "version": "3.9.7"
  }
 },
 "nbformat": 4,
 "nbformat_minor": 5
}
