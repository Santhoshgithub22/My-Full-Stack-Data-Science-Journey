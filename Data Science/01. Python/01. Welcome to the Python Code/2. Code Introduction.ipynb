{
 "cells": [
  {
   "cell_type": "markdown",
   "id": "b268d4d1",
   "metadata": {},
   "source": [
    "In last class we are talked about python basics\n",
    "\n",
    "today also we continue from that"
   ]
  },
  {
   "cell_type": "markdown",
   "id": "5b95e223",
   "metadata": {},
   "source": [
    "In last class we talking about str, int, dtype, boolean\n",
    "\n",
    "we understand about datatype"
   ]
  },
  {
   "cell_type": "markdown",
   "id": "5943fcc8",
   "metadata": {},
   "source": [
    "# In today "
   ]
  },
  {
   "cell_type": "markdown",
   "id": "0a379e4d",
   "metadata": {},
   "source": [
    "we understand about string in much much / detail better way"
   ]
  },
  {
   "cell_type": "code",
   "execution_count": 1,
   "id": "7297f344",
   "metadata": {},
   "outputs": [],
   "source": [
    "s = \"sudh\""
   ]
  },
  {
   "cell_type": "code",
   "execution_count": 2,
   "id": "aa03e57a",
   "metadata": {},
   "outputs": [
    {
     "data": {
      "text/plain": [
       "str"
      ]
     },
     "execution_count": 2,
     "metadata": {},
     "output_type": "execute_result"
    }
   ],
   "source": [
    "type(s)"
   ]
  },
  {
   "cell_type": "markdown",
   "id": "81cf44f1",
   "metadata": {},
   "source": [
    "suppose if someone ask extract that s value \"sudh\"\n",
    "\n",
    "ya its possible"
   ]
  },
  {
   "cell_type": "markdown",
   "id": "d5581b80",
   "metadata": {},
   "source": [
    "if we store \"sudh\" it created a indexes and starts with 0."
   ]
  },
  {
   "cell_type": "code",
   "execution_count": 3,
   "id": "6a22e344",
   "metadata": {},
   "outputs": [
    {
     "data": {
      "text/plain": [
       "'s'"
      ]
     },
     "execution_count": 3,
     "metadata": {},
     "output_type": "execute_result"
    }
   ],
   "source": [
    "s[0]"
   ]
  },
  {
   "cell_type": "code",
   "execution_count": 4,
   "id": "bebfaaa1",
   "metadata": {},
   "outputs": [
    {
     "data": {
      "text/plain": [
       "'u'"
      ]
     },
     "execution_count": 4,
     "metadata": {},
     "output_type": "execute_result"
    }
   ],
   "source": [
    "s[1]"
   ]
  },
  {
   "cell_type": "code",
   "execution_count": 5,
   "id": "9004be55",
   "metadata": {},
   "outputs": [
    {
     "data": {
      "text/plain": [
       "'d'"
      ]
     },
     "execution_count": 5,
     "metadata": {},
     "output_type": "execute_result"
    }
   ],
   "source": [
    "s[2]"
   ]
  },
  {
   "cell_type": "code",
   "execution_count": 6,
   "id": "d0594e58",
   "metadata": {},
   "outputs": [
    {
     "data": {
      "text/plain": [
       "'h'"
      ]
     },
     "execution_count": 6,
     "metadata": {},
     "output_type": "execute_result"
    }
   ],
   "source": [
    "s[3]"
   ]
  },
  {
   "cell_type": "markdown",
   "id": "f8ef01c6",
   "metadata": {},
   "source": [
    "negative sign is a backward direction"
   ]
  },
  {
   "cell_type": "code",
   "execution_count": 7,
   "id": "a067ef93",
   "metadata": {},
   "outputs": [
    {
     "data": {
      "text/plain": [
       "'s'"
      ]
     },
     "execution_count": 7,
     "metadata": {},
     "output_type": "execute_result"
    }
   ],
   "source": [
    "s[-0]"
   ]
  },
  {
   "cell_type": "code",
   "execution_count": 8,
   "id": "ee345699",
   "metadata": {},
   "outputs": [
    {
     "data": {
      "text/plain": [
       "'h'"
      ]
     },
     "execution_count": 8,
     "metadata": {},
     "output_type": "execute_result"
    }
   ],
   "source": [
    "s[-1]"
   ]
  },
  {
   "cell_type": "code",
   "execution_count": 9,
   "id": "85274f50",
   "metadata": {},
   "outputs": [
    {
     "data": {
      "text/plain": [
       "'d'"
      ]
     },
     "execution_count": 9,
     "metadata": {},
     "output_type": "execute_result"
    }
   ],
   "source": [
    "s[-2]"
   ]
  },
  {
   "cell_type": "code",
   "execution_count": 10,
   "id": "fcee103a",
   "metadata": {},
   "outputs": [
    {
     "data": {
      "text/plain": [
       "'u'"
      ]
     },
     "execution_count": 10,
     "metadata": {},
     "output_type": "execute_result"
    }
   ],
   "source": [
    "s[-3]"
   ]
  },
  {
   "cell_type": "code",
   "execution_count": 11,
   "id": "fe3f08b1",
   "metadata": {},
   "outputs": [],
   "source": [
    "a = \"my name is sudh\""
   ]
  },
  {
   "cell_type": "code",
   "execution_count": 12,
   "id": "89d02540",
   "metadata": {},
   "outputs": [
    {
     "data": {
      "text/plain": [
       "'h'"
      ]
     },
     "execution_count": 12,
     "metadata": {},
     "output_type": "execute_result"
    }
   ],
   "source": [
    "a[-1]"
   ]
  },
  {
   "cell_type": "code",
   "execution_count": 13,
   "id": "9e3da420",
   "metadata": {},
   "outputs": [
    {
     "data": {
      "text/plain": [
       "'m'"
      ]
     },
     "execution_count": 13,
     "metadata": {},
     "output_type": "execute_result"
    }
   ],
   "source": [
    "a[0]"
   ]
  },
  {
   "cell_type": "markdown",
   "id": "46e5d7fc",
   "metadata": {},
   "source": [
    "a of 100 give me a error\n",
    "\n",
    "thats why we want to know the range"
   ]
  },
  {
   "cell_type": "code",
   "execution_count": 14,
   "id": "78f0ec00",
   "metadata": {},
   "outputs": [
    {
     "ename": "IndexError",
     "evalue": "string index out of range",
     "output_type": "error",
     "traceback": [
      "\u001b[1;31m---------------------------------------------------------------------------\u001b[0m",
      "\u001b[1;31mIndexError\u001b[0m                                Traceback (most recent call last)",
      "\u001b[1;32m~\\AppData\\Local\\Temp/ipykernel_17412/3418884185.py\u001b[0m in \u001b[0;36m<module>\u001b[1;34m\u001b[0m\n\u001b[1;32m----> 1\u001b[1;33m \u001b[0ma\u001b[0m\u001b[1;33m[\u001b[0m\u001b[1;36m100\u001b[0m\u001b[1;33m]\u001b[0m\u001b[1;33m\u001b[0m\u001b[1;33m\u001b[0m\u001b[0m\n\u001b[0m",
      "\u001b[1;31mIndexError\u001b[0m: string index out of range"
     ]
    }
   ],
   "source": [
    "a[100]"
   ]
  },
  {
   "cell_type": "code",
   "execution_count": 15,
   "id": "cdd46e9d",
   "metadata": {},
   "outputs": [
    {
     "data": {
      "text/plain": [
       "'my name is'"
      ]
     },
     "execution_count": 15,
     "metadata": {},
     "output_type": "execute_result"
    }
   ],
   "source": [
    "a[0:10]"
   ]
  },
  {
   "cell_type": "markdown",
   "id": "7f429850",
   "metadata": {},
   "source": [
    "10 location is a excluded one. that mean from 0th location to 9th location"
   ]
  },
  {
   "cell_type": "code",
   "execution_count": 16,
   "id": "dd26e8c2",
   "metadata": {},
   "outputs": [],
   "source": [
    "b = \"ineuron\""
   ]
  },
  {
   "cell_type": "code",
   "execution_count": 17,
   "id": "a2a6b2d3",
   "metadata": {},
   "outputs": [
    {
     "data": {
      "text/plain": [
       "'ine'"
      ]
     },
     "execution_count": 17,
     "metadata": {},
     "output_type": "execute_result"
    }
   ],
   "source": [
    "b[0:3]"
   ]
  },
  {
   "cell_type": "code",
   "execution_count": 18,
   "id": "baaec5d9",
   "metadata": {},
   "outputs": [
    {
     "data": {
      "text/plain": [
       "'ineuron'"
      ]
     },
     "execution_count": 18,
     "metadata": {},
     "output_type": "execute_result"
    }
   ],
   "source": [
    "b[0:300]"
   ]
  },
  {
   "cell_type": "markdown",
   "id": "9ea2fc3a",
   "metadata": {},
   "source": [
    "if we use invalid number in individual indexes it will show error\n",
    "\n",
    "but\n",
    "\n",
    "if we use invalid number in ranges while slicing it will print\n",
    "\n",
    "thats all"
   ]
  },
  {
   "cell_type": "code",
   "execution_count": 19,
   "id": "1834ed88",
   "metadata": {},
   "outputs": [
    {
     "ename": "IndexError",
     "evalue": "string index out of range",
     "output_type": "error",
     "traceback": [
      "\u001b[1;31m---------------------------------------------------------------------------\u001b[0m",
      "\u001b[1;31mIndexError\u001b[0m                                Traceback (most recent call last)",
      "\u001b[1;32m~\\AppData\\Local\\Temp/ipykernel_17412/2380424124.py\u001b[0m in \u001b[0;36m<module>\u001b[1;34m\u001b[0m\n\u001b[1;32m----> 1\u001b[1;33m \u001b[0mb\u001b[0m\u001b[1;33m[\u001b[0m\u001b[1;36m300\u001b[0m\u001b[1;33m]\u001b[0m\u001b[1;33m\u001b[0m\u001b[1;33m\u001b[0m\u001b[0m\n\u001b[0m",
      "\u001b[1;31mIndexError\u001b[0m: string index out of range"
     ]
    }
   ],
   "source": [
    "b[300]"
   ]
  },
  {
   "cell_type": "code",
   "execution_count": 20,
   "id": "f909683b",
   "metadata": {},
   "outputs": [
    {
     "data": {
      "text/plain": [
       "'ineuron'"
      ]
     },
     "execution_count": 20,
     "metadata": {},
     "output_type": "execute_result"
    }
   ],
   "source": [
    "b"
   ]
  },
  {
   "cell_type": "code",
   "execution_count": 21,
   "id": "36f6bd2d",
   "metadata": {},
   "outputs": [
    {
     "data": {
      "text/plain": [
       "''"
      ]
     },
     "execution_count": 21,
     "metadata": {},
     "output_type": "execute_result"
    }
   ],
   "source": [
    "b[-1:-4] #it will not give a error, but it giving a blank string why? because our jump value in positive thats why"
   ]
  },
  {
   "cell_type": "code",
   "execution_count": 22,
   "id": "a85f9cb5",
   "metadata": {},
   "outputs": [
    {
     "data": {
      "text/plain": [
       "'nor'"
      ]
     },
     "execution_count": 22,
     "metadata": {},
     "output_type": "execute_result"
    }
   ],
   "source": [
    "b[-1:-4:-1] "
   ]
  },
  {
   "cell_type": "code",
   "execution_count": 23,
   "id": "0c23be2f",
   "metadata": {},
   "outputs": [],
   "source": [
    "a = \"kumar\""
   ]
  },
  {
   "cell_type": "code",
   "execution_count": 24,
   "id": "2121562c",
   "metadata": {},
   "outputs": [
    {
     "data": {
      "text/plain": [
       "'kum'"
      ]
     },
     "execution_count": 24,
     "metadata": {},
     "output_type": "execute_result"
    }
   ],
   "source": [
    "a[0:3]"
   ]
  },
  {
   "cell_type": "code",
   "execution_count": 25,
   "id": "75e6085c",
   "metadata": {},
   "outputs": [
    {
     "data": {
      "text/plain": [
       "'kumar'"
      ]
     },
     "execution_count": 25,
     "metadata": {},
     "output_type": "execute_result"
    }
   ],
   "source": [
    "a[0:300]"
   ]
  },
  {
   "cell_type": "markdown",
   "id": "200538bd",
   "metadata": {},
   "source": [
    "suppose if we dont want u and a in kumar, how can we do ?\n",
    "\n",
    "we should use step(jump) number while slicing"
   ]
  },
  {
   "cell_type": "code",
   "execution_count": 26,
   "id": "90d41c6b",
   "metadata": {},
   "outputs": [
    {
     "data": {
      "text/plain": [
       "'kumar'"
      ]
     },
     "execution_count": 26,
     "metadata": {},
     "output_type": "execute_result"
    }
   ],
   "source": [
    "a"
   ]
  },
  {
   "cell_type": "code",
   "execution_count": 27,
   "id": "8d33214c",
   "metadata": {},
   "outputs": [
    {
     "data": {
      "text/plain": [
       "'kmr'"
      ]
     },
     "execution_count": 27,
     "metadata": {},
     "output_type": "execute_result"
    }
   ],
   "source": [
    "a[0:300:2] #(start index : end index : jump index (step))"
   ]
  },
  {
   "cell_type": "code",
   "execution_count": 28,
   "id": "67c13a00",
   "metadata": {},
   "outputs": [],
   "source": [
    "b = \"this is my first program language\""
   ]
  },
  {
   "cell_type": "code",
   "execution_count": 29,
   "id": "ad4fd06f",
   "metadata": {},
   "outputs": [
    {
     "data": {
      "text/plain": [
       "'tssyitrr na'"
      ]
     },
     "execution_count": 29,
     "metadata": {},
     "output_type": "execute_result"
    }
   ],
   "source": [
    "b[0:300:3]"
   ]
  },
  {
   "cell_type": "code",
   "execution_count": 30,
   "id": "a6f1bad1",
   "metadata": {},
   "outputs": [
    {
     "data": {
      "text/plain": [
       "'ka'"
      ]
     },
     "execution_count": 30,
     "metadata": {},
     "output_type": "execute_result"
    }
   ],
   "source": [
    "a[0:100:3]"
   ]
  },
  {
   "cell_type": "code",
   "execution_count": 31,
   "id": "b6a5df68",
   "metadata": {},
   "outputs": [
    {
     "data": {
      "text/plain": [
       "'k'"
      ]
     },
     "execution_count": 31,
     "metadata": {},
     "output_type": "execute_result"
    }
   ],
   "source": [
    "a[0:100:5]"
   ]
  },
  {
   "cell_type": "code",
   "execution_count": 32,
   "id": "1a3c4545",
   "metadata": {},
   "outputs": [
    {
     "data": {
      "text/plain": [
       "''"
      ]
     },
     "execution_count": 32,
     "metadata": {},
     "output_type": "execute_result"
    }
   ],
   "source": [
    "a[0:100:-1] #it will give empty but why?"
   ]
  },
  {
   "cell_type": "code",
   "execution_count": 33,
   "id": "cc6c0dd9",
   "metadata": {},
   "outputs": [
    {
     "data": {
      "text/plain": [
       "'\\nwhy that giving empty string\\n\\n'"
      ]
     },
     "execution_count": 33,
     "metadata": {},
     "output_type": "execute_result"
    }
   ],
   "source": [
    "# lets understand\n",
    "\"\"\"\n",
    "why that giving empty string\n",
    "\n",
    "\"\"\""
   ]
  },
  {
   "cell_type": "markdown",
   "id": "386d54a1",
   "metadata": {},
   "source": [
    "# Answer"
   ]
  },
  {
   "cell_type": "markdown",
   "id": "7943199f",
   "metadata": {},
   "source": [
    "start from 0 and ends with 100 ----------> its a forward direction \n",
    "\n",
    "but our jump is -1 \n",
    "\n",
    "-1 is a negative direction\n",
    "\n",
    "from 0 it will go through minus direction \n",
    "\n",
    "thats why we getting empty string as a answer"
   ]
  },
  {
   "cell_type": "code",
   "execution_count": 34,
   "id": "d976aec5",
   "metadata": {},
   "outputs": [
    {
     "data": {
      "text/plain": [
       "''"
      ]
     },
     "execution_count": 34,
     "metadata": {},
     "output_type": "execute_result"
    }
   ],
   "source": [
    "a[-1:-4]"
   ]
  },
  {
   "cell_type": "markdown",
   "id": "e02f1667",
   "metadata": {},
   "source": [
    "# Understanding:"
   ]
  },
  {
   "cell_type": "markdown",
   "id": "79ff410c",
   "metadata": {},
   "source": [
    "why we got empty string as a output"
   ]
  },
  {
   "cell_type": "markdown",
   "id": "c575cfb4",
   "metadata": {},
   "source": [
    "actually from -1 to -4 is a negative direction\n",
    "\n",
    "but there we didnt use any jump size, by default it took positive 1\n",
    "\n",
    "slicing range is negative but jump size is positive\n",
    "\n",
    "thats why we got empty string as a output"
   ]
  },
  {
   "cell_type": "code",
   "execution_count": 35,
   "id": "a4ba1741",
   "metadata": {},
   "outputs": [
    {
     "data": {
      "text/plain": [
       "'ram'"
      ]
     },
     "execution_count": 35,
     "metadata": {},
     "output_type": "execute_result"
    }
   ],
   "source": [
    "a[-1:-4:-1]"
   ]
  },
  {
   "cell_type": "code",
   "execution_count": 36,
   "id": "24a47983",
   "metadata": {},
   "outputs": [
    {
     "data": {
      "text/plain": [
       "''"
      ]
     },
     "execution_count": 36,
     "metadata": {},
     "output_type": "execute_result"
    }
   ],
   "source": [
    "a[-1:-4:1]"
   ]
  },
  {
   "cell_type": "code",
   "execution_count": 37,
   "id": "bd97bf03",
   "metadata": {
    "scrolled": true
   },
   "outputs": [
    {
     "data": {
      "text/plain": [
       "'k'"
      ]
     },
     "execution_count": 37,
     "metadata": {},
     "output_type": "execute_result"
    }
   ],
   "source": [
    "a[0:-10:-1]"
   ]
  },
  {
   "cell_type": "raw",
   "id": "d2d6d729",
   "metadata": {},
   "source": [
    "from 0 to -10 and try to travel through -1\n",
    "\n",
    "so\n",
    "\n",
    "1  2  3  4  5\n",
    "\n",
    "k  u  m  a  r\n",
    "\n",
    "-5-4 -3 -2 -1\n",
    "\n",
    "a[0:-10] will give empty string and our jump is -1 thats why we got only k"
   ]
  },
  {
   "cell_type": "code",
   "execution_count": 38,
   "id": "15f0b0aa",
   "metadata": {},
   "outputs": [
    {
     "data": {
      "text/plain": [
       "''"
      ]
     },
     "execution_count": 38,
     "metadata": {},
     "output_type": "execute_result"
    }
   ],
   "source": [
    "a[0:-10]"
   ]
  },
  {
   "cell_type": "code",
   "execution_count": 39,
   "id": "b8a4fd55",
   "metadata": {},
   "outputs": [
    {
     "data": {
      "text/plain": [
       "'ramuk'"
      ]
     },
     "execution_count": 39,
     "metadata": {},
     "output_type": "execute_result"
    }
   ],
   "source": [
    "a[-1:-300:-1]"
   ]
  },
  {
   "cell_type": "code",
   "execution_count": 40,
   "id": "625267dd",
   "metadata": {},
   "outputs": [
    {
     "data": {
      "text/plain": [
       "'this'"
      ]
     },
     "execution_count": 40,
     "metadata": {},
     "output_type": "execute_result"
    }
   ],
   "source": [
    "b[0:4]"
   ]
  },
  {
   "cell_type": "code",
   "execution_count": 41,
   "id": "158749f9",
   "metadata": {},
   "outputs": [
    {
     "data": {
      "text/plain": [
       "'age'"
      ]
     },
     "execution_count": 41,
     "metadata": {},
     "output_type": "execute_result"
    }
   ],
   "source": [
    "b[-3:300]"
   ]
  },
  {
   "cell_type": "code",
   "execution_count": 42,
   "id": "eb49853e",
   "metadata": {},
   "outputs": [
    {
     "data": {
      "text/plain": [
       "'e'"
      ]
     },
     "execution_count": 42,
     "metadata": {},
     "output_type": "execute_result"
    }
   ],
   "source": [
    "b[-1]"
   ]
  },
  {
   "cell_type": "code",
   "execution_count": 43,
   "id": "bb01bc82",
   "metadata": {},
   "outputs": [
    {
     "data": {
      "text/plain": [
       "'g'"
      ]
     },
     "execution_count": 43,
     "metadata": {},
     "output_type": "execute_result"
    }
   ],
   "source": [
    "b[-2]"
   ]
  },
  {
   "cell_type": "code",
   "execution_count": 44,
   "id": "bad3c5ae",
   "metadata": {},
   "outputs": [
    {
     "ename": "IndexError",
     "evalue": "string index out of range",
     "output_type": "error",
     "traceback": [
      "\u001b[1;31m---------------------------------------------------------------------------\u001b[0m",
      "\u001b[1;31mIndexError\u001b[0m                                Traceback (most recent call last)",
      "\u001b[1;32m~\\AppData\\Local\\Temp/ipykernel_17412/3371902095.py\u001b[0m in \u001b[0;36m<module>\u001b[1;34m\u001b[0m\n\u001b[1;32m----> 1\u001b[1;33m \u001b[0mb\u001b[0m\u001b[1;33m[\u001b[0m\u001b[1;33m-\u001b[0m\u001b[1;36m100\u001b[0m\u001b[1;33m]\u001b[0m\u001b[1;33m\u001b[0m\u001b[1;33m\u001b[0m\u001b[0m\n\u001b[0m",
      "\u001b[1;31mIndexError\u001b[0m: string index out of range"
     ]
    }
   ],
   "source": [
    "b[-100]"
   ]
  },
  {
   "cell_type": "code",
   "execution_count": 45,
   "id": "9eea3701",
   "metadata": {},
   "outputs": [
    {
     "data": {
      "text/plain": [
       "5"
      ]
     },
     "execution_count": 45,
     "metadata": {},
     "output_type": "execute_result"
    }
   ],
   "source": [
    "len(a)"
   ]
  },
  {
   "cell_type": "code",
   "execution_count": 46,
   "id": "7432bd9d",
   "metadata": {},
   "outputs": [
    {
     "data": {
      "text/plain": [
       "'ramuk'"
      ]
     },
     "execution_count": 46,
     "metadata": {},
     "output_type": "execute_result"
    }
   ],
   "source": [
    "a[::-1]"
   ]
  },
  {
   "cell_type": "code",
   "execution_count": 47,
   "id": "40a5d6d6",
   "metadata": {},
   "outputs": [
    {
     "data": {
      "text/plain": [
       "'kumar'"
      ]
     },
     "execution_count": 47,
     "metadata": {},
     "output_type": "execute_result"
    }
   ],
   "source": [
    "a[0:]"
   ]
  },
  {
   "cell_type": "code",
   "execution_count": 48,
   "id": "a634a001",
   "metadata": {},
   "outputs": [
    {
     "data": {
      "text/plain": [
       "'kumar'"
      ]
     },
     "execution_count": 48,
     "metadata": {},
     "output_type": "execute_result"
    }
   ],
   "source": [
    "a"
   ]
  },
  {
   "cell_type": "code",
   "execution_count": 49,
   "id": "1a73beb1",
   "metadata": {},
   "outputs": [
    {
     "data": {
      "text/plain": [
       "'kumar'"
      ]
     },
     "execution_count": 49,
     "metadata": {},
     "output_type": "execute_result"
    }
   ],
   "source": [
    "a[::] #here i didnt assign any starting point and end point (so start is zero and end is total size of string)"
   ]
  },
  {
   "cell_type": "code",
   "execution_count": 50,
   "id": "eda1c954",
   "metadata": {},
   "outputs": [
    {
     "data": {
      "text/plain": [
       "'kmr'"
      ]
     },
     "execution_count": 50,
     "metadata": {},
     "output_type": "execute_result"
    }
   ],
   "source": [
    "a[::2]"
   ]
  },
  {
   "cell_type": "code",
   "execution_count": 51,
   "id": "fc16af15",
   "metadata": {},
   "outputs": [
    {
     "data": {
      "text/plain": [
       "'kumar'"
      ]
     },
     "execution_count": 51,
     "metadata": {},
     "output_type": "execute_result"
    }
   ],
   "source": [
    "a[:]"
   ]
  },
  {
   "cell_type": "code",
   "execution_count": 52,
   "id": "731c74f1",
   "metadata": {},
   "outputs": [
    {
     "data": {
      "text/plain": [
       "'kumar'"
      ]
     },
     "execution_count": 52,
     "metadata": {},
     "output_type": "execute_result"
    }
   ],
   "source": [
    "a[:8]"
   ]
  },
  {
   "cell_type": "code",
   "execution_count": 53,
   "id": "ad2153c7",
   "metadata": {},
   "outputs": [
    {
     "data": {
      "text/plain": [
       "'ar'"
      ]
     },
     "execution_count": 53,
     "metadata": {},
     "output_type": "execute_result"
    }
   ],
   "source": [
    "a[-2:]"
   ]
  },
  {
   "cell_type": "code",
   "execution_count": 54,
   "id": "de29d468",
   "metadata": {},
   "outputs": [
    {
     "data": {
      "text/plain": [
       "'a'"
      ]
     },
     "execution_count": 54,
     "metadata": {},
     "output_type": "execute_result"
    }
   ],
   "source": [
    "a[-2:-1] #-2 to -1 is a positive side so it will print in positive way"
   ]
  },
  {
   "cell_type": "code",
   "execution_count": 55,
   "id": "6bfaf8ff",
   "metadata": {},
   "outputs": [
    {
     "data": {
      "text/plain": [
       "'kumar'"
      ]
     },
     "execution_count": 55,
     "metadata": {},
     "output_type": "execute_result"
    }
   ],
   "source": [
    "a"
   ]
  },
  {
   "cell_type": "code",
   "execution_count": 56,
   "id": "79f83520",
   "metadata": {},
   "outputs": [
    {
     "data": {
      "text/plain": [
       "'ramuk'"
      ]
     },
     "execution_count": 56,
     "metadata": {},
     "output_type": "execute_result"
    }
   ],
   "source": [
    "a[::-1] #here we didnt assume starting & ending point and -1 means it will print from -1"
   ]
  },
  {
   "cell_type": "code",
   "execution_count": 57,
   "id": "39379952",
   "metadata": {},
   "outputs": [
    {
     "data": {
      "text/plain": [
       "'rmk'"
      ]
     },
     "execution_count": 57,
     "metadata": {},
     "output_type": "execute_result"
    }
   ],
   "source": [
    "a[::-2] #jump 2 vachu irukom"
   ]
  },
  {
   "cell_type": "code",
   "execution_count": 58,
   "id": "3ec2b5db",
   "metadata": {},
   "outputs": [
    {
     "data": {
      "text/plain": [
       "'ramuk'"
      ]
     },
     "execution_count": 58,
     "metadata": {},
     "output_type": "execute_result"
    }
   ],
   "source": [
    "a[-1::-1]"
   ]
  },
  {
   "cell_type": "code",
   "execution_count": 59,
   "id": "50261447",
   "metadata": {},
   "outputs": [
    {
     "data": {
      "text/plain": [
       "'norueni htiw gnikrow ma i'"
      ]
     },
     "execution_count": 59,
     "metadata": {},
     "output_type": "execute_result"
    }
   ],
   "source": [
    "a = \"i am working with ineuron\"\n",
    "\n",
    "a[::-1]"
   ]
  },
  {
   "cell_type": "code",
   "execution_count": 60,
   "id": "14df56d4",
   "metadata": {},
   "outputs": [
    {
     "data": {
      "text/plain": [
       "'norueni htiw gnikrow ma i'"
      ]
     },
     "execution_count": 60,
     "metadata": {},
     "output_type": "execute_result"
    }
   ],
   "source": [
    "a[-1::-1]"
   ]
  },
  {
   "cell_type": "code",
   "execution_count": 61,
   "id": "34594968",
   "metadata": {},
   "outputs": [
    {
     "data": {
      "text/plain": [
       "'nreihi nko ai'"
      ]
     },
     "execution_count": 61,
     "metadata": {},
     "output_type": "execute_result"
    }
   ],
   "source": [
    "a[-1::-2]"
   ]
  },
  {
   "cell_type": "code",
   "execution_count": 62,
   "id": "ac255474",
   "metadata": {},
   "outputs": [
    {
     "data": {
      "text/plain": [
       "''"
      ]
     },
     "execution_count": 62,
     "metadata": {},
     "output_type": "execute_result"
    }
   ],
   "source": [
    "a[-5:5] #just draw a line scale and try to understand\n",
    "\n",
    "#-5 la irundhu 5 varaikum poganum\n",
    "#i oda index 0 and e oda index -5\n",
    "\n",
    "#apdina e la irundu i varaikum print aganum\n",
    "#but namma jump size edhuvume kudukala\n",
    "#so that default ah 1 jump vandhu positive that why it return empty as a output"
   ]
  },
  {
   "cell_type": "code",
   "execution_count": 63,
   "id": "e629c770",
   "metadata": {},
   "outputs": [
    {
     "data": {
      "text/plain": [
       "'eni htiw gnikro'"
      ]
     },
     "execution_count": 63,
     "metadata": {},
     "output_type": "execute_result"
    }
   ],
   "source": [
    "a[-5:5:-1] # here our jump also negative thats why we got a output"
   ]
  },
  {
   "cell_type": "code",
   "execution_count": 64,
   "id": "777d9bef",
   "metadata": {},
   "outputs": [
    {
     "data": {
      "text/plain": [
       "'orueni h'"
      ]
     },
     "execution_count": 64,
     "metadata": {},
     "output_type": "execute_result"
    }
   ],
   "source": [
    "a[-2:-10:-1]\n",
    "\n",
    "#i am working with ineuron"
   ]
  },
  {
   "cell_type": "code",
   "execution_count": 3,
   "id": "70180c28",
   "metadata": {},
   "outputs": [
    {
     "data": {
      "text/plain": [
       "''"
      ]
     },
     "execution_count": 3,
     "metadata": {},
     "output_type": "execute_result"
    }
   ],
   "source": [
    "a = \"i am working with ineuron\"\n",
    "\n",
    "a[-2:-10:1]"
   ]
  },
  {
   "cell_type": "code",
   "execution_count": 4,
   "id": "b6752af8",
   "metadata": {},
   "outputs": [
    {
     "data": {
      "text/plain": [
       "'ihta'"
      ]
     },
     "execution_count": 4,
     "metadata": {},
     "output_type": "execute_result"
    }
   ],
   "source": [
    "x = \"bharathi\"\n",
    "\n",
    "x[-1:-5:-1]"
   ]
  },
  {
   "cell_type": "code",
   "execution_count": 5,
   "id": "9c09c87e",
   "metadata": {},
   "outputs": [
    {
     "data": {
      "text/plain": [
       "''"
      ]
     },
     "execution_count": 5,
     "metadata": {},
     "output_type": "execute_result"
    }
   ],
   "source": [
    "x = \"bharathi\"\n",
    "\n",
    "x[-1:-5:1]"
   ]
  },
  {
   "cell_type": "code",
   "execution_count": 65,
   "id": "92738a8d",
   "metadata": {},
   "outputs": [
    {
     "data": {
      "text/plain": [
       "'oun '"
      ]
     },
     "execution_count": 65,
     "metadata": {},
     "output_type": "execute_result"
    }
   ],
   "source": [
    "a[-2:-10:-2]"
   ]
  },
  {
   "cell_type": "code",
   "execution_count": 66,
   "id": "76e7dbbd",
   "metadata": {},
   "outputs": [
    {
     "data": {
      "text/plain": [
       "'imoi tiun'"
      ]
     },
     "execution_count": 66,
     "metadata": {},
     "output_type": "execute_result"
    }
   ],
   "source": [
    "a[0:100:3]"
   ]
  },
  {
   "cell_type": "code",
   "execution_count": 67,
   "id": "e9476744",
   "metadata": {},
   "outputs": [
    {
     "data": {
      "text/plain": [
       "'sudhsudhsudh'"
      ]
     },
     "execution_count": 67,
     "metadata": {},
     "output_type": "execute_result"
    }
   ],
   "source": [
    "\"sudh\" * 3"
   ]
  },
  {
   "cell_type": "code",
   "execution_count": 68,
   "id": "e85c23e8",
   "metadata": {},
   "outputs": [
    {
     "data": {
      "text/plain": [
       "'sudhkumar'"
      ]
     },
     "execution_count": 68,
     "metadata": {},
     "output_type": "execute_result"
    }
   ],
   "source": [
    "\"sudh\" + \"kumar\" #concatenation"
   ]
  },
  {
   "cell_type": "code",
   "execution_count": 69,
   "id": "7ac2f45e",
   "metadata": {},
   "outputs": [
    {
     "data": {
      "text/plain": [
       "'i am working with ineuron'"
      ]
     },
     "execution_count": 69,
     "metadata": {},
     "output_type": "execute_result"
    }
   ],
   "source": [
    "a"
   ]
  },
  {
   "cell_type": "code",
   "execution_count": 70,
   "id": "f4146ed3",
   "metadata": {},
   "outputs": [
    {
     "data": {
      "text/plain": [
       "25"
      ]
     },
     "execution_count": 70,
     "metadata": {},
     "output_type": "execute_result"
    }
   ],
   "source": [
    "len(a)"
   ]
  },
  {
   "cell_type": "code",
   "execution_count": 71,
   "id": "21440443",
   "metadata": {},
   "outputs": [
    {
     "data": {
      "text/plain": [
       "'i am working with ineuron'"
      ]
     },
     "execution_count": 71,
     "metadata": {},
     "output_type": "execute_result"
    }
   ],
   "source": [
    "a"
   ]
  },
  {
   "cell_type": "markdown",
   "id": "ff1f7ccb",
   "metadata": {},
   "source": [
    "# Question :\n",
    "    \n",
    "    someone is asking me to find the particular character in indexes"
   ]
  },
  {
   "cell_type": "code",
   "execution_count": 72,
   "id": "8da86c7d",
   "metadata": {},
   "outputs": [
    {
     "data": {
      "text/plain": [
       "2"
      ]
     },
     "execution_count": 72,
     "metadata": {},
     "output_type": "execute_result"
    }
   ],
   "source": [
    "a.find(\"a\")"
   ]
  },
  {
   "cell_type": "code",
   "execution_count": 73,
   "id": "c798e4f6",
   "metadata": {},
   "outputs": [
    {
     "data": {
      "text/plain": [
       "19"
      ]
     },
     "execution_count": 73,
     "metadata": {},
     "output_type": "execute_result"
    }
   ],
   "source": [
    "a.find(\"neuron\")"
   ]
  },
  {
   "cell_type": "code",
   "execution_count": 74,
   "id": "d7ef9e16",
   "metadata": {},
   "outputs": [
    {
     "data": {
      "text/plain": [
       "0"
      ]
     },
     "execution_count": 74,
     "metadata": {},
     "output_type": "execute_result"
    }
   ],
   "source": [
    "a.find(\"i\") #i available in 4 different places but i it showing 1st places only"
   ]
  },
  {
   "cell_type": "code",
   "execution_count": 75,
   "id": "eeacbf28",
   "metadata": {},
   "outputs": [
    {
     "data": {
      "text/plain": [
       "-1"
      ]
     },
     "execution_count": 75,
     "metadata": {},
     "output_type": "execute_result"
    }
   ],
   "source": [
    "a.find(\"ia\") #if some character are not there then it will return -1"
   ]
  },
  {
   "cell_type": "code",
   "execution_count": 76,
   "id": "1b1cac1d",
   "metadata": {},
   "outputs": [
    {
     "data": {
      "text/plain": [
       "9"
      ]
     },
     "execution_count": 76,
     "metadata": {},
     "output_type": "execute_result"
    }
   ],
   "source": [
    "a.find(\"in\")"
   ]
  },
  {
   "cell_type": "code",
   "execution_count": 77,
   "id": "fc03ad16",
   "metadata": {},
   "outputs": [
    {
     "data": {
      "text/plain": [
       "4"
      ]
     },
     "execution_count": 77,
     "metadata": {},
     "output_type": "execute_result"
    }
   ],
   "source": [
    "a.count(\"i\")"
   ]
  },
  {
   "cell_type": "code",
   "execution_count": 78,
   "id": "2d35ee3f",
   "metadata": {},
   "outputs": [
    {
     "data": {
      "text/plain": [
       "0"
      ]
     },
     "execution_count": 78,
     "metadata": {},
     "output_type": "execute_result"
    }
   ],
   "source": [
    "a.count(\"x\")"
   ]
  },
  {
   "cell_type": "markdown",
   "id": "e9c409b9",
   "metadata": {},
   "source": [
    "# How to get separate value"
   ]
  },
  {
   "cell_type": "markdown",
   "id": "2fda44d8",
   "metadata": {},
   "source": [
    "# Split"
   ]
  },
  {
   "cell_type": "code",
   "execution_count": 79,
   "id": "6708c654",
   "metadata": {},
   "outputs": [
    {
     "data": {
      "text/plain": [
       "'i am working with ineuron'"
      ]
     },
     "execution_count": 79,
     "metadata": {},
     "output_type": "execute_result"
    }
   ],
   "source": [
    "a"
   ]
  },
  {
   "cell_type": "code",
   "execution_count": 80,
   "id": "385858dd",
   "metadata": {},
   "outputs": [
    {
     "data": {
      "text/plain": [
       "['i', 'am', 'working', 'with', 'ineuron']"
      ]
     },
     "execution_count": 80,
     "metadata": {},
     "output_type": "execute_result"
    }
   ],
   "source": [
    "a.split(\" \")"
   ]
  },
  {
   "cell_type": "code",
   "execution_count": 81,
   "id": "3bcfd0e4",
   "metadata": {},
   "outputs": [
    {
     "ename": "ValueError",
     "evalue": "empty separator",
     "output_type": "error",
     "traceback": [
      "\u001b[1;31m---------------------------------------------------------------------------\u001b[0m",
      "\u001b[1;31mValueError\u001b[0m                                Traceback (most recent call last)",
      "\u001b[1;32m~\\AppData\\Local\\Temp/ipykernel_17412/1184299007.py\u001b[0m in \u001b[0;36m<module>\u001b[1;34m\u001b[0m\n\u001b[1;32m----> 1\u001b[1;33m \u001b[0ma\u001b[0m\u001b[1;33m.\u001b[0m\u001b[0msplit\u001b[0m\u001b[1;33m(\u001b[0m\u001b[1;34m\"\"\u001b[0m\u001b[1;33m)\u001b[0m\u001b[1;33m\u001b[0m\u001b[1;33m\u001b[0m\u001b[0m\n\u001b[0m",
      "\u001b[1;31mValueError\u001b[0m: empty separator"
     ]
    }
   ],
   "source": [
    "a.split(\"\")"
   ]
  },
  {
   "cell_type": "code",
   "execution_count": 82,
   "id": "74a6539f",
   "metadata": {},
   "outputs": [
    {
     "data": {
      "text/plain": [
       "list"
      ]
     },
     "execution_count": 82,
     "metadata": {},
     "output_type": "execute_result"
    }
   ],
   "source": [
    "type(a.split())"
   ]
  },
  {
   "cell_type": "code",
   "execution_count": 83,
   "id": "a4dab3de",
   "metadata": {},
   "outputs": [],
   "source": [
    "l = a.split(\" \")"
   ]
  },
  {
   "cell_type": "code",
   "execution_count": 84,
   "id": "b9d83c21",
   "metadata": {},
   "outputs": [
    {
     "data": {
      "text/plain": [
       "['i', 'am', 'working', 'with', 'ineuron']"
      ]
     },
     "execution_count": 84,
     "metadata": {},
     "output_type": "execute_result"
    }
   ],
   "source": [
    "l"
   ]
  },
  {
   "cell_type": "code",
   "execution_count": 85,
   "id": "96653540",
   "metadata": {},
   "outputs": [
    {
     "data": {
      "text/plain": [
       "'working'"
      ]
     },
     "execution_count": 85,
     "metadata": {},
     "output_type": "execute_result"
    }
   ],
   "source": [
    "l[2]"
   ]
  },
  {
   "cell_type": "code",
   "execution_count": 86,
   "id": "4e478fff",
   "metadata": {},
   "outputs": [
    {
     "data": {
      "text/plain": [
       "'i'"
      ]
     },
     "execution_count": 86,
     "metadata": {},
     "output_type": "execute_result"
    }
   ],
   "source": [
    "l[0]"
   ]
  },
  {
   "cell_type": "code",
   "execution_count": 87,
   "id": "011bd78f",
   "metadata": {},
   "outputs": [
    {
     "data": {
      "text/plain": [
       "'am'"
      ]
     },
     "execution_count": 87,
     "metadata": {},
     "output_type": "execute_result"
    }
   ],
   "source": [
    "l[1]"
   ]
  },
  {
   "cell_type": "code",
   "execution_count": 88,
   "id": "90f47dda",
   "metadata": {},
   "outputs": [
    {
     "data": {
      "text/plain": [
       "['i am working with ineuron']"
      ]
     },
     "execution_count": 88,
     "metadata": {},
     "output_type": "execute_result"
    }
   ],
   "source": [
    "a.split(\"|\")"
   ]
  },
  {
   "cell_type": "code",
   "execution_count": 89,
   "id": "e24060ea",
   "metadata": {},
   "outputs": [
    {
     "data": {
      "text/plain": [
       "['i am ', 'orking ', 'ith ineuron']"
      ]
     },
     "execution_count": 89,
     "metadata": {},
     "output_type": "execute_result"
    }
   ],
   "source": [
    "a.split(\"w\")"
   ]
  },
  {
   "cell_type": "code",
   "execution_count": 90,
   "id": "60992ee3",
   "metadata": {},
   "outputs": [
    {
     "data": {
      "text/plain": [
       "3"
      ]
     },
     "execution_count": 90,
     "metadata": {},
     "output_type": "execute_result"
    }
   ],
   "source": [
    "len(a.split(\"w\"))"
   ]
  },
  {
   "cell_type": "code",
   "execution_count": 91,
   "id": "9c22e671",
   "metadata": {},
   "outputs": [
    {
     "data": {
      "text/plain": [
       "['i am ', 'rking with ineuron']"
      ]
     },
     "execution_count": 91,
     "metadata": {},
     "output_type": "execute_result"
    }
   ],
   "source": [
    "a.split(\"wo\")"
   ]
  },
  {
   "cell_type": "code",
   "execution_count": 92,
   "id": "74e1aa6e",
   "metadata": {},
   "outputs": [
    {
     "data": {
      "text/plain": [
       "2"
      ]
     },
     "execution_count": 92,
     "metadata": {},
     "output_type": "execute_result"
    }
   ],
   "source": [
    "len(a.split(\"wo\"))"
   ]
  },
  {
   "cell_type": "code",
   "execution_count": 93,
   "id": "053351df",
   "metadata": {},
   "outputs": [
    {
     "data": {
      "text/plain": [
       "'i am working with ineuron'"
      ]
     },
     "execution_count": 93,
     "metadata": {},
     "output_type": "execute_result"
    }
   ],
   "source": [
    "a"
   ]
  },
  {
   "cell_type": "code",
   "execution_count": 94,
   "id": "6bd9f138",
   "metadata": {},
   "outputs": [
    {
     "data": {
      "text/plain": [
       "'I AM WORKING WITH INEURON'"
      ]
     },
     "execution_count": 94,
     "metadata": {},
     "output_type": "execute_result"
    }
   ],
   "source": [
    "a.upper()"
   ]
  },
  {
   "cell_type": "code",
   "execution_count": 95,
   "id": "f4000ed5",
   "metadata": {},
   "outputs": [
    {
     "data": {
      "text/plain": [
       "'i am working with ineuron'"
      ]
     },
     "execution_count": 95,
     "metadata": {},
     "output_type": "execute_result"
    }
   ],
   "source": [
    "a.lower()"
   ]
  },
  {
   "cell_type": "code",
   "execution_count": 96,
   "id": "b921e7b3",
   "metadata": {},
   "outputs": [],
   "source": [
    "s = \"sUdh\""
   ]
  },
  {
   "cell_type": "code",
   "execution_count": 97,
   "id": "9f246bf3",
   "metadata": {},
   "outputs": [
    {
     "data": {
      "text/plain": [
       "'sUdh'"
      ]
     },
     "execution_count": 97,
     "metadata": {},
     "output_type": "execute_result"
    }
   ],
   "source": [
    "s"
   ]
  },
  {
   "cell_type": "markdown",
   "id": "ad214b60",
   "metadata": {},
   "source": [
    "# Swapcase"
   ]
  },
  {
   "cell_type": "code",
   "execution_count": 98,
   "id": "4278abf5",
   "metadata": {},
   "outputs": [
    {
     "data": {
      "text/plain": [
       "'SuDH'"
      ]
     },
     "execution_count": 98,
     "metadata": {},
     "output_type": "execute_result"
    }
   ],
   "source": [
    "s.swapcase() #lower case will swap into upper case, and also upper case into lower case"
   ]
  },
  {
   "cell_type": "markdown",
   "id": "e327f5b4",
   "metadata": {},
   "source": [
    "# Title"
   ]
  },
  {
   "cell_type": "code",
   "execution_count": 99,
   "id": "f7e5252b",
   "metadata": {},
   "outputs": [
    {
     "data": {
      "text/plain": [
       "'Sudh'"
      ]
     },
     "execution_count": 99,
     "metadata": {},
     "output_type": "execute_result"
    }
   ],
   "source": [
    "s.title() #first letter of every sentence in upper case and rest all are lower case"
   ]
  },
  {
   "cell_type": "code",
   "execution_count": 100,
   "id": "e03c44f6",
   "metadata": {},
   "outputs": [
    {
     "data": {
      "text/plain": [
       "'I Am Working With Ineuron'"
      ]
     },
     "execution_count": 100,
     "metadata": {},
     "output_type": "execute_result"
    }
   ],
   "source": [
    "a.title()"
   ]
  },
  {
   "cell_type": "markdown",
   "id": "7d14a32f",
   "metadata": {},
   "source": [
    "# Capitalize"
   ]
  },
  {
   "cell_type": "code",
   "execution_count": 101,
   "id": "47d47468",
   "metadata": {},
   "outputs": [
    {
     "data": {
      "text/plain": [
       "'Sudh'"
      ]
     },
     "execution_count": 101,
     "metadata": {},
     "output_type": "execute_result"
    }
   ],
   "source": [
    "s.capitalize() #only first letter is in capital rest of all are small"
   ]
  },
  {
   "cell_type": "code",
   "execution_count": 102,
   "id": "0553c943",
   "metadata": {},
   "outputs": [
    {
     "data": {
      "text/plain": [
       "'I am working with ineuron'"
      ]
     },
     "execution_count": 102,
     "metadata": {},
     "output_type": "execute_result"
    }
   ],
   "source": [
    "a.capitalize()"
   ]
  },
  {
   "cell_type": "code",
   "execution_count": 103,
   "id": "cc3e0366",
   "metadata": {},
   "outputs": [
    {
     "name": "stdout",
     "output_type": "stream",
     "text": [
      "SudhIneuron\n"
     ]
    }
   ],
   "source": [
    "b = \"sudh\"\n",
    "c = \"ineuron\"\n",
    "\n",
    "b = b.capitalize()\n",
    "c = c.capitalize()\n",
    "\n",
    "print(b+c)"
   ]
  },
  {
   "cell_type": "markdown",
   "id": "39251bb6",
   "metadata": {},
   "source": [
    "# Join"
   ]
  },
  {
   "cell_type": "code",
   "execution_count": 104,
   "id": "89d98120",
   "metadata": {},
   "outputs": [],
   "source": [
    "b = \"sudh\"\n",
    "c = \"ineuron\""
   ]
  },
  {
   "cell_type": "code",
   "execution_count": 105,
   "id": "f3960058",
   "metadata": {},
   "outputs": [
    {
     "data": {
      "text/plain": [
       "'isudhnsudhesudhusudhrsudhosudhn'"
      ]
     },
     "execution_count": 105,
     "metadata": {},
     "output_type": "execute_result"
    }
   ],
   "source": [
    "b.join(c) #join is not like a plus operator"
   ]
  },
  {
   "cell_type": "code",
   "execution_count": 106,
   "id": "44f2bd49",
   "metadata": {},
   "outputs": [
    {
     "data": {
      "text/plain": [
       "'s u d h'"
      ]
     },
     "execution_count": 106,
     "metadata": {},
     "output_type": "execute_result"
    }
   ],
   "source": [
    "\" \".join(\"sudh\")"
   ]
  },
  {
   "cell_type": "code",
   "execution_count": 107,
   "id": "c035595f",
   "metadata": {},
   "outputs": [
    {
     "data": {
      "text/plain": [
       "'h_o_l_i_d_a_y'"
      ]
     },
     "execution_count": 107,
     "metadata": {},
     "output_type": "execute_result"
    }
   ],
   "source": [
    "\"_\".join(\"holiday\")"
   ]
  },
  {
   "cell_type": "markdown",
   "id": "665a43f8",
   "metadata": {},
   "source": [
    "# Reversed"
   ]
  },
  {
   "cell_type": "code",
   "execution_count": 108,
   "id": "bc85b72c",
   "metadata": {},
   "outputs": [
    {
     "data": {
      "text/plain": [
       "<reversed at 0x2ab4e81b7c0>"
      ]
     },
     "execution_count": 108,
     "metadata": {},
     "output_type": "execute_result"
    }
   ],
   "source": [
    "reversed(\"sudh\")"
   ]
  },
  {
   "cell_type": "code",
   "execution_count": 109,
   "id": "46809aff",
   "metadata": {},
   "outputs": [
    {
     "name": "stdout",
     "output_type": "stream",
     "text": [
      "s\n",
      "u\n",
      "d\n",
      "h\n"
     ]
    }
   ],
   "source": [
    "for i in \"sudh\":\n",
    "    print(i)"
   ]
  },
  {
   "cell_type": "code",
   "execution_count": 110,
   "id": "dbc8fbde",
   "metadata": {},
   "outputs": [
    {
     "name": "stdout",
     "output_type": "stream",
     "text": [
      "h\n",
      "d\n",
      "u\n",
      "s\n"
     ]
    }
   ],
   "source": [
    "for i in reversed(\"sudh\"):\n",
    "    print(i)"
   ]
  },
  {
   "cell_type": "code",
   "execution_count": 111,
   "id": "8248e560",
   "metadata": {},
   "outputs": [
    {
     "data": {
      "text/plain": [
       "'hdus'"
      ]
     },
     "execution_count": 111,
     "metadata": {},
     "output_type": "execute_result"
    }
   ],
   "source": [
    "s = \"sudh\"\n",
    "s[::-1]"
   ]
  },
  {
   "cell_type": "markdown",
   "id": "1637315a",
   "metadata": {},
   "source": [
    "# In programming we can do same thing in a multiple way (he telling for above codes)"
   ]
  },
  {
   "cell_type": "markdown",
   "id": "7a242204",
   "metadata": {},
   "source": [
    "We saw about upper, lower, title, capitalize, swapcase and so on"
   ]
  },
  {
   "cell_type": "markdown",
   "id": "53243744",
   "metadata": {},
   "source": [
    "# Strip"
   ]
  },
  {
   "cell_type": "code",
   "execution_count": 112,
   "id": "5e296f7a",
   "metadata": {},
   "outputs": [
    {
     "data": {
      "text/plain": [
       "'sudh'"
      ]
     },
     "execution_count": 112,
     "metadata": {},
     "output_type": "execute_result"
    }
   ],
   "source": [
    "s = \" sudh \"\n",
    "\n",
    "s.strip()\n"
   ]
  },
  {
   "cell_type": "code",
   "execution_count": 113,
   "id": "9b84e15e",
   "metadata": {},
   "outputs": [
    {
     "data": {
      "text/plain": [
       "' sudh'"
      ]
     },
     "execution_count": 113,
     "metadata": {},
     "output_type": "execute_result"
    }
   ],
   "source": [
    "s.rstrip()"
   ]
  },
  {
   "cell_type": "code",
   "execution_count": 114,
   "id": "70fb29a2",
   "metadata": {},
   "outputs": [
    {
     "data": {
      "text/plain": [
       "'sudh '"
      ]
     },
     "execution_count": 114,
     "metadata": {},
     "output_type": "execute_result"
    }
   ],
   "source": [
    "s.lstrip()"
   ]
  },
  {
   "cell_type": "code",
   "execution_count": 115,
   "id": "b4a781e5",
   "metadata": {},
   "outputs": [
    {
     "data": {
      "text/plain": [
       "'indian are the best in the world'"
      ]
     },
     "execution_count": 115,
     "metadata": {},
     "output_type": "execute_result"
    }
   ],
   "source": [
    "b = \"         indian are the best in the world\"\n",
    "\n",
    "b.strip()"
   ]
  },
  {
   "cell_type": "code",
   "execution_count": 116,
   "id": "5835d46d",
   "metadata": {},
   "outputs": [
    {
     "data": {
      "text/plain": [
       "'         indian are the best in the world'"
      ]
     },
     "execution_count": 116,
     "metadata": {},
     "output_type": "execute_result"
    }
   ],
   "source": [
    "b.strip(\"are\")"
   ]
  },
  {
   "cell_type": "code",
   "execution_count": 117,
   "id": "1b34f82b",
   "metadata": {},
   "outputs": [],
   "source": [
    "# if we want to remove white spaces in between, we can not use strip, we can do using split and concat"
   ]
  },
  {
   "cell_type": "markdown",
   "id": "04c61620",
   "metadata": {},
   "source": [
    "# Replace"
   ]
  },
  {
   "cell_type": "code",
   "execution_count": 118,
   "id": "71153967",
   "metadata": {},
   "outputs": [],
   "source": [
    "s = \"sudh\""
   ]
  },
  {
   "cell_type": "code",
   "execution_count": 119,
   "id": "8e89b102",
   "metadata": {},
   "outputs": [
    {
     "data": {
      "text/plain": [
       "'sidh'"
      ]
     },
     "execution_count": 119,
     "metadata": {},
     "output_type": "execute_result"
    }
   ],
   "source": [
    "s.replace(\"u\", \"i\")"
   ]
  },
  {
   "cell_type": "code",
   "execution_count": 120,
   "id": "88f80810",
   "metadata": {},
   "outputs": [
    {
     "data": {
      "text/plain": [
       "'sxyzdh'"
      ]
     },
     "execution_count": 120,
     "metadata": {},
     "output_type": "execute_result"
    }
   ],
   "source": [
    "s.replace(\"u\", \"xyz\")"
   ]
  },
  {
   "cell_type": "code",
   "execution_count": 121,
   "id": "1e024fb4",
   "metadata": {},
   "outputs": [
    {
     "data": {
      "text/plain": [
       "'sxyzdh'"
      ]
     },
     "execution_count": 121,
     "metadata": {},
     "output_type": "execute_result"
    }
   ],
   "source": [
    "s.replace(\"u\", \"xyz\")"
   ]
  },
  {
   "cell_type": "code",
   "execution_count": 122,
   "id": "1a7f2b92",
   "metadata": {},
   "outputs": [
    {
     "data": {
      "text/plain": [
       "'sudh'"
      ]
     },
     "execution_count": 122,
     "metadata": {},
     "output_type": "execute_result"
    }
   ],
   "source": [
    "s.replace(\"t\", \"xyz\") #t is not available so it will not replace it"
   ]
  },
  {
   "cell_type": "markdown",
   "id": "067eb6e8",
   "metadata": {},
   "source": [
    "# Tabs"
   ]
  },
  {
   "cell_type": "code",
   "execution_count": 123,
   "id": "48cb4330",
   "metadata": {},
   "outputs": [
    {
     "data": {
      "text/plain": [
       "'sudh\\tkumar'"
      ]
     },
     "execution_count": 123,
     "metadata": {},
     "output_type": "execute_result"
    }
   ],
   "source": [
    "\"sudh\\tkumar\""
   ]
  },
  {
   "cell_type": "code",
   "execution_count": 124,
   "id": "fab4a17d",
   "metadata": {},
   "outputs": [
    {
     "data": {
      "text/plain": [
       "'sudh    kumar'"
      ]
     },
     "execution_count": 124,
     "metadata": {},
     "output_type": "execute_result"
    }
   ],
   "source": [
    "\"sudh\\tkumar\".expandtabs()"
   ]
  },
  {
   "cell_type": "markdown",
   "id": "c5af5cde",
   "metadata": {},
   "source": [
    "# Center"
   ]
  },
  {
   "cell_type": "code",
   "execution_count": 125,
   "id": "4f36b272",
   "metadata": {},
   "outputs": [],
   "source": [
    "s = \"sudh\" #this center function will not useful at all"
   ]
  },
  {
   "cell_type": "code",
   "execution_count": 126,
   "id": "a15527dc",
   "metadata": {},
   "outputs": [
    {
     "data": {
      "text/plain": [
       "'ttttttttttttttttttsudhtttttttttttttttttt'"
      ]
     },
     "execution_count": 126,
     "metadata": {},
     "output_type": "execute_result"
    }
   ],
   "source": [
    "s.center(40, 't')"
   ]
  },
  {
   "cell_type": "code",
   "execution_count": 127,
   "id": "bff3b2ef",
   "metadata": {},
   "outputs": [
    {
     "data": {
      "text/plain": [
       "'******************sudh******************'"
      ]
     },
     "execution_count": 127,
     "metadata": {},
     "output_type": "execute_result"
    }
   ],
   "source": [
    "s.center(40, '*')"
   ]
  },
  {
   "cell_type": "code",
   "execution_count": 128,
   "id": "71ba791f",
   "metadata": {},
   "outputs": [
    {
     "data": {
      "text/plain": [
       "'##################sudh##################'"
      ]
     },
     "execution_count": 128,
     "metadata": {},
     "output_type": "execute_result"
    }
   ],
   "source": [
    "s.center(40, '#')"
   ]
  },
  {
   "cell_type": "code",
   "execution_count": 129,
   "id": "5c447ea4",
   "metadata": {},
   "outputs": [
    {
     "data": {
      "text/plain": [
       "'                  sudh                  '"
      ]
     },
     "execution_count": 129,
     "metadata": {},
     "output_type": "execute_result"
    }
   ],
   "source": [
    "s.center(40, ' ')"
   ]
  },
  {
   "cell_type": "code",
   "execution_count": 130,
   "id": "2d6e4a16",
   "metadata": {},
   "outputs": [
    {
     "data": {
      "text/plain": [
       "'__________________sudh__________________'"
      ]
     },
     "execution_count": 130,
     "metadata": {},
     "output_type": "execute_result"
    }
   ],
   "source": [
    "s.center(40, '_')"
   ]
  },
  {
   "cell_type": "code",
   "execution_count": 131,
   "id": "8f1892bf",
   "metadata": {},
   "outputs": [
    {
     "data": {
      "text/plain": [
       "'------------------sudh------------------'"
      ]
     },
     "execution_count": 131,
     "metadata": {},
     "output_type": "execute_result"
    }
   ],
   "source": [
    "s.center(40, '-')"
   ]
  },
  {
   "cell_type": "markdown",
   "id": "5e7756d5",
   "metadata": {},
   "source": [
    "# Is"
   ]
  },
  {
   "cell_type": "code",
   "execution_count": 132,
   "id": "5ef05135",
   "metadata": {},
   "outputs": [],
   "source": [
    "s = \"sudh\""
   ]
  },
  {
   "cell_type": "code",
   "execution_count": 133,
   "id": "4b348999",
   "metadata": {},
   "outputs": [
    {
     "data": {
      "text/plain": [
       "True"
      ]
     },
     "execution_count": 133,
     "metadata": {},
     "output_type": "execute_result"
    }
   ],
   "source": [
    "s.isalnum()"
   ]
  },
  {
   "cell_type": "code",
   "execution_count": 134,
   "id": "bd856a16",
   "metadata": {},
   "outputs": [
    {
     "data": {
      "text/plain": [
       "True"
      ]
     },
     "execution_count": 134,
     "metadata": {},
     "output_type": "execute_result"
    }
   ],
   "source": [
    "s.isalpha()"
   ]
  },
  {
   "cell_type": "code",
   "execution_count": 135,
   "id": "ee631764",
   "metadata": {},
   "outputs": [
    {
     "data": {
      "text/plain": [
       "False"
      ]
     },
     "execution_count": 135,
     "metadata": {},
     "output_type": "execute_result"
    }
   ],
   "source": [
    "s.isupper()"
   ]
  },
  {
   "cell_type": "code",
   "execution_count": 136,
   "id": "823bb009",
   "metadata": {},
   "outputs": [
    {
     "data": {
      "text/plain": [
       "True"
      ]
     },
     "execution_count": 136,
     "metadata": {},
     "output_type": "execute_result"
    }
   ],
   "source": [
    "s.islower()"
   ]
  },
  {
   "cell_type": "code",
   "execution_count": 137,
   "id": "3e994b60",
   "metadata": {},
   "outputs": [],
   "source": [
    "s = \"SUDH\""
   ]
  },
  {
   "cell_type": "code",
   "execution_count": 138,
   "id": "a3f80bcf",
   "metadata": {},
   "outputs": [
    {
     "data": {
      "text/plain": [
       "True"
      ]
     },
     "execution_count": 138,
     "metadata": {},
     "output_type": "execute_result"
    }
   ],
   "source": [
    "s.isupper()"
   ]
  },
  {
   "cell_type": "code",
   "execution_count": 139,
   "id": "db8ee4d1",
   "metadata": {},
   "outputs": [
    {
     "data": {
      "text/plain": [
       "False"
      ]
     },
     "execution_count": 139,
     "metadata": {},
     "output_type": "execute_result"
    }
   ],
   "source": [
    "s.islower()"
   ]
  },
  {
   "cell_type": "code",
   "execution_count": 140,
   "id": "a227dcbc",
   "metadata": {},
   "outputs": [
    {
     "data": {
      "text/plain": [
       "False"
      ]
     },
     "execution_count": 140,
     "metadata": {},
     "output_type": "execute_result"
    }
   ],
   "source": [
    "s.isspace()"
   ]
  },
  {
   "cell_type": "code",
   "execution_count": 141,
   "id": "aa1c4eb9",
   "metadata": {},
   "outputs": [],
   "source": [
    "s = \"Sudh\""
   ]
  },
  {
   "cell_type": "code",
   "execution_count": 142,
   "id": "53cb2e2d",
   "metadata": {},
   "outputs": [
    {
     "data": {
      "text/plain": [
       "True"
      ]
     },
     "execution_count": 142,
     "metadata": {},
     "output_type": "execute_result"
    }
   ],
   "source": [
    "s.istitle()"
   ]
  },
  {
   "cell_type": "code",
   "execution_count": 143,
   "id": "6665ef3a",
   "metadata": {},
   "outputs": [
    {
     "data": {
      "text/plain": [
       "False"
      ]
     },
     "execution_count": 143,
     "metadata": {},
     "output_type": "execute_result"
    }
   ],
   "source": [
    "s = \"Sudh Kumar\"\n",
    "\n",
    "s.isspace() #again false why it means"
   ]
  },
  {
   "cell_type": "code",
   "execution_count": 144,
   "id": "8548e7b1",
   "metadata": {},
   "outputs": [
    {
     "data": {
      "text/plain": [
       "True"
      ]
     },
     "execution_count": 144,
     "metadata": {},
     "output_type": "execute_result"
    }
   ],
   "source": [
    "s = \"          \"\n",
    "\n",
    "s.isspace() #it will return if variable have only spaces"
   ]
  },
  {
   "cell_type": "markdown",
   "id": "b817dc55",
   "metadata": {},
   "source": [
    "# Digit"
   ]
  },
  {
   "cell_type": "code",
   "execution_count": 145,
   "id": "ecf195be",
   "metadata": {},
   "outputs": [
    {
     "data": {
      "text/plain": [
       "False"
      ]
     },
     "execution_count": 145,
     "metadata": {},
     "output_type": "execute_result"
    }
   ],
   "source": [
    "s = \"sudh\"\n",
    "\n",
    "s.isdigit()"
   ]
  },
  {
   "cell_type": "code",
   "execution_count": 146,
   "id": "6520dfa6",
   "metadata": {},
   "outputs": [
    {
     "data": {
      "text/plain": [
       "False"
      ]
     },
     "execution_count": 146,
     "metadata": {},
     "output_type": "execute_result"
    }
   ],
   "source": [
    "s=\"sudh151616\"\n",
    "\n",
    "s.isdigit()"
   ]
  },
  {
   "cell_type": "code",
   "execution_count": 147,
   "id": "ef343439",
   "metadata": {},
   "outputs": [
    {
     "data": {
      "text/plain": [
       "True"
      ]
     },
     "execution_count": 147,
     "metadata": {},
     "output_type": "execute_result"
    }
   ],
   "source": [
    "s = \"00156165\"\n",
    "\n",
    "s.isdigit()"
   ]
  },
  {
   "cell_type": "code",
   "execution_count": 148,
   "id": "4d6d72a8",
   "metadata": {},
   "outputs": [
    {
     "ename": "AttributeError",
     "evalue": "'int' object has no attribute 'isdigit'",
     "output_type": "error",
     "traceback": [
      "\u001b[1;31m---------------------------------------------------------------------------\u001b[0m",
      "\u001b[1;31mAttributeError\u001b[0m                            Traceback (most recent call last)",
      "\u001b[1;32m~\\AppData\\Local\\Temp/ipykernel_17412/732821090.py\u001b[0m in \u001b[0;36m<module>\u001b[1;34m\u001b[0m\n\u001b[0;32m      1\u001b[0m \u001b[0ms\u001b[0m \u001b[1;33m=\u001b[0m \u001b[1;36m156165\u001b[0m\u001b[1;33m\u001b[0m\u001b[1;33m\u001b[0m\u001b[0m\n\u001b[0;32m      2\u001b[0m \u001b[1;33m\u001b[0m\u001b[0m\n\u001b[1;32m----> 3\u001b[1;33m \u001b[0ms\u001b[0m\u001b[1;33m.\u001b[0m\u001b[0misdigit\u001b[0m\u001b[1;33m(\u001b[0m\u001b[1;33m)\u001b[0m\u001b[1;33m\u001b[0m\u001b[1;33m\u001b[0m\u001b[0m\n\u001b[0m",
      "\u001b[1;31mAttributeError\u001b[0m: 'int' object has no attribute 'isdigit'"
     ]
    }
   ],
   "source": [
    "s = 156165\n",
    "\n",
    "s.isdigit()"
   ]
  },
  {
   "cell_type": "code",
   "execution_count": 149,
   "id": "8d8c95a3",
   "metadata": {},
   "outputs": [
    {
     "ename": "SyntaxError",
     "evalue": "leading zeros in decimal integer literals are not permitted; use an 0o prefix for octal integers (Temp/ipykernel_17412/2841861605.py, line 1)",
     "output_type": "error",
     "traceback": [
      "\u001b[1;36m  File \u001b[1;32m\"C:\\Users\\msant\\AppData\\Local\\Temp/ipykernel_17412/2841861605.py\"\u001b[1;36m, line \u001b[1;32m1\u001b[0m\n\u001b[1;33m    s = 00156165\u001b[0m\n\u001b[1;37m               ^\u001b[0m\n\u001b[1;31mSyntaxError\u001b[0m\u001b[1;31m:\u001b[0m leading zeros in decimal integer literals are not permitted; use an 0o prefix for octal integers\n"
     ]
    }
   ],
   "source": [
    "s = 00156165\n",
    "\n",
    "s.isdigit()"
   ]
  },
  {
   "cell_type": "markdown",
   "id": "39a2707a",
   "metadata": {},
   "source": [
    "# Endswith"
   ]
  },
  {
   "cell_type": "code",
   "execution_count": 150,
   "id": "3ef4ebe2",
   "metadata": {},
   "outputs": [
    {
     "data": {
      "text/plain": [
       "True"
      ]
     },
     "execution_count": 150,
     "metadata": {},
     "output_type": "execute_result"
    }
   ],
   "source": [
    "s = \"sudh\"\n",
    "\n",
    "s.endswith(\"h\")"
   ]
  },
  {
   "cell_type": "code",
   "execution_count": 151,
   "id": "e92d3e8e",
   "metadata": {},
   "outputs": [
    {
     "data": {
      "text/plain": [
       "False"
      ]
     },
     "execution_count": 151,
     "metadata": {},
     "output_type": "execute_result"
    }
   ],
   "source": [
    "s = \"sudh\"\n",
    "\n",
    "s.endswith(\"xx\")"
   ]
  },
  {
   "cell_type": "code",
   "execution_count": 152,
   "id": "624ad1bd",
   "metadata": {},
   "outputs": [
    {
     "data": {
      "text/plain": [
       "True"
      ]
     },
     "execution_count": 152,
     "metadata": {},
     "output_type": "execute_result"
    }
   ],
   "source": [
    "s = \"123\"\n",
    "\n",
    "s.endswith(\"3\")"
   ]
  },
  {
   "cell_type": "code",
   "execution_count": 153,
   "id": "5032bc8d",
   "metadata": {},
   "outputs": [
    {
     "data": {
      "text/plain": [
       "False"
      ]
     },
     "execution_count": 153,
     "metadata": {},
     "output_type": "execute_result"
    }
   ],
   "source": [
    "s = \"123\"\n",
    "\n",
    "s.endswith(\"0\")"
   ]
  },
  {
   "cell_type": "markdown",
   "id": "c0c8b47b",
   "metadata": {},
   "source": [
    "# Startswith"
   ]
  },
  {
   "cell_type": "code",
   "execution_count": 154,
   "id": "a6bb42c1",
   "metadata": {},
   "outputs": [
    {
     "data": {
      "text/plain": [
       "False"
      ]
     },
     "execution_count": 154,
     "metadata": {},
     "output_type": "execute_result"
    }
   ],
   "source": [
    "s.startswith(\"s\")"
   ]
  },
  {
   "cell_type": "code",
   "execution_count": 155,
   "id": "85a508be",
   "metadata": {},
   "outputs": [
    {
     "data": {
      "text/plain": [
       "False"
      ]
     },
     "execution_count": 155,
     "metadata": {},
     "output_type": "execute_result"
    }
   ],
   "source": [
    "s.startswith(\"su\")"
   ]
  },
  {
   "cell_type": "code",
   "execution_count": 156,
   "id": "29f84507",
   "metadata": {},
   "outputs": [
    {
     "data": {
      "text/plain": [
       "False"
      ]
     },
     "execution_count": 156,
     "metadata": {},
     "output_type": "execute_result"
    }
   ],
   "source": [
    "s.startswith(\"u\")"
   ]
  },
  {
   "cell_type": "markdown",
   "id": "b92be4d1",
   "metadata": {},
   "source": [
    "# Title"
   ]
  },
  {
   "cell_type": "code",
   "execution_count": 157,
   "id": "584f68f6",
   "metadata": {},
   "outputs": [
    {
     "data": {
      "text/plain": [
       "False"
      ]
     },
     "execution_count": 157,
     "metadata": {},
     "output_type": "execute_result"
    }
   ],
   "source": [
    "s.istitle() #it will return false because title means first character in capital"
   ]
  },
  {
   "cell_type": "markdown",
   "id": "ca659adf",
   "metadata": {},
   "source": [
    "# Encode"
   ]
  },
  {
   "cell_type": "code",
   "execution_count": 158,
   "id": "82415f14",
   "metadata": {},
   "outputs": [
    {
     "ename": "SyntaxError",
     "evalue": "invalid syntax (Temp/ipykernel_17412/2469387600.py, line 1)",
     "output_type": "error",
     "traceback": [
      "\u001b[1;36m  File \u001b[1;32m\"C:\\Users\\msant\\AppData\\Local\\Temp/ipykernel_17412/2469387600.py\"\u001b[1;36m, line \u001b[1;32m1\u001b[0m\n\u001b[1;33m    encode means\u001b[0m\n\u001b[1;37m           ^\u001b[0m\n\u001b[1;31mSyntaxError\u001b[0m\u001b[1;31m:\u001b[0m invalid syntax\n"
     ]
    }
   ],
   "source": [
    "encode means\n",
    "\n",
    "whenever\n",
    "\n",
    "ex. if we write english character it available in utf-8 \n",
    "\n",
    "utf-8 nothing but english encoding (that means english representation for system)\n",
    "\n",
    "#shift jis is the encoding of chinese character\n"
   ]
  },
  {
   "cell_type": "code",
   "execution_count": 159,
   "id": "3e30910b",
   "metadata": {},
   "outputs": [
    {
     "data": {
      "text/plain": [
       "b'123'"
      ]
     },
     "execution_count": 159,
     "metadata": {},
     "output_type": "execute_result"
    }
   ],
   "source": [
    "s.encode() #in output means beggining (just press shift+tab)"
   ]
  },
  {
   "cell_type": "markdown",
   "id": "2ae2c1fc",
   "metadata": {},
   "source": [
    "# List"
   ]
  },
  {
   "cell_type": "markdown",
   "id": "70fac5bc",
   "metadata": {},
   "source": [
    "what is list ?\n",
    "\n",
    "list is nothing but a collection of multiple objects (hetrogeneous or homogeneous data).  that is called as a string"
   ]
  },
  {
   "cell_type": "code",
   "execution_count": 160,
   "id": "189e787a",
   "metadata": {},
   "outputs": [],
   "source": [
    "s = \"sfa asdfaef afdaeaw asdfasdf dfasf \""
   ]
  },
  {
   "cell_type": "code",
   "execution_count": 161,
   "id": "cef2bb25",
   "metadata": {},
   "outputs": [
    {
     "data": {
      "text/plain": [
       "'sfa asdfaef afdaeaw asdfasdf dfasf '"
      ]
     },
     "execution_count": 161,
     "metadata": {},
     "output_type": "execute_result"
    }
   ],
   "source": [
    "s"
   ]
  },
  {
   "cell_type": "code",
   "execution_count": 162,
   "id": "27b2d840",
   "metadata": {},
   "outputs": [],
   "source": [
    "l = [\"sudh\", \"kumar\", 22/12/1999, \"male\"] #system will understand, yes youre able to do a collection"
   ]
  },
  {
   "cell_type": "code",
   "execution_count": 163,
   "id": "69234c3c",
   "metadata": {},
   "outputs": [
    {
     "data": {
      "text/plain": [
       "['sudh', 'kumar', 0.0009171252292813072, 'male']"
      ]
     },
     "execution_count": 163,
     "metadata": {},
     "output_type": "execute_result"
    }
   ],
   "source": [
    "l"
   ]
  },
  {
   "cell_type": "code",
   "execution_count": 164,
   "id": "7fadf876",
   "metadata": {},
   "outputs": [
    {
     "data": {
      "text/plain": [
       "str"
      ]
     },
     "execution_count": 164,
     "metadata": {},
     "output_type": "execute_result"
    }
   ],
   "source": [
    "type(s)"
   ]
  },
  {
   "cell_type": "code",
   "execution_count": 165,
   "id": "102c59f0",
   "metadata": {},
   "outputs": [
    {
     "data": {
      "text/plain": [
       "list"
      ]
     },
     "execution_count": 165,
     "metadata": {},
     "output_type": "execute_result"
    }
   ],
   "source": [
    "type(l)"
   ]
  },
  {
   "cell_type": "code",
   "execution_count": 166,
   "id": "c12d5153",
   "metadata": {},
   "outputs": [
    {
     "data": {
      "text/plain": [
       "'sudh'"
      ]
     },
     "execution_count": 166,
     "metadata": {},
     "output_type": "execute_result"
    }
   ],
   "source": [
    "l[0]"
   ]
  },
  {
   "cell_type": "code",
   "execution_count": 167,
   "id": "e088f8c4",
   "metadata": {},
   "outputs": [
    {
     "data": {
      "text/plain": [
       "'male'"
      ]
     },
     "execution_count": 167,
     "metadata": {},
     "output_type": "execute_result"
    }
   ],
   "source": [
    "l[-1]"
   ]
  },
  {
   "cell_type": "code",
   "execution_count": 168,
   "id": "4a1cd34f",
   "metadata": {},
   "outputs": [
    {
     "data": {
      "text/plain": [
       "['sudh', 'kumar', 0.0009171252292813072, 'male']"
      ]
     },
     "execution_count": 168,
     "metadata": {},
     "output_type": "execute_result"
    }
   ],
   "source": [
    "l[0:4]"
   ]
  },
  {
   "cell_type": "code",
   "execution_count": 169,
   "id": "3f5906f2",
   "metadata": {},
   "outputs": [
    {
     "data": {
      "text/plain": [
       "['male', 0.0009171252292813072, 'kumar', 'sudh']"
      ]
     },
     "execution_count": 169,
     "metadata": {},
     "output_type": "execute_result"
    }
   ],
   "source": [
    "l[::-1]"
   ]
  },
  {
   "cell_type": "code",
   "execution_count": 170,
   "id": "a821e515",
   "metadata": {},
   "outputs": [
    {
     "data": {
      "text/plain": [
       "['male']"
      ]
     },
     "execution_count": 170,
     "metadata": {},
     "output_type": "execute_result"
    }
   ],
   "source": [
    "l[-1:6]  #-1 last la irundhu 6 varaikum poganum (andha scale ah draw pannitu) -1 la last la irundhu 6 index ku pona just one dhan irukum"
   ]
  },
  {
   "cell_type": "markdown",
   "id": "705242e5",
   "metadata": {},
   "source": [
    "# how to extract u in sudh in the above list"
   ]
  },
  {
   "cell_type": "code",
   "execution_count": 171,
   "id": "f3cc7c97",
   "metadata": {},
   "outputs": [
    {
     "data": {
      "text/plain": [
       "'u'"
      ]
     },
     "execution_count": 171,
     "metadata": {},
     "output_type": "execute_result"
    }
   ],
   "source": [
    "l[1][1]"
   ]
  },
  {
   "cell_type": "code",
   "execution_count": 172,
   "id": "7badc8fc",
   "metadata": {},
   "outputs": [
    {
     "data": {
      "text/plain": [
       "float"
      ]
     },
     "execution_count": 172,
     "metadata": {},
     "output_type": "execute_result"
    }
   ],
   "source": [
    "type(l[2])"
   ]
  },
  {
   "cell_type": "code",
   "execution_count": 173,
   "id": "44df63be",
   "metadata": {},
   "outputs": [],
   "source": [
    "l1 = [\"sudh\", \"kumar\", 4356]\n",
    "l2 = [\"xyz\", \"pqr\", 546.567]"
   ]
  },
  {
   "cell_type": "code",
   "execution_count": 174,
   "id": "b945af7f",
   "metadata": {},
   "outputs": [
    {
     "data": {
      "text/plain": [
       "['sudh', 'kumar', 4356, 'xyz', 'pqr', 546.567]"
      ]
     },
     "execution_count": 174,
     "metadata": {},
     "output_type": "execute_result"
    }
   ],
   "source": [
    "l1+l2 #it willgoing to work because both l1 and l2 data type are same"
   ]
  },
  {
   "cell_type": "code",
   "execution_count": 175,
   "id": "5db5d4b1",
   "metadata": {},
   "outputs": [
    {
     "ename": "TypeError",
     "evalue": "can only concatenate list (not \"str\") to list",
     "output_type": "error",
     "traceback": [
      "\u001b[1;31m---------------------------------------------------------------------------\u001b[0m",
      "\u001b[1;31mTypeError\u001b[0m                                 Traceback (most recent call last)",
      "\u001b[1;32m~\\AppData\\Local\\Temp/ipykernel_17412/993699670.py\u001b[0m in \u001b[0;36m<module>\u001b[1;34m\u001b[0m\n\u001b[1;32m----> 1\u001b[1;33m \u001b[0ml1\u001b[0m \u001b[1;33m+\u001b[0m \u001b[1;34m\"sudh\"\u001b[0m \u001b[1;31m#it will not going to work because l1 have a different data type and \"sudh\" having a different data type\u001b[0m\u001b[1;33m\u001b[0m\u001b[1;33m\u001b[0m\u001b[0m\n\u001b[0m",
      "\u001b[1;31mTypeError\u001b[0m: can only concatenate list (not \"str\") to list"
     ]
    }
   ],
   "source": [
    "l1 + \"sudh\" #it will not going to work because l1 have a different data type and \"sudh\" having a different data type"
   ]
  },
  {
   "cell_type": "code",
   "execution_count": 176,
   "id": "1d1134d6",
   "metadata": {},
   "outputs": [
    {
     "data": {
      "text/plain": [
       "['sudh', 'kumar', 4356, 's', 'u', 'd', 'h']"
      ]
     },
     "execution_count": 176,
     "metadata": {},
     "output_type": "execute_result"
    }
   ],
   "source": [
    "l1 + list(\"sudh\")"
   ]
  },
  {
   "cell_type": "code",
   "execution_count": 177,
   "id": "22dbcf7c",
   "metadata": {},
   "outputs": [
    {
     "data": {
      "text/plain": [
       "['sudh', 'kumar', 4356, 'sudh']"
      ]
     },
     "execution_count": 177,
     "metadata": {},
     "output_type": "execute_result"
    }
   ],
   "source": [
    "x = list()\n",
    "\n",
    "x.append(\"sudh\")\n",
    "\n",
    "l1 + x"
   ]
  },
  {
   "cell_type": "code",
   "execution_count": 178,
   "id": "a67b6f48",
   "metadata": {},
   "outputs": [
    {
     "data": {
      "text/plain": [
       "['sudh', 'kumar', 4356, 'sidhhi']"
      ]
     },
     "execution_count": 178,
     "metadata": {},
     "output_type": "execute_result"
    }
   ],
   "source": [
    "l1 + [\"sidhhi\"]"
   ]
  },
  {
   "cell_type": "code",
   "execution_count": 179,
   "id": "36ddc787",
   "metadata": {},
   "outputs": [
    {
     "data": {
      "text/plain": [
       "['sudh',\n",
       " 'kumar',\n",
       " 4356,\n",
       " 'sudh',\n",
       " 'kumar',\n",
       " 4356,\n",
       " 'sudh',\n",
       " 'kumar',\n",
       " 4356,\n",
       " 'sudh',\n",
       " 'kumar',\n",
       " 4356]"
      ]
     },
     "execution_count": 179,
     "metadata": {},
     "output_type": "execute_result"
    }
   ],
   "source": [
    "l1*4 #dont care about why its vertical just multiply by 2 it will be horizontal"
   ]
  },
  {
   "cell_type": "code",
   "execution_count": 180,
   "id": "7dd4d713",
   "metadata": {},
   "outputs": [
    {
     "data": {
      "text/plain": [
       "['sudh', 'kumar', 4356, 'sudh', 'kumar', 4356]"
      ]
     },
     "execution_count": 180,
     "metadata": {},
     "output_type": "execute_result"
    }
   ],
   "source": [
    "l1*2"
   ]
  },
  {
   "cell_type": "code",
   "execution_count": 181,
   "id": "2e109f6f",
   "metadata": {},
   "outputs": [
    {
     "data": {
      "text/plain": [
       "['sudh', 'kumar', 4356, 'sudh', 'kumar', 4356, 'sudh', 'kumar', 4356]"
      ]
     },
     "execution_count": 181,
     "metadata": {},
     "output_type": "execute_result"
    }
   ],
   "source": [
    "l1*3"
   ]
  },
  {
   "cell_type": "code",
   "execution_count": 182,
   "id": "f05010de",
   "metadata": {},
   "outputs": [
    {
     "data": {
      "text/plain": [
       "['sudh', 'kumar', 4356]"
      ]
     },
     "execution_count": 182,
     "metadata": {},
     "output_type": "execute_result"
    }
   ],
   "source": [
    "l1"
   ]
  },
  {
   "cell_type": "markdown",
   "id": "5fe5992b",
   "metadata": {},
   "source": [
    "# how to replace \"sudh\" by your name"
   ]
  },
  {
   "cell_type": "code",
   "execution_count": 183,
   "id": "333a1237",
   "metadata": {},
   "outputs": [
    {
     "data": {
      "text/plain": [
       "['sudh', 'kumar', 4356]"
      ]
     },
     "execution_count": 183,
     "metadata": {},
     "output_type": "execute_result"
    }
   ],
   "source": [
    "l1"
   ]
  },
  {
   "cell_type": "code",
   "execution_count": 184,
   "id": "d7c186dd",
   "metadata": {},
   "outputs": [],
   "source": [
    "l1[0] = \"santhosh\""
   ]
  },
  {
   "cell_type": "code",
   "execution_count": 185,
   "id": "4d118b20",
   "metadata": {},
   "outputs": [
    {
     "data": {
      "text/plain": [
       "['santhosh', 'kumar', 4356]"
      ]
     },
     "execution_count": 185,
     "metadata": {},
     "output_type": "execute_result"
    }
   ],
   "source": [
    "l1"
   ]
  },
  {
   "cell_type": "markdown",
   "id": "3b9a907d",
   "metadata": {},
   "source": [
    "# how to access that kumar and try try to replace k with s "
   ]
  },
  {
   "cell_type": "code",
   "execution_count": 186,
   "id": "3fdb5d9e",
   "metadata": {},
   "outputs": [],
   "source": [
    "l1 = ['santhosh', 'kumar', 4356]"
   ]
  },
  {
   "cell_type": "code",
   "execution_count": 187,
   "id": "4b6cce2d",
   "metadata": {},
   "outputs": [
    {
     "data": {
      "text/plain": [
       "['santhosh', 'kumar', 4356]"
      ]
     },
     "execution_count": 187,
     "metadata": {},
     "output_type": "execute_result"
    }
   ],
   "source": [
    "l1"
   ]
  },
  {
   "cell_type": "code",
   "execution_count": 188,
   "id": "264dfd1f",
   "metadata": {},
   "outputs": [
    {
     "data": {
      "text/plain": [
       "'kumar'"
      ]
     },
     "execution_count": 188,
     "metadata": {},
     "output_type": "execute_result"
    }
   ],
   "source": [
    "l1[1]"
   ]
  },
  {
   "cell_type": "code",
   "execution_count": 189,
   "id": "b8061ce6",
   "metadata": {},
   "outputs": [
    {
     "ename": "TypeError",
     "evalue": "'str' object does not support item assignment",
     "output_type": "error",
     "traceback": [
      "\u001b[1;31m---------------------------------------------------------------------------\u001b[0m",
      "\u001b[1;31mTypeError\u001b[0m                                 Traceback (most recent call last)",
      "\u001b[1;32m~\\AppData\\Local\\Temp/ipykernel_17412/4244705950.py\u001b[0m in \u001b[0;36m<module>\u001b[1;34m\u001b[0m\n\u001b[0;32m      2\u001b[0m \u001b[1;33m\u001b[0m\u001b[0m\n\u001b[0;32m      3\u001b[0m \u001b[0ms\u001b[0m \u001b[1;33m=\u001b[0m \u001b[1;34m\"sudh\"\u001b[0m\u001b[1;33m\u001b[0m\u001b[1;33m\u001b[0m\u001b[0m\n\u001b[1;32m----> 4\u001b[1;33m \u001b[0ms\u001b[0m\u001b[1;33m[\u001b[0m\u001b[1;36m0\u001b[0m\u001b[1;33m]\u001b[0m \u001b[1;33m=\u001b[0m \u001b[1;34m\"k\"\u001b[0m\u001b[1;33m\u001b[0m\u001b[1;33m\u001b[0m\u001b[0m\n\u001b[0m\u001b[0;32m      5\u001b[0m \u001b[1;33m\u001b[0m\u001b[0m\n\u001b[0;32m      6\u001b[0m \u001b[1;31m#it shows string object item does not supported, but when we try similar to list it will work\u001b[0m\u001b[1;33m\u001b[0m\u001b[1;33m\u001b[0m\u001b[0m\n",
      "\u001b[1;31mTypeError\u001b[0m: 'str' object does not support item assignment"
     ]
    }
   ],
   "source": [
    "#eg\n",
    "\n",
    "s = \"sudh\"\n",
    "s[0] = \"k\"\n",
    "\n",
    "#it shows string object item does not supported, but when we try similar to list it will work"
   ]
  },
  {
   "cell_type": "markdown",
   "id": "564f1344",
   "metadata": {},
   "source": [
    "# There is something called as mutability and immutability"
   ]
  },
  {
   "cell_type": "markdown",
   "id": "07588765",
   "metadata": {},
   "source": [
    "mutable is nothing but a kind of a things which you can mutate, which we can change."
   ]
  },
  {
   "cell_type": "code",
   "execution_count": 190,
   "id": "2eabe5eb",
   "metadata": {},
   "outputs": [
    {
     "data": {
      "text/plain": [
       "['santhosh', 'kumar', 4356]"
      ]
     },
     "execution_count": 190,
     "metadata": {},
     "output_type": "execute_result"
    }
   ],
   "source": [
    "l1"
   ]
  },
  {
   "cell_type": "code",
   "execution_count": 191,
   "id": "49fa69a8",
   "metadata": {},
   "outputs": [],
   "source": [
    "l1[1] = \"sudh\""
   ]
  },
  {
   "cell_type": "code",
   "execution_count": 192,
   "id": "c61e1ceb",
   "metadata": {},
   "outputs": [
    {
     "data": {
      "text/plain": [
       "['santhosh', 'sudh', 4356]"
      ]
     },
     "execution_count": 192,
     "metadata": {},
     "output_type": "execute_result"
    }
   ],
   "source": [
    "l1"
   ]
  },
  {
   "cell_type": "code",
   "execution_count": 193,
   "id": "ec831979",
   "metadata": {},
   "outputs": [
    {
     "data": {
      "text/plain": [
       "'vudh'"
      ]
     },
     "execution_count": 193,
     "metadata": {},
     "output_type": "execute_result"
    }
   ],
   "source": [
    "s.replace('s', 'v') #working"
   ]
  },
  {
   "cell_type": "code",
   "execution_count": 194,
   "id": "e589a7b0",
   "metadata": {},
   "outputs": [
    {
     "ename": "TypeError",
     "evalue": "'str' object does not support item assignment",
     "output_type": "error",
     "traceback": [
      "\u001b[1;31m---------------------------------------------------------------------------\u001b[0m",
      "\u001b[1;31mTypeError\u001b[0m                                 Traceback (most recent call last)",
      "\u001b[1;32m~\\AppData\\Local\\Temp/ipykernel_17412/661134657.py\u001b[0m in \u001b[0;36m<module>\u001b[1;34m\u001b[0m\n\u001b[1;32m----> 1\u001b[1;33m \u001b[0ms\u001b[0m\u001b[1;33m[\u001b[0m\u001b[1;36m0\u001b[0m\u001b[1;33m]\u001b[0m \u001b[1;33m=\u001b[0m \u001b[1;34m\"v\"\u001b[0m \u001b[1;31m#not working because string is a immutability\u001b[0m\u001b[1;33m\u001b[0m\u001b[1;33m\u001b[0m\u001b[0m\n\u001b[0m",
      "\u001b[1;31mTypeError\u001b[0m: 'str' object does not support item assignment"
     ]
    }
   ],
   "source": [
    "s[0] = \"v\" #not working because string is a immutability"
   ]
  },
  {
   "cell_type": "code",
   "execution_count": 195,
   "id": "50380fa4",
   "metadata": {},
   "outputs": [
    {
     "data": {
      "text/plain": [
       "['santhosh', 'sudh', 4356]"
      ]
     },
     "execution_count": 195,
     "metadata": {},
     "output_type": "execute_result"
    }
   ],
   "source": [
    "l1"
   ]
  },
  {
   "cell_type": "code",
   "execution_count": 196,
   "id": "f8398f83",
   "metadata": {},
   "outputs": [
    {
     "data": {
      "text/plain": [
       "3"
      ]
     },
     "execution_count": 196,
     "metadata": {},
     "output_type": "execute_result"
    }
   ],
   "source": [
    "len(l1)"
   ]
  },
  {
   "cell_type": "code",
   "execution_count": 197,
   "id": "9d65da4a",
   "metadata": {},
   "outputs": [
    {
     "data": {
      "text/plain": [
       "True"
      ]
     },
     "execution_count": 197,
     "metadata": {},
     "output_type": "execute_result"
    }
   ],
   "source": [
    "\"sudh\" in l1"
   ]
  },
  {
   "cell_type": "code",
   "execution_count": 198,
   "id": "ba0479b2",
   "metadata": {},
   "outputs": [
    {
     "data": {
      "text/plain": [
       "False"
      ]
     },
     "execution_count": 198,
     "metadata": {},
     "output_type": "execute_result"
    }
   ],
   "source": [
    "\"safasdf\" in l1"
   ]
  },
  {
   "cell_type": "code",
   "execution_count": 199,
   "id": "fa3ea0e2",
   "metadata": {},
   "outputs": [
    {
     "data": {
      "text/plain": [
       "[]"
      ]
     },
     "execution_count": 199,
     "metadata": {},
     "output_type": "execute_result"
    }
   ],
   "source": [
    "l = [\"okay\", \"kumar\", 78,45,789,5.5,True,5+8j] #-1 to 6 varaikum poganum but direction is positive thats why we got blank\n",
    "\n",
    "l[-1:6]"
   ]
  },
  {
   "cell_type": "code",
   "execution_count": 200,
   "id": "bf7dee9e",
   "metadata": {},
   "outputs": [
    {
     "data": {
      "text/plain": [
       "[(5+8j)]"
      ]
     },
     "execution_count": 200,
     "metadata": {},
     "output_type": "execute_result"
    }
   ],
   "source": [
    "l[-1:6:-1]"
   ]
  },
  {
   "cell_type": "code",
   "execution_count": 201,
   "id": "29d98d62",
   "metadata": {},
   "outputs": [
    {
     "data": {
      "text/plain": [
       "['xyz', 'pqr', 546.567]"
      ]
     },
     "execution_count": 201,
     "metadata": {},
     "output_type": "execute_result"
    }
   ],
   "source": [
    "l2"
   ]
  },
  {
   "cell_type": "code",
   "execution_count": 202,
   "id": "0f17df0b",
   "metadata": {},
   "outputs": [],
   "source": [
    "l2.append(\"sudh\")"
   ]
  },
  {
   "cell_type": "code",
   "execution_count": 203,
   "id": "497ad669",
   "metadata": {},
   "outputs": [
    {
     "data": {
      "text/plain": [
       "['xyz', 'pqr', 546.567, 'sudh']"
      ]
     },
     "execution_count": 203,
     "metadata": {},
     "output_type": "execute_result"
    }
   ],
   "source": [
    "l2"
   ]
  },
  {
   "cell_type": "code",
   "execution_count": 204,
   "id": "f3b33a91",
   "metadata": {},
   "outputs": [
    {
     "data": {
      "text/plain": [
       "'sudh'"
      ]
     },
     "execution_count": 204,
     "metadata": {},
     "output_type": "execute_result"
    }
   ],
   "source": [
    "l2.pop()"
   ]
  },
  {
   "cell_type": "code",
   "execution_count": 205,
   "id": "4f303e95",
   "metadata": {},
   "outputs": [
    {
     "data": {
      "text/plain": [
       "['xyz', 'pqr', 546.567]"
      ]
     },
     "execution_count": 205,
     "metadata": {},
     "output_type": "execute_result"
    }
   ],
   "source": [
    "l2"
   ]
  },
  {
   "cell_type": "code",
   "execution_count": 206,
   "id": "0c29b7f4",
   "metadata": {},
   "outputs": [
    {
     "data": {
      "text/plain": [
       "'pqr'"
      ]
     },
     "execution_count": 206,
     "metadata": {},
     "output_type": "execute_result"
    }
   ],
   "source": [
    "l2.pop(-2)"
   ]
  },
  {
   "cell_type": "code",
   "execution_count": 207,
   "id": "e8d19ace",
   "metadata": {},
   "outputs": [
    {
     "data": {
      "text/plain": [
       "['xyz', 546.567]"
      ]
     },
     "execution_count": 207,
     "metadata": {},
     "output_type": "execute_result"
    }
   ],
   "source": [
    "l2"
   ]
  },
  {
   "cell_type": "code",
   "execution_count": 208,
   "id": "d1bb3f48",
   "metadata": {},
   "outputs": [],
   "source": [
    "l2.append(315454)"
   ]
  },
  {
   "cell_type": "code",
   "execution_count": 209,
   "id": "0093ff6a",
   "metadata": {},
   "outputs": [
    {
     "data": {
      "text/plain": [
       "['xyz', 546.567, 315454]"
      ]
     },
     "execution_count": 209,
     "metadata": {},
     "output_type": "execute_result"
    }
   ],
   "source": [
    "l2"
   ]
  },
  {
   "cell_type": "code",
   "execution_count": 210,
   "id": "c7426942",
   "metadata": {},
   "outputs": [],
   "source": [
    "l2.insert(1, \"pqr\")"
   ]
  },
  {
   "cell_type": "code",
   "execution_count": 211,
   "id": "ce72f5df",
   "metadata": {},
   "outputs": [
    {
     "data": {
      "text/plain": [
       "['xyz', 'pqr', 546.567, 315454]"
      ]
     },
     "execution_count": 211,
     "metadata": {},
     "output_type": "execute_result"
    }
   ],
   "source": [
    "l2"
   ]
  },
  {
   "cell_type": "code",
   "execution_count": 212,
   "id": "d00b86c5",
   "metadata": {},
   "outputs": [],
   "source": [
    "l2.insert(3, [34,45,56,576,67])"
   ]
  },
  {
   "cell_type": "code",
   "execution_count": 213,
   "id": "9e463cbe",
   "metadata": {},
   "outputs": [
    {
     "data": {
      "text/plain": [
       "['xyz', 'pqr', 546.567, [34, 45, 56, 576, 67], 315454]"
      ]
     },
     "execution_count": 213,
     "metadata": {},
     "output_type": "execute_result"
    }
   ],
   "source": [
    "l2"
   ]
  },
  {
   "cell_type": "code",
   "execution_count": 215,
   "id": "438cd81b",
   "metadata": {},
   "outputs": [
    {
     "data": {
      "text/plain": [
       "45"
      ]
     },
     "execution_count": 215,
     "metadata": {},
     "output_type": "execute_result"
    }
   ],
   "source": [
    "#how to print 45\n",
    "\n",
    "l2[3][1]"
   ]
  },
  {
   "cell_type": "code",
   "execution_count": 216,
   "id": "aa981f8e",
   "metadata": {},
   "outputs": [
    {
     "data": {
      "text/plain": [
       "[315454, [34, 45, 56, 576, 67], 546.567, 'pqr', 'xyz']"
      ]
     },
     "execution_count": 216,
     "metadata": {},
     "output_type": "execute_result"
    }
   ],
   "source": [
    "l2[::-1]"
   ]
  },
  {
   "cell_type": "code",
   "execution_count": 217,
   "id": "cc3ef979",
   "metadata": {},
   "outputs": [],
   "source": [
    "l2.reverse()"
   ]
  },
  {
   "cell_type": "code",
   "execution_count": 218,
   "id": "3e7b057e",
   "metadata": {},
   "outputs": [
    {
     "data": {
      "text/plain": [
       "[315454, [34, 45, 56, 576, 67], 546.567, 'pqr', 'xyz']"
      ]
     },
     "execution_count": 218,
     "metadata": {},
     "output_type": "execute_result"
    }
   ],
   "source": [
    "l2"
   ]
  },
  {
   "cell_type": "code",
   "execution_count": 219,
   "id": "6cab0d58",
   "metadata": {},
   "outputs": [
    {
     "data": {
      "text/plain": [
       "['santhosh', 'sudh', 4356]"
      ]
     },
     "execution_count": 219,
     "metadata": {},
     "output_type": "execute_result"
    }
   ],
   "source": [
    "l1"
   ]
  },
  {
   "cell_type": "code",
   "execution_count": 220,
   "id": "9561c5d1",
   "metadata": {},
   "outputs": [
    {
     "data": {
      "text/plain": [
       "[315454, [34, 45, 56, 576, 67], 546.567, 'pqr', 'xyz']"
      ]
     },
     "execution_count": 220,
     "metadata": {},
     "output_type": "execute_result"
    }
   ],
   "source": [
    "l2"
   ]
  },
  {
   "cell_type": "code",
   "execution_count": 221,
   "id": "5fa03b35",
   "metadata": {},
   "outputs": [
    {
     "data": {
      "text/plain": [
       "56"
      ]
     },
     "execution_count": 221,
     "metadata": {},
     "output_type": "execute_result"
    }
   ],
   "source": [
    "#can we access 52\n",
    "\n",
    "l2[1][2]"
   ]
  },
  {
   "cell_type": "code",
   "execution_count": 222,
   "id": "6be9442d",
   "metadata": {},
   "outputs": [
    {
     "data": {
      "text/plain": [
       "[315454, [34, 45, 56, 576, 67], 546.567, 'pqr', 'xyz']"
      ]
     },
     "execution_count": 222,
     "metadata": {},
     "output_type": "execute_result"
    }
   ],
   "source": [
    "l2"
   ]
  },
  {
   "cell_type": "code",
   "execution_count": 224,
   "id": "3e428b26",
   "metadata": {},
   "outputs": [
    {
     "data": {
      "text/plain": [
       "1"
      ]
     },
     "execution_count": 224,
     "metadata": {},
     "output_type": "execute_result"
    }
   ],
   "source": [
    "l2.count(\"xyz\")"
   ]
  },
  {
   "cell_type": "code",
   "execution_count": 223,
   "id": "d41079ec",
   "metadata": {},
   "outputs": [
    {
     "data": {
      "text/plain": [
       "0"
      ]
     },
     "execution_count": 223,
     "metadata": {},
     "output_type": "execute_result"
    }
   ],
   "source": [
    "l2.count(45)"
   ]
  },
  {
   "cell_type": "code",
   "execution_count": 225,
   "id": "b885640f",
   "metadata": {},
   "outputs": [
    {
     "data": {
      "text/plain": [
       "0"
      ]
     },
     "execution_count": 225,
     "metadata": {},
     "output_type": "execute_result"
    }
   ],
   "source": [
    "l2.count(\"xy4asdfasdfasfdafz\")"
   ]
  },
  {
   "cell_type": "code",
   "execution_count": 226,
   "id": "fd1d5800",
   "metadata": {},
   "outputs": [],
   "source": [
    "l2.append(\"dafsdfeafaaefw\")"
   ]
  },
  {
   "cell_type": "code",
   "execution_count": 228,
   "id": "93e7fba0",
   "metadata": {},
   "outputs": [
    {
     "data": {
      "text/plain": [
       "[315454, [34, 45, 56, 576, 67], 546.567, 'pqr', 'xyz', 'dafsdfeafaaefw']"
      ]
     },
     "execution_count": 228,
     "metadata": {},
     "output_type": "execute_result"
    }
   ],
   "source": [
    "l2"
   ]
  },
  {
   "cell_type": "code",
   "execution_count": 229,
   "id": "84672258",
   "metadata": {},
   "outputs": [],
   "source": [
    "l2.append([3,4,54,6])"
   ]
  },
  {
   "cell_type": "code",
   "execution_count": 230,
   "id": "bf0f9c68",
   "metadata": {},
   "outputs": [
    {
     "data": {
      "text/plain": [
       "[315454,\n",
       " [34, 45, 56, 576, 67],\n",
       " 546.567,\n",
       " 'pqr',\n",
       " 'xyz',\n",
       " 'dafsdfeafaaefw',\n",
       " [3, 4, 54, 6]]"
      ]
     },
     "execution_count": 230,
     "metadata": {},
     "output_type": "execute_result"
    }
   ],
   "source": [
    "l2"
   ]
  },
  {
   "cell_type": "code",
   "execution_count": 231,
   "id": "1f53eae0",
   "metadata": {},
   "outputs": [
    {
     "data": {
      "text/plain": [
       "['santhosh', 'sudh', 4356]"
      ]
     },
     "execution_count": 231,
     "metadata": {},
     "output_type": "execute_result"
    }
   ],
   "source": [
    "l1"
   ]
  },
  {
   "cell_type": "code",
   "execution_count": 232,
   "id": "eb81bf1e",
   "metadata": {},
   "outputs": [],
   "source": [
    "l1.extend([2,54,656,\"sdfs\"])"
   ]
  },
  {
   "cell_type": "code",
   "execution_count": 233,
   "id": "52d814dc",
   "metadata": {},
   "outputs": [
    {
     "data": {
      "text/plain": [
       "['santhosh', 'sudh', 4356, 2, 54, 656, 'sdfs']"
      ]
     },
     "execution_count": 233,
     "metadata": {},
     "output_type": "execute_result"
    }
   ],
   "source": [
    "l1"
   ]
  },
  {
   "cell_type": "code",
   "execution_count": 240,
   "id": "66515667",
   "metadata": {},
   "outputs": [],
   "source": [
    "l1.extend(l2)"
   ]
  },
  {
   "cell_type": "code",
   "execution_count": 241,
   "id": "a8ebd0c2",
   "metadata": {},
   "outputs": [
    {
     "data": {
      "text/plain": [
       "['santhosh',\n",
       " 'sudh',\n",
       " 4356,\n",
       " 2,\n",
       " 54,\n",
       " 656,\n",
       " 'sdfs',\n",
       " 315454,\n",
       " [34, 45, 56, 576, 67],\n",
       " 546.567,\n",
       " 'pqr',\n",
       " 'xyz',\n",
       " 'dafsdfeafaaefw',\n",
       " [3, 4, 54, 6],\n",
       " 315454,\n",
       " [34, 45, 56, 576, 67],\n",
       " 546.567,\n",
       " 'pqr',\n",
       " 'xyz',\n",
       " 'dafsdfeafaaefw',\n",
       " [3, 4, 54, 6],\n",
       " 315454,\n",
       " [34, 45, 56, 576, 67],\n",
       " 546.567,\n",
       " 'pqr',\n",
       " 'xyz',\n",
       " 'dafsdfeafaaefw',\n",
       " [3, 4, 54, 6]]"
      ]
     },
     "execution_count": 241,
     "metadata": {},
     "output_type": "execute_result"
    }
   ],
   "source": [
    "l1"
   ]
  },
  {
   "cell_type": "code",
   "execution_count": 8,
   "id": "71dca524",
   "metadata": {},
   "outputs": [
    {
     "name": "stdout",
     "output_type": "stream",
     "text": [
      "True\n"
     ]
    }
   ],
   "source": [
    "A = 5\n",
    "B = 5\n",
    "\n",
    "print(A is B)"
   ]
  },
  {
   "cell_type": "code",
   "execution_count": 6,
   "id": "c43b0d2f",
   "metadata": {},
   "outputs": [],
   "source": [
    "c = 1.0\n",
    "d = 1.0"
   ]
  },
  {
   "cell_type": "code",
   "execution_count": 7,
   "id": "d5365b86",
   "metadata": {},
   "outputs": [
    {
     "name": "stdout",
     "output_type": "stream",
     "text": [
      "False\n"
     ]
    }
   ],
   "source": [
    "print(c is d)"
   ]
  },
  {
   "cell_type": "code",
   "execution_count": 9,
   "id": "7db6761e",
   "metadata": {},
   "outputs": [
    {
     "name": "stdout",
     "output_type": "stream",
     "text": [
      "True\n",
      "False\n"
     ]
    }
   ],
   "source": [
    "a = 10.0\n",
    "b = 10.0\n",
    "\n",
    "c = 5\n",
    "d = 5\n",
    "\n",
    "print(c is d)\n",
    "print(a is b)"
   ]
  },
  {
   "cell_type": "code",
   "execution_count": 10,
   "id": "9683cdcb",
   "metadata": {},
   "outputs": [],
   "source": [
    "l1 = [\"santhosh\", \"kumar\", 235]"
   ]
  },
  {
   "cell_type": "code",
   "execution_count": null,
   "id": "cd2b1cc0",
   "metadata": {},
   "outputs": [],
   "source": []
  },
  {
   "cell_type": "code",
   "execution_count": 8,
   "id": "a5747da2",
   "metadata": {},
   "outputs": [],
   "source": [
    "l1 = [2,3,\"sudh\", 3+3j]\n",
    "l2 = [\"bharathi\"]\n",
    "\n",
    "l1.append(l2)"
   ]
  },
  {
   "cell_type": "code",
   "execution_count": 9,
   "id": "abf84ce9",
   "metadata": {},
   "outputs": [
    {
     "data": {
      "text/plain": [
       "[2, 3, 'sudh', (3+3j), ['bharathi']]"
      ]
     },
     "execution_count": 9,
     "metadata": {},
     "output_type": "execute_result"
    }
   ],
   "source": [
    "l1"
   ]
  },
  {
   "cell_type": "code",
   "execution_count": 15,
   "id": "d17c0bcf",
   "metadata": {},
   "outputs": [],
   "source": [
    "l1 = [2,3,\"sudh\", 3+3j, 2,3,45,6,68,9,7]\n",
    "l2 = [\"bharathi\", \"nandhini\", [\"janaki\", \"santhosh\"], (2,3,5,6,6,7)]\n",
    "\n",
    "l1.extend(l2)"
   ]
  },
  {
   "cell_type": "code",
   "execution_count": 16,
   "id": "7fb77ce9",
   "metadata": {},
   "outputs": [
    {
     "data": {
      "text/plain": [
       "[2,\n",
       " 3,\n",
       " 'sudh',\n",
       " (3+3j),\n",
       " 2,\n",
       " 3,\n",
       " 45,\n",
       " 6,\n",
       " 68,\n",
       " 9,\n",
       " 7,\n",
       " 'bharathi',\n",
       " 'nandhini',\n",
       " ['janaki', 'santhosh'],\n",
       " (2, 3, 5, 6, 6, 7)]"
      ]
     },
     "execution_count": 16,
     "metadata": {},
     "output_type": "execute_result"
    }
   ],
   "source": [
    "l1"
   ]
  },
  {
   "cell_type": "code",
   "execution_count": 17,
   "id": "c41bc5ca",
   "metadata": {},
   "outputs": [],
   "source": [
    "l1 = [\"santosh\", \"sudh\", 4356]\n",
    "\n",
    "l1.append([2,54,656,\"sdfs\"])"
   ]
  },
  {
   "cell_type": "code",
   "execution_count": 18,
   "id": "458c6c4d",
   "metadata": {},
   "outputs": [
    {
     "data": {
      "text/plain": [
       "['santosh', 'sudh', 4356, [2, 54, 656, 'sdfs']]"
      ]
     },
     "execution_count": 18,
     "metadata": {},
     "output_type": "execute_result"
    }
   ],
   "source": [
    "l1"
   ]
  },
  {
   "cell_type": "code",
   "execution_count": 19,
   "id": "707363f8",
   "metadata": {},
   "outputs": [],
   "source": [
    "l2 = [\"santosh\", \"sudh\", 4356]\n",
    "\n",
    "l2.extend([2,54,656,\"sdfs\"])"
   ]
  },
  {
   "cell_type": "code",
   "execution_count": 20,
   "id": "eb52efb8",
   "metadata": {},
   "outputs": [
    {
     "data": {
      "text/plain": [
       "['santosh', 'sudh', 4356, 2, 54, 656, 'sdfs']"
      ]
     },
     "execution_count": 20,
     "metadata": {},
     "output_type": "execute_result"
    }
   ],
   "source": [
    "l2"
   ]
  },
  {
   "cell_type": "code",
   "execution_count": 22,
   "id": "3790120c",
   "metadata": {},
   "outputs": [],
   "source": [
    "l3 = [\"santosh\", \"sudh\", 4356]\n",
    "\n",
    "l3.extend((2,54,656,\"sdfs\"))"
   ]
  },
  {
   "cell_type": "code",
   "execution_count": 23,
   "id": "f28b42fe",
   "metadata": {},
   "outputs": [
    {
     "data": {
      "text/plain": [
       "['santosh', 'sudh', 4356, 2, 54, 656, 'sdfs']"
      ]
     },
     "execution_count": 23,
     "metadata": {},
     "output_type": "execute_result"
    }
   ],
   "source": [
    "l3"
   ]
  },
  {
   "cell_type": "code",
   "execution_count": null,
   "id": "04370312",
   "metadata": {},
   "outputs": [],
   "source": []
  }
 ],
 "metadata": {
  "kernelspec": {
   "display_name": "Python 3 (ipykernel)",
   "language": "python",
   "name": "python3"
  },
  "language_info": {
   "codemirror_mode": {
    "name": "ipython",
    "version": 3
   },
   "file_extension": ".py",
   "mimetype": "text/x-python",
   "name": "python",
   "nbconvert_exporter": "python",
   "pygments_lexer": "ipython3",
   "version": "3.9.7"
  }
 },
 "nbformat": 4,
 "nbformat_minor": 5
}

